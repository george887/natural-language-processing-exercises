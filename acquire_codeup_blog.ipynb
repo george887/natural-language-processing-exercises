{
 "cells": [
  {
   "cell_type": "code",
   "execution_count": 1,
   "metadata": {},
   "outputs": [],
   "source": [
    "from requests import get\n",
    "from bs4 import BeautifulSoup\n",
    "import os"
   ]
  },
  {
   "cell_type": "markdown",
   "metadata": {},
   "source": [
    "1. Codeup Blog Articles\n",
    "\n",
    "Scrape the article text from the following pages:\n",
    "\n",
    "- https://codeup.com/codeups-data-science-career-accelerator-is-here/\n",
    "- https://codeup.com/data-science-myths/\n",
    "- https://codeup.com/data-science-vs-data-analytics-whats-the-difference/\n",
    "- https://codeup.com/10-tips-to-crush-it-at-the-sa-tech-job-fair/\n",
    "- https://codeup.com/competitor-bootcamps-are-closing-is-the-model-in-danger/\n",
    "Encapsulate your work in a function named get_blog_articles that will return a list of dictionaries, with each dictionary representing one article. The shape of each dictionary should look like this:\n",
    "\n",
    "{\n",
    "    'title': 'the title of the article',\n",
    "    'content': 'the full text content of the article'\n",
    "}"
   ]
  },
  {
   "cell_type": "code",
   "execution_count": 2,
   "metadata": {},
   "outputs": [],
   "source": [
    "url = 'https://codeup.com/codeups-data-science-career-accelerator-is-here/'\n",
    "headers = {'User-Agent': 'Codeup Data Science'} # Some websites don't accept the pyhon-requests default user-agent\n",
    "response = get(url, headers=headers)"
   ]
  },
  {
   "cell_type": "code",
   "execution_count": 3,
   "metadata": {},
   "outputs": [
    {
     "name": "stdout",
     "output_type": "stream",
     "text": [
      "<!DOCTYPE html><html lang=\"en-US\"><head >\t<meta charset=\"UTF-8\" />\n",
      "\t<meta name=\"viewport\" content=\"width=device-width, initial-scale=1\" />\n",
      "\t\n",
      "\t<!-- This site is optimized with the Yoast SEO plugin v15.2.1 - https://yoast.com/wordpress/plugins/seo/ -->\n",
      "\t<title>Codeup’s Data Science Career Accelerator is Here! - Codeup</title>\n",
      "\t<meta name=\"description\" content=\"The rumors are true! The time has arriv\n"
     ]
    }
   ],
   "source": [
    "print(response.text[:400])"
   ]
  },
  {
   "cell_type": "code",
   "execution_count": 4,
   "metadata": {},
   "outputs": [
    {
     "name": "stdout",
     "output_type": "stream",
     "text": [
      "<class 'bs4.BeautifulSoup'>\n"
     ]
    }
   ],
   "source": [
    "# Make a soup variable holding the response content\n",
    "soup = BeautifulSoup(response.content, 'html.parser')\n",
    "print(type(soup))"
   ]
  },
  {
   "cell_type": "code",
   "execution_count": 5,
   "metadata": {},
   "outputs": [
    {
     "data": {
      "text/plain": [
       "'The rumors are true! The time has arrived. Codeup has officially opened applications to our new Data Science career accelerator, with only 25 seats available! This immersive program is one of a kind in San Antonio, and will help you land a job in\\xa0Glassdoor’s #1 Best Job in America.\\nData Science is a method of providing actionable intelligence from data.\\xa0The data revolution has hit San Antonio,\\xa0resulting in an explosion in Data Scientist positions\\xa0across companies like USAA, Accenture, Booz Allen Hamilton, and HEB. We’ve even seen\\xa0UTSA invest $70 M for a Cybersecurity Center and School of Data Science.\\xa0We built a program to specifically meet the growing demands of this industry.\\nOur program will be 18 weeks long, full-time, hands-on, and project-based. Our curriculum development and instruction is led by Senior Data Scientist, Maggie Giust, who has worked at HEB, Capital Group, and Rackspace, along with input from dozens of practitioners and hiring partners. Students will work with real data sets, realistic problems, and the entire data science pipeline from collection to deployment. They will receive professional development training in resume writing, interviewing, and continuing education to prepare for a smooth transition to the workforce.\\nWe focus on applied data science for immediate impact and ROI in a business, which is how we can back it all up with a 6 month tuition refund guarantee – just like our existing Web Dev program. We’re focusing on Data Science with Python, SQL, and ML, covered in\\xa014 modules: 1) Fundamentals; 2) Applied statistics; 3) SQL; 4) Python; 5) Supervised machine learning – regression; 6) Supervised machine learning – classification; 7) Unsupervised machine learning – clustering; 8) Time series analysis; 9) Anomaly detection; 10) Natural language processing; 11) Distributed machine learning; 12) Advanced topics (deep learning, NoSQL, cloud deployment, etc.); 13) Storytelling with data; and 14) Domain expertise development.\\nApplications are now open\\xa0for Codeup’s first Data Science cohort, which will start class on February 4, 2019. Hurry – there are only 25 seats available! To further our mission of cultivating inclusive growth, scholarships will be available to women, minorities, LGBTQIA+ individuals, veterans, first responders, and people relocating to San Antonio.\\nIf you want to learn about joining our program or hiring our graduates, email datascience@codeup.com!\\n\\n'"
      ]
     },
     "execution_count": 5,
     "metadata": {},
     "output_type": "execute_result"
    }
   ],
   "source": [
    "# see also `soup.find_all`\n",
    "#\n",
    "# beautiful soup uses `class_` as the keyword argument for searching\n",
    "# for a class because `class` is a reserved word in python\n",
    "# we'll use the class name that we identified from looking in the inspector in chrome\n",
    "article = soup.find('div', class_='jupiterx-post-content')\n",
    "article.text"
   ]
  },
  {
   "cell_type": "code",
   "execution_count": 6,
   "metadata": {},
   "outputs": [],
   "source": [
    "# 2nd url\n",
    "url = 'https://codeup.com/data-science-myths/'\n",
    "headers = {'User-Agent': 'Codeup Data Science'} # Some websites don't accept the pyhon-requests default user-agent\n",
    "response = get(url, headers=headers)"
   ]
  },
  {
   "cell_type": "code",
   "execution_count": 7,
   "metadata": {},
   "outputs": [
    {
     "name": "stdout",
     "output_type": "stream",
     "text": [
      "<!DOCTYPE html><html lang=\"en-US\"><head >\t<meta charset=\"UTF-8\" />\n",
      "\t<meta name=\"viewport\" content=\"width=device-width, initial-scale=1\" />\n",
      "\t\n",
      "\t<!-- This site is optimized with the Yoast SEO plugin v15.2.1 - https://yoast.com/wordpress/plugins/seo/ -->\n",
      "\t<title>Data Science Myths - Codeup</title>\n",
      "\t<meta name=\"robots\" content=\"index, follow, max-snippet:-1, max-image-preview:large, max-video-preview:-\n"
     ]
    }
   ],
   "source": [
    "print(response.text[:400])"
   ]
  },
  {
   "cell_type": "code",
   "execution_count": 8,
   "metadata": {},
   "outputs": [
    {
     "data": {
      "text/plain": [
       "'By Dimitri Antoniou and Maggie Giust\\nData Science, Big Data, Machine Learning, NLP, Neural Networks…these buzzwords have rapidly spread into mainstream use over the last few years. Unfortunately, definitions are varied and sources of truth are limited. Data Scientists are in fact not magical unicorn wizards who can snap their fingers and turn a business around! Today, we’ll take a cue from our favorite Mythbusters to tackle some common myths and misconceptions in the field of Data Science.\\n\\nvia GIPHY\\nMyth #1: Data Science = Statistics\\nAt first glance, this one doesn’t sound unreasonable. Statistics is defined as, “A branch of mathematics dealing with the collection, analysis, interpretation, and presentation of masses of numerical data.” That sounds a lot like our definition of Data Science: a method of drawing actionable intelligence from data. \\nIn truth, statistics is actually one small piece of Data Science. As our Senior Data Scientist puts it, “Statistics forces us to make assumptions about the nature of the relationship between variables, the distribution of the data, etc.” In the traditional Data Science venn diagram, you’ll see that math/stats make up ⅓ of a working professional. These are tools and skills to leverage, but data science itself is about drawing intelligence from data.\\nBUSTED\\n\\nvia GIPHY\\n\\xa0\\nMyth #2: Data Scientist = Business/Data Analyst\\nThis one is so common that we wrote a whole post about it! These are separate and different roles within the data field. While a data scientist will often do analytics, their spectrum of work is wider. A data analyst will use structured data to create dashboards and KPIs, while a Data Scientist deals with unstructured and messy data for a range of outputs. If they’re interested, business analysts will often progress to data scientists.\\nBUSTED\\n\\nvia GIPHY\\n\\xa0\\nMyth #3: Data Science = Data Science\\nThis one’s tricky, because it’s impossible to either confirm or bust! The ‘myth’ is that one person or company using the term Data Science is not necessarily the same as another person or company using the same term. Depending on organizational capacity, individual experience, educational background, and many other variables, we might be using the same name for different animals.\\nTl;dr: don’t assume a common understanding across hiring managers, recruiters, and practitioners. Look instead for specifics of tools, techniques, methodologies, and outputs. That being said, this one falls in the “plausible” category, because it may actually be true in some circumstances, while false in others.\\nPLAUSIBLE\\n\\nvia GIPHY\\n\\xa0\\nMyth #4: Data Science curricula are well-defined and consistent.\\nWe recommend checking this one out for yourself! A quick google search for bootcamps, master’s degree programs, and online courses will reveal that different organizations teach different things. There is no commonly accepted framework for teaching data science! Some focus more on the engineering, others focus more on machine learning, some think deep learning is foundational, and some prefer to use R. \\nOur curriculum was built through employer interviews, practitioner interviews, market research, and company partnerships. But we’re based in San Antonio! A bootcamp in New York might follow the same process and end up with a different syllabus. Keep in mind, whatever your learning path, that there will be gaps in your learning. The most important thing is to recognize those gaps.\\nBUSTED\\n\\nvia GIPHY\\n\\xa0\\nMyth #5: If I want to be a data scientist, I just need to learn Python or R.\\nThis one is common and dangerous! Just like statistics, programming languages like Python and R are tools. They’re just pieces of a larger puzzle! Knowing Python without understanding the data science pipeline is like knowing how to build a floor without having a floor plan. Of course, these are valuable technical skills that give you a leg up, but they’re second in importance to asking the right questions, knowing what tools to use when, and communicating your findings.\\nBUSTED\\n\\nvia GIPHY\\nStill have questions? Reach out to us! We’re always here to help.\\n\\n'"
      ]
     },
     "execution_count": 8,
     "metadata": {},
     "output_type": "execute_result"
    }
   ],
   "source": [
    "# Make a soup variable holding the response content\n",
    "soup = BeautifulSoup(response.content, 'html.parser')\n",
    "ds_myths_article = soup.find('div', itemprop='text')\n",
    "ds_myths_article.text"
   ]
  },
  {
   "cell_type": "code",
   "execution_count": 13,
   "metadata": {},
   "outputs": [],
   "source": [
    "def get_article(url):\n",
    "    # creating empty dictionary to store article text and title\n",
    "    dic = {}\n",
    "    # specifying headers \n",
    "    headers = {'User-Agent': 'Codeup Data Science'}\n",
    "    # storing response from page\n",
    "    response = get(url, headers=headers)\n",
    "    # using soup to parse response text\n",
    "    soup = BeautifulSoup(response.text)\n",
    "    # saving article body text\n",
    "    article = soup.find('div', class_='jupiterx-post-content')\n",
    "    # saving title text\n",
    "    title = soup.find('h1').text\n",
    "    # adding title key and title text as value to dictionary\n",
    "    dic['title'] = title\n",
    "    # adding body text  key and body text as value to dictionary\n",
    "    dic['article'] = article.text\n",
    "    # returning dic\n",
    "    return dic"
   ]
  },
  {
   "cell_type": "code",
   "execution_count": 14,
   "metadata": {},
   "outputs": [
    {
     "data": {
      "text/plain": [
       "{'title': 'Data Science Myths',\n",
       " 'article': 'By Dimitri Antoniou and Maggie Giust\\nData Science, Big Data, Machine Learning, NLP, Neural Networks…these buzzwords have rapidly spread into mainstream use over the last few years. Unfortunately, definitions are varied and sources of truth are limited. Data Scientists are in fact not magical unicorn wizards who can snap their fingers and turn a business around! Today, we’ll take a cue from our favorite Mythbusters to tackle some common myths and misconceptions in the field of Data Science.\\n\\nvia GIPHY\\nMyth #1: Data Science = Statistics\\nAt first glance, this one doesn’t sound unreasonable. Statistics is defined as, “A branch of mathematics dealing with the collection, analysis, interpretation, and presentation of masses of numerical data.” That sounds a lot like our definition of Data Science: a method of drawing actionable intelligence from data. \\nIn truth, statistics is actually one small piece of Data Science. As our Senior Data Scientist puts it, “Statistics forces us to make assumptions about the nature of the relationship between variables, the distribution of the data, etc.” In the traditional Data Science venn diagram, you’ll see that math/stats make up ⅓ of a working professional. These are tools and skills to leverage, but data science itself is about drawing intelligence from data.\\nBUSTED\\n\\nvia GIPHY\\n\\xa0\\nMyth #2: Data Scientist = Business/Data Analyst\\nThis one is so common that we wrote a whole post about it! These are separate and different roles within the data field. While a data scientist will often do analytics, their spectrum of work is wider. A data analyst will use structured data to create dashboards and KPIs, while a Data Scientist deals with unstructured and messy data for a range of outputs. If they’re interested, business analysts will often progress to data scientists.\\nBUSTED\\n\\nvia GIPHY\\n\\xa0\\nMyth #3: Data Science = Data Science\\nThis one’s tricky, because it’s impossible to either confirm or bust! The ‘myth’ is that one person or company using the term Data Science is not necessarily the same as another person or company using the same term. Depending on organizational capacity, individual experience, educational background, and many other variables, we might be using the same name for different animals.\\nTl;dr: don’t assume a common understanding across hiring managers, recruiters, and practitioners. Look instead for specifics of tools, techniques, methodologies, and outputs. That being said, this one falls in the “plausible” category, because it may actually be true in some circumstances, while false in others.\\nPLAUSIBLE\\n\\nvia GIPHY\\n\\xa0\\nMyth #4: Data Science curricula are well-defined and consistent.\\nWe recommend checking this one out for yourself! A quick google search for bootcamps, master’s degree programs, and online courses will reveal that different organizations teach different things. There is no commonly accepted framework for teaching data science! Some focus more on the engineering, others focus more on machine learning, some think deep learning is foundational, and some prefer to use R. \\nOur curriculum was built through employer interviews, practitioner interviews, market research, and company partnerships. But we’re based in San Antonio! A bootcamp in New York might follow the same process and end up with a different syllabus. Keep in mind, whatever your learning path, that there will be gaps in your learning. The most important thing is to recognize those gaps.\\nBUSTED\\n\\nvia GIPHY\\n\\xa0\\nMyth #5: If I want to be a data scientist, I just need to learn Python or R.\\nThis one is common and dangerous! Just like statistics, programming languages like Python and R are tools. They’re just pieces of a larger puzzle! Knowing Python without understanding the data science pipeline is like knowing how to build a floor without having a floor plan. Of course, these are valuable technical skills that give you a leg up, but they’re second in importance to asking the right questions, knowing what tools to use when, and communicating your findings.\\nBUSTED\\n\\nvia GIPHY\\nStill have questions? Reach out to us! We’re always here to help.\\n\\n'}"
      ]
     },
     "execution_count": 14,
     "metadata": {},
     "output_type": "execute_result"
    }
   ],
   "source": [
    "get_article(url)"
   ]
  },
  {
   "cell_type": "code",
   "execution_count": 15,
   "metadata": {},
   "outputs": [
    {
     "data": {
      "text/plain": [
       "{'title': 'Data Science VS Data Analytics: What’s The Difference?',\n",
       " 'article': 'By Dimitri Antoniou\\nA week ago, Codeup launched our immersive Data Science career accelerator! With our first-class kicking off in February and only 25 seats available, we’ve been answering a lot of questions from prospective students. One, in particular, has come up so many times we decided to dedicate a blog post to it. What is the difference between data science and data analytics?\\nFirst, let’s define some of our terms! Take a look at this blog to understand what Data Science is. In short, it is a method of turning raw data into action, leading to the desired outcome. Big Data refers to data sets that are large and complex, usually exceeding the capacity of computers and normal processing power to deal with. Machine Learning is the process of ‘learning’ underlying patterns of data in order to automate the extraction of intelligence from that data.\\n\\xa0\\n\\xa0\\nNow, let’s look at the data pipeline that data scientists work through to reach the actionable insights and outcomes we mentioned:\\n\\nWe start by collecting data, which may come from social media channels, network logs, financials, employee records, or more.\\nWe then process that data into usable information stored in databases or streamed.\\nNext, we look back on the history of that data to summarize, describe, and explain, turning the data into meaningful knowledge. Here we’re primarily using mathematics, statistics, and visualization methods.\\nNow we convert that knowledge into intelligence, seeking to predict future events so that we can make decisions in the present. This is where practitioners will introduce mathematical/statistical modeling through machine learning to their data.\\nFinally, we enable action by building automations, running tests, building visualizations, monitoring new data, etc.\\n\\nData professionals work at different stages of the spectrum to move data through the pipeline. On the left, Big Data Engineers specialize in collecting, storing, and processing data, getting it from Data to Information. In the middle, analysts work to understand and convert that information to knowledge. Lastly, a Machine Learning Engineer utilizes machine learning algorithms to turn intelligence into action by building automations, visualizations, recommendations, and predictions.\\nData Scientists span multiple stages of this pipeline, from information to action. They will spend about 70% of their time wrangling data in the information stage. They will conduct a statistical analysis to derive knowledge. Lastly, they predict future events and build automations using machine learning.\\nFor those technical folk out there, data science is to data engineering or machine learning engineering as full-stack development is to front-end or back-end development. For the non-technical folk, data science is the umbrella term that houses data analytics, machine learning, and other data professions.\\nSo what’s the biggest difference between a data analyst and a data scientist? Data scientists utilize computer programming and machine learning in addition to mathematics and statistics. \\nStill have questions? Reach out to us.\\xa0Wondering which of Codeup’s programs is right for you? We’ve got you covered. And of course, if data science gets you excited, get started with us today!\\n\\n'}"
      ]
     },
     "execution_count": 15,
     "metadata": {},
     "output_type": "execute_result"
    }
   ],
   "source": [
    "url = 'https://codeup.com/data-science-vs-data-analytics-whats-the-difference/'\n",
    "get_article(url)"
   ]
  },
  {
   "cell_type": "code",
   "execution_count": 16,
   "metadata": {},
   "outputs": [
    {
     "data": {
      "text/plain": [
       "{'title': '10 Tips to Crush It at the SA Tech Job Fair',\n",
       " 'article': 'SA Tech Job Fair\\nThe third bi-annual San Antonio Tech Job Fair is just around the corner. Over 25 companies will be at The Jack Guenther Pavilion\\xa0on April 10th, and they are hungry for new tech team members!\\nAt the job fair, companies want to quickly source a list of new talent leads. AKA they need to find qualified employees they can begin interviewing for jobs. Recruiters will represent their organization at tables with informational handouts and company swag. Your goal at a job fair is to set yourself apart from other candidates and ensure your name makes it to the top of those lead lists.\\nThink of your interaction with the company as a mini screening interview. The company rep will subtly evaluate basic qualities like your professionalism, communication and interpersonal skills, work experience, and interest level in the organization. Job fairs are also an opportunity for you to gain information about companies that may not be easily accessible online. \\xa0\\nAt Codeup, we’re passionate about bridging the gap between talent and demand, so we’ve outlined 10 tips to ensure you bring your A-game and leave a lasting impression!\\n10 Tips for Totally Crushing it at the SA Tech Job Fair\\n\\nUse keywords to describe your skills, but don’t go overboard. You’ll probably be talking to a recruiter or talent acquisition specialist. As a technical candidate, recognize these individuals usually aren’t developers or network administrators. They know terms like “JavaScript” and “Apache,” but haven’t written a line of code or spun up a server, so don’t get too caught up in industry jargon.\\nResearch the companies ahead of time. Review the list of attending companies and make sure you know what the company does and whether or not they hire people in your desired role. Look up recent news on the company and mention it during your conversation.\\nDefine your own goals for the job fair. Are you searching for a specific type of role or company culture? What matters most in your job search? Are there companies you want to prioritize? \\xa0Develop a game plan and be intentional with your time.\\nPrepare a stellar résumé. Bring about 20 copies of your résumé to the event, printed on nice paper. We won’t cover resume writing in this post, but there are a plethora of online resources you can consult. For job fairs, don’t worry about cover letters.\\nPolish your online profiles. If recruiters have a copy of your resume, you can be sure they will stalk you online soon. Make sure your online presence is professional and appropriate. A good place to start is by Googling yourself. Update your LinkedIn, and clean up any social media profiles.\\nCraft a 30-60 second elevator pitch. You may only have a few minutes with an employer. What will you say if they ask, “Tell me about yourself?” Consider structuring your pitch like this: Who you are + What you do + What your goals are + Why that matters to the company.\\nDon’t show up in a t-shirt, but trade in your suit for something more chill. Always keep it professional, but remember: tech is typically more casual than other industries. You’ll likely feel out of place if you look like you belong on Wall St., so refer to this guide on dressing for tech interviews.\\nDon’t forget the basics. Start and end each conversation with a firm handshake. Make eye contact while conversing. Smile! Thank the recruiter before you move on to the next table.\\nAsk educated questions. Don’t waste valuable face time with recruiters by asking questions like, “What does [Insert Company here] do?” They hate that question! Instead, try some of these:\\n\\nWhat are the top 3-5 examples of knowledge, skills, and abilities you look for in candidates?\\nWhat’s the best advice you have for someone who wants to work here?\\nWhat is your interview process like?\\nAre you hiring for any roles not currently listed on your websites?\\n\\n\\nFollow up. Collect business cards from each table. The next day, send a short note expressing your interest in the company’s opportunities and thanking the recruiter for his or her time.\\n\\nRSVP for the SA Tech Job Fair taking place at the Jack Guenther Pavilion – September 18th starting at 4 pm.\\xa0\\n\\n'}"
      ]
     },
     "execution_count": 16,
     "metadata": {},
     "output_type": "execute_result"
    }
   ],
   "source": [
    "url = 'https://codeup.com/10-tips-to-crush-it-at-the-sa-tech-job-fair/'\n",
    "get_article(url)"
   ]
  },
  {
   "cell_type": "code",
   "execution_count": 20,
   "metadata": {},
   "outputs": [
    {
     "data": {
      "text/plain": [
       "{'title': 'Competitor Bootcamps Are Closing. Is the Model in Danger?',\n",
       " 'article': 'Competitor Bootcamps Are Closing. Is the Model in Danger?\\n\\xa0\\n\\nIs the programming bootcamp model in danger?\\nIn recent news, DevBootcamp and The Iron Yard announced that they are closing their doors. This is big news. DevBootcamp was the first programming bootcamp model and The Iron Yard is a national player with 15 campuses across the U.S. In both cases, the companies cited an unsustainable business model. Does that mean the boot-camp model is dead?\\n\\ntl;dr “Nope!”\\nBootcamps exist because traditional education models have failed to provide students job-ready skills for the 21st century. Students demand better employment options from their education. Employers demand skilled and job ready candidates. Big Education’s failure to meet those needs through traditional methods created the fertile ground for the new business model of the programming bootcamp.\\nEducation giant Kaplan and Apollo Education Group (owner of University of Phoenix) bought their way into this new educational model when they purchased The Iron Yard and DevBootcamp. They purchased their competition with the intent to scale up the model. Unfortunately, Big Education is too habituated to coming up short for students. They bought the upstarts that challenged them, tried making changes to run those bootcamps in the “Big Education” way, and, sadly, they’ve closed the doors when they realized that scaling education is more challenging when student outcomes truly matter.\\nThe bootcamp model is still new and there will be plenty consolidation, competition, and changes in the future. This model is based on actually being adaptive, innovative, and sustainable. And there’s always room for innovation.\\n\\n\\nWhat we’ve learned at Codeup…\\n\\n\\nEducation is challenging to scale.\\nPrioritizing quality over growth pays off.\\n\\nWhat we’re doing at Codeup…\\n\\nHigher standards in our application process are leading to better student outcomes.\\nOur reputation and commitment to quality is opening new doors to previously uninterested/unreachable employers.\\nIn the beginning, the majority of Codeup graduates went to work with startups and small businesses. We’re now seeing a larger amount of our graduates place at medium to large sized businesses.\\nDemand is growing and employers are learning that the results are in the graduates.\\nCodeup’s model is sustainable, inclusive, and works.\\n\\nCall or contact us today to see how Codeup’s commitment to quality and approach to being a career accelerator can make a profound difference in your life.\\n\\n'}"
      ]
     },
     "execution_count": 20,
     "metadata": {},
     "output_type": "execute_result"
    }
   ],
   "source": [
    "url = 'https://codeup.com/competitor-bootcamps-are-closing-is-the-model-in-danger/'\n",
    "get_article(url)"
   ]
  },
  {
   "cell_type": "markdown",
   "metadata": {},
   "source": [
    "## Encapsulate your work in a function named get_blog_articles that will return a list of dictionaries, with each dictionary representing one article. The shape of each dictionary should look like this:"
   ]
  },
  {
   "cell_type": "code",
   "execution_count": 22,
   "metadata": {},
   "outputs": [],
   "source": [
    " # listing articles names\n",
    "articles = ['https://codeup.com/codeups-data-science-career-accelerator-is-here/',\n",
    "    'https://codeup.com/data-science-myths/',\n",
    "    'https://codeup.com/data-science-vs-data-analytics-whats-the-difference/',\n",
    "    'https://codeup.com/10-tips-to-crush-it-at-the-sa-tech-job-fair/',\n",
    "    'https://codeup.com/competitor-bootcamps-are-closing-is-the-model-in-danger/']\n",
    "    \n",
    "def get_blog_articles(articles):\n",
    "    \n",
    "    # creating empty list l\n",
    "    article_list = []\n",
    "    \n",
    "    # using for loop to iterate through list of URLs\n",
    "    for url in articles:\n",
    "        # creating empty dictionary\n",
    "        dic = {}\n",
    "        # specifying headers\n",
    "        headers = {'User-Agent': 'Codeup Data Science'}\n",
    "        # saving response from page\n",
    "        response = get(url, headers=headers)\n",
    "        # using beautiful soup to parse response\n",
    "        soup = BeautifulSoup(response.text)\n",
    "        # saving article body text\n",
    "        article = soup.find('div', class_='jupiterx-post-content')\n",
    "        # saving article title text\n",
    "        title = soup.find('h1').text\n",
    "        # storing article body and title in dictionary\n",
    "        dic['title'] = title\n",
    "        dic['article'] = article.text\n",
    "        # appending dictionary to list\n",
    "        article_list.append(dic)\n",
    "        \n",
    "    # returning list when all article text added\n",
    "    return article_list"
   ]
  },
  {
   "cell_type": "code",
   "execution_count": 24,
   "metadata": {},
   "outputs": [
    {
     "data": {
      "text/plain": [
       "{'title': 'Codeup’s Data Science Career Accelerator is Here!',\n",
       " 'article': 'The rumors are true! The time has arrived. Codeup has officially opened applications to our new Data Science career accelerator, with only 25 seats available! This immersive program is one of a kind in San Antonio, and will help you land a job in\\xa0Glassdoor’s #1 Best Job in America.\\nData Science is a method of providing actionable intelligence from data.\\xa0The data revolution has hit San Antonio,\\xa0resulting in an explosion in Data Scientist positions\\xa0across companies like USAA, Accenture, Booz Allen Hamilton, and HEB. We’ve even seen\\xa0UTSA invest $70 M for a Cybersecurity Center and School of Data Science.\\xa0We built a program to specifically meet the growing demands of this industry.\\nOur program will be 18 weeks long, full-time, hands-on, and project-based. Our curriculum development and instruction is led by Senior Data Scientist, Maggie Giust, who has worked at HEB, Capital Group, and Rackspace, along with input from dozens of practitioners and hiring partners. Students will work with real data sets, realistic problems, and the entire data science pipeline from collection to deployment. They will receive professional development training in resume writing, interviewing, and continuing education to prepare for a smooth transition to the workforce.\\nWe focus on applied data science for immediate impact and ROI in a business, which is how we can back it all up with a 6 month tuition refund guarantee – just like our existing Web Dev program. We’re focusing on Data Science with Python, SQL, and ML, covered in\\xa014 modules: 1) Fundamentals; 2) Applied statistics; 3) SQL; 4) Python; 5) Supervised machine learning – regression; 6) Supervised machine learning – classification; 7) Unsupervised machine learning – clustering; 8) Time series analysis; 9) Anomaly detection; 10) Natural language processing; 11) Distributed machine learning; 12) Advanced topics (deep learning, NoSQL, cloud deployment, etc.); 13) Storytelling with data; and 14) Domain expertise development.\\nApplications are now open\\xa0for Codeup’s first Data Science cohort, which will start class on February 4, 2019. Hurry – there are only 25 seats available! To further our mission of cultivating inclusive growth, scholarships will be available to women, minorities, LGBTQIA+ individuals, veterans, first responders, and people relocating to San Antonio.\\nIf you want to learn about joining our program or hiring our graduates, email datascience@codeup.com!\\n\\n'}"
      ]
     },
     "execution_count": 24,
     "metadata": {},
     "output_type": "execute_result"
    }
   ],
   "source": [
    "get_blog_articles(articles)[0]"
   ]
  },
  {
   "cell_type": "code",
   "execution_count": 25,
   "metadata": {},
   "outputs": [
    {
     "data": {
      "text/plain": [
       "{'title': 'Data Science Myths',\n",
       " 'article': 'By Dimitri Antoniou and Maggie Giust\\nData Science, Big Data, Machine Learning, NLP, Neural Networks…these buzzwords have rapidly spread into mainstream use over the last few years. Unfortunately, definitions are varied and sources of truth are limited. Data Scientists are in fact not magical unicorn wizards who can snap their fingers and turn a business around! Today, we’ll take a cue from our favorite Mythbusters to tackle some common myths and misconceptions in the field of Data Science.\\n\\nvia GIPHY\\nMyth #1: Data Science = Statistics\\nAt first glance, this one doesn’t sound unreasonable. Statistics is defined as, “A branch of mathematics dealing with the collection, analysis, interpretation, and presentation of masses of numerical data.” That sounds a lot like our definition of Data Science: a method of drawing actionable intelligence from data. \\nIn truth, statistics is actually one small piece of Data Science. As our Senior Data Scientist puts it, “Statistics forces us to make assumptions about the nature of the relationship between variables, the distribution of the data, etc.” In the traditional Data Science venn diagram, you’ll see that math/stats make up ⅓ of a working professional. These are tools and skills to leverage, but data science itself is about drawing intelligence from data.\\nBUSTED\\n\\nvia GIPHY\\n\\xa0\\nMyth #2: Data Scientist = Business/Data Analyst\\nThis one is so common that we wrote a whole post about it! These are separate and different roles within the data field. While a data scientist will often do analytics, their spectrum of work is wider. A data analyst will use structured data to create dashboards and KPIs, while a Data Scientist deals with unstructured and messy data for a range of outputs. If they’re interested, business analysts will often progress to data scientists.\\nBUSTED\\n\\nvia GIPHY\\n\\xa0\\nMyth #3: Data Science = Data Science\\nThis one’s tricky, because it’s impossible to either confirm or bust! The ‘myth’ is that one person or company using the term Data Science is not necessarily the same as another person or company using the same term. Depending on organizational capacity, individual experience, educational background, and many other variables, we might be using the same name for different animals.\\nTl;dr: don’t assume a common understanding across hiring managers, recruiters, and practitioners. Look instead for specifics of tools, techniques, methodologies, and outputs. That being said, this one falls in the “plausible” category, because it may actually be true in some circumstances, while false in others.\\nPLAUSIBLE\\n\\nvia GIPHY\\n\\xa0\\nMyth #4: Data Science curricula are well-defined and consistent.\\nWe recommend checking this one out for yourself! A quick google search for bootcamps, master’s degree programs, and online courses will reveal that different organizations teach different things. There is no commonly accepted framework for teaching data science! Some focus more on the engineering, others focus more on machine learning, some think deep learning is foundational, and some prefer to use R. \\nOur curriculum was built through employer interviews, practitioner interviews, market research, and company partnerships. But we’re based in San Antonio! A bootcamp in New York might follow the same process and end up with a different syllabus. Keep in mind, whatever your learning path, that there will be gaps in your learning. The most important thing is to recognize those gaps.\\nBUSTED\\n\\nvia GIPHY\\n\\xa0\\nMyth #5: If I want to be a data scientist, I just need to learn Python or R.\\nThis one is common and dangerous! Just like statistics, programming languages like Python and R are tools. They’re just pieces of a larger puzzle! Knowing Python without understanding the data science pipeline is like knowing how to build a floor without having a floor plan. Of course, these are valuable technical skills that give you a leg up, but they’re second in importance to asking the right questions, knowing what tools to use when, and communicating your findings.\\nBUSTED\\n\\nvia GIPHY\\nStill have questions? Reach out to us! We’re always here to help.\\n\\n'}"
      ]
     },
     "execution_count": 25,
     "metadata": {},
     "output_type": "execute_result"
    }
   ],
   "source": [
    "get_blog_articles(articles)[1]"
   ]
  },
  {
   "cell_type": "code",
   "execution_count": 26,
   "metadata": {
    "scrolled": true
   },
   "outputs": [
    {
     "data": {
      "text/plain": [
       "{'title': 'Data Science VS Data Analytics: What’s The Difference?',\n",
       " 'article': 'By Dimitri Antoniou\\nA week ago, Codeup launched our immersive Data Science career accelerator! With our first-class kicking off in February and only 25 seats available, we’ve been answering a lot of questions from prospective students. One, in particular, has come up so many times we decided to dedicate a blog post to it. What is the difference between data science and data analytics?\\nFirst, let’s define some of our terms! Take a look at this blog to understand what Data Science is. In short, it is a method of turning raw data into action, leading to the desired outcome. Big Data refers to data sets that are large and complex, usually exceeding the capacity of computers and normal processing power to deal with. Machine Learning is the process of ‘learning’ underlying patterns of data in order to automate the extraction of intelligence from that data.\\n\\xa0\\n\\xa0\\nNow, let’s look at the data pipeline that data scientists work through to reach the actionable insights and outcomes we mentioned:\\n\\nWe start by collecting data, which may come from social media channels, network logs, financials, employee records, or more.\\nWe then process that data into usable information stored in databases or streamed.\\nNext, we look back on the history of that data to summarize, describe, and explain, turning the data into meaningful knowledge. Here we’re primarily using mathematics, statistics, and visualization methods.\\nNow we convert that knowledge into intelligence, seeking to predict future events so that we can make decisions in the present. This is where practitioners will introduce mathematical/statistical modeling through machine learning to their data.\\nFinally, we enable action by building automations, running tests, building visualizations, monitoring new data, etc.\\n\\nData professionals work at different stages of the spectrum to move data through the pipeline. On the left, Big Data Engineers specialize in collecting, storing, and processing data, getting it from Data to Information. In the middle, analysts work to understand and convert that information to knowledge. Lastly, a Machine Learning Engineer utilizes machine learning algorithms to turn intelligence into action by building automations, visualizations, recommendations, and predictions.\\nData Scientists span multiple stages of this pipeline, from information to action. They will spend about 70% of their time wrangling data in the information stage. They will conduct a statistical analysis to derive knowledge. Lastly, they predict future events and build automations using machine learning.\\nFor those technical folk out there, data science is to data engineering or machine learning engineering as full-stack development is to front-end or back-end development. For the non-technical folk, data science is the umbrella term that houses data analytics, machine learning, and other data professions.\\nSo what’s the biggest difference between a data analyst and a data scientist? Data scientists utilize computer programming and machine learning in addition to mathematics and statistics. \\nStill have questions? Reach out to us.\\xa0Wondering which of Codeup’s programs is right for you? We’ve got you covered. And of course, if data science gets you excited, get started with us today!\\n\\n'}"
      ]
     },
     "execution_count": 26,
     "metadata": {},
     "output_type": "execute_result"
    }
   ],
   "source": [
    "get_blog_articles(articles)[2]"
   ]
  },
  {
   "cell_type": "code",
   "execution_count": 27,
   "metadata": {},
   "outputs": [
    {
     "data": {
      "text/plain": [
       "{'title': '10 Tips to Crush It at the SA Tech Job Fair',\n",
       " 'article': 'SA Tech Job Fair\\nThe third bi-annual San Antonio Tech Job Fair is just around the corner. Over 25 companies will be at The Jack Guenther Pavilion\\xa0on April 10th, and they are hungry for new tech team members!\\nAt the job fair, companies want to quickly source a list of new talent leads. AKA they need to find qualified employees they can begin interviewing for jobs. Recruiters will represent their organization at tables with informational handouts and company swag. Your goal at a job fair is to set yourself apart from other candidates and ensure your name makes it to the top of those lead lists.\\nThink of your interaction with the company as a mini screening interview. The company rep will subtly evaluate basic qualities like your professionalism, communication and interpersonal skills, work experience, and interest level in the organization. Job fairs are also an opportunity for you to gain information about companies that may not be easily accessible online. \\xa0\\nAt Codeup, we’re passionate about bridging the gap between talent and demand, so we’ve outlined 10 tips to ensure you bring your A-game and leave a lasting impression!\\n10 Tips for Totally Crushing it at the SA Tech Job Fair\\n\\nUse keywords to describe your skills, but don’t go overboard. You’ll probably be talking to a recruiter or talent acquisition specialist. As a technical candidate, recognize these individuals usually aren’t developers or network administrators. They know terms like “JavaScript” and “Apache,” but haven’t written a line of code or spun up a server, so don’t get too caught up in industry jargon.\\nResearch the companies ahead of time. Review the list of attending companies and make sure you know what the company does and whether or not they hire people in your desired role. Look up recent news on the company and mention it during your conversation.\\nDefine your own goals for the job fair. Are you searching for a specific type of role or company culture? What matters most in your job search? Are there companies you want to prioritize? \\xa0Develop a game plan and be intentional with your time.\\nPrepare a stellar résumé. Bring about 20 copies of your résumé to the event, printed on nice paper. We won’t cover resume writing in this post, but there are a plethora of online resources you can consult. For job fairs, don’t worry about cover letters.\\nPolish your online profiles. If recruiters have a copy of your resume, you can be sure they will stalk you online soon. Make sure your online presence is professional and appropriate. A good place to start is by Googling yourself. Update your LinkedIn, and clean up any social media profiles.\\nCraft a 30-60 second elevator pitch. You may only have a few minutes with an employer. What will you say if they ask, “Tell me about yourself?” Consider structuring your pitch like this: Who you are + What you do + What your goals are + Why that matters to the company.\\nDon’t show up in a t-shirt, but trade in your suit for something more chill. Always keep it professional, but remember: tech is typically more casual than other industries. You’ll likely feel out of place if you look like you belong on Wall St., so refer to this guide on dressing for tech interviews.\\nDon’t forget the basics. Start and end each conversation with a firm handshake. Make eye contact while conversing. Smile! Thank the recruiter before you move on to the next table.\\nAsk educated questions. Don’t waste valuable face time with recruiters by asking questions like, “What does [Insert Company here] do?” They hate that question! Instead, try some of these:\\n\\nWhat are the top 3-5 examples of knowledge, skills, and abilities you look for in candidates?\\nWhat’s the best advice you have for someone who wants to work here?\\nWhat is your interview process like?\\nAre you hiring for any roles not currently listed on your websites?\\n\\n\\nFollow up. Collect business cards from each table. The next day, send a short note expressing your interest in the company’s opportunities and thanking the recruiter for his or her time.\\n\\nRSVP for the SA Tech Job Fair taking place at the Jack Guenther Pavilion – September 18th starting at 4 pm.\\xa0\\n\\n'}"
      ]
     },
     "execution_count": 27,
     "metadata": {},
     "output_type": "execute_result"
    }
   ],
   "source": [
    "get_blog_articles(articles)[3]"
   ]
  },
  {
   "cell_type": "code",
   "execution_count": 28,
   "metadata": {},
   "outputs": [
    {
     "data": {
      "text/plain": [
       "{'title': 'Competitor Bootcamps Are Closing. Is the Model in Danger?',\n",
       " 'article': 'Competitor Bootcamps Are Closing. Is the Model in Danger?\\n\\xa0\\n\\nIs the programming bootcamp model in danger?\\nIn recent news, DevBootcamp and The Iron Yard announced that they are closing their doors. This is big news. DevBootcamp was the first programming bootcamp model and The Iron Yard is a national player with 15 campuses across the U.S. In both cases, the companies cited an unsustainable business model. Does that mean the boot-camp model is dead?\\n\\ntl;dr “Nope!”\\nBootcamps exist because traditional education models have failed to provide students job-ready skills for the 21st century. Students demand better employment options from their education. Employers demand skilled and job ready candidates. Big Education’s failure to meet those needs through traditional methods created the fertile ground for the new business model of the programming bootcamp.\\nEducation giant Kaplan and Apollo Education Group (owner of University of Phoenix) bought their way into this new educational model when they purchased The Iron Yard and DevBootcamp. They purchased their competition with the intent to scale up the model. Unfortunately, Big Education is too habituated to coming up short for students. They bought the upstarts that challenged them, tried making changes to run those bootcamps in the “Big Education” way, and, sadly, they’ve closed the doors when they realized that scaling education is more challenging when student outcomes truly matter.\\nThe bootcamp model is still new and there will be plenty consolidation, competition, and changes in the future. This model is based on actually being adaptive, innovative, and sustainable. And there’s always room for innovation.\\n\\n\\nWhat we’ve learned at Codeup…\\n\\n\\nEducation is challenging to scale.\\nPrioritizing quality over growth pays off.\\n\\nWhat we’re doing at Codeup…\\n\\nHigher standards in our application process are leading to better student outcomes.\\nOur reputation and commitment to quality is opening new doors to previously uninterested/unreachable employers.\\nIn the beginning, the majority of Codeup graduates went to work with startups and small businesses. We’re now seeing a larger amount of our graduates place at medium to large sized businesses.\\nDemand is growing and employers are learning that the results are in the graduates.\\nCodeup’s model is sustainable, inclusive, and works.\\n\\nCall or contact us today to see how Codeup’s commitment to quality and approach to being a career accelerator can make a profound difference in your life.\\n\\n'}"
      ]
     },
     "execution_count": 28,
     "metadata": {},
     "output_type": "execute_result"
    }
   ],
   "source": [
    "get_blog_articles(articles)[4]"
   ]
  },
  {
   "cell_type": "markdown",
   "metadata": {},
   "source": [
    "## News Articles\n",
    "\n",
    "### We will now be scraping text data from inshorts, a website that provides a brief overview of many different topics.\n",
    "\n",
    "### Write a function that scrapes the news articles for the following topics:\n",
    "\n",
    "- Business\n",
    "- Sports\n",
    "- Technology\n",
    "- Entertainment\n",
    "- The end product of this should be a function named get_news_articles that returns a list of dictionaries, where each dictionary has this shape:\n",
    "\n",
    "{\n",
    "    'title': 'The article title',\n",
    "    'content': 'The article content',\n",
    "    'category': 'business' # for example\n",
    "}\n"
   ]
  },
  {
   "cell_type": "markdown",
   "metadata": {},
   "source": [
    "## Hints:\n",
    "\n",
    "- Start by inspecting the website in your browser. Figure out which elements will be useful. \n",
    "    - command + option + u will let you view the source of a page in chrome.\n",
    "    - command + option + i will open up the chrome dev tools page inspector.\n",
    "    \n",
    "- Start by creating a function that handles a single article and produces a dictionary like the one above.\n",
    "- Next create a function that will find all the articles on a single page and call the function you created in the last step for every article on the page.\n",
    "- Now create a function that will use the previous two functions to scrape the articles from all the pages that you need, and do any additional processing that needs to be done.\n"
   ]
  },
  {
   "cell_type": "code",
   "execution_count": 30,
   "metadata": {},
   "outputs": [],
   "source": [
    "# setting url to retrieve text from\n",
    "url = 'https://inshorts.com/en/read/business'\n",
    "\n",
    "# saving response from page\n",
    "response = get(url)\n",
    "\n",
    "# parsing response\n",
    "soup = BeautifulSoup(response.text)\n",
    "\n",
    "# retrieving news cards. Question on how to use class_ = 'news-card'\n",
    "cards = soup.find_all('div', class_='news-card')"
   ]
  },
  {
   "cell_type": "code",
   "execution_count": 31,
   "metadata": {},
   "outputs": [],
   "source": [
    "# creating empty list\n",
    "article_titles = []\n",
    "\n",
    "# iterating through cards and saving title of each to list. How did we know to look for 'span'\n",
    "for card in cards:\n",
    "    title = (card.find('span', itemprop='headline').text)\n",
    "    article_titles.append(title)"
   ]
  },
  {
   "cell_type": "code",
   "execution_count": 32,
   "metadata": {},
   "outputs": [
    {
     "data": {
      "text/plain": [
       "[\"15 countries sign world's biggest free-trade pact which India left last year\",\n",
       " \"Scientist behind '90% effective' COVID-19 vaccine says it can end the pandemic\",\n",
       " 'Russian vaccine arrives in India, video of it being unloaded from truck surfaces',\n",
       " 'China suspends fish imports from Indian firm after coronavirus detected',\n",
       " 'Reliance Retail buys 96% stake in Urban Ladder for ₹182 crore',\n",
       " \"India's longest gas blaze burning in Assam oil well doused after 5 months\",\n",
       " 'Traders record ₹72,000 cr Diwali sales, hand China loss of ₹40,000 cr: CAIT',\n",
       " 'Mahindra says he still wears a 1975 Kada blessed in Golden Temple; shares pic',\n",
       " 'Goldman Sachs upgrades Indian stocks, raises Nifty target',\n",
       " \"India's October fuel demand marks first yearly gain in 8 months\",\n",
       " \"Telcos, IT firms object to TRAI's proposed cloud services regulation body\",\n",
       " 'GM recalls over 68,000 Chevy Bolt EVs over battery fire concerns',\n",
       " 'UK to ban sale of new diesel, petrol cars from 2030: Report',\n",
       " \"Nissan's $95 mn lawsuit against ex-chief Ghosn begins in Japan\",\n",
       " 'Finance Ministry seeks suggestions for Budget 2021-22 via email',\n",
       " \"Patanjali's net profit jumps 21.56% to ₹424.7 crore in 2019-20\",\n",
       " 'Amazon not shareholder, no say in our affairs: Future Retail to Delhi HC',\n",
       " 'Sensex, Nifty soar to record highs in Muhurat trading session',\n",
       " 'BSE, NSE to hold Muhurat Trading from 6:15 pm to 7:15 pm today',\n",
       " 'Vodafone considering raising $4.7bn from Vantage Towers IPO: Report',\n",
       " 'Tata Steel Q2 profit drops 63% due to overseas losses',\n",
       " \"PMLA adjudicating body doesn't confirm ED's attachment of Kochhars' assets\",\n",
       " \"Rana Kapoor's daughter granted bail in Yes Bank fraud case\",\n",
       " 'Indian economy may be recovering faster than expected: Oxford Economics',\n",
       " 'Infosys Co-founder Shibulal receives 4 lakh company shares as gift']"
      ]
     },
     "execution_count": 32,
     "metadata": {},
     "output_type": "execute_result"
    }
   ],
   "source": [
    "article_titles"
   ]
  },
  {
   "cell_type": "code",
   "execution_count": 33,
   "metadata": {},
   "outputs": [],
   "source": [
    "# creating empty list\n",
    "body_texts = []\n",
    "\n",
    "# iterating through cards and saving body text to list\n",
    "for card in cards:\n",
    "    body = (card.find('div', itemprop='articleBody').text)\n",
    "    body_texts.append(body)"
   ]
  },
  {
   "cell_type": "code",
   "execution_count": 34,
   "metadata": {},
   "outputs": [
    {
     "data": {
      "text/plain": [
       "[\"Fifteen Asia-Pacific countries signed the Regional Comprehensive Economic Partnership (RCEP), considered the world's biggest free-trade deal. In addition to 10 ASEAN nations, it includes China, Japan, South Korea, Australia and New Zealand. India last year refused to join RCEP over concerns that cheap Chinese goods can enter India, however, India can join at a later date if it chooses.\",\n",
       " 'German scientist Uğur Şahin, the CEO of BioNTech which co-developed a coronavirus vaccine with Pfizer, said he\\'s confident his product can end the pandemic and \"bash the virus over the head.\" The vaccine is 90% effective based on initial data from a late-stage trial. \"I believe that even protection only from symptomatic infections will have a dramatic effect,\" Şahin said.',\n",
       " \"Russia's coronavirus vaccine, Sputnik V, has arrived in India after Dr Reddy's Laboratories got approval to conduct late-stage trials of the vaccine in the country. A video has surfaced on social media, which shows containers with logos of Dr Reddy's and Sputnik V being unloaded from a small truck. Based on interim results, Russia claimed the vaccine is 92% effective.\",\n",
       " \"China has suspended imports from India's Basu International for one week after detecting the novel coronavirus on three samples taken from the outer packaging of frozen cuttlefish. Imports will resume automatically after one week, Chinese customs said. Companies from Brazil, Russia, Ecuador and Indonesia have also faced similar one-week suspensions during the last month.\",\n",
       " 'Reliance Industries\\' retail arm Reliance Retail Ventures has acquired a 96% stake in online furniture store Urban Ladder for ₹182.12 crore. Mukesh Ambani-led Reliance Retail also has the option of acquiring the remaining stake and it has proposed a further investment of ₹75 crore by 2023-end. \"The...investment will further enable the group\\'s digital and new commerce initiatives,\" said Reliance.',\n",
       " \"Oil India Limited on Sunday said that the fire at its Baghjan oil well in Assam has been doused completely. The Baghjan oil well No 5 of Oil India Limited initially blew out on May 27, followed by a massive fire on June 9. The fire, doused more than five months after its emergence, was India's longest burning gas blaze.\",\n",
       " 'The Confederation of All India Traders (CAIT) said traders recorded sales of ₹72,000 crore this Diwali across major markets amid a call for a boycott of Chinese products. \"Diwali sales generated a turnover of about ₹72,000 crore and gave China the expected loss of ₹40,000 crore,\" CAIT said. The figures were compiled based on data gathered from 20 Indian cities.',\n",
       " 'Businessman Anand Mahindra took to Twitter to reveal that he still wears a Kada he bought in 1975 from Amritsar. Mahindra tweeted, \"In 1975 I took a semester off from college in the US & hitchhiked/took ST buses around India.\" He added, \"On Diwali, I arrived in Amritsar. I bought a Kada & had it blessed in the Golden Temple.\"',\n",
       " \"Goldman Sachs has upgraded Indian equities to 'overweight' on hopes of a rebound in corporate earnings. The American investment bank has raised its Nifty target to 14,100 by end-2021, implying an 11% upside from the current levels. Notably, Goldman had downgraded India to 'marketweight' in April expecting a significant contraction in economic activity and a delayed recovery.\",\n",
       " \"India's fuel demand in October marked its first year-on-year increase since February as diesel consumption rose to pre-COVID-19 levels ahead of the festive season. Demand for refined fuels rose 2.5% year-on-year in October to 17.77 million tonnes, government data showed. While the demand for diesel rose 7.4% year-on-year to 6.5 million tonnes, petrol sales rose 4.5% to 2.54 million tonnes.\",\n",
       " 'Several industry bodies including NASSCOM and COAI have written to the Department of Telecommunications saying that Telecom Regulatory Authority of India\\'s (TRAI) proposal to regulate cloud service providers (CSPs) might be detrimental to investment in the sector. The bodies said the framework is not \"light-touch regulation\". Major CSPs in India include Zoho and Amazon Web Services among others.',\n",
       " 'US\\' General Motors has issued a recall for 68,667 Chevy Bolt electric vehicles (EVs) after at least five battery fires were reported. The automaker has found common elements behind the fires, including their origins at an LG Chem plant and charge levels. GM added that it doesn\\'t believe all recalled vehicles are affected, but that it\\'s \"prudent\" to take action.',\n",
       " 'UK PM Boris Johnson is set to ban the sale of new petrol and diesel cars from 2030, reported Financial Times. The ban was first scheduled for 2040, which Johnson moved to 2035 in February and is now set to move the date five years ahead again. Petrol and diesel cars accounted for 73.6% of UK sales in 2020.',\n",
       " \"A civil court trial began in Japan's Yokohama on Friday against former Nissan Chairman Carlos Ghosn, where Nissan is seeking $95 million in damages. The automaker has sued Ghosn for the harm and financial losses incurred by the company due to his misconduct. Ghosn, who was arrested in 2018 in Japan, fled to Lebanon while he was awaiting trial.\",\n",
       " 'The Finance Ministry has said it will be creating a dedicated email ID to receive suggestions from institutions and experts on the Union Budget 2021-22, instead of physical consultations, in view of COVID-19. The MyGov portal will provide a platform to receive ideas from public from November 15-30, it added. The suggestions will be examined by the concerned ministries. ',\n",
       " 'Baba Ramdev-led Patanjali Ayurved reported a 21.56% increase in net profit at ₹424.72 crore for 2019-20, according to data provided by Tofler. The company had posted a net profit of ₹349.37 crore for 2018-19. Its revenue from operations rose 5.86% to ₹9,022.71 crore as against ₹8,522.68 crore in the year-ago period while its expenses jumped 5.34% to ₹8,521 crore.',\n",
       " 'Future Retail on Thursday told the Delhi High Court that Amazon \"isn\\'t even a minority shareholder\" and has no say in its affairs. The Singapore International Arbitration Centre\\'s (SIAC) order barring Future Retail from selling its assets to Reliance Industries is of no value, it added. The deal is needed to \"rescue Future Retail from bankruptcy\", the company\\'s counsel said.',\n",
       " 'BSE Sensex and NSE Nifty soared to lifetime highs in a special Muhurat trading session held on Diwali to celebrate the beginning of the Hindu new year. Sensex jumped 387.93 points to touch an all-time high of 43,830.93, while Nifty touched a record of 12,828.70 during the session. Bharti Airtel, Tata Steel and Sun Pharma were the top gainers.',\n",
       " 'Stock exchanges BSE and NSE will conduct the special Muhurat Trading session today between 6:15 pm and 7:15 pm on the occasion of Diwali. The one-hour session marks the beginning of a new Hindu calendar year, Samvat 2077. The Sensex ended Samvat 2076 with a gain of 11.22% or 4,384.94 points, while Nifty gained 9.80% or 1,136.05 points.',\n",
       " \"Vodafone is considering raising $4.7 billion from its European towers unit's initial public offering (IPO) in 2021, a report said. It is planning to list Vantage Towers in the first quarter of 2021 in a deal that could value the unit at $23.6 billion, the report added. This may be the largest IPO on European exchange in over three years.\",\n",
       " 'Tata Steel reported a 62.7% year-on-year drop in consolidated net profit to ₹1,546.3 crore in the July-September quarter (Q2). The fall in profit came due to losses at overseas subsidiaries, even as the India business improved significantly and revenue rose 7.4% year-on-year to ₹37,153.9 crore. The steelmaker is also in talks with SSAB Sweden to sell off its Netherlands business.',\n",
       " \"Prevention of Money Laundering Act (PMLA) adjudicating authority has said the assets of former ICICI Bank CEO Chanda Kochhar and her husband Deepak Kochhar attached by the ED don't qualify as proceeds of crime. The authority didn't confirm the attachment of assets worth ₹78.15 crore. The ED had sought to attach the assets in connection with the ICICI Bank-Videocon case.\",\n",
       " \"A magistrate court has granted bail to Yes Bank Founder Rana Kapoor's daughter Roshni Kapoor, an accused in the fraud case linked to Dewan Housing Finance (DHFL). Roshni, who is one of the eight accused, was summoned by the court last month in the case. The CBI had alleged that Yes Bank invested ₹3,700 crore in short-term debentures in DHFL.\",\n",
       " 'The Indian economy is seen recovering faster than expected and the Reserve Bank of India is likely to have come to an end of the rate easing cycle, according to global forecasting firm Oxford Economics. It said the country\\'s \"robust bottom-up activity data\" suggested the quicker-than-anticipated recovery. Earlier, Moody\\'s also improved India\\'s 2020 GDP forecast from -9.6% to -8.9%.',\n",
       " \"Infosys Co-founder SD Shibulal has received over four lakh shares, representing 0.01%, of the company as a gift as off-market transaction, Infosys said. With this, total number of shares owned by him rose to over 21.6 lakh. Infosys said in another filing that Shibulal's wife Kumari gifted 4.01 lakh shares on the same day, but didn't disclose the recipient's name. \"]"
      ]
     },
     "execution_count": 34,
     "metadata": {},
     "output_type": "execute_result"
    }
   ],
   "source": [
    "body_texts"
   ]
  },
  {
   "cell_type": "markdown",
   "metadata": {},
   "source": [
    "## Creating function that will return all of the titles and body text from a single category of news."
   ]
  },
  {
   "cell_type": "code",
   "execution_count": 38,
   "metadata": {},
   "outputs": [],
   "source": [
    "# setting url to retrieve from\n",
    "url = 'https://inshorts.com/en/read/business'\n",
    "\n",
    "def single_category(url):\n",
    "    # creating empty list for the category\n",
    "    cat_list = []\n",
    "    # saving response from page\n",
    "    response = get(url)\n",
    "    # parsing response\n",
    "    soup = BeautifulSoup(response.text)\n",
    "    # finding all news cards\n",
    "    cards = soup.find_all('div', class_='news-card')\n",
    "    # iterating through cards\n",
    "    for card in cards:\n",
    "        # creating empty dictionary\n",
    "        dic = {}\n",
    "        # saving iterated title and body text\n",
    "        title = (card.find('span', itemprop='headline').text)\n",
    "        body = (card.find('div', itemprop='articleBody').text)\n",
    "        # loading body and title into dictionary\n",
    "        dic['title'] = title\n",
    "        dic['article'] = body\n",
    "        # appending dictionary to list\n",
    "        cat_list.append(dic)\n",
    "    # returning list    \n",
    "    return cat_list"
   ]
  },
  {
   "cell_type": "code",
   "execution_count": 39,
   "metadata": {},
   "outputs": [
    {
     "data": {
      "text/plain": [
       "[{'title': \"15 countries sign world's biggest free-trade pact which India left last year\",\n",
       "  'article': \"Fifteen Asia-Pacific countries signed the Regional Comprehensive Economic Partnership (RCEP), considered the world's biggest free-trade deal. In addition to 10 ASEAN nations, it includes China, Japan, South Korea, Australia and New Zealand. India last year refused to join RCEP over concerns that cheap Chinese goods can enter India, however, India can join at a later date if it chooses.\"},\n",
       " {'title': 'Russian vaccine arrives in India, video of it being unloaded from truck surfaces',\n",
       "  'article': \"Russia's coronavirus vaccine, Sputnik V, has arrived in India after Dr Reddy's Laboratories got approval to conduct late-stage trials of the vaccine in the country. A video has surfaced on social media, which shows containers with logos of Dr Reddy's and Sputnik V being unloaded from a small truck. Based on interim results, Russia claimed the vaccine is 92% effective.\"},\n",
       " {'title': \"Scientist behind '90% effective' COVID-19 vaccine says it can end the pandemic\",\n",
       "  'article': 'German scientist Uğur Şahin, the CEO of BioNTech which co-developed a coronavirus vaccine with Pfizer, said he\\'s confident his product can end the pandemic and \"bash the virus over the head.\" The vaccine is 90% effective based on initial data from a late-stage trial. \"I believe that even protection only from symptomatic infections will have a dramatic effect,\" Şahin said.'},\n",
       " {'title': 'China suspends fish imports from Indian firm after coronavirus detected',\n",
       "  'article': \"China has suspended imports from India's Basu International for one week after detecting the novel coronavirus on three samples taken from the outer packaging of frozen cuttlefish. Imports will resume automatically after one week, Chinese customs said. Companies from Brazil, Russia, Ecuador and Indonesia have also faced similar one-week suspensions during the last month.\"},\n",
       " {'title': 'Reliance Retail buys 96% stake in Urban Ladder for ₹182 crore',\n",
       "  'article': 'Reliance Industries\\' retail arm Reliance Retail Ventures has acquired a 96% stake in online furniture store Urban Ladder for ₹182.12 crore. Mukesh Ambani-led Reliance Retail also has the option of acquiring the remaining stake and it has proposed a further investment of ₹75 crore by 2023-end. \"The...investment will further enable the group\\'s digital and new commerce initiatives,\" said Reliance.'},\n",
       " {'title': \"India's longest gas blaze burning in Assam oil well doused after 5 months\",\n",
       "  'article': \"Oil India Limited on Sunday said that the fire at its Baghjan oil well in Assam has been doused completely. The Baghjan oil well No 5 of Oil India Limited initially blew out on May 27, followed by a massive fire on June 9. The fire, doused more than five months after its emergence, was India's longest burning gas blaze.\"},\n",
       " {'title': 'Traders record ₹72,000 cr Diwali sales, hand China loss of ₹40,000 cr: CAIT',\n",
       "  'article': 'The Confederation of All India Traders (CAIT) said traders recorded sales of ₹72,000 crore this Diwali across major markets amid a call for a boycott of Chinese products. \"Diwali sales generated a turnover of about ₹72,000 crore and gave China the expected loss of ₹40,000 crore,\" CAIT said. The figures were compiled based on data gathered from 20 Indian cities.'},\n",
       " {'title': 'Goldman Sachs upgrades Indian stocks, raises Nifty target',\n",
       "  'article': \"Goldman Sachs has upgraded Indian equities to 'overweight' on hopes of a rebound in corporate earnings. The American investment bank has raised its Nifty target to 14,100 by end-2021, implying an 11% upside from the current levels. Notably, Goldman had downgraded India to 'marketweight' in April expecting a significant contraction in economic activity and a delayed recovery.\"},\n",
       " {'title': 'Mahindra says he still wears a 1975 Kada blessed in Golden Temple; shares pic',\n",
       "  'article': 'Businessman Anand Mahindra took to Twitter to reveal that he still wears a Kada he bought in 1975 from Amritsar. Mahindra tweeted, \"In 1975 I took a semester off from college in the US & hitchhiked/took ST buses around India.\" He added, \"On Diwali, I arrived in Amritsar. I bought a Kada & had it blessed in the Golden Temple.\"'},\n",
       " {'title': \"India's October fuel demand marks first yearly gain in 8 months\",\n",
       "  'article': \"India's fuel demand in October marked its first year-on-year increase since February as diesel consumption rose to pre-COVID-19 levels ahead of the festive season. Demand for refined fuels rose 2.5% year-on-year in October to 17.77 million tonnes, government data showed. While the demand for diesel rose 7.4% year-on-year to 6.5 million tonnes, petrol sales rose 4.5% to 2.54 million tonnes.\"},\n",
       " {'title': 'GM recalls over 68,000 Chevy Bolt EVs over battery fire concerns',\n",
       "  'article': 'US\\' General Motors has issued a recall for 68,667 Chevy Bolt electric vehicles (EVs) after at least five battery fires were reported. The automaker has found common elements behind the fires, including their origins at an LG Chem plant and charge levels. GM added that it doesn\\'t believe all recalled vehicles are affected, but that it\\'s \"prudent\" to take action.'},\n",
       " {'title': \"Telcos, IT firms object to TRAI's proposed cloud services regulation body\",\n",
       "  'article': 'Several industry bodies including NASSCOM and COAI have written to the Department of Telecommunications saying that Telecom Regulatory Authority of India\\'s (TRAI) proposal to regulate cloud service providers (CSPs) might be detrimental to investment in the sector. The bodies said the framework is not \"light-touch regulation\". Major CSPs in India include Zoho and Amazon Web Services among others.'},\n",
       " {'title': 'UK to ban sale of new diesel, petrol cars from 2030: Report',\n",
       "  'article': 'UK PM Boris Johnson is set to ban the sale of new petrol and diesel cars from 2030, reported Financial Times. The ban was first scheduled for 2040, which Johnson moved to 2035 in February and is now set to move the date five years ahead again. Petrol and diesel cars accounted for 73.6% of UK sales in 2020.'},\n",
       " {'title': \"Nissan's $95 mn lawsuit against ex-chief Ghosn begins in Japan\",\n",
       "  'article': \"A civil court trial began in Japan's Yokohama on Friday against former Nissan Chairman Carlos Ghosn, where Nissan is seeking $95 million in damages. The automaker has sued Ghosn for the harm and financial losses incurred by the company due to his misconduct. Ghosn, who was arrested in 2018 in Japan, fled to Lebanon while he was awaiting trial.\"},\n",
       " {'title': 'Finance Ministry seeks suggestions for Budget 2021-22 via email',\n",
       "  'article': 'The Finance Ministry has said it will be creating a dedicated email ID to receive suggestions from institutions and experts on the Union Budget 2021-22, instead of physical consultations, in view of COVID-19. The MyGov portal will provide a platform to receive ideas from public from November 15-30, it added. The suggestions will be examined by the concerned ministries. '},\n",
       " {'title': \"Rana Kapoor's daughter granted bail in Yes Bank fraud case\",\n",
       "  'article': \"A magistrate court has granted bail to Yes Bank Founder Rana Kapoor's daughter Roshni Kapoor, an accused in the fraud case linked to Dewan Housing Finance (DHFL). Roshni, who is one of the eight accused, was summoned by the court last month in the case. The CBI had alleged that Yes Bank invested ₹3,700 crore in short-term debentures in DHFL.\"},\n",
       " {'title': 'Sensex, Nifty soar to record highs in Muhurat trading session',\n",
       "  'article': 'BSE Sensex and NSE Nifty soared to lifetime highs in a special Muhurat trading session held on Diwali to celebrate the beginning of the Hindu new year. Sensex jumped 387.93 points to touch an all-time high of 43,830.93, while Nifty touched a record of 12,828.70 during the session. Bharti Airtel, Tata Steel and Sun Pharma were the top gainers.'},\n",
       " {'title': 'Infosys Co-founder Shibulal receives 4 lakh company shares as gift',\n",
       "  'article': \"Infosys Co-founder SD Shibulal has received over four lakh shares, representing 0.01%, of the company as a gift as off-market transaction, Infosys said. With this, total number of shares owned by him rose to over 21.6 lakh. Infosys said in another filing that Shibulal's wife Kumari gifted 4.01 lakh shares on the same day, but didn't disclose the recipient's name. \"},\n",
       " {'title': 'Indian economy may be recovering faster than expected: Oxford Economics',\n",
       "  'article': 'The Indian economy is seen recovering faster than expected and the Reserve Bank of India is likely to have come to an end of the rate easing cycle, according to global forecasting firm Oxford Economics. It said the country\\'s \"robust bottom-up activity data\" suggested the quicker-than-anticipated recovery. Earlier, Moody\\'s also improved India\\'s 2020 GDP forecast from -9.6% to -8.9%.'},\n",
       " {'title': 'Tata Steel Q2 profit drops 63% due to overseas losses',\n",
       "  'article': 'Tata Steel reported a 62.7% year-on-year drop in consolidated net profit to ₹1,546.3 crore in the July-September quarter (Q2). The fall in profit came due to losses at overseas subsidiaries, even as the India business improved significantly and revenue rose 7.4% year-on-year to ₹37,153.9 crore. The steelmaker is also in talks with SSAB Sweden to sell off its Netherlands business.'},\n",
       " {'title': \"Patanjali's net profit jumps 21.56% to ₹424.7 crore in 2019-20\",\n",
       "  'article': 'Baba Ramdev-led Patanjali Ayurved reported a 21.56% increase in net profit at ₹424.72 crore for 2019-20, according to data provided by Tofler. The company had posted a net profit of ₹349.37 crore for 2018-19. Its revenue from operations rose 5.86% to ₹9,022.71 crore as against ₹8,522.68 crore in the year-ago period while its expenses jumped 5.34% to ₹8,521 crore.'},\n",
       " {'title': 'Vodafone considering raising $4.7bn from Vantage Towers IPO: Report',\n",
       "  'article': \"Vodafone is considering raising $4.7 billion from its European towers unit's initial public offering (IPO) in 2021, a report said. It is planning to list Vantage Towers in the first quarter of 2021 in a deal that could value the unit at $23.6 billion, the report added. This may be the largest IPO on European exchange in over three years.\"},\n",
       " {'title': 'BSE, NSE to hold Muhurat Trading from 6:15 pm to 7:15 pm today',\n",
       "  'article': 'Stock exchanges BSE and NSE will conduct the special Muhurat Trading session today between 6:15 pm and 7:15 pm on the occasion of Diwali. The one-hour session marks the beginning of a new Hindu calendar year, Samvat 2077. The Sensex ended Samvat 2076 with a gain of 11.22% or 4,384.94 points, while Nifty gained 9.80% or 1,136.05 points.'},\n",
       " {'title': \"PMLA adjudicating body doesn't confirm ED's attachment of Kochhars' assets\",\n",
       "  'article': \"Prevention of Money Laundering Act (PMLA) adjudicating authority has said the assets of former ICICI Bank CEO Chanda Kochhar and her husband Deepak Kochhar attached by the ED don't qualify as proceeds of crime. The authority didn't confirm the attachment of assets worth ₹78.15 crore. The ED had sought to attach the assets in connection with the ICICI Bank-Videocon case.\"},\n",
       " {'title': 'Amazon not shareholder, no say in our affairs: Future Retail to Delhi HC',\n",
       "  'article': 'Future Retail on Thursday told the Delhi High Court that Amazon \"isn\\'t even a minority shareholder\" and has no say in its affairs. The Singapore International Arbitration Centre\\'s (SIAC) order barring Future Retail from selling its assets to Reliance Industries is of no value, it added. The deal is needed to \"rescue Future Retail from bankruptcy\", the company\\'s counsel said.'}]"
      ]
     },
     "execution_count": 39,
     "metadata": {},
     "output_type": "execute_result"
    }
   ],
   "source": [
    "single_category(url)"
   ]
  },
  {
   "cell_type": "code",
   "execution_count": null,
   "metadata": {},
   "outputs": [],
   "source": []
  }
 ],
 "metadata": {
  "kernelspec": {
   "display_name": "Python 3",
   "language": "python",
   "name": "python3"
  },
  "language_info": {
   "codemirror_mode": {
    "name": "ipython",
    "version": 3
   },
   "file_extension": ".py",
   "mimetype": "text/x-python",
   "name": "python",
   "nbconvert_exporter": "python",
   "pygments_lexer": "ipython3",
   "version": "3.7.9"
  }
 },
 "nbformat": 4,
 "nbformat_minor": 4
}
