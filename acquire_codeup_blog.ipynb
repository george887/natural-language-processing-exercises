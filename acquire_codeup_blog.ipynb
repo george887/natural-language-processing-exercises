{
 "cells": [
  {
   "cell_type": "code",
   "execution_count": 1,
   "metadata": {},
   "outputs": [],
   "source": [
    "from requests import get\n",
    "from bs4 import BeautifulSoup\n",
    "import os"
   ]
  },
  {
   "cell_type": "markdown",
   "metadata": {},
   "source": [
    "1. Codeup Blog Articles\n",
    "\n",
    "Scrape the article text from the following pages:\n",
    "\n",
    "- https://codeup.com/codeups-data-science-career-accelerator-is-here/\n",
    "- https://codeup.com/data-science-myths/\n",
    "- https://codeup.com/data-science-vs-data-analytics-whats-the-difference/\n",
    "- https://codeup.com/10-tips-to-crush-it-at-the-sa-tech-job-fair/\n",
    "- https://codeup.com/competitor-bootcamps-are-closing-is-the-model-in-danger/\n",
    "Encapsulate your work in a function named get_blog_articles that will return a list of dictionaries, with each dictionary representing one article. The shape of each dictionary should look like this:\n",
    "\n",
    "{\n",
    "    'title': 'the title of the article',\n",
    "    'content': 'the full text content of the article'\n",
    "}"
   ]
  },
  {
   "cell_type": "code",
   "execution_count": 2,
   "metadata": {},
   "outputs": [],
   "source": [
    "url = 'https://codeup.com/codeups-data-science-career-accelerator-is-here/'\n",
    "headers = {'User-Agent': 'Codeup Data Science'} # Some websites don't accept the pyhon-requests default user-agent\n",
    "response = get(url, headers=headers)"
   ]
  },
  {
   "cell_type": "code",
   "execution_count": 3,
   "metadata": {},
   "outputs": [
    {
     "name": "stdout",
     "output_type": "stream",
     "text": [
      "<!DOCTYPE html><html lang=\"en-US\"><head >\t<meta charset=\"UTF-8\" />\n",
      "\t<meta name=\"viewport\" content=\"width=device-width, initial-scale=1\" />\n",
      "\t\n",
      "\t<!-- This site is optimized with the Yoast SEO plugin v15.2.1 - https://yoast.com/wordpress/plugins/seo/ -->\n",
      "\t<title>Codeup’s Data Science Career Accelerator is Here! - Codeup</title>\n",
      "\t<meta name=\"description\" content=\"The rumors are true! The time has arriv\n"
     ]
    }
   ],
   "source": [
    "print(response.text[:400])"
   ]
  },
  {
   "cell_type": "code",
   "execution_count": 4,
   "metadata": {},
   "outputs": [
    {
     "name": "stdout",
     "output_type": "stream",
     "text": [
      "<class 'bs4.BeautifulSoup'>\n"
     ]
    }
   ],
   "source": [
    "# Make a soup variable holding the response content\n",
    "soup = BeautifulSoup(response.content, 'html.parser')\n",
    "print(type(soup))"
   ]
  },
  {
   "cell_type": "code",
   "execution_count": 5,
   "metadata": {},
   "outputs": [
    {
     "data": {
      "text/plain": [
       "'The rumors are true! The time has arrived. Codeup has officially opened applications to our new Data Science career accelerator, with only 25 seats available! This immersive program is one of a kind in San Antonio, and will help you land a job in\\xa0Glassdoor’s #1 Best Job in America.\\nData Science is a method of providing actionable intelligence from data.\\xa0The data revolution has hit San Antonio,\\xa0resulting in an explosion in Data Scientist positions\\xa0across companies like USAA, Accenture, Booz Allen Hamilton, and HEB. We’ve even seen\\xa0UTSA invest $70 M for a Cybersecurity Center and School of Data Science.\\xa0We built a program to specifically meet the growing demands of this industry.\\nOur program will be 18 weeks long, full-time, hands-on, and project-based. Our curriculum development and instruction is led by Senior Data Scientist, Maggie Giust, who has worked at HEB, Capital Group, and Rackspace, along with input from dozens of practitioners and hiring partners. Students will work with real data sets, realistic problems, and the entire data science pipeline from collection to deployment. They will receive professional development training in resume writing, interviewing, and continuing education to prepare for a smooth transition to the workforce.\\nWe focus on applied data science for immediate impact and ROI in a business, which is how we can back it all up with a 6 month tuition refund guarantee – just like our existing Web Dev program. We’re focusing on Data Science with Python, SQL, and ML, covered in\\xa014 modules: 1) Fundamentals; 2) Applied statistics; 3) SQL; 4) Python; 5) Supervised machine learning – regression; 6) Supervised machine learning – classification; 7) Unsupervised machine learning – clustering; 8) Time series analysis; 9) Anomaly detection; 10) Natural language processing; 11) Distributed machine learning; 12) Advanced topics (deep learning, NoSQL, cloud deployment, etc.); 13) Storytelling with data; and 14) Domain expertise development.\\nApplications are now open\\xa0for Codeup’s first Data Science cohort, which will start class on February 4, 2019. Hurry – there are only 25 seats available! To further our mission of cultivating inclusive growth, scholarships will be available to women, minorities, LGBTQIA+ individuals, veterans, first responders, and people relocating to San Antonio.\\nIf you want to learn about joining our program or hiring our graduates, email datascience@codeup.com!\\n\\n'"
      ]
     },
     "execution_count": 5,
     "metadata": {},
     "output_type": "execute_result"
    }
   ],
   "source": [
    "# see also `soup.find_all`\n",
    "#\n",
    "# beautiful soup uses `class_` as the keyword argument for searching\n",
    "# for a class because `class` is a reserved word in python\n",
    "# we'll use the class name that we identified from looking in the inspector in chrome\n",
    "article = soup.find('div', class_='jupiterx-post-content')\n",
    "article.text"
   ]
  },
  {
   "cell_type": "code",
   "execution_count": 6,
   "metadata": {},
   "outputs": [],
   "source": [
    "# 2nd url\n",
    "url = 'https://codeup.com/data-science-myths/'\n",
    "headers = {'User-Agent': 'Codeup Data Science'} # Some websites don't accept the pyhon-requests default user-agent\n",
    "response = get(url, headers=headers)"
   ]
  },
  {
   "cell_type": "code",
   "execution_count": 7,
   "metadata": {},
   "outputs": [
    {
     "name": "stdout",
     "output_type": "stream",
     "text": [
      "<!DOCTYPE html><html lang=\"en-US\"><head >\t<meta charset=\"UTF-8\" />\n",
      "\t<meta name=\"viewport\" content=\"width=device-width, initial-scale=1\" />\n",
      "\t\n",
      "\t<!-- This site is optimized with the Yoast SEO plugin v15.2.1 - https://yoast.com/wordpress/plugins/seo/ -->\n",
      "\t<title>Data Science Myths - Codeup</title>\n",
      "\t<meta name=\"robots\" content=\"index, follow, max-snippet:-1, max-image-preview:large, max-video-preview:-\n"
     ]
    }
   ],
   "source": [
    "print(response.text[:400])"
   ]
  },
  {
   "cell_type": "code",
   "execution_count": 8,
   "metadata": {},
   "outputs": [
    {
     "data": {
      "text/plain": [
       "'By Dimitri Antoniou and Maggie Giust\\nData Science, Big Data, Machine Learning, NLP, Neural Networks…these buzzwords have rapidly spread into mainstream use over the last few years. Unfortunately, definitions are varied and sources of truth are limited. Data Scientists are in fact not magical unicorn wizards who can snap their fingers and turn a business around! Today, we’ll take a cue from our favorite Mythbusters to tackle some common myths and misconceptions in the field of Data Science.\\n\\nvia GIPHY\\nMyth #1: Data Science = Statistics\\nAt first glance, this one doesn’t sound unreasonable. Statistics is defined as, “A branch of mathematics dealing with the collection, analysis, interpretation, and presentation of masses of numerical data.” That sounds a lot like our definition of Data Science: a method of drawing actionable intelligence from data. \\nIn truth, statistics is actually one small piece of Data Science. As our Senior Data Scientist puts it, “Statistics forces us to make assumptions about the nature of the relationship between variables, the distribution of the data, etc.” In the traditional Data Science venn diagram, you’ll see that math/stats make up ⅓ of a working professional. These are tools and skills to leverage, but data science itself is about drawing intelligence from data.\\nBUSTED\\n\\nvia GIPHY\\n\\xa0\\nMyth #2: Data Scientist = Business/Data Analyst\\nThis one is so common that we wrote a whole post about it! These are separate and different roles within the data field. While a data scientist will often do analytics, their spectrum of work is wider. A data analyst will use structured data to create dashboards and KPIs, while a Data Scientist deals with unstructured and messy data for a range of outputs. If they’re interested, business analysts will often progress to data scientists.\\nBUSTED\\n\\nvia GIPHY\\n\\xa0\\nMyth #3: Data Science = Data Science\\nThis one’s tricky, because it’s impossible to either confirm or bust! The ‘myth’ is that one person or company using the term Data Science is not necessarily the same as another person or company using the same term. Depending on organizational capacity, individual experience, educational background, and many other variables, we might be using the same name for different animals.\\nTl;dr: don’t assume a common understanding across hiring managers, recruiters, and practitioners. Look instead for specifics of tools, techniques, methodologies, and outputs. That being said, this one falls in the “plausible” category, because it may actually be true in some circumstances, while false in others.\\nPLAUSIBLE\\n\\nvia GIPHY\\n\\xa0\\nMyth #4: Data Science curricula are well-defined and consistent.\\nWe recommend checking this one out for yourself! A quick google search for bootcamps, master’s degree programs, and online courses will reveal that different organizations teach different things. There is no commonly accepted framework for teaching data science! Some focus more on the engineering, others focus more on machine learning, some think deep learning is foundational, and some prefer to use R. \\nOur curriculum was built through employer interviews, practitioner interviews, market research, and company partnerships. But we’re based in San Antonio! A bootcamp in New York might follow the same process and end up with a different syllabus. Keep in mind, whatever your learning path, that there will be gaps in your learning. The most important thing is to recognize those gaps.\\nBUSTED\\n\\nvia GIPHY\\n\\xa0\\nMyth #5: If I want to be a data scientist, I just need to learn Python or R.\\nThis one is common and dangerous! Just like statistics, programming languages like Python and R are tools. They’re just pieces of a larger puzzle! Knowing Python without understanding the data science pipeline is like knowing how to build a floor without having a floor plan. Of course, these are valuable technical skills that give you a leg up, but they’re second in importance to asking the right questions, knowing what tools to use when, and communicating your findings.\\nBUSTED\\n\\nvia GIPHY\\nStill have questions? Reach out to us! We’re always here to help.\\n\\n'"
      ]
     },
     "execution_count": 8,
     "metadata": {},
     "output_type": "execute_result"
    }
   ],
   "source": [
    "# Make a soup variable holding the response content\n",
    "soup = BeautifulSoup(response.content, 'html.parser')\n",
    "ds_myths_article = soup.find('div', itemprop='text')\n",
    "ds_myths_article.text"
   ]
  },
  {
   "cell_type": "code",
   "execution_count": 13,
   "metadata": {},
   "outputs": [],
   "source": [
    "def get_article(url):\n",
    "    # creating empty dictionary to store article text and title\n",
    "    dic = {}\n",
    "    # specifying headers \n",
    "    headers = {'User-Agent': 'Codeup Data Science'}\n",
    "    # storing response from page\n",
    "    response = get(url, headers=headers)\n",
    "    # using soup to parse response text\n",
    "    soup = BeautifulSoup(response.text)\n",
    "    # saving article body text\n",
    "    article = soup.find('div', class_='jupiterx-post-content')\n",
    "    # saving title text\n",
    "    title = soup.find('h1').text\n",
    "    # adding title key and title text as value to dictionary\n",
    "    dic['title'] = title\n",
    "    # adding body text  key and body text as value to dictionary\n",
    "    dic['article'] = article.text\n",
    "    # returning dic\n",
    "    return dic"
   ]
  },
  {
   "cell_type": "code",
   "execution_count": 14,
   "metadata": {},
   "outputs": [
    {
     "data": {
      "text/plain": [
       "{'title': 'Data Science Myths',\n",
       " 'article': 'By Dimitri Antoniou and Maggie Giust\\nData Science, Big Data, Machine Learning, NLP, Neural Networks…these buzzwords have rapidly spread into mainstream use over the last few years. Unfortunately, definitions are varied and sources of truth are limited. Data Scientists are in fact not magical unicorn wizards who can snap their fingers and turn a business around! Today, we’ll take a cue from our favorite Mythbusters to tackle some common myths and misconceptions in the field of Data Science.\\n\\nvia GIPHY\\nMyth #1: Data Science = Statistics\\nAt first glance, this one doesn’t sound unreasonable. Statistics is defined as, “A branch of mathematics dealing with the collection, analysis, interpretation, and presentation of masses of numerical data.” That sounds a lot like our definition of Data Science: a method of drawing actionable intelligence from data. \\nIn truth, statistics is actually one small piece of Data Science. As our Senior Data Scientist puts it, “Statistics forces us to make assumptions about the nature of the relationship between variables, the distribution of the data, etc.” In the traditional Data Science venn diagram, you’ll see that math/stats make up ⅓ of a working professional. These are tools and skills to leverage, but data science itself is about drawing intelligence from data.\\nBUSTED\\n\\nvia GIPHY\\n\\xa0\\nMyth #2: Data Scientist = Business/Data Analyst\\nThis one is so common that we wrote a whole post about it! These are separate and different roles within the data field. While a data scientist will often do analytics, their spectrum of work is wider. A data analyst will use structured data to create dashboards and KPIs, while a Data Scientist deals with unstructured and messy data for a range of outputs. If they’re interested, business analysts will often progress to data scientists.\\nBUSTED\\n\\nvia GIPHY\\n\\xa0\\nMyth #3: Data Science = Data Science\\nThis one’s tricky, because it’s impossible to either confirm or bust! The ‘myth’ is that one person or company using the term Data Science is not necessarily the same as another person or company using the same term. Depending on organizational capacity, individual experience, educational background, and many other variables, we might be using the same name for different animals.\\nTl;dr: don’t assume a common understanding across hiring managers, recruiters, and practitioners. Look instead for specifics of tools, techniques, methodologies, and outputs. That being said, this one falls in the “plausible” category, because it may actually be true in some circumstances, while false in others.\\nPLAUSIBLE\\n\\nvia GIPHY\\n\\xa0\\nMyth #4: Data Science curricula are well-defined and consistent.\\nWe recommend checking this one out for yourself! A quick google search for bootcamps, master’s degree programs, and online courses will reveal that different organizations teach different things. There is no commonly accepted framework for teaching data science! Some focus more on the engineering, others focus more on machine learning, some think deep learning is foundational, and some prefer to use R. \\nOur curriculum was built through employer interviews, practitioner interviews, market research, and company partnerships. But we’re based in San Antonio! A bootcamp in New York might follow the same process and end up with a different syllabus. Keep in mind, whatever your learning path, that there will be gaps in your learning. The most important thing is to recognize those gaps.\\nBUSTED\\n\\nvia GIPHY\\n\\xa0\\nMyth #5: If I want to be a data scientist, I just need to learn Python or R.\\nThis one is common and dangerous! Just like statistics, programming languages like Python and R are tools. They’re just pieces of a larger puzzle! Knowing Python without understanding the data science pipeline is like knowing how to build a floor without having a floor plan. Of course, these are valuable technical skills that give you a leg up, but they’re second in importance to asking the right questions, knowing what tools to use when, and communicating your findings.\\nBUSTED\\n\\nvia GIPHY\\nStill have questions? Reach out to us! We’re always here to help.\\n\\n'}"
      ]
     },
     "execution_count": 14,
     "metadata": {},
     "output_type": "execute_result"
    }
   ],
   "source": [
    "get_article(url)"
   ]
  },
  {
   "cell_type": "code",
   "execution_count": 15,
   "metadata": {},
   "outputs": [
    {
     "data": {
      "text/plain": [
       "{'title': 'Data Science VS Data Analytics: What’s The Difference?',\n",
       " 'article': 'By Dimitri Antoniou\\nA week ago, Codeup launched our immersive Data Science career accelerator! With our first-class kicking off in February and only 25 seats available, we’ve been answering a lot of questions from prospective students. One, in particular, has come up so many times we decided to dedicate a blog post to it. What is the difference between data science and data analytics?\\nFirst, let’s define some of our terms! Take a look at this blog to understand what Data Science is. In short, it is a method of turning raw data into action, leading to the desired outcome. Big Data refers to data sets that are large and complex, usually exceeding the capacity of computers and normal processing power to deal with. Machine Learning is the process of ‘learning’ underlying patterns of data in order to automate the extraction of intelligence from that data.\\n\\xa0\\n\\xa0\\nNow, let’s look at the data pipeline that data scientists work through to reach the actionable insights and outcomes we mentioned:\\n\\nWe start by collecting data, which may come from social media channels, network logs, financials, employee records, or more.\\nWe then process that data into usable information stored in databases or streamed.\\nNext, we look back on the history of that data to summarize, describe, and explain, turning the data into meaningful knowledge. Here we’re primarily using mathematics, statistics, and visualization methods.\\nNow we convert that knowledge into intelligence, seeking to predict future events so that we can make decisions in the present. This is where practitioners will introduce mathematical/statistical modeling through machine learning to their data.\\nFinally, we enable action by building automations, running tests, building visualizations, monitoring new data, etc.\\n\\nData professionals work at different stages of the spectrum to move data through the pipeline. On the left, Big Data Engineers specialize in collecting, storing, and processing data, getting it from Data to Information. In the middle, analysts work to understand and convert that information to knowledge. Lastly, a Machine Learning Engineer utilizes machine learning algorithms to turn intelligence into action by building automations, visualizations, recommendations, and predictions.\\nData Scientists span multiple stages of this pipeline, from information to action. They will spend about 70% of their time wrangling data in the information stage. They will conduct a statistical analysis to derive knowledge. Lastly, they predict future events and build automations using machine learning.\\nFor those technical folk out there, data science is to data engineering or machine learning engineering as full-stack development is to front-end or back-end development. For the non-technical folk, data science is the umbrella term that houses data analytics, machine learning, and other data professions.\\nSo what’s the biggest difference between a data analyst and a data scientist? Data scientists utilize computer programming and machine learning in addition to mathematics and statistics. \\nStill have questions? Reach out to us.\\xa0Wondering which of Codeup’s programs is right for you? We’ve got you covered. And of course, if data science gets you excited, get started with us today!\\n\\n'}"
      ]
     },
     "execution_count": 15,
     "metadata": {},
     "output_type": "execute_result"
    }
   ],
   "source": [
    "url = 'https://codeup.com/data-science-vs-data-analytics-whats-the-difference/'\n",
    "get_article(url)"
   ]
  },
  {
   "cell_type": "code",
   "execution_count": 16,
   "metadata": {},
   "outputs": [
    {
     "data": {
      "text/plain": [
       "{'title': '10 Tips to Crush It at the SA Tech Job Fair',\n",
       " 'article': 'SA Tech Job Fair\\nThe third bi-annual San Antonio Tech Job Fair is just around the corner. Over 25 companies will be at The Jack Guenther Pavilion\\xa0on April 10th, and they are hungry for new tech team members!\\nAt the job fair, companies want to quickly source a list of new talent leads. AKA they need to find qualified employees they can begin interviewing for jobs. Recruiters will represent their organization at tables with informational handouts and company swag. Your goal at a job fair is to set yourself apart from other candidates and ensure your name makes it to the top of those lead lists.\\nThink of your interaction with the company as a mini screening interview. The company rep will subtly evaluate basic qualities like your professionalism, communication and interpersonal skills, work experience, and interest level in the organization. Job fairs are also an opportunity for you to gain information about companies that may not be easily accessible online. \\xa0\\nAt Codeup, we’re passionate about bridging the gap between talent and demand, so we’ve outlined 10 tips to ensure you bring your A-game and leave a lasting impression!\\n10 Tips for Totally Crushing it at the SA Tech Job Fair\\n\\nUse keywords to describe your skills, but don’t go overboard. You’ll probably be talking to a recruiter or talent acquisition specialist. As a technical candidate, recognize these individuals usually aren’t developers or network administrators. They know terms like “JavaScript” and “Apache,” but haven’t written a line of code or spun up a server, so don’t get too caught up in industry jargon.\\nResearch the companies ahead of time. Review the list of attending companies and make sure you know what the company does and whether or not they hire people in your desired role. Look up recent news on the company and mention it during your conversation.\\nDefine your own goals for the job fair. Are you searching for a specific type of role or company culture? What matters most in your job search? Are there companies you want to prioritize? \\xa0Develop a game plan and be intentional with your time.\\nPrepare a stellar résumé. Bring about 20 copies of your résumé to the event, printed on nice paper. We won’t cover resume writing in this post, but there are a plethora of online resources you can consult. For job fairs, don’t worry about cover letters.\\nPolish your online profiles. If recruiters have a copy of your resume, you can be sure they will stalk you online soon. Make sure your online presence is professional and appropriate. A good place to start is by Googling yourself. Update your LinkedIn, and clean up any social media profiles.\\nCraft a 30-60 second elevator pitch. You may only have a few minutes with an employer. What will you say if they ask, “Tell me about yourself?” Consider structuring your pitch like this: Who you are + What you do + What your goals are + Why that matters to the company.\\nDon’t show up in a t-shirt, but trade in your suit for something more chill. Always keep it professional, but remember: tech is typically more casual than other industries. You’ll likely feel out of place if you look like you belong on Wall St., so refer to this guide on dressing for tech interviews.\\nDon’t forget the basics. Start and end each conversation with a firm handshake. Make eye contact while conversing. Smile! Thank the recruiter before you move on to the next table.\\nAsk educated questions. Don’t waste valuable face time with recruiters by asking questions like, “What does [Insert Company here] do?” They hate that question! Instead, try some of these:\\n\\nWhat are the top 3-5 examples of knowledge, skills, and abilities you look for in candidates?\\nWhat’s the best advice you have for someone who wants to work here?\\nWhat is your interview process like?\\nAre you hiring for any roles not currently listed on your websites?\\n\\n\\nFollow up. Collect business cards from each table. The next day, send a short note expressing your interest in the company’s opportunities and thanking the recruiter for his or her time.\\n\\nRSVP for the SA Tech Job Fair taking place at the Jack Guenther Pavilion – September 18th starting at 4 pm.\\xa0\\n\\n'}"
      ]
     },
     "execution_count": 16,
     "metadata": {},
     "output_type": "execute_result"
    }
   ],
   "source": [
    "url = 'https://codeup.com/10-tips-to-crush-it-at-the-sa-tech-job-fair/'\n",
    "get_article(url)"
   ]
  },
  {
   "cell_type": "code",
   "execution_count": 20,
   "metadata": {},
   "outputs": [
    {
     "data": {
      "text/plain": [
       "{'title': 'Competitor Bootcamps Are Closing. Is the Model in Danger?',\n",
       " 'article': 'Competitor Bootcamps Are Closing. Is the Model in Danger?\\n\\xa0\\n\\nIs the programming bootcamp model in danger?\\nIn recent news, DevBootcamp and The Iron Yard announced that they are closing their doors. This is big news. DevBootcamp was the first programming bootcamp model and The Iron Yard is a national player with 15 campuses across the U.S. In both cases, the companies cited an unsustainable business model. Does that mean the boot-camp model is dead?\\n\\ntl;dr “Nope!”\\nBootcamps exist because traditional education models have failed to provide students job-ready skills for the 21st century. Students demand better employment options from their education. Employers demand skilled and job ready candidates. Big Education’s failure to meet those needs through traditional methods created the fertile ground for the new business model of the programming bootcamp.\\nEducation giant Kaplan and Apollo Education Group (owner of University of Phoenix) bought their way into this new educational model when they purchased The Iron Yard and DevBootcamp. They purchased their competition with the intent to scale up the model. Unfortunately, Big Education is too habituated to coming up short for students. They bought the upstarts that challenged them, tried making changes to run those bootcamps in the “Big Education” way, and, sadly, they’ve closed the doors when they realized that scaling education is more challenging when student outcomes truly matter.\\nThe bootcamp model is still new and there will be plenty consolidation, competition, and changes in the future. This model is based on actually being adaptive, innovative, and sustainable. And there’s always room for innovation.\\n\\n\\nWhat we’ve learned at Codeup…\\n\\n\\nEducation is challenging to scale.\\nPrioritizing quality over growth pays off.\\n\\nWhat we’re doing at Codeup…\\n\\nHigher standards in our application process are leading to better student outcomes.\\nOur reputation and commitment to quality is opening new doors to previously uninterested/unreachable employers.\\nIn the beginning, the majority of Codeup graduates went to work with startups and small businesses. We’re now seeing a larger amount of our graduates place at medium to large sized businesses.\\nDemand is growing and employers are learning that the results are in the graduates.\\nCodeup’s model is sustainable, inclusive, and works.\\n\\nCall or contact us today to see how Codeup’s commitment to quality and approach to being a career accelerator can make a profound difference in your life.\\n\\n'}"
      ]
     },
     "execution_count": 20,
     "metadata": {},
     "output_type": "execute_result"
    }
   ],
   "source": [
    "url = 'https://codeup.com/competitor-bootcamps-are-closing-is-the-model-in-danger/'\n",
    "get_article(url)"
   ]
  },
  {
   "cell_type": "markdown",
   "metadata": {},
   "source": [
    "## Encapsulate your work in a function named get_blog_articles that will return a list of dictionaries, with each dictionary representing one article. The shape of each dictionary should look like this:"
   ]
  },
  {
   "cell_type": "code",
   "execution_count": 56,
   "metadata": {},
   "outputs": [],
   "source": [
    " # listing articles names\n",
    "articles = ['https://codeup.com/codeups-data-science-career-accelerator-is-here/',\n",
    "    'https://codeup.com/data-science-myths/',\n",
    "    'https://codeup.com/data-science-vs-data-analytics-whats-the-difference/',\n",
    "    'https://codeup.com/10-tips-to-crush-it-at-the-sa-tech-job-fair/',\n",
    "    'https://codeup.com/competitor-bootcamps-are-closing-is-the-model-in-danger/']\n",
    "    \n",
    "def get_blog_articles_(articles):\n",
    "    \n",
    "    # creating empty list l\n",
    "    article_list = []\n",
    "    \n",
    "    # using for loop to iterate through list of URLs\n",
    "    for url in articles:\n",
    "        # creating empty dictionary\n",
    "        dic = {}\n",
    "        # specifying headers\n",
    "        headers = {'User-Agent': 'Codeup Data Science'}\n",
    "        # saving response from page\n",
    "        response = get(url, headers=headers)\n",
    "        # using beautiful soup to parse response\n",
    "        soup = BeautifulSoup(response.text)\n",
    "        # saving article body text\n",
    "        article = soup.find('div', class_='jupiterx-post-content')\n",
    "        # saving article title text\n",
    "        title = soup.find('h1').text\n",
    "        # storing article body and title in dictionary\n",
    "        dic['title'] = title\n",
    "        dic['article'] = article.text\n",
    "        # appending dictionary to list\n",
    "        article_list.append(dic)\n",
    "        \n",
    "    # returning list when all article text added\n",
    "    return article_list"
   ]
  },
  {
   "cell_type": "code",
   "execution_count": 57,
   "metadata": {},
   "outputs": [
    {
     "data": {
      "text/plain": [
       "{'title': 'Codeup’s Data Science Career Accelerator is Here!',\n",
       " 'article': 'The rumors are true! The time has arrived. Codeup has officially opened applications to our new Data Science career accelerator, with only 25 seats available! This immersive program is one of a kind in San Antonio, and will help you land a job in\\xa0Glassdoor’s #1 Best Job in America.\\nData Science is a method of providing actionable intelligence from data.\\xa0The data revolution has hit San Antonio,\\xa0resulting in an explosion in Data Scientist positions\\xa0across companies like USAA, Accenture, Booz Allen Hamilton, and HEB. We’ve even seen\\xa0UTSA invest $70 M for a Cybersecurity Center and School of Data Science.\\xa0We built a program to specifically meet the growing demands of this industry.\\nOur program will be 18 weeks long, full-time, hands-on, and project-based. Our curriculum development and instruction is led by Senior Data Scientist, Maggie Giust, who has worked at HEB, Capital Group, and Rackspace, along with input from dozens of practitioners and hiring partners. Students will work with real data sets, realistic problems, and the entire data science pipeline from collection to deployment. They will receive professional development training in resume writing, interviewing, and continuing education to prepare for a smooth transition to the workforce.\\nWe focus on applied data science for immediate impact and ROI in a business, which is how we can back it all up with a 6 month tuition refund guarantee – just like our existing Web Dev program. We’re focusing on Data Science with Python, SQL, and ML, covered in\\xa014 modules: 1) Fundamentals; 2) Applied statistics; 3) SQL; 4) Python; 5) Supervised machine learning – regression; 6) Supervised machine learning – classification; 7) Unsupervised machine learning – clustering; 8) Time series analysis; 9) Anomaly detection; 10) Natural language processing; 11) Distributed machine learning; 12) Advanced topics (deep learning, NoSQL, cloud deployment, etc.); 13) Storytelling with data; and 14) Domain expertise development.\\nApplications are now open\\xa0for Codeup’s first Data Science cohort, which will start class on February 4, 2019. Hurry – there are only 25 seats available! To further our mission of cultivating inclusive growth, scholarships will be available to women, minorities, LGBTQIA+ individuals, veterans, first responders, and people relocating to San Antonio.\\nIf you want to learn about joining our program or hiring our graduates, email datascience@codeup.com!\\n\\n'}"
      ]
     },
     "execution_count": 57,
     "metadata": {},
     "output_type": "execute_result"
    }
   ],
   "source": [
    "get_blog_articles_(articles)[0]"
   ]
  },
  {
   "cell_type": "code",
   "execution_count": 58,
   "metadata": {},
   "outputs": [
    {
     "data": {
      "text/plain": [
       "{'title': 'Data Science Myths',\n",
       " 'article': 'By Dimitri Antoniou and Maggie Giust\\nData Science, Big Data, Machine Learning, NLP, Neural Networks…these buzzwords have rapidly spread into mainstream use over the last few years. Unfortunately, definitions are varied and sources of truth are limited. Data Scientists are in fact not magical unicorn wizards who can snap their fingers and turn a business around! Today, we’ll take a cue from our favorite Mythbusters to tackle some common myths and misconceptions in the field of Data Science.\\n\\nvia GIPHY\\nMyth #1: Data Science = Statistics\\nAt first glance, this one doesn’t sound unreasonable. Statistics is defined as, “A branch of mathematics dealing with the collection, analysis, interpretation, and presentation of masses of numerical data.” That sounds a lot like our definition of Data Science: a method of drawing actionable intelligence from data. \\nIn truth, statistics is actually one small piece of Data Science. As our Senior Data Scientist puts it, “Statistics forces us to make assumptions about the nature of the relationship between variables, the distribution of the data, etc.” In the traditional Data Science venn diagram, you’ll see that math/stats make up ⅓ of a working professional. These are tools and skills to leverage, but data science itself is about drawing intelligence from data.\\nBUSTED\\n\\nvia GIPHY\\n\\xa0\\nMyth #2: Data Scientist = Business/Data Analyst\\nThis one is so common that we wrote a whole post about it! These are separate and different roles within the data field. While a data scientist will often do analytics, their spectrum of work is wider. A data analyst will use structured data to create dashboards and KPIs, while a Data Scientist deals with unstructured and messy data for a range of outputs. If they’re interested, business analysts will often progress to data scientists.\\nBUSTED\\n\\nvia GIPHY\\n\\xa0\\nMyth #3: Data Science = Data Science\\nThis one’s tricky, because it’s impossible to either confirm or bust! The ‘myth’ is that one person or company using the term Data Science is not necessarily the same as another person or company using the same term. Depending on organizational capacity, individual experience, educational background, and many other variables, we might be using the same name for different animals.\\nTl;dr: don’t assume a common understanding across hiring managers, recruiters, and practitioners. Look instead for specifics of tools, techniques, methodologies, and outputs. That being said, this one falls in the “plausible” category, because it may actually be true in some circumstances, while false in others.\\nPLAUSIBLE\\n\\nvia GIPHY\\n\\xa0\\nMyth #4: Data Science curricula are well-defined and consistent.\\nWe recommend checking this one out for yourself! A quick google search for bootcamps, master’s degree programs, and online courses will reveal that different organizations teach different things. There is no commonly accepted framework for teaching data science! Some focus more on the engineering, others focus more on machine learning, some think deep learning is foundational, and some prefer to use R. \\nOur curriculum was built through employer interviews, practitioner interviews, market research, and company partnerships. But we’re based in San Antonio! A bootcamp in New York might follow the same process and end up with a different syllabus. Keep in mind, whatever your learning path, that there will be gaps in your learning. The most important thing is to recognize those gaps.\\nBUSTED\\n\\nvia GIPHY\\n\\xa0\\nMyth #5: If I want to be a data scientist, I just need to learn Python or R.\\nThis one is common and dangerous! Just like statistics, programming languages like Python and R are tools. They’re just pieces of a larger puzzle! Knowing Python without understanding the data science pipeline is like knowing how to build a floor without having a floor plan. Of course, these are valuable technical skills that give you a leg up, but they’re second in importance to asking the right questions, knowing what tools to use when, and communicating your findings.\\nBUSTED\\n\\nvia GIPHY\\nStill have questions? Reach out to us! We’re always here to help.\\n\\n'}"
      ]
     },
     "execution_count": 58,
     "metadata": {},
     "output_type": "execute_result"
    }
   ],
   "source": [
    "get_blog_articles_(articles)[1]"
   ]
  },
  {
   "cell_type": "code",
   "execution_count": 59,
   "metadata": {
    "scrolled": true
   },
   "outputs": [
    {
     "data": {
      "text/plain": [
       "{'title': 'Data Science VS Data Analytics: What’s The Difference?',\n",
       " 'article': 'By Dimitri Antoniou\\nA week ago, Codeup launched our immersive Data Science career accelerator! With our first-class kicking off in February and only 25 seats available, we’ve been answering a lot of questions from prospective students. One, in particular, has come up so many times we decided to dedicate a blog post to it. What is the difference between data science and data analytics?\\nFirst, let’s define some of our terms! Take a look at this blog to understand what Data Science is. In short, it is a method of turning raw data into action, leading to the desired outcome. Big Data refers to data sets that are large and complex, usually exceeding the capacity of computers and normal processing power to deal with. Machine Learning is the process of ‘learning’ underlying patterns of data in order to automate the extraction of intelligence from that data.\\n\\xa0\\n\\xa0\\nNow, let’s look at the data pipeline that data scientists work through to reach the actionable insights and outcomes we mentioned:\\n\\nWe start by collecting data, which may come from social media channels, network logs, financials, employee records, or more.\\nWe then process that data into usable information stored in databases or streamed.\\nNext, we look back on the history of that data to summarize, describe, and explain, turning the data into meaningful knowledge. Here we’re primarily using mathematics, statistics, and visualization methods.\\nNow we convert that knowledge into intelligence, seeking to predict future events so that we can make decisions in the present. This is where practitioners will introduce mathematical/statistical modeling through machine learning to their data.\\nFinally, we enable action by building automations, running tests, building visualizations, monitoring new data, etc.\\n\\nData professionals work at different stages of the spectrum to move data through the pipeline. On the left, Big Data Engineers specialize in collecting, storing, and processing data, getting it from Data to Information. In the middle, analysts work to understand and convert that information to knowledge. Lastly, a Machine Learning Engineer utilizes machine learning algorithms to turn intelligence into action by building automations, visualizations, recommendations, and predictions.\\nData Scientists span multiple stages of this pipeline, from information to action. They will spend about 70% of their time wrangling data in the information stage. They will conduct a statistical analysis to derive knowledge. Lastly, they predict future events and build automations using machine learning.\\nFor those technical folk out there, data science is to data engineering or machine learning engineering as full-stack development is to front-end or back-end development. For the non-technical folk, data science is the umbrella term that houses data analytics, machine learning, and other data professions.\\nSo what’s the biggest difference between a data analyst and a data scientist? Data scientists utilize computer programming and machine learning in addition to mathematics and statistics. \\nStill have questions? Reach out to us.\\xa0Wondering which of Codeup’s programs is right for you? We’ve got you covered. And of course, if data science gets you excited, get started with us today!\\n\\n'}"
      ]
     },
     "execution_count": 59,
     "metadata": {},
     "output_type": "execute_result"
    }
   ],
   "source": [
    "get_blog_articles_(articles)[2]"
   ]
  },
  {
   "cell_type": "code",
   "execution_count": 27,
   "metadata": {},
   "outputs": [
    {
     "data": {
      "text/plain": [
       "{'title': '10 Tips to Crush It at the SA Tech Job Fair',\n",
       " 'article': 'SA Tech Job Fair\\nThe third bi-annual San Antonio Tech Job Fair is just around the corner. Over 25 companies will be at The Jack Guenther Pavilion\\xa0on April 10th, and they are hungry for new tech team members!\\nAt the job fair, companies want to quickly source a list of new talent leads. AKA they need to find qualified employees they can begin interviewing for jobs. Recruiters will represent their organization at tables with informational handouts and company swag. Your goal at a job fair is to set yourself apart from other candidates and ensure your name makes it to the top of those lead lists.\\nThink of your interaction with the company as a mini screening interview. The company rep will subtly evaluate basic qualities like your professionalism, communication and interpersonal skills, work experience, and interest level in the organization. Job fairs are also an opportunity for you to gain information about companies that may not be easily accessible online. \\xa0\\nAt Codeup, we’re passionate about bridging the gap between talent and demand, so we’ve outlined 10 tips to ensure you bring your A-game and leave a lasting impression!\\n10 Tips for Totally Crushing it at the SA Tech Job Fair\\n\\nUse keywords to describe your skills, but don’t go overboard. You’ll probably be talking to a recruiter or talent acquisition specialist. As a technical candidate, recognize these individuals usually aren’t developers or network administrators. They know terms like “JavaScript” and “Apache,” but haven’t written a line of code or spun up a server, so don’t get too caught up in industry jargon.\\nResearch the companies ahead of time. Review the list of attending companies and make sure you know what the company does and whether or not they hire people in your desired role. Look up recent news on the company and mention it during your conversation.\\nDefine your own goals for the job fair. Are you searching for a specific type of role or company culture? What matters most in your job search? Are there companies you want to prioritize? \\xa0Develop a game plan and be intentional with your time.\\nPrepare a stellar résumé. Bring about 20 copies of your résumé to the event, printed on nice paper. We won’t cover resume writing in this post, but there are a plethora of online resources you can consult. For job fairs, don’t worry about cover letters.\\nPolish your online profiles. If recruiters have a copy of your resume, you can be sure they will stalk you online soon. Make sure your online presence is professional and appropriate. A good place to start is by Googling yourself. Update your LinkedIn, and clean up any social media profiles.\\nCraft a 30-60 second elevator pitch. You may only have a few minutes with an employer. What will you say if they ask, “Tell me about yourself?” Consider structuring your pitch like this: Who you are + What you do + What your goals are + Why that matters to the company.\\nDon’t show up in a t-shirt, but trade in your suit for something more chill. Always keep it professional, but remember: tech is typically more casual than other industries. You’ll likely feel out of place if you look like you belong on Wall St., so refer to this guide on dressing for tech interviews.\\nDon’t forget the basics. Start and end each conversation with a firm handshake. Make eye contact while conversing. Smile! Thank the recruiter before you move on to the next table.\\nAsk educated questions. Don’t waste valuable face time with recruiters by asking questions like, “What does [Insert Company here] do?” They hate that question! Instead, try some of these:\\n\\nWhat are the top 3-5 examples of knowledge, skills, and abilities you look for in candidates?\\nWhat’s the best advice you have for someone who wants to work here?\\nWhat is your interview process like?\\nAre you hiring for any roles not currently listed on your websites?\\n\\n\\nFollow up. Collect business cards from each table. The next day, send a short note expressing your interest in the company’s opportunities and thanking the recruiter for his or her time.\\n\\nRSVP for the SA Tech Job Fair taking place at the Jack Guenther Pavilion – September 18th starting at 4 pm.\\xa0\\n\\n'}"
      ]
     },
     "execution_count": 27,
     "metadata": {},
     "output_type": "execute_result"
    }
   ],
   "source": [
    "get_blog_articles(articles)[3]"
   ]
  },
  {
   "cell_type": "code",
   "execution_count": 60,
   "metadata": {},
   "outputs": [
    {
     "data": {
      "text/plain": [
       "{'title': 'Competitor Bootcamps Are Closing. Is the Model in Danger?',\n",
       " 'article': 'Competitor Bootcamps Are Closing. Is the Model in Danger?\\n\\xa0\\n\\nIs the programming bootcamp model in danger?\\nIn recent news, DevBootcamp and The Iron Yard announced that they are closing their doors. This is big news. DevBootcamp was the first programming bootcamp model and The Iron Yard is a national player with 15 campuses across the U.S. In both cases, the companies cited an unsustainable business model. Does that mean the boot-camp model is dead?\\n\\ntl;dr “Nope!”\\nBootcamps exist because traditional education models have failed to provide students job-ready skills for the 21st century. Students demand better employment options from their education. Employers demand skilled and job ready candidates. Big Education’s failure to meet those needs through traditional methods created the fertile ground for the new business model of the programming bootcamp.\\nEducation giant Kaplan and Apollo Education Group (owner of University of Phoenix) bought their way into this new educational model when they purchased The Iron Yard and DevBootcamp. They purchased their competition with the intent to scale up the model. Unfortunately, Big Education is too habituated to coming up short for students. They bought the upstarts that challenged them, tried making changes to run those bootcamps in the “Big Education” way, and, sadly, they’ve closed the doors when they realized that scaling education is more challenging when student outcomes truly matter.\\nThe bootcamp model is still new and there will be plenty consolidation, competition, and changes in the future. This model is based on actually being adaptive, innovative, and sustainable. And there’s always room for innovation.\\n\\n\\nWhat we’ve learned at Codeup…\\n\\n\\nEducation is challenging to scale.\\nPrioritizing quality over growth pays off.\\n\\nWhat we’re doing at Codeup…\\n\\nHigher standards in our application process are leading to better student outcomes.\\nOur reputation and commitment to quality is opening new doors to previously uninterested/unreachable employers.\\nIn the beginning, the majority of Codeup graduates went to work with startups and small businesses. We’re now seeing a larger amount of our graduates place at medium to large sized businesses.\\nDemand is growing and employers are learning that the results are in the graduates.\\nCodeup’s model is sustainable, inclusive, and works.\\n\\nCall or contact us today to see how Codeup’s commitment to quality and approach to being a career accelerator can make a profound difference in your life.\\n\\n'}"
      ]
     },
     "execution_count": 60,
     "metadata": {},
     "output_type": "execute_result"
    }
   ],
   "source": [
    "get_blog_articles_(articles)[4]"
   ]
  },
  {
   "cell_type": "code",
   "execution_count": 62,
   "metadata": {},
   "outputs": [],
   "source": [
    "urls = ['https://codeup.com/codeups-data-science-career-accelerator-is-here/',\n",
    "    'https://codeup.com/data-science-myths/',\n",
    "    'https://codeup.com/data-science-vs-data-analytics-whats-the-difference/',\n",
    "    'https://codeup.com/10-tips-to-crush-it-at-the-sa-tech-job-fair/',\n",
    "    'https://codeup.com/competitor-bootcamps-are-closing-is-the-model-in-danger/']\n",
    "\n",
    "def get_blog_articles(urls, cached=False):\n",
    "    '''\n",
    "    This function takes in a list of Codeup Blog urls and a parameter\n",
    "    with default cached == False which scrapes the title and text for each url, \n",
    "    creates a list of dictionaries with the title and text for each blog, \n",
    "    converts list to df, and returns df.\n",
    "    If cached == True, the function returns a df from a json file.\n",
    "    '''\n",
    "    if cached == True:\n",
    "        df = pd.read_json('big_blogs.json')\n",
    "        \n",
    "    # cached == False completes a fresh scrape for df     \n",
    "    else:\n",
    "\n",
    "        # Create an empty list to hold dictionaries\n",
    "        articles = []\n",
    "\n",
    "        # Loop through each url in our list of urls\n",
    "        for url in urls:\n",
    "\n",
    "            # Make request and soup object using helper\n",
    "            soup = make_soup(url)\n",
    "\n",
    "            # Save the title of each blog in variable title\n",
    "            title = soup.find('h1').text\n",
    "\n",
    "            # Save the text in each blog to variable text\n",
    "            content = soup.find('div', class_=\"jupiterx-post-content\").text\n",
    "\n",
    "            # Create a dictionary holding the title and content for each blog\n",
    "            article = {'title': title, 'content': content}\n",
    "\n",
    "            # Add each dictionary to the articles list of dictionaries\n",
    "            articles.append(article)\n",
    "            \n",
    "        # convert our list of dictionaries to a df\n",
    "        df = pd.DataFrame(articles)\n",
    "\n",
    "        # Write df to a json file for faster access\n",
    "        df.to_json('big_blogs.json')\n",
    "    \n",
    "    return df"
   ]
  },
  {
   "cell_type": "code",
   "execution_count": 63,
   "metadata": {},
   "outputs": [],
   "source": [
    "blog_df = get_blog_articles(urls, cached=False)"
   ]
  },
  {
   "cell_type": "code",
   "execution_count": 64,
   "metadata": {},
   "outputs": [
    {
     "data": {
      "text/html": [
       "<div>\n",
       "<style scoped>\n",
       "    .dataframe tbody tr th:only-of-type {\n",
       "        vertical-align: middle;\n",
       "    }\n",
       "\n",
       "    .dataframe tbody tr th {\n",
       "        vertical-align: top;\n",
       "    }\n",
       "\n",
       "    .dataframe thead th {\n",
       "        text-align: right;\n",
       "    }\n",
       "</style>\n",
       "<table border=\"1\" class=\"dataframe\">\n",
       "  <thead>\n",
       "    <tr style=\"text-align: right;\">\n",
       "      <th></th>\n",
       "      <th>title</th>\n",
       "      <th>content</th>\n",
       "    </tr>\n",
       "  </thead>\n",
       "  <tbody>\n",
       "    <tr>\n",
       "      <th>0</th>\n",
       "      <td>Codeup’s Data Science Career Accelerator is Here!</td>\n",
       "      <td>The rumors are true! The time has arrived. Cod...</td>\n",
       "    </tr>\n",
       "    <tr>\n",
       "      <th>1</th>\n",
       "      <td>Data Science Myths</td>\n",
       "      <td>By Dimitri Antoniou and Maggie Giust\\nData Sci...</td>\n",
       "    </tr>\n",
       "    <tr>\n",
       "      <th>2</th>\n",
       "      <td>Data Science VS Data Analytics: What’s The Dif...</td>\n",
       "      <td>By Dimitri Antoniou\\nA week ago, Codeup launch...</td>\n",
       "    </tr>\n",
       "    <tr>\n",
       "      <th>3</th>\n",
       "      <td>10 Tips to Crush It at the SA Tech Job Fair</td>\n",
       "      <td>SA Tech Job Fair\\nThe third bi-annual San Anto...</td>\n",
       "    </tr>\n",
       "    <tr>\n",
       "      <th>4</th>\n",
       "      <td>Competitor Bootcamps Are Closing. Is the Model...</td>\n",
       "      <td>Competitor Bootcamps Are Closing. Is the Model...</td>\n",
       "    </tr>\n",
       "  </tbody>\n",
       "</table>\n",
       "</div>"
      ],
      "text/plain": [
       "                                               title  \\\n",
       "0  Codeup’s Data Science Career Accelerator is Here!   \n",
       "1                                 Data Science Myths   \n",
       "2  Data Science VS Data Analytics: What’s The Dif...   \n",
       "3        10 Tips to Crush It at the SA Tech Job Fair   \n",
       "4  Competitor Bootcamps Are Closing. Is the Model...   \n",
       "\n",
       "                                             content  \n",
       "0  The rumors are true! The time has arrived. Cod...  \n",
       "1  By Dimitri Antoniou and Maggie Giust\\nData Sci...  \n",
       "2  By Dimitri Antoniou\\nA week ago, Codeup launch...  \n",
       "3  SA Tech Job Fair\\nThe third bi-annual San Anto...  \n",
       "4  Competitor Bootcamps Are Closing. Is the Model...  "
      ]
     },
     "execution_count": 64,
     "metadata": {},
     "output_type": "execute_result"
    }
   ],
   "source": [
    "blog_df"
   ]
  },
  {
   "cell_type": "markdown",
   "metadata": {},
   "source": [
    "## News Articles\n",
    "\n",
    "### We will now be scraping text data from inshorts, a website that provides a brief overview of many different topics.\n",
    "\n",
    "### Write a function that scrapes the news articles for the following topics:\n",
    "\n",
    "- Business\n",
    "- Sports\n",
    "- Technology\n",
    "- Entertainment\n",
    "- The end product of this should be a function named get_news_articles that returns a list of dictionaries, where each dictionary has this shape:\n",
    "\n",
    "{\n",
    "    'title': 'The article title',\n",
    "    'content': 'The article content',\n",
    "    'category': 'business' # for example\n",
    "}\n"
   ]
  },
  {
   "cell_type": "markdown",
   "metadata": {},
   "source": [
    "## Hints:\n",
    "\n",
    "- Start by inspecting the website in your browser. Figure out which elements will be useful. \n",
    "    - command + option + u will let you view the source of a page in chrome.\n",
    "    - command + option + i will open up the chrome dev tools page inspector.\n",
    "    \n",
    "- Start by creating a function that handles a single article and produces a dictionary like the one above.\n",
    "- Next create a function that will find all the articles on a single page and call the function you created in the last step for every article on the page.\n",
    "- Now create a function that will use the previous two functions to scrape the articles from all the pages that you need, and do any additional processing that needs to be done.\n"
   ]
  },
  {
   "cell_type": "code",
   "execution_count": 30,
   "metadata": {},
   "outputs": [],
   "source": [
    "# setting url to retrieve text from\n",
    "url = 'https://inshorts.com/en/read/business'\n",
    "\n",
    "# saving response from page\n",
    "response = get(url)\n",
    "\n",
    "# parsing response\n",
    "soup = BeautifulSoup(response.text)\n",
    "\n",
    "# retrieving news cards. Question on how to use class_ = 'news-card'\n",
    "cards = soup.find_all('div', class_='news-card')"
   ]
  },
  {
   "cell_type": "code",
   "execution_count": 31,
   "metadata": {},
   "outputs": [],
   "source": [
    "# creating empty list\n",
    "article_titles = []\n",
    "\n",
    "# iterating through cards and saving title of each to list. How did we know to look for 'span'\n",
    "for card in cards:\n",
    "    title = (card.find('span', itemprop='headline').text)\n",
    "    article_titles.append(title)"
   ]
  },
  {
   "cell_type": "code",
   "execution_count": 32,
   "metadata": {},
   "outputs": [
    {
     "data": {
      "text/plain": [
       "[\"15 countries sign world's biggest free-trade pact which India left last year\",\n",
       " \"Scientist behind '90% effective' COVID-19 vaccine says it can end the pandemic\",\n",
       " 'Russian vaccine arrives in India, video of it being unloaded from truck surfaces',\n",
       " 'China suspends fish imports from Indian firm after coronavirus detected',\n",
       " 'Reliance Retail buys 96% stake in Urban Ladder for ₹182 crore',\n",
       " \"India's longest gas blaze burning in Assam oil well doused after 5 months\",\n",
       " 'Traders record ₹72,000 cr Diwali sales, hand China loss of ₹40,000 cr: CAIT',\n",
       " 'Mahindra says he still wears a 1975 Kada blessed in Golden Temple; shares pic',\n",
       " 'Goldman Sachs upgrades Indian stocks, raises Nifty target',\n",
       " \"India's October fuel demand marks first yearly gain in 8 months\",\n",
       " \"Telcos, IT firms object to TRAI's proposed cloud services regulation body\",\n",
       " 'GM recalls over 68,000 Chevy Bolt EVs over battery fire concerns',\n",
       " 'UK to ban sale of new diesel, petrol cars from 2030: Report',\n",
       " \"Nissan's $95 mn lawsuit against ex-chief Ghosn begins in Japan\",\n",
       " 'Finance Ministry seeks suggestions for Budget 2021-22 via email',\n",
       " \"Patanjali's net profit jumps 21.56% to ₹424.7 crore in 2019-20\",\n",
       " 'Amazon not shareholder, no say in our affairs: Future Retail to Delhi HC',\n",
       " 'Sensex, Nifty soar to record highs in Muhurat trading session',\n",
       " 'BSE, NSE to hold Muhurat Trading from 6:15 pm to 7:15 pm today',\n",
       " 'Vodafone considering raising $4.7bn from Vantage Towers IPO: Report',\n",
       " 'Tata Steel Q2 profit drops 63% due to overseas losses',\n",
       " \"PMLA adjudicating body doesn't confirm ED's attachment of Kochhars' assets\",\n",
       " \"Rana Kapoor's daughter granted bail in Yes Bank fraud case\",\n",
       " 'Indian economy may be recovering faster than expected: Oxford Economics',\n",
       " 'Infosys Co-founder Shibulal receives 4 lakh company shares as gift']"
      ]
     },
     "execution_count": 32,
     "metadata": {},
     "output_type": "execute_result"
    }
   ],
   "source": [
    "article_titles"
   ]
  },
  {
   "cell_type": "code",
   "execution_count": 33,
   "metadata": {},
   "outputs": [],
   "source": [
    "# creating empty list\n",
    "body_texts = []\n",
    "\n",
    "# iterating through cards and saving body text to list\n",
    "for card in cards:\n",
    "    body = (card.find('div', itemprop='articleBody').text)\n",
    "    body_texts.append(body)"
   ]
  },
  {
   "cell_type": "code",
   "execution_count": 34,
   "metadata": {},
   "outputs": [
    {
     "data": {
      "text/plain": [
       "[\"Fifteen Asia-Pacific countries signed the Regional Comprehensive Economic Partnership (RCEP), considered the world's biggest free-trade deal. In addition to 10 ASEAN nations, it includes China, Japan, South Korea, Australia and New Zealand. India last year refused to join RCEP over concerns that cheap Chinese goods can enter India, however, India can join at a later date if it chooses.\",\n",
       " 'German scientist Uğur Şahin, the CEO of BioNTech which co-developed a coronavirus vaccine with Pfizer, said he\\'s confident his product can end the pandemic and \"bash the virus over the head.\" The vaccine is 90% effective based on initial data from a late-stage trial. \"I believe that even protection only from symptomatic infections will have a dramatic effect,\" Şahin said.',\n",
       " \"Russia's coronavirus vaccine, Sputnik V, has arrived in India after Dr Reddy's Laboratories got approval to conduct late-stage trials of the vaccine in the country. A video has surfaced on social media, which shows containers with logos of Dr Reddy's and Sputnik V being unloaded from a small truck. Based on interim results, Russia claimed the vaccine is 92% effective.\",\n",
       " \"China has suspended imports from India's Basu International for one week after detecting the novel coronavirus on three samples taken from the outer packaging of frozen cuttlefish. Imports will resume automatically after one week, Chinese customs said. Companies from Brazil, Russia, Ecuador and Indonesia have also faced similar one-week suspensions during the last month.\",\n",
       " 'Reliance Industries\\' retail arm Reliance Retail Ventures has acquired a 96% stake in online furniture store Urban Ladder for ₹182.12 crore. Mukesh Ambani-led Reliance Retail also has the option of acquiring the remaining stake and it has proposed a further investment of ₹75 crore by 2023-end. \"The...investment will further enable the group\\'s digital and new commerce initiatives,\" said Reliance.',\n",
       " \"Oil India Limited on Sunday said that the fire at its Baghjan oil well in Assam has been doused completely. The Baghjan oil well No 5 of Oil India Limited initially blew out on May 27, followed by a massive fire on June 9. The fire, doused more than five months after its emergence, was India's longest burning gas blaze.\",\n",
       " 'The Confederation of All India Traders (CAIT) said traders recorded sales of ₹72,000 crore this Diwali across major markets amid a call for a boycott of Chinese products. \"Diwali sales generated a turnover of about ₹72,000 crore and gave China the expected loss of ₹40,000 crore,\" CAIT said. The figures were compiled based on data gathered from 20 Indian cities.',\n",
       " 'Businessman Anand Mahindra took to Twitter to reveal that he still wears a Kada he bought in 1975 from Amritsar. Mahindra tweeted, \"In 1975 I took a semester off from college in the US & hitchhiked/took ST buses around India.\" He added, \"On Diwali, I arrived in Amritsar. I bought a Kada & had it blessed in the Golden Temple.\"',\n",
       " \"Goldman Sachs has upgraded Indian equities to 'overweight' on hopes of a rebound in corporate earnings. The American investment bank has raised its Nifty target to 14,100 by end-2021, implying an 11% upside from the current levels. Notably, Goldman had downgraded India to 'marketweight' in April expecting a significant contraction in economic activity and a delayed recovery.\",\n",
       " \"India's fuel demand in October marked its first year-on-year increase since February as diesel consumption rose to pre-COVID-19 levels ahead of the festive season. Demand for refined fuels rose 2.5% year-on-year in October to 17.77 million tonnes, government data showed. While the demand for diesel rose 7.4% year-on-year to 6.5 million tonnes, petrol sales rose 4.5% to 2.54 million tonnes.\",\n",
       " 'Several industry bodies including NASSCOM and COAI have written to the Department of Telecommunications saying that Telecom Regulatory Authority of India\\'s (TRAI) proposal to regulate cloud service providers (CSPs) might be detrimental to investment in the sector. The bodies said the framework is not \"light-touch regulation\". Major CSPs in India include Zoho and Amazon Web Services among others.',\n",
       " 'US\\' General Motors has issued a recall for 68,667 Chevy Bolt electric vehicles (EVs) after at least five battery fires were reported. The automaker has found common elements behind the fires, including their origins at an LG Chem plant and charge levels. GM added that it doesn\\'t believe all recalled vehicles are affected, but that it\\'s \"prudent\" to take action.',\n",
       " 'UK PM Boris Johnson is set to ban the sale of new petrol and diesel cars from 2030, reported Financial Times. The ban was first scheduled for 2040, which Johnson moved to 2035 in February and is now set to move the date five years ahead again. Petrol and diesel cars accounted for 73.6% of UK sales in 2020.',\n",
       " \"A civil court trial began in Japan's Yokohama on Friday against former Nissan Chairman Carlos Ghosn, where Nissan is seeking $95 million in damages. The automaker has sued Ghosn for the harm and financial losses incurred by the company due to his misconduct. Ghosn, who was arrested in 2018 in Japan, fled to Lebanon while he was awaiting trial.\",\n",
       " 'The Finance Ministry has said it will be creating a dedicated email ID to receive suggestions from institutions and experts on the Union Budget 2021-22, instead of physical consultations, in view of COVID-19. The MyGov portal will provide a platform to receive ideas from public from November 15-30, it added. The suggestions will be examined by the concerned ministries. ',\n",
       " 'Baba Ramdev-led Patanjali Ayurved reported a 21.56% increase in net profit at ₹424.72 crore for 2019-20, according to data provided by Tofler. The company had posted a net profit of ₹349.37 crore for 2018-19. Its revenue from operations rose 5.86% to ₹9,022.71 crore as against ₹8,522.68 crore in the year-ago period while its expenses jumped 5.34% to ₹8,521 crore.',\n",
       " 'Future Retail on Thursday told the Delhi High Court that Amazon \"isn\\'t even a minority shareholder\" and has no say in its affairs. The Singapore International Arbitration Centre\\'s (SIAC) order barring Future Retail from selling its assets to Reliance Industries is of no value, it added. The deal is needed to \"rescue Future Retail from bankruptcy\", the company\\'s counsel said.',\n",
       " 'BSE Sensex and NSE Nifty soared to lifetime highs in a special Muhurat trading session held on Diwali to celebrate the beginning of the Hindu new year. Sensex jumped 387.93 points to touch an all-time high of 43,830.93, while Nifty touched a record of 12,828.70 during the session. Bharti Airtel, Tata Steel and Sun Pharma were the top gainers.',\n",
       " 'Stock exchanges BSE and NSE will conduct the special Muhurat Trading session today between 6:15 pm and 7:15 pm on the occasion of Diwali. The one-hour session marks the beginning of a new Hindu calendar year, Samvat 2077. The Sensex ended Samvat 2076 with a gain of 11.22% or 4,384.94 points, while Nifty gained 9.80% or 1,136.05 points.',\n",
       " \"Vodafone is considering raising $4.7 billion from its European towers unit's initial public offering (IPO) in 2021, a report said. It is planning to list Vantage Towers in the first quarter of 2021 in a deal that could value the unit at $23.6 billion, the report added. This may be the largest IPO on European exchange in over three years.\",\n",
       " 'Tata Steel reported a 62.7% year-on-year drop in consolidated net profit to ₹1,546.3 crore in the July-September quarter (Q2). The fall in profit came due to losses at overseas subsidiaries, even as the India business improved significantly and revenue rose 7.4% year-on-year to ₹37,153.9 crore. The steelmaker is also in talks with SSAB Sweden to sell off its Netherlands business.',\n",
       " \"Prevention of Money Laundering Act (PMLA) adjudicating authority has said the assets of former ICICI Bank CEO Chanda Kochhar and her husband Deepak Kochhar attached by the ED don't qualify as proceeds of crime. The authority didn't confirm the attachment of assets worth ₹78.15 crore. The ED had sought to attach the assets in connection with the ICICI Bank-Videocon case.\",\n",
       " \"A magistrate court has granted bail to Yes Bank Founder Rana Kapoor's daughter Roshni Kapoor, an accused in the fraud case linked to Dewan Housing Finance (DHFL). Roshni, who is one of the eight accused, was summoned by the court last month in the case. The CBI had alleged that Yes Bank invested ₹3,700 crore in short-term debentures in DHFL.\",\n",
       " 'The Indian economy is seen recovering faster than expected and the Reserve Bank of India is likely to have come to an end of the rate easing cycle, according to global forecasting firm Oxford Economics. It said the country\\'s \"robust bottom-up activity data\" suggested the quicker-than-anticipated recovery. Earlier, Moody\\'s also improved India\\'s 2020 GDP forecast from -9.6% to -8.9%.',\n",
       " \"Infosys Co-founder SD Shibulal has received over four lakh shares, representing 0.01%, of the company as a gift as off-market transaction, Infosys said. With this, total number of shares owned by him rose to over 21.6 lakh. Infosys said in another filing that Shibulal's wife Kumari gifted 4.01 lakh shares on the same day, but didn't disclose the recipient's name. \"]"
      ]
     },
     "execution_count": 34,
     "metadata": {},
     "output_type": "execute_result"
    }
   ],
   "source": [
    "body_texts"
   ]
  },
  {
   "cell_type": "markdown",
   "metadata": {},
   "source": [
    "## Creating function that will return all of the titles and body text from a single category of news."
   ]
  },
  {
   "cell_type": "code",
   "execution_count": 38,
   "metadata": {},
   "outputs": [],
   "source": [
    "# setting url to retrieve from\n",
    "url = 'https://inshorts.com/en/read/business'\n",
    "\n",
    "def single_category(url):\n",
    "    # creating empty list for the category\n",
    "    cat_list = []\n",
    "    # saving response from page\n",
    "    response = get(url)\n",
    "    # parsing response\n",
    "    soup = BeautifulSoup(response.text)\n",
    "    # finding all news cards\n",
    "    cards = soup.find_all('div', class_='news-card')\n",
    "    # iterating through cards\n",
    "    for card in cards:\n",
    "        # creating empty dictionary\n",
    "        dic = {}\n",
    "        # saving iterated title and body text\n",
    "        title = (card.find('span', itemprop='headline').text)\n",
    "        body = (card.find('div', itemprop='articleBody').text)\n",
    "        # loading body and title into dictionary\n",
    "        dic['title'] = title\n",
    "        dic['article'] = body\n",
    "        # appending dictionary to list\n",
    "        cat_list.append(dic)\n",
    "    # returning list    \n",
    "    return cat_list"
   ]
  },
  {
   "cell_type": "code",
   "execution_count": 39,
   "metadata": {},
   "outputs": [
    {
     "data": {
      "text/plain": [
       "[{'title': \"15 countries sign world's biggest free-trade pact which India left last year\",\n",
       "  'article': \"Fifteen Asia-Pacific countries signed the Regional Comprehensive Economic Partnership (RCEP), considered the world's biggest free-trade deal. In addition to 10 ASEAN nations, it includes China, Japan, South Korea, Australia and New Zealand. India last year refused to join RCEP over concerns that cheap Chinese goods can enter India, however, India can join at a later date if it chooses.\"},\n",
       " {'title': 'Russian vaccine arrives in India, video of it being unloaded from truck surfaces',\n",
       "  'article': \"Russia's coronavirus vaccine, Sputnik V, has arrived in India after Dr Reddy's Laboratories got approval to conduct late-stage trials of the vaccine in the country. A video has surfaced on social media, which shows containers with logos of Dr Reddy's and Sputnik V being unloaded from a small truck. Based on interim results, Russia claimed the vaccine is 92% effective.\"},\n",
       " {'title': \"Scientist behind '90% effective' COVID-19 vaccine says it can end the pandemic\",\n",
       "  'article': 'German scientist Uğur Şahin, the CEO of BioNTech which co-developed a coronavirus vaccine with Pfizer, said he\\'s confident his product can end the pandemic and \"bash the virus over the head.\" The vaccine is 90% effective based on initial data from a late-stage trial. \"I believe that even protection only from symptomatic infections will have a dramatic effect,\" Şahin said.'},\n",
       " {'title': 'China suspends fish imports from Indian firm after coronavirus detected',\n",
       "  'article': \"China has suspended imports from India's Basu International for one week after detecting the novel coronavirus on three samples taken from the outer packaging of frozen cuttlefish. Imports will resume automatically after one week, Chinese customs said. Companies from Brazil, Russia, Ecuador and Indonesia have also faced similar one-week suspensions during the last month.\"},\n",
       " {'title': 'Reliance Retail buys 96% stake in Urban Ladder for ₹182 crore',\n",
       "  'article': 'Reliance Industries\\' retail arm Reliance Retail Ventures has acquired a 96% stake in online furniture store Urban Ladder for ₹182.12 crore. Mukesh Ambani-led Reliance Retail also has the option of acquiring the remaining stake and it has proposed a further investment of ₹75 crore by 2023-end. \"The...investment will further enable the group\\'s digital and new commerce initiatives,\" said Reliance.'},\n",
       " {'title': \"India's longest gas blaze burning in Assam oil well doused after 5 months\",\n",
       "  'article': \"Oil India Limited on Sunday said that the fire at its Baghjan oil well in Assam has been doused completely. The Baghjan oil well No 5 of Oil India Limited initially blew out on May 27, followed by a massive fire on June 9. The fire, doused more than five months after its emergence, was India's longest burning gas blaze.\"},\n",
       " {'title': 'Traders record ₹72,000 cr Diwali sales, hand China loss of ₹40,000 cr: CAIT',\n",
       "  'article': 'The Confederation of All India Traders (CAIT) said traders recorded sales of ₹72,000 crore this Diwali across major markets amid a call for a boycott of Chinese products. \"Diwali sales generated a turnover of about ₹72,000 crore and gave China the expected loss of ₹40,000 crore,\" CAIT said. The figures were compiled based on data gathered from 20 Indian cities.'},\n",
       " {'title': 'Goldman Sachs upgrades Indian stocks, raises Nifty target',\n",
       "  'article': \"Goldman Sachs has upgraded Indian equities to 'overweight' on hopes of a rebound in corporate earnings. The American investment bank has raised its Nifty target to 14,100 by end-2021, implying an 11% upside from the current levels. Notably, Goldman had downgraded India to 'marketweight' in April expecting a significant contraction in economic activity and a delayed recovery.\"},\n",
       " {'title': 'Mahindra says he still wears a 1975 Kada blessed in Golden Temple; shares pic',\n",
       "  'article': 'Businessman Anand Mahindra took to Twitter to reveal that he still wears a Kada he bought in 1975 from Amritsar. Mahindra tweeted, \"In 1975 I took a semester off from college in the US & hitchhiked/took ST buses around India.\" He added, \"On Diwali, I arrived in Amritsar. I bought a Kada & had it blessed in the Golden Temple.\"'},\n",
       " {'title': \"India's October fuel demand marks first yearly gain in 8 months\",\n",
       "  'article': \"India's fuel demand in October marked its first year-on-year increase since February as diesel consumption rose to pre-COVID-19 levels ahead of the festive season. Demand for refined fuels rose 2.5% year-on-year in October to 17.77 million tonnes, government data showed. While the demand for diesel rose 7.4% year-on-year to 6.5 million tonnes, petrol sales rose 4.5% to 2.54 million tonnes.\"},\n",
       " {'title': 'GM recalls over 68,000 Chevy Bolt EVs over battery fire concerns',\n",
       "  'article': 'US\\' General Motors has issued a recall for 68,667 Chevy Bolt electric vehicles (EVs) after at least five battery fires were reported. The automaker has found common elements behind the fires, including their origins at an LG Chem plant and charge levels. GM added that it doesn\\'t believe all recalled vehicles are affected, but that it\\'s \"prudent\" to take action.'},\n",
       " {'title': \"Telcos, IT firms object to TRAI's proposed cloud services regulation body\",\n",
       "  'article': 'Several industry bodies including NASSCOM and COAI have written to the Department of Telecommunications saying that Telecom Regulatory Authority of India\\'s (TRAI) proposal to regulate cloud service providers (CSPs) might be detrimental to investment in the sector. The bodies said the framework is not \"light-touch regulation\". Major CSPs in India include Zoho and Amazon Web Services among others.'},\n",
       " {'title': 'UK to ban sale of new diesel, petrol cars from 2030: Report',\n",
       "  'article': 'UK PM Boris Johnson is set to ban the sale of new petrol and diesel cars from 2030, reported Financial Times. The ban was first scheduled for 2040, which Johnson moved to 2035 in February and is now set to move the date five years ahead again. Petrol and diesel cars accounted for 73.6% of UK sales in 2020.'},\n",
       " {'title': \"Nissan's $95 mn lawsuit against ex-chief Ghosn begins in Japan\",\n",
       "  'article': \"A civil court trial began in Japan's Yokohama on Friday against former Nissan Chairman Carlos Ghosn, where Nissan is seeking $95 million in damages. The automaker has sued Ghosn for the harm and financial losses incurred by the company due to his misconduct. Ghosn, who was arrested in 2018 in Japan, fled to Lebanon while he was awaiting trial.\"},\n",
       " {'title': 'Finance Ministry seeks suggestions for Budget 2021-22 via email',\n",
       "  'article': 'The Finance Ministry has said it will be creating a dedicated email ID to receive suggestions from institutions and experts on the Union Budget 2021-22, instead of physical consultations, in view of COVID-19. The MyGov portal will provide a platform to receive ideas from public from November 15-30, it added. The suggestions will be examined by the concerned ministries. '},\n",
       " {'title': \"Rana Kapoor's daughter granted bail in Yes Bank fraud case\",\n",
       "  'article': \"A magistrate court has granted bail to Yes Bank Founder Rana Kapoor's daughter Roshni Kapoor, an accused in the fraud case linked to Dewan Housing Finance (DHFL). Roshni, who is one of the eight accused, was summoned by the court last month in the case. The CBI had alleged that Yes Bank invested ₹3,700 crore in short-term debentures in DHFL.\"},\n",
       " {'title': 'Sensex, Nifty soar to record highs in Muhurat trading session',\n",
       "  'article': 'BSE Sensex and NSE Nifty soared to lifetime highs in a special Muhurat trading session held on Diwali to celebrate the beginning of the Hindu new year. Sensex jumped 387.93 points to touch an all-time high of 43,830.93, while Nifty touched a record of 12,828.70 during the session. Bharti Airtel, Tata Steel and Sun Pharma were the top gainers.'},\n",
       " {'title': 'Infosys Co-founder Shibulal receives 4 lakh company shares as gift',\n",
       "  'article': \"Infosys Co-founder SD Shibulal has received over four lakh shares, representing 0.01%, of the company as a gift as off-market transaction, Infosys said. With this, total number of shares owned by him rose to over 21.6 lakh. Infosys said in another filing that Shibulal's wife Kumari gifted 4.01 lakh shares on the same day, but didn't disclose the recipient's name. \"},\n",
       " {'title': 'Indian economy may be recovering faster than expected: Oxford Economics',\n",
       "  'article': 'The Indian economy is seen recovering faster than expected and the Reserve Bank of India is likely to have come to an end of the rate easing cycle, according to global forecasting firm Oxford Economics. It said the country\\'s \"robust bottom-up activity data\" suggested the quicker-than-anticipated recovery. Earlier, Moody\\'s also improved India\\'s 2020 GDP forecast from -9.6% to -8.9%.'},\n",
       " {'title': 'Tata Steel Q2 profit drops 63% due to overseas losses',\n",
       "  'article': 'Tata Steel reported a 62.7% year-on-year drop in consolidated net profit to ₹1,546.3 crore in the July-September quarter (Q2). The fall in profit came due to losses at overseas subsidiaries, even as the India business improved significantly and revenue rose 7.4% year-on-year to ₹37,153.9 crore. The steelmaker is also in talks with SSAB Sweden to sell off its Netherlands business.'},\n",
       " {'title': \"Patanjali's net profit jumps 21.56% to ₹424.7 crore in 2019-20\",\n",
       "  'article': 'Baba Ramdev-led Patanjali Ayurved reported a 21.56% increase in net profit at ₹424.72 crore for 2019-20, according to data provided by Tofler. The company had posted a net profit of ₹349.37 crore for 2018-19. Its revenue from operations rose 5.86% to ₹9,022.71 crore as against ₹8,522.68 crore in the year-ago period while its expenses jumped 5.34% to ₹8,521 crore.'},\n",
       " {'title': 'Vodafone considering raising $4.7bn from Vantage Towers IPO: Report',\n",
       "  'article': \"Vodafone is considering raising $4.7 billion from its European towers unit's initial public offering (IPO) in 2021, a report said. It is planning to list Vantage Towers in the first quarter of 2021 in a deal that could value the unit at $23.6 billion, the report added. This may be the largest IPO on European exchange in over three years.\"},\n",
       " {'title': 'BSE, NSE to hold Muhurat Trading from 6:15 pm to 7:15 pm today',\n",
       "  'article': 'Stock exchanges BSE and NSE will conduct the special Muhurat Trading session today between 6:15 pm and 7:15 pm on the occasion of Diwali. The one-hour session marks the beginning of a new Hindu calendar year, Samvat 2077. The Sensex ended Samvat 2076 with a gain of 11.22% or 4,384.94 points, while Nifty gained 9.80% or 1,136.05 points.'},\n",
       " {'title': \"PMLA adjudicating body doesn't confirm ED's attachment of Kochhars' assets\",\n",
       "  'article': \"Prevention of Money Laundering Act (PMLA) adjudicating authority has said the assets of former ICICI Bank CEO Chanda Kochhar and her husband Deepak Kochhar attached by the ED don't qualify as proceeds of crime. The authority didn't confirm the attachment of assets worth ₹78.15 crore. The ED had sought to attach the assets in connection with the ICICI Bank-Videocon case.\"},\n",
       " {'title': 'Amazon not shareholder, no say in our affairs: Future Retail to Delhi HC',\n",
       "  'article': 'Future Retail on Thursday told the Delhi High Court that Amazon \"isn\\'t even a minority shareholder\" and has no say in its affairs. The Singapore International Arbitration Centre\\'s (SIAC) order barring Future Retail from selling its assets to Reliance Industries is of no value, it added. The deal is needed to \"rescue Future Retail from bankruptcy\", the company\\'s counsel said.'}]"
      ]
     },
     "execution_count": 39,
     "metadata": {},
     "output_type": "execute_result"
    }
   ],
   "source": [
    "single_category(url)"
   ]
  },
  {
   "cell_type": "markdown",
   "metadata": {},
   "source": [
    "# Creating function that can take in a list of urls and grab the article and title of each url"
   ]
  },
  {
   "cell_type": "code",
   "execution_count": 40,
   "metadata": {},
   "outputs": [],
   "source": [
    "articles = ['https://inshorts.com/en/read/business','https://inshorts.com/en/read/sports','https://inshorts.com/en/read/technology','https://inshorts.com/en/read/entertainment']\n",
    "\n",
    "def title_and_article(articles):\n",
    "    list_ = []\n",
    "    # iterating through each url\n",
    "    for url in articles:\n",
    "        # saving response from url page\n",
    "        response = get(url)\n",
    "        # parsing through response\n",
    "        soup = BeautifulSoup(response.text)\n",
    "        # finding all news cards within response\n",
    "        cards = soup.find_all('div', class_='news-card')\n",
    "        # iterating through cards\n",
    "        for card in cards:\n",
    "            # creating new dictionary\n",
    "            dic = {}\n",
    "            # saving article title and body text\n",
    "            title = (card.find('span', itemprop='headline').text)\n",
    "            body = (card.find('div', itemprop='articleBody').text)\n",
    "            # saving title and body text to dictionary\n",
    "            dic['title'] = title\n",
    "            dic['article'] = body\n",
    "            # adding dictionary to list\n",
    "            list_.append(dic)\n",
    "    # returning list\n",
    "    return list_"
   ]
  },
  {
   "cell_type": "code",
   "execution_count": 42,
   "metadata": {},
   "outputs": [
    {
     "data": {
      "text/plain": [
       "{'title': \"Moderna's early data shows its COVID-19 vaccine is 94.5% effective\",\n",
       " 'article': \"American biotechnology company Moderna on Monday announced its experimental vaccine was 94.5% effective in preventing COVID-19 based on interim data from a late-stage clinical trial. Moderna's interim analysis was based on 95 infections among trial participants who received either a placebo or the vaccine. Among those, only five infections occurred in those who received the vaccine.\"}"
      ]
     },
     "execution_count": 42,
     "metadata": {},
     "output_type": "execute_result"
    }
   ],
   "source": [
    "title_and_article(articles)[0]"
   ]
  },
  {
   "cell_type": "code",
   "execution_count": 43,
   "metadata": {},
   "outputs": [
    {
     "data": {
      "text/plain": [
       "{'title': \"15 countries sign world's biggest free-trade pact which India left last year\",\n",
       " 'article': \"Fifteen Asia-Pacific countries signed the Regional Comprehensive Economic Partnership (RCEP), considered the world's biggest free-trade deal. In addition to 10 ASEAN nations, it includes China, Japan, South Korea, Australia and New Zealand. India last year refused to join RCEP over concerns that cheap Chinese goods can enter India, however, India can join at a later date if it chooses.\"}"
      ]
     },
     "execution_count": 43,
     "metadata": {},
     "output_type": "execute_result"
    }
   ],
   "source": [
    "title_and_article(articles)[1]"
   ]
  },
  {
   "cell_type": "code",
   "execution_count": 44,
   "metadata": {},
   "outputs": [
    {
     "data": {
      "text/plain": [
       "{'title': 'Reduce foreign funding to 26% by Oct 15, 2021: Govt to digital media',\n",
       " 'article': 'The I&B Ministry on Monday asked digital media companies with more than 26% foreign investment to bring down the foreign investment to 26% by October 15, 2021. Entities having foreign investment below 26% were asked to furnish intimation to the Ministry within one month from today. The Union Government in 2019 had permitted 26% FDI under the government approval route.'}"
      ]
     },
     "execution_count": 44,
     "metadata": {},
     "output_type": "execute_result"
    }
   ],
   "source": [
    "title_and_article(articles)[2]"
   ]
  },
  {
   "cell_type": "code",
   "execution_count": 54,
   "metadata": {},
   "outputs": [
    {
     "data": {
      "text/plain": [
       "{'title': 'Reliance Retail buys 96% stake in Urban Ladder for ₹182 crore',\n",
       " 'article': 'Reliance Industries\\' retail arm Reliance Retail Ventures has acquired a 96% stake in online furniture store Urban Ladder for ₹182.12 crore. Mukesh Ambani-led Reliance Retail also has the option of acquiring the remaining stake and it has proposed a further investment of ₹75 crore by 2023-end. \"The...investment will further enable the group\\'s digital and new commerce initiatives,\" said Reliance.'}"
      ]
     },
     "execution_count": 54,
     "metadata": {},
     "output_type": "execute_result"
    }
   ],
   "source": [
    "title_and_article(articles)[3]"
   ]
  },
  {
   "cell_type": "code",
   "execution_count": 46,
   "metadata": {},
   "outputs": [
    {
     "data": {
      "text/plain": [
       "{'title': \"India's longest gas blaze burning in Assam oil well doused after 5 months\",\n",
       " 'article': \"Oil India Limited on Sunday said that the fire at its Baghjan oil well in Assam has been doused completely. The Baghjan oil well No 5 of Oil India Limited initially blew out on May 27, followed by a massive fire on June 9. The fire, doused more than five months after its emergence, was India's longest burning gas blaze.\"}"
      ]
     },
     "execution_count": 46,
     "metadata": {},
     "output_type": "execute_result"
    }
   ],
   "source": [
    "title_and_article(articles)[4]"
   ]
  },
  {
   "cell_type": "code",
   "execution_count": 49,
   "metadata": {},
   "outputs": [],
   "source": [
    "import pandas as pd"
   ]
  },
  {
   "cell_type": "code",
   "execution_count": 50,
   "metadata": {},
   "outputs": [],
   "source": [
    "def get_news_articles(cached=False):\n",
    "    '''\n",
    "    This function with default cached == False does a fresh scrape of inshort pages with topics \n",
    "    business, sports, technology, and entertainment and writes the returned df to a json file.\n",
    "    cached == True returns a df read in from a json file.\n",
    "    '''\n",
    "    # option to read in a json file instead of scrape for df\n",
    "    if cached == True:\n",
    "        df = pd.read_json('articles.json')\n",
    "        \n",
    "    # cached == False completes a fresh scrape for df    \n",
    "    else:\n",
    "    \n",
    "        # Set base_url that will be used in get request\n",
    "        base_url = 'https://inshorts.com/en/read/'\n",
    "        \n",
    "        # List of topics to scrape\n",
    "        topics = ['business', 'sports', 'technology', 'entertainment']\n",
    "        \n",
    "        # Create an empty list, articles, to hold our dictionaries\n",
    "        articles = []\n",
    "\n",
    "        for topic in topics:\n",
    "            \n",
    "            # Create url with topic endpoint\n",
    "            topic_url = base_url + topic\n",
    "            \n",
    "            # Make request and soup object using helper\n",
    "            soup = make_soup(topic_url)\n",
    "\n",
    "            # Scrape a ResultSet of all the news cards on the page\n",
    "            cards = soup.find_all('div', class_='news-card')\n",
    "\n",
    "            # Loop through each news card on the page and get what we want\n",
    "            for card in cards:\n",
    "                title = card.find('span', itemprop='headline' ).text\n",
    "                author = card.find('span', class_='author').text\n",
    "                content = card.find('div', itemprop='articleBody').text\n",
    "\n",
    "                # Create a dictionary, article, for each news card\n",
    "                article = ({'topic': topic, \n",
    "                            'title': title, \n",
    "                            'author': author, \n",
    "                            'content': content})\n",
    "\n",
    "                # Add the dictionary, article, to our list of dictionaries, articles.\n",
    "                articles.append(article)\n",
    "            \n",
    "        # Create a DataFrame from list of dictionaries\n",
    "        df = pd.DataFrame(articles)\n",
    "        \n",
    "        # Write df to json file for future use\n",
    "        df.to_json('articles.json')\n",
    "    \n",
    "    return df"
   ]
  },
  {
   "cell_type": "code",
   "execution_count": 52,
   "metadata": {},
   "outputs": [],
   "source": [
    "df = get_news_articles(cached=False)"
   ]
  },
  {
   "cell_type": "code",
   "execution_count": 53,
   "metadata": {},
   "outputs": [
    {
     "data": {
      "text/html": [
       "<div>\n",
       "<style scoped>\n",
       "    .dataframe tbody tr th:only-of-type {\n",
       "        vertical-align: middle;\n",
       "    }\n",
       "\n",
       "    .dataframe tbody tr th {\n",
       "        vertical-align: top;\n",
       "    }\n",
       "\n",
       "    .dataframe thead th {\n",
       "        text-align: right;\n",
       "    }\n",
       "</style>\n",
       "<table border=\"1\" class=\"dataframe\">\n",
       "  <thead>\n",
       "    <tr style=\"text-align: right;\">\n",
       "      <th></th>\n",
       "      <th>topic</th>\n",
       "      <th>title</th>\n",
       "      <th>author</th>\n",
       "      <th>content</th>\n",
       "    </tr>\n",
       "  </thead>\n",
       "  <tbody>\n",
       "    <tr>\n",
       "      <th>0</th>\n",
       "      <td>business</td>\n",
       "      <td>Moderna's early data shows its COVID-19 vaccin...</td>\n",
       "      <td>Pragya Swastik</td>\n",
       "      <td>American biotechnology company Moderna on Mond...</td>\n",
       "    </tr>\n",
       "    <tr>\n",
       "      <th>1</th>\n",
       "      <td>business</td>\n",
       "      <td>15 countries sign world's biggest free-trade p...</td>\n",
       "      <td>Pragya Swastik</td>\n",
       "      <td>Fifteen Asia-Pacific countries signed the Regi...</td>\n",
       "    </tr>\n",
       "    <tr>\n",
       "      <th>2</th>\n",
       "      <td>business</td>\n",
       "      <td>Reduce foreign funding to 26% by Oct 15, 2021:...</td>\n",
       "      <td>Pragya Swastik</td>\n",
       "      <td>The I&amp;B Ministry on Monday asked digital media...</td>\n",
       "    </tr>\n",
       "    <tr>\n",
       "      <th>3</th>\n",
       "      <td>business</td>\n",
       "      <td>Reliance Retail buys 96% stake in Urban Ladder...</td>\n",
       "      <td>Rishabh Bhatnagar</td>\n",
       "      <td>Reliance Industries' retail arm Reliance Retai...</td>\n",
       "    </tr>\n",
       "    <tr>\n",
       "      <th>4</th>\n",
       "      <td>business</td>\n",
       "      <td>India's longest gas blaze burning in Assam oil...</td>\n",
       "      <td>Pragya Swastik</td>\n",
       "      <td>Oil India Limited on Sunday said that the fire...</td>\n",
       "    </tr>\n",
       "  </tbody>\n",
       "</table>\n",
       "</div>"
      ],
      "text/plain": [
       "      topic                                              title  \\\n",
       "0  business  Moderna's early data shows its COVID-19 vaccin...   \n",
       "1  business  15 countries sign world's biggest free-trade p...   \n",
       "2  business  Reduce foreign funding to 26% by Oct 15, 2021:...   \n",
       "3  business  Reliance Retail buys 96% stake in Urban Ladder...   \n",
       "4  business  India's longest gas blaze burning in Assam oil...   \n",
       "\n",
       "              author                                            content  \n",
       "0     Pragya Swastik  American biotechnology company Moderna on Mond...  \n",
       "1     Pragya Swastik  Fifteen Asia-Pacific countries signed the Regi...  \n",
       "2     Pragya Swastik  The I&B Ministry on Monday asked digital media...  \n",
       "3  Rishabh Bhatnagar  Reliance Industries' retail arm Reliance Retai...  \n",
       "4     Pragya Swastik  Oil India Limited on Sunday said that the fire...  "
      ]
     },
     "execution_count": 53,
     "metadata": {},
     "output_type": "execute_result"
    }
   ],
   "source": [
    "df.head()"
   ]
  },
  {
   "cell_type": "code",
   "execution_count": 65,
   "metadata": {},
   "outputs": [],
   "source": [
    "def get_all_urls():\n",
    "    '''\n",
    "    This function scrapes all of the Codeup blog urls from\n",
    "    the main Codeup blog page and returns a list of urls.\n",
    "    '''\n",
    "    # The base url for the main Codeup blog page\n",
    "    url = 'https://codeup.com/resources/#blog'\n",
    "    \n",
    "    # Make request and soup object using helper\n",
    "    soup = make_soup(url)\n",
    "    \n",
    "    # Create a list of the anchor elements that hold the urls.\n",
    "    urls_list = soup.find_all('a', class_='jet-listing-dynamic-link__link')\n",
    "    \n",
    "    # I'm using a set comprehension to return only unique urls because list contains duplicate urls.\n",
    "    urls = {link.get('href') for link in urls_list}\n",
    "\n",
    "    # I'm converting my set to a list of urls.\n",
    "    urls = list(urls)\n",
    "        \n",
    "    return urls\n"
   ]
  },
  {
   "cell_type": "code",
   "execution_count": 66,
   "metadata": {},
   "outputs": [
    {
     "data": {
      "text/plain": [
       "['https://codeup.com/introducing-salary-refund-guarantee/',\n",
       " 'https://codeup.com/build-your-career-in-tech/',\n",
       " 'https://codeup.com/codeup-inc-5000/',\n",
       " 'https://codeup.com/from-slacker-to-data-scientist/',\n",
       " 'https://codeup.com/succeed-in-a-coding-bootcamp/',\n",
       " 'https://codeup.com/what-data-science-career-is-for-you/',\n",
       " 'https://codeup.com/what-to-expect-at-codeup/',\n",
       " 'https://codeup.com/education-is-an-investment/',\n",
       " 'https://codeup.com/math-in-data-science/',\n",
       " 'https://codeup.com/transition-into-data-science/',\n",
       " 'https://codeup.com/codeup-alumni-make-water/',\n",
       " 'https://codeup.com/new-scholarship/',\n",
       " 'https://codeup.com/what-is-python/',\n",
       " 'https://codeup.com/what-is-machine-learning/',\n",
       " 'https://codeup.com/how-were-celebrating-world-mental-health-day-from-home/',\n",
       " 'https://codeup.com/codeup-wins-civtech-datathon/',\n",
       " 'https://codeup.com/journey-into-web-development/',\n",
       " 'https://codeup.com/codeup-in-houston/',\n",
       " 'https://codeup.com/covid-19-data-challenge/',\n",
       " 'https://codeup.com/codeups-application-process/']"
      ]
     },
     "execution_count": 66,
     "metadata": {},
     "output_type": "execute_result"
    }
   ],
   "source": [
    "get_all_urls()"
   ]
  },
  {
   "cell_type": "code",
   "execution_count": 152,
   "metadata": {},
   "outputs": [],
   "source": [
    "urls = 'https://www.ksat.com/news/local/2020/11/16/18-year-old-dies-after-2-vehicle-crash-on-northwest-side-authorities-say/'\n",
    "\n",
    "def ksat_articles(urls, cached=False):\n",
    "    '''\n",
    "    This function takes in a list of Codeup Blog urls and a parameter\n",
    "    with default cached == False which scrapes the title and text for each url, \n",
    "    creates a list of dictionaries with the title and text for each blog, \n",
    "    converts list to df, and returns df.\n",
    "    If cached == True, the function returns a df from a json file.\n",
    "    '''\n",
    "    if cached == True:\n",
    "        df = pd.read_json('ksat_articles.json')\n",
    "        \n",
    "    # cached == False completes a fresh scrape for df     \n",
    "    else:\n",
    "\n",
    "        # Create an empty list to hold dictionaries\n",
    "        articles = []\n",
    "\n",
    "        # Loop through each url in our list of urls\n",
    "        for url in urls:\n",
    "\n",
    "            # Make request and soup object using helper\n",
    "            soup = make_soup(url)\n",
    "\n",
    "            # Save the title of each blog in variable title\n",
    "            title = soup.find('h1').text\n",
    "\n",
    "            # Save the text in each blog to variable text\n",
    "            content = soup.find('section', class_ = 'articleBody').text\n",
    "\n",
    "            # Create a dictionary holding the title and content for each blog\n",
    "            article = {'title': title, 'content': content}\n",
    "\n",
    "            # Add each dictionary to the articles list of dictionaries\n",
    "            articles.append(article)\n",
    "            \n",
    "        # convert our list of dictionaries to a df\n",
    "        df = pd.DataFrame(articles)\n",
    "\n",
    "        # Write df to a json file for faster access\n",
    "        df.to_json('ksat_articles.json')\n",
    "    \n",
    "    return df"
   ]
  },
  {
   "cell_type": "code",
   "execution_count": 170,
   "metadata": {},
   "outputs": [],
   "source": [
    "# Set base_url that will be used in get request\n",
    "url = 'https://www.ksat.com/news/local/2020/11/16/18-year-old-dies-after-2-vehicle-crash-on-northwest-side-authorities-say/'\n",
    "\n",
    "# Make request and soup object using helper\n",
    "soup = make_soup(url)"
   ]
  },
  {
   "cell_type": "code",
   "execution_count": 171,
   "metadata": {
    "scrolled": false
   },
   "outputs": [
    {
     "data": {
      "text/plain": [
       "'18-year-old dies after 2-vehicle crash on Northwest Side, authorities say'"
      ]
     },
     "execution_count": 171,
     "metadata": {},
     "output_type": "execute_result"
    }
   ],
   "source": [
    "# Title\n",
    "soup.find('h1',class_=\"headline\").text"
   ]
  },
  {
   "cell_type": "code",
   "execution_count": 172,
   "metadata": {},
   "outputs": [
    {
     "data": {
      "text/plain": [
       "'SAN ANTONIO – An 18-year-old woman has died following a two-vehicle car crash on the Northwest Side over the weekend.The Bexar County Medical Examiner’s Office said Dominique Orta was pronounced dead following the crash, which happened around 1 a.m. Sunday, in the 7900 block of Prue Road.Police said the two vehicles involved in the crash, a Dodge Challenger and a Ford Mustang, were traveling westbound on Prue Road before the accident.The Challenger pulled up alongside the Mustang in the eastbound lane when the driver saw an approaching vehicle headed toward their car.The Challenger tried to speed up and cut back into the westbound lane, but its right side struck the front left wheel of the Mustang, police said.The Mustang lost control and slammed into a telephone pole, causing it to break “clear through” in two places, according to a preliminary report.The Mustang rolled over and an 18-year-old woman, who was in the rear passenger’s seat, was ejected. Police said the Mustang came to a rest on top of the woman.The other vehicle involved in the crash had two men inside, but neither of them were injured, police said.Police did not say if criminal charges are pending.Relatives of Orta told KSAT that they have planned a vigil for the teenager on Monday evening.Read also:Fallen soldier’s San Antonio family shares his legacy to inspire othersDo you know where she is? Police, Crime Stoppers seek suspect in fatal hit-and-runMan shot while standing outside Southeast Side bar, police say'"
      ]
     },
     "execution_count": 172,
     "metadata": {},
     "output_type": "execute_result"
    }
   ],
   "source": [
    "# Article\n",
    "soup.find('section', class_ = 'articleBody').text"
   ]
  },
  {
   "cell_type": "code",
   "execution_count": 173,
   "metadata": {},
   "outputs": [
    {
     "data": {
      "text/plain": [
       "'Cody King'"
      ]
     },
     "execution_count": 173,
     "metadata": {},
     "output_type": "execute_result"
    }
   ],
   "source": [
    "#Author\n",
    "soup.find('span', itemprop = 'name').text"
   ]
  },
  {
   "cell_type": "code",
   "execution_count": 160,
   "metadata": {},
   "outputs": [],
   "source": [
    "# Set base_url that will be used in get request\n",
    "url = 'https://www.ksat.com/news/local/2020/11/16/black-man-pulled-over-tased-for-dirty-license-plate-by-new-braunfels-police/'\n",
    "\n",
    "# Make request and soup object using helper\n",
    "soup = make_soup(url)"
   ]
  },
  {
   "cell_type": "code",
   "execution_count": 161,
   "metadata": {},
   "outputs": [
    {
     "data": {
      "text/plain": [
       "'Black man pulled over, tased for ‘dirty license plate’ by New Braunfels police'"
      ]
     },
     "execution_count": 161,
     "metadata": {},
     "output_type": "execute_result"
    }
   ],
   "source": [
    "# Title\n",
    "soup.find('h1',class_=\"headline\").text"
   ]
  },
  {
   "cell_type": "code",
   "execution_count": 162,
   "metadata": {},
   "outputs": [
    {
     "data": {
      "text/plain": [
       "'Editors note: Video of the traffic stop will be posted soon. Check back later for more updates.After a failed attempt to mediate a complaint with the New Braunfels Police Department, city officials on Monday released an expletive-laced video of a traffic stop, which showed a Black man who was pulled over, tased and handcuffed by an officer over a “dirty license plate.”City officials called the actions of the officer, Kaleb Meyer, “unacceptable.” Following the traffic stop, Meyer received additional training, but he has resigned from the department within the past few months, according to City Manager Robert Camareno. Former Police Chief Tom Wibert also resigned partially due to the matter, Camareno said.“We want to make it abundantly clear that the actions of the officer in the video are not acceptable to the city of New Braunfels and not representative of the men and women of the police department of the city of New Braunfels,” Mayor Rusty Brockman said. “We are working with our local Martin Luther King Jr. Association, the New Bruanfels Police Officers Association and the city’s newly formed inclusion diversity, equity and awareness forum to have an open dialogue and move forward in a positive way.”In the video, Meyer is seen approaching Clarence Crawford’s car with his gun drawn. Meyer orders Crawford to put his hands on the wheel.Crawford put one hand on the wheel, and the other was visibly on his phone, possibly to record the interaction. Meyer then ordered Crawford to put the phone down.“You’re not going to shoot me?” Crawford asked Meyer.Crawford eventually gets out of his car and kneels in front of Meyer. Meyer ordered Crawford to lay down on his face.“Lay down! All the way,” Meyer yelled at Crawford as he used a Taser on him twice.“What the f—k are you doing man,” Crawford asks him.Meyer told Crawford he took too long to pull over, and Crawford responded that he pulled over when it was safe. Meyer also told Crawford he initially pulled him over for a “dirty license plate.”Crawford remained handcuffed on the ground until a female officer arrived and helped de-escalate the situation. Camareno credited the second officer, saying she demonstrated the proper protocol.Crawford was arrested that night, charged with fleeing from a police officer and interfering with public duties. Those charges have been dropped at the request of the police department, Camareno said.Camareno said the video has since been used to train officers on proper protocol. City officials wanted to release this video sooner but held off at the request of Crawford, who had filed a complaint with the department.“However, as I mentioned earlier, mediation completed unsuccessfully recently and so we can get into some transparency, we wanted to show this to our community and talk about it,” Camareno said.It’s unclear what either side was seeking in mediation and why it ended unsuccessfully.Police interactions with communities of color have been more scrutinized since the death of George Floyd, who died after former Minneapolis police officer Derek Chauvin kept his knee on Floyd’s neck for eight minutes and 46 seconds.Camareno said that, by and large, police have positive interactions with minorities in New Braunfels.“If you were to witness their interaction with our community of color, you need only to attend the Black Lives Matter protests that occurred a few months earlier,” Camareno said. “Our police officers went around handing out water, talking to people, praying with people. That’s the New Braunfels Police Department.”Camareno said the police department is in the midst of reviewing its protocols in procedure to prevent this from happening again in the future.'"
      ]
     },
     "execution_count": 162,
     "metadata": {},
     "output_type": "execute_result"
    }
   ],
   "source": [
    "# Article\n",
    "soup.find('section', class_ = 'articleBody').text"
   ]
  },
  {
   "cell_type": "code",
   "execution_count": 169,
   "metadata": {},
   "outputs": [
    {
     "data": {
      "text/plain": [
       "'Fares Sabawi'"
      ]
     },
     "execution_count": 169,
     "metadata": {},
     "output_type": "execute_result"
    }
   ],
   "source": [
    "# Author\n",
    "soup.find('span', itemprop = 'name').text"
   ]
  },
  {
   "cell_type": "code",
   "execution_count": 188,
   "metadata": {},
   "outputs": [],
   "source": [
    "# Getting the ksat/news articles\n",
    "def get_all_urls():\n",
    "    '''\n",
    "    This function scrapes all of the Codeup blog urls from\n",
    "    the main Codeup blog page and returns a list of urls.\n",
    "    '''\n",
    "    # The base url for the main Codeup blog page\n",
    "    url = 'https://www.ksat.com/news/'\n",
    "    \n",
    "    # Make request and soup object using helper\n",
    "    soup = make_soup(url)\n",
    "    \n",
    "    # Create a list of the anchor elements that hold the urls.\n",
    "    urls_list = soup.find_all('a', class_='display_block gaevent')\n",
    "    \n",
    "    # I'm using a set comprehension to return only unique urls because list contains duplicate urls.\n",
    "    urls = {link.get('href') for link in urls_list}\n",
    "\n",
    "    # I'm converting my set to a list of urls.\n",
    "    urls = list(urls)\n",
    "    \n",
    "    output = []\n",
    "    \n",
    "    for url in urls:\n",
    "        output.append('https://www.ksat.com' + url)\n",
    "        \n",
    "    return output"
   ]
  },
  {
   "cell_type": "code",
   "execution_count": 199,
   "metadata": {},
   "outputs": [],
   "source": [
    "def get_news_urls(urls):\n",
    "    output = []\n",
    "    for url in urls:\n",
    "        if url[0:25] == 'https://www.ksat.com/news':\n",
    "            output.append(url)\n",
    "    return output"
   ]
  },
  {
   "cell_type": "code",
   "execution_count": 200,
   "metadata": {},
   "outputs": [
    {
     "data": {
      "text/plain": [
       "['https://www.ksat.com/entertainment/2020/11/14/gucci-gus-van-sant-challenge-fashion-cycle-with-film-collab/',\n",
       " 'https://www.ksat.com/news/politics/2020/11/16/americans-across-party-lines-regions-embrace-marijuana/',\n",
       " 'https://www.ksat.com/entertainment/2020/11/13/film-academy-museum-completes-pre-fundraising-goal/',\n",
       " 'https://www.ksat.com/news/world/2020/11/16/trump-aide-promises-very-professional-transition-to-biden/',\n",
       " 'https://www.ksat.com/news/politics/2020/11/16/sec-chair-clayton-leaving-post-as-top-financial-regulator/',\n",
       " 'https://www.ksat.com/news/local/2020/11/16/are-meatless-alternatives-really-as-healthy-as-you-think/',\n",
       " 'https://www.ksat.com/business/2020/11/16/eu-uk-enter-tension-filled-week-seeking-post-brexit-deal/',\n",
       " 'https://www.ksat.com/entertainment/2020/11/14/rudolph-santa-figures-soar-to-sale-of-368000-at-auction/',\n",
       " 'https://www.ksat.com/news/world/2020/11/16/dutch-court-upholds-terror-conviction-in-station-attack/',\n",
       " 'https://www.ksat.com/entertainment/2020/11/13/socially-distanced-live-christmas-show-coming-to-freeman-coliseum-in-december/',\n",
       " 'https://www.ksat.com/sports/2020/11/16/ncaa-in-talks-with-indianapolis-to-host-all-of-march-madness/',\n",
       " 'https://www.ksat.com/news/world/2020/11/16/email-obtained-by-ap-65-who-staff-have-virus-1-cluster/',\n",
       " 'https://www.ksat.com/business/2020/11/16/study-suggests-video-games-can-help-mental-health/',\n",
       " 'https://www.ksat.com/news/local/2020/11/16/watch-live-city-officials-to-discuss-a-new-braunfels-police-department-matter/',\n",
       " 'https://www.ksat.com/tech/2020/11/16/government-furthers-investigation-into-tesla-camera-failures/',\n",
       " 'https://www.ksat.com/news/local/2020/11/16/housing-market-on-the-rise-in-san-antonio/',\n",
       " 'https://www.ksat.com/news/politics/2020/11/16/2nd-coronavirus-vaccine-shows-early-success-in-us-tests/',\n",
       " 'https://www.ksat.com/news/local/2020/11/16/ksat-kids-today-in-history-nov-16/',\n",
       " 'https://www.ksat.com/entertainment/2020/11/15/suspect-arrested-in-attack-on-actor-rick-moranis/',\n",
       " 'https://www.ksat.com/news/politics/2020/11/16/after-trump-will-the-presidency-recede-a-bit-for-americans/',\n",
       " 'https://www.ksat.com/news/local/2020/11/15/report-rb-singer-jeremih-hospitalized-in-icu-with-covid-19/',\n",
       " 'https://www.ksat.com/news/texas/2020/11/16/texas-man-sentenced-for-death-of-2-kansas-carnival-vendors/',\n",
       " 'https://www.ksat.com/news/local/2020/11/16/couples-travel-trailer-went-up-real-quick-after-fire-broke-out-on-west-side-of-san-antonio/',\n",
       " 'https://www.ksat.com/news/national/2020/11/16/after-congratulating-biden-frances-macron-sees-trump-envoy/',\n",
       " 'https://www.ksat.com/news/politics/2020/11/16/hate-crimes-in-us-reach-highest-level-in-more-than-a-decade/',\n",
       " 'https://www.ksat.com/news/local/2020/11/16/north-side-restaurant-dinged-for-moldy-celery-jalapenos/',\n",
       " 'https://www.ksat.com/news/local/2020/11/16/black-man-pulled-over-tased-for-dirty-license-plate-by-new-braunfels-police/',\n",
       " 'https://www.ksat.com/news/local/2020/11/16/how-to-turn-down-a-thanksgiving-invite-during-covid-19-pandemic/',\n",
       " 'https://www.ksat.com/business/2020/11/16/saudi-aramco-to-issue-bonds-as-it-seeks-cash-amid-oil-slump/',\n",
       " 'https://www.ksat.com/entertainment/2020/11/16/family-comedian-sinbad-recovering-from-recent-stroke/',\n",
       " 'https://www.ksat.com/entertainment/2020/11/15/britains-prince-charles-attends-german-remembrance-ceremony/',\n",
       " 'https://www.ksat.com/entertainment/2020/11/16/trial-in-france-for-extremist-foiled-by-3-americans-on-train/',\n",
       " 'https://www.ksat.com/entertainment/2020/11/14/britains-prince-charles-celebrates-72nd-birthday/',\n",
       " 'https://www.ksat.com/news/politics/2020/11/16/hardening-partisan-map-steepens-democrats-climb-in-senate/',\n",
       " 'https://www.ksat.com/business/2020/11/12/disney-posts-4q-loss-as-parks-business-costs-drag-results/',\n",
       " 'https://www.ksat.com/entertainment/2020/11/15/soumitra-chatterjee-legend-of-indian-cinema-dies-at-85/',\n",
       " 'https://www.ksat.com/news/local/2020/11/16/sapd-driver-fled-after-wrong-way-crash-on-hwy-151-that-sent-1-person-to-hospital/',\n",
       " 'https://www.ksat.com/entertainment/2020/11/16/rapper-benny-the-butcher-shot-in-robbery-attempt-in-houston/',\n",
       " 'https://www.ksat.com/sports/2020/11/16/ole-miss-at-texas-am-postponed-as-virus-roils-schedules/',\n",
       " 'https://www.ksat.com/entertainment/2020/11/16/hollywood-stars-complete-takeover-of-welsh-club-wrexham/',\n",
       " 'https://www.ksat.com/entertainment/2020/11/15/ancient-greek-gods-bust-found-during-athens-sewage-works/',\n",
       " 'https://www.ksat.com/news/local/2020/11/16/travel-trailer-destroyed-by-early-morning-fire-safd-says/',\n",
       " 'https://www.ksat.com/news/politics/2020/11/16/biden-set-to-address-plans-for-economy-as-pandemic-rages/',\n",
       " 'https://www.ksat.com/news/world/2020/11/16/nato-acting-us-pentagon-chief-discuss-afghanistan/',\n",
       " 'https://www.ksat.com/business/2020/11/16/home-depot-reunites-with-hd-supply-in-deal-valued-at-8b/',\n",
       " 'https://www.ksat.com/news/world/2020/11/16/retirees-protest-belarus-leader-on-100th-day-since-vote/',\n",
       " 'https://www.ksat.com/news/local/2020/11/16/18-year-old-dies-after-2-vehicle-crash-on-northwest-side-authorities-say/',\n",
       " 'https://www.ksat.com/news/world/2020/11/16/migrant-arrivals-putting-pressure-on-spains-canary-islands/',\n",
       " 'https://www.ksat.com/news/world/2020/11/16/greek-pm-appeals-for-restraint-during-uprising-anniversary/',\n",
       " 'https://www.ksat.com/news/local/2020/11/16/authorities-id-31-year-old-man-killed-in-shooting-outside-northwest-side-apartment-complex/',\n",
       " 'https://www.ksat.com/news/world/2020/11/16/brazil-voters-ignore-bolsonaros-city-election-endorsements/',\n",
       " 'https://www.ksat.com/news/world/2020/11/16/un-over-25300-fleeing-ethiopia-fighting-have-reached-sudan/',\n",
       " 'https://www.ksat.com/news/politics/2020/11/16/facebook-twitter-ceos-to-be-pressed-on-election-handling/',\n",
       " 'https://www.ksat.com/news/local/2020/11/16/new-luxury-hotel-near-river-walk-brings-glitz-glamour-much-needed-economic-impact/',\n",
       " 'https://www.ksat.com/news/politics/2020/11/16/michigan-governor-says-she-has-authority-for-stay-home-order/',\n",
       " 'https://www.ksat.com/news/politics/2020/11/16/watch-live-president-elect-joe-biden-to-address-plans-for-economy/',\n",
       " 'https://www.ksat.com/news/world/2020/11/16/poland-hungary-threaten-eu-budget-over-rule-of-law-issue/']"
      ]
     },
     "execution_count": 200,
     "metadata": {},
     "output_type": "execute_result"
    }
   ],
   "source": [
    "urls = get_all_urls()\n",
    "urls"
   ]
  },
  {
   "cell_type": "code",
   "execution_count": 201,
   "metadata": {},
   "outputs": [
    {
     "data": {
      "text/plain": [
       "['https://www.ksat.com/news/politics/2020/11/16/americans-across-party-lines-regions-embrace-marijuana/',\n",
       " 'https://www.ksat.com/news/world/2020/11/16/trump-aide-promises-very-professional-transition-to-biden/',\n",
       " 'https://www.ksat.com/news/politics/2020/11/16/sec-chair-clayton-leaving-post-as-top-financial-regulator/',\n",
       " 'https://www.ksat.com/news/local/2020/11/16/are-meatless-alternatives-really-as-healthy-as-you-think/',\n",
       " 'https://www.ksat.com/news/world/2020/11/16/dutch-court-upholds-terror-conviction-in-station-attack/',\n",
       " 'https://www.ksat.com/news/world/2020/11/16/email-obtained-by-ap-65-who-staff-have-virus-1-cluster/',\n",
       " 'https://www.ksat.com/news/local/2020/11/16/watch-live-city-officials-to-discuss-a-new-braunfels-police-department-matter/',\n",
       " 'https://www.ksat.com/news/local/2020/11/16/housing-market-on-the-rise-in-san-antonio/',\n",
       " 'https://www.ksat.com/news/politics/2020/11/16/2nd-coronavirus-vaccine-shows-early-success-in-us-tests/',\n",
       " 'https://www.ksat.com/news/local/2020/11/16/ksat-kids-today-in-history-nov-16/',\n",
       " 'https://www.ksat.com/news/politics/2020/11/16/after-trump-will-the-presidency-recede-a-bit-for-americans/',\n",
       " 'https://www.ksat.com/news/local/2020/11/15/report-rb-singer-jeremih-hospitalized-in-icu-with-covid-19/',\n",
       " 'https://www.ksat.com/news/texas/2020/11/16/texas-man-sentenced-for-death-of-2-kansas-carnival-vendors/',\n",
       " 'https://www.ksat.com/news/local/2020/11/16/couples-travel-trailer-went-up-real-quick-after-fire-broke-out-on-west-side-of-san-antonio/',\n",
       " 'https://www.ksat.com/news/national/2020/11/16/after-congratulating-biden-frances-macron-sees-trump-envoy/',\n",
       " 'https://www.ksat.com/news/politics/2020/11/16/hate-crimes-in-us-reach-highest-level-in-more-than-a-decade/',\n",
       " 'https://www.ksat.com/news/local/2020/11/16/north-side-restaurant-dinged-for-moldy-celery-jalapenos/',\n",
       " 'https://www.ksat.com/news/local/2020/11/16/black-man-pulled-over-tased-for-dirty-license-plate-by-new-braunfels-police/',\n",
       " 'https://www.ksat.com/news/local/2020/11/16/how-to-turn-down-a-thanksgiving-invite-during-covid-19-pandemic/',\n",
       " 'https://www.ksat.com/news/politics/2020/11/16/hardening-partisan-map-steepens-democrats-climb-in-senate/',\n",
       " 'https://www.ksat.com/news/local/2020/11/16/sapd-driver-fled-after-wrong-way-crash-on-hwy-151-that-sent-1-person-to-hospital/',\n",
       " 'https://www.ksat.com/news/local/2020/11/16/travel-trailer-destroyed-by-early-morning-fire-safd-says/',\n",
       " 'https://www.ksat.com/news/politics/2020/11/16/biden-set-to-address-plans-for-economy-as-pandemic-rages/',\n",
       " 'https://www.ksat.com/news/world/2020/11/16/nato-acting-us-pentagon-chief-discuss-afghanistan/',\n",
       " 'https://www.ksat.com/news/world/2020/11/16/retirees-protest-belarus-leader-on-100th-day-since-vote/',\n",
       " 'https://www.ksat.com/news/local/2020/11/16/18-year-old-dies-after-2-vehicle-crash-on-northwest-side-authorities-say/',\n",
       " 'https://www.ksat.com/news/world/2020/11/16/migrant-arrivals-putting-pressure-on-spains-canary-islands/',\n",
       " 'https://www.ksat.com/news/world/2020/11/16/greek-pm-appeals-for-restraint-during-uprising-anniversary/',\n",
       " 'https://www.ksat.com/news/local/2020/11/16/authorities-id-31-year-old-man-killed-in-shooting-outside-northwest-side-apartment-complex/',\n",
       " 'https://www.ksat.com/news/world/2020/11/16/brazil-voters-ignore-bolsonaros-city-election-endorsements/',\n",
       " 'https://www.ksat.com/news/world/2020/11/16/un-over-25300-fleeing-ethiopia-fighting-have-reached-sudan/',\n",
       " 'https://www.ksat.com/news/politics/2020/11/16/facebook-twitter-ceos-to-be-pressed-on-election-handling/',\n",
       " 'https://www.ksat.com/news/local/2020/11/16/new-luxury-hotel-near-river-walk-brings-glitz-glamour-much-needed-economic-impact/',\n",
       " 'https://www.ksat.com/news/politics/2020/11/16/michigan-governor-says-she-has-authority-for-stay-home-order/',\n",
       " 'https://www.ksat.com/news/politics/2020/11/16/watch-live-president-elect-joe-biden-to-address-plans-for-economy/',\n",
       " 'https://www.ksat.com/news/world/2020/11/16/poland-hungary-threaten-eu-budget-over-rule-of-law-issue/']"
      ]
     },
     "execution_count": 201,
     "metadata": {},
     "output_type": "execute_result"
    }
   ],
   "source": [
    "get_news_urls(urls)"
   ]
  },
  {
   "cell_type": "code",
   "execution_count": null,
   "metadata": {},
   "outputs": [],
   "source": [
    "# Creating function to get all the news articles\n",
    "def get_news_articles(cached=False):\n",
    "    '''\n",
    "    This function with default cached == False does a fresh scrape of inshort pages with topics \n",
    "    business, sports, technology, and entertainment and writes the returned df to a json file.\n",
    "    cached == True returns a df read in from a json file.\n",
    "    '''\n",
    "    # option to read in a json file instead of scrape for df\n",
    "    if cached == True:\n",
    "        df = pd.read_json('articles.json')\n",
    "        \n",
    "    # cached == False completes a fresh scrape for df    \n",
    "    else:\n",
    "    \n",
    "        # Set base_url that will be used in get request\n",
    "        base_url = 'https://inshorts.com/en/read/'\n",
    "        \n",
    "        # List of topics to scrape\n",
    "        topics = ['business', 'sports', 'technology', 'entertainment']\n",
    "        \n",
    "        # Create an empty list, articles, to hold our dictionaries\n",
    "        articles = []\n",
    "\n",
    "        for topic in topics:\n",
    "            \n",
    "            # Create url with topic endpoint\n",
    "            topic_url = base_url + topic\n",
    "            \n",
    "            # Make request and soup object using helper\n",
    "            soup = make_soup(topic_url)\n",
    "\n",
    "            # Loop through each news card on the page and get what we want\n",
    "            for card in cards:\n",
    "                title = card.find('span', itemprop='headline' ).text\n",
    "                author = card.find('span', class_='author').text\n",
    "                content = card.find('div', itemprop='articleBody').text\n",
    "\n",
    "                # Create a dictionary, article, for each news card\n",
    "                article = ({'topic': topic, \n",
    "                            'title': title, \n",
    "                            'author': author, \n",
    "                            'content': content})\n",
    "\n",
    "                # Add the dictionary, article, to our list of dictionaries, articles.\n",
    "                articles.append(article)\n",
    "            \n",
    "        # Create a DataFrame from list of dictionaries\n",
    "        df = pd.DataFrame(articles)\n",
    "        \n",
    "        # Write df to json file for future use\n",
    "        df.to_json('articles.json')\n",
    "    \n",
    "    return df"
   ]
  }
 ],
 "metadata": {
  "kernelspec": {
   "display_name": "Python 3",
   "language": "python",
   "name": "python3"
  },
  "language_info": {
   "codemirror_mode": {
    "name": "ipython",
    "version": 3
   },
   "file_extension": ".py",
   "mimetype": "text/x-python",
   "name": "python",
   "nbconvert_exporter": "python",
   "pygments_lexer": "ipython3",
   "version": "3.7.9"
  }
 },
 "nbformat": 4,
 "nbformat_minor": 4
}
