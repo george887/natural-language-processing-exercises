{
 "cells": [
  {
   "cell_type": "code",
   "execution_count": 1,
   "metadata": {},
   "outputs": [],
   "source": [
    "from requests import get\n",
    "from bs4 import BeautifulSoup as bs\n",
    "import os"
   ]
  },
  {
   "cell_type": "code",
   "execution_count": 2,
   "metadata": {},
   "outputs": [],
   "source": [
    "url = 'https://codeup.com/codeups-data-science-career-accelerator-is-here/'\n",
    "headers = {'User-Agent': 'Codeup Data Science'} # Some websites don't accept the pyhon-requests default user-agent\n",
    "response = get(url, headers=headers)"
   ]
  },
  {
   "cell_type": "code",
   "execution_count": 3,
   "metadata": {},
   "outputs": [
    {
     "name": "stdout",
     "output_type": "stream",
     "text": [
      "<!DOCTYPE html><html lang=\"en-US\"><head >\t<meta charset=\"UTF-8\" />\n",
      "\t<meta name=\"viewport\" content=\"width=device-width, initial-scale=1\" />\n",
      "\t\n",
      "\t<!-- This site is optimized with the Yoast SEO plugin v15.2 - https://yoast.com/wordpress/plugins/seo/ -->\n",
      "\t<title>Codeup’s Data Science Career Accelerator is Here! - Codeup</title>\n",
      "\t<meta name=\"description\" content=\"The rumors are true! The time has arrived\n"
     ]
    }
   ],
   "source": [
    "print(response.text[:400])"
   ]
  },
  {
   "cell_type": "code",
   "execution_count": 4,
   "metadata": {},
   "outputs": [],
   "source": [
    "# Make a soup variable holding the response content\n",
    "soup = bs(response.content, 'html.parser')\n",
    "\n",
    "# Use command + option + u to look at the hlml of the page (Source Code)"
   ]
  },
  {
   "cell_type": "markdown",
   "metadata": {},
   "source": [
    "# Towards data science walk thru example"
   ]
  },
  {
   "cell_type": "code",
   "execution_count": 5,
   "metadata": {},
   "outputs": [],
   "source": [
    "some_html_str = \"\"\"\n",
    "<HTML>\n",
    "    <HEAD>\n",
    "        <TITLE>My cool title</TITLE>\n",
    "    </HEAD>\n",
    "<BODY>\n",
    "    <H1>This is a Header</H1>\n",
    "    <ul id=\"list\" class=\"coolList\">\n",
    "        <li>item 1</li>\n",
    "        <li>item 2</li>\n",
    "        <li>item 3</li>\n",
    "    </ul>\n",
    "</BODY>\n",
    "</HTML>\n",
    "\"\"\"\n",
    "#Feed the HTML to BeautifulSoup\n",
    "soup = bs(some_html_str)"
   ]
  },
  {
   "cell_type": "code",
   "execution_count": 6,
   "metadata": {},
   "outputs": [
    {
     "data": {
      "text/html": [
       "\n",
       "<HTML>\n",
       "    <HEAD>\n",
       "        <TITLE>My cool title</TITLE>\n",
       "    </HEAD>\n",
       "<BODY>\n",
       "    <H1>This is a Header</H1>\n",
       "    <ul id=\"list\" class=\"coolList\">\n",
       "        <li>item 1</li>\n",
       "        <li>item 2</li>\n",
       "        <li>item 3</li>\n",
       "    </ul>\n",
       "</BODY>\n",
       "</HTML>\n"
      ],
      "text/plain": [
       "<IPython.core.display.HTML object>"
      ]
     },
     "metadata": {},
     "output_type": "display_data"
    }
   ],
   "source": [
    "from IPython.core.display import display, HTML\n",
    "display(HTML(some_html_str))"
   ]
  },
  {
   "cell_type": "code",
   "execution_count": 7,
   "metadata": {},
   "outputs": [
    {
     "data": {
      "text/plain": [
       "<h1>This is a Header</h1>"
      ]
     },
     "execution_count": 7,
     "metadata": {},
     "output_type": "execute_result"
    }
   ],
   "source": [
    "# Finds the 'h1' the header tag\n",
    "soup.find('h1')"
   ]
  },
  {
   "cell_type": "code",
   "execution_count": 8,
   "metadata": {},
   "outputs": [
    {
     "data": {
      "text/plain": [
       "'This is a Header'"
      ]
     },
     "execution_count": 8,
     "metadata": {},
     "output_type": "execute_result"
    }
   ],
   "source": [
    "# .text allows you to get only the text\n",
    "soup.find('h1').text"
   ]
  },
  {
   "cell_type": "code",
   "execution_count": 9,
   "metadata": {},
   "outputs": [
    {
     "data": {
      "text/plain": [
       "<li>item 1</li>"
      ]
     },
     "execution_count": 9,
     "metadata": {},
     "output_type": "execute_result"
    }
   ],
   "source": [
    "# to find the first item\n",
    "soup.find('li')"
   ]
  },
  {
   "cell_type": "code",
   "execution_count": 10,
   "metadata": {},
   "outputs": [
    {
     "data": {
      "text/plain": [
       "[<li>item 1</li>, <li>item 2</li>, <li>item 3</li>]"
      ]
     },
     "execution_count": 10,
     "metadata": {},
     "output_type": "execute_result"
    }
   ],
   "source": [
    "# To find all the list items. We have 3 list items\n",
    "soup.find_all('li')"
   ]
  },
  {
   "cell_type": "markdown",
   "metadata": {},
   "source": [
    "# 1- How to get the inner HTML of the list items?"
   ]
  },
  {
   "cell_type": "code",
   "execution_count": 11,
   "metadata": {},
   "outputs": [
    {
     "data": {
      "text/plain": [
       "['item 1', 'item 2', 'item 3']"
      ]
     },
     "execution_count": 11,
     "metadata": {},
     "output_type": "execute_result"
    }
   ],
   "source": [
    "inner_text = [item.text for item in soup.find_all('li')]\n",
    "inner_text"
   ]
  },
  {
   "cell_type": "markdown",
   "metadata": {},
   "source": [
    "# 2- What if we have multiple lists in the code?\n"
   ]
  },
  {
   "cell_type": "code",
   "execution_count": 24,
   "metadata": {},
   "outputs": [],
   "source": [
    "ourlist = soup.find(attrs={'class':'coolList', 'id':'list'})"
   ]
  },
  {
   "cell_type": "code",
   "execution_count": 25,
   "metadata": {},
   "outputs": [
    {
     "data": {
      "text/plain": [
       "[<li>item 1</li>, <li>item 2</li>, <li>item 3</li>]"
      ]
     },
     "execution_count": 25,
     "metadata": {},
     "output_type": "execute_result"
    }
   ],
   "source": [
    "ourlist.find_all('li')"
   ]
  },
  {
   "cell_type": "code",
   "execution_count": 26,
   "metadata": {},
   "outputs": [
    {
     "data": {
      "text/plain": [
       "<ul class=\"coolList\" id=\"list\">\n",
       "<li>item 1</li>\n",
       "<li>item 2</li>\n",
       "<li>item 3</li>\n",
       "</ul>"
      ]
     },
     "execution_count": 26,
     "metadata": {},
     "output_type": "execute_result"
    }
   ],
   "source": [
    "ourlist"
   ]
  },
  {
   "cell_type": "code",
   "execution_count": 27,
   "metadata": {},
   "outputs": [
    {
     "name": "stdout",
     "output_type": "stream",
     "text": [
      "<h1>This is a Header</h1>\n",
      "This is a Header\n",
      "['item 1', 'item 2', 'item 3']\n",
      "[<li>item 1</li>, <li>item 2</li>, <li>item 3</li>]\n"
     ]
    }
   ],
   "source": [
    "#Import needed libraries\n",
    "from bs4 import BeautifulSoup as bs\n",
    "import requests as rq\n",
    "#HTML string\n",
    "some_html_str = \"\"\"\n",
    "<HTML>\n",
    "    <HEAD>\n",
    "        <TITLE>My cool title</TITLE>\n",
    "    </HEAD>\n",
    "<BODY>\n",
    "    <H1>This is a Header</H1>\n",
    "    <ul id=\"list\" class=\"coolList\">\n",
    "        <li>item 1</li>\n",
    "        <li>item 2</li>\n",
    "        <li>item 3</li>\n",
    "    </ul>\n",
    "</BODY>\n",
    "</HTML>\n",
    "\"\"\"\n",
    "soup = bs(some_html_str)\n",
    "#Get headers\n",
    "print(soup.find('h1'))\n",
    "print(soup.find('h1').text)\n",
    "#Get all list items\n",
    "inner_text = [item.text for item in soup.find_all('li')]\n",
    "print(inner_text)\n",
    "ourList = soup.find(attrs={\"class\":\"coolList\", \"id\":\"list\"})\n",
    "print(ourList.find_all('li'))"
   ]
  },
  {
   "cell_type": "code",
   "execution_count": 28,
   "metadata": {},
   "outputs": [],
   "source": [
    "url = 'https://en.wikipedia.org/wiki/List_of_countries_by_coffee_production'\n",
    "page = rq.get(url).text\n",
    "soup = bs(page)"
   ]
  },
  {
   "cell_type": "code",
   "execution_count": 29,
   "metadata": {},
   "outputs": [
    {
     "data": {
      "text/plain": [
       "'<!DOCTYPE html>\\n<html class=\"client-nojs\" lang=\"en\" dir=\"ltr\">\\n<head>\\n<meta charset=\"UTF-8\"/>\\n<title>List of countries by coffee production - Wikipedia</title>\\n<script>document.documentElement.className=\"client-js\";RLCONF={\"wgBreakFrames\":!1,\"wgSeparatorTransformTable\":[\"\",\"\"],\"wgDigitTransformTable\":[\"\",\"\"],\"wgDefaultDateFormat\":\"dmy\",\"wgMonthNames\":[\"\",\"January\",\"February\",\"March\",\"April\",\"May\",\"June\",\"July\",\"August\",\"September\",\"October\",\"November\",\"December\"],\"wgRequestId\":\"a13291a1-2a82-41de-b415-a482ede6b44e\",\"wgCSPNonce\":!1,\"wgCanonicalNamespace\":\"\",\"wgCanonicalSpecialPageName\":!1,\"wgNamespaceNumber\":0,\"wgPageName\":\"List_of_countries_by_coffee_production\",\"wgTitle\":\"List of countries by coffee production\",\"wgCurRevisionId\":988193478,\"wgRevisionId\":988193478,\"wgArticleId\":36196672,\"wgIsArticle\":!0,\"wgIsRedirect\":!1,\"wgAction\":\"view\",\"wgUserName\":null,\"wgUserGroups\":[\"*\"],\"wgCategories\":[\"Articles with short description\",\"Short description is different from Wikidata\",\"Coffee production by country\",\"Lists of countries by production\"],\"wgPageContentLanguage\":\"en\",\"wgPageContentModel\":\"wikitext\",\"wgRelevantPageName\":\\n\"List_of_countries_by_coffee_production\",\"wgRelevantArticleId\":36196672,\"wgIsProbablyEditable\":!0,\"wgRelevantPageIsProbablyEditable\":!0,\"wgRestrictionEdit\":[],\"wgRestrictionMove\":[],\"wgMediaViewerOnClick\":!0,\"wgMediaViewerEnabledByDefault\":!0,\"wgPopupsReferencePreviews\":!1,\"wgPopupsConflictsWithNavPopupGadget\":!1,\"wgVisualEditor\":{\"pageLanguageCode\":\"en\",\"pageLanguageDir\":\"ltr\",\"pageVariantFallbacks\":\"en\"},\"wgMFDisplayWikibaseDescriptions\":{\"search\":!0,\"nearby\":!0,\"watchlist\":!0,\"tagline\":!1},\"wgWMESchemaEditAttemptStepOversample\":!1,\"wgULSCurrentAutonym\":\"English\",\"wgNoticeProject\":\"wikipedia\",\"wgCentralAuthMobileDomain\":!1,\"wgEditSubmitButtonLabelPublish\":!0,\"wgULSPosition\":\"interlanguage\",\"wgWikibaseItemId\":\"Q6169807\"};RLSTATE={\"ext.globalCssJs.user.styles\":\"ready\",\"site.styles\":\"ready\",\"noscript\":\"ready\",\"user.styles\":\"ready\",\"ext.globalCssJs.user\":\"ready\",\"user\":\"ready\",\"user.options\":\"loading\",\"ext.cite.styles\":\"ready\",\"skins.vector.styles.legacy\":\\n\"ready\",\"jquery.tablesorter.styles\":\"ready\",\"jquery.makeCollapsible.styles\":\"ready\",\"ext.visualEditor.desktopArticleTarget.noscript\":\"ready\",\"ext.uls.interlanguage\":\"ready\",\"ext.wikimediaBadges\":\"ready\",\"wikibase.client.init\":\"ready\"};RLPAGEMODULES=[\"ext.cite.ux-enhancements\",\"site\",\"mediawiki.page.ready\",\"jquery.tablesorter\",\"jquery.makeCollapsible\",\"skins.vector.legacy.js\",\"ext.gadget.ReferenceTooltips\",\"ext.gadget.charinsert\",\"ext.gadget.extra-toolbar-buttons\",\"ext.gadget.refToolbar\",\"ext.gadget.switcher\",\"ext.centralauth.centralautologin\",\"mmv.head\",\"mmv.bootstrap.autostart\",\"ext.popups\",\"ext.visualEditor.desktopArticleTarget.init\",\"ext.visualEditor.targetLoader\",\"ext.eventLogging\",\"ext.wikimediaEvents\",\"ext.navigationTiming\",\"ext.uls.compactlinks\",\"ext.uls.interface\",\"ext.cx.eventlogging.campaigns\",\"ext.quicksurveys.init\",\"ext.centralNotice.geoIP\",\"ext.centralNotice.startUp\"];</script>\\n<script>(RLQ=window.RLQ||[]).push(function(){mw.loader.implement(\"user.options@1hzgi\",function($,jQuery,require,module){/*@nomin*/mw.user.tokens.set({\"patrolToken\":\"+\\\\\\\\\",\"watchToken\":\"+\\\\\\\\\",\"csrfToken\":\"+\\\\\\\\\"});\\n});});</script>\\n<link rel=\"stylesheet\" href=\"/w/load.php?lang=en&amp;modules=ext.cite.styles%7Cext.uls.interlanguage%7Cext.visualEditor.desktopArticleTarget.noscript%7Cext.wikimediaBadges%7Cjquery.makeCollapsible.styles%7Cjquery.tablesorter.styles%7Cskins.vector.styles.legacy%7Cwikibase.client.init&amp;only=styles&amp;skin=vector\"/>\\n<script async=\"\" src=\"/w/load.php?lang=en&amp;modules=startup&amp;only=scripts&amp;raw=1&amp;skin=vector\"></script>\\n<meta name=\"ResourceLoaderDynamicStyles\" content=\"\"/>\\n<link rel=\"stylesheet\" href=\"/w/load.php?lang=en&amp;modules=site.styles&amp;only=styles&amp;skin=vector\"/>\\n<meta name=\"generator\" content=\"MediaWiki 1.36.0-wmf.16\"/>\\n<meta name=\"referrer\" content=\"origin\"/>\\n<meta name=\"referrer\" content=\"origin-when-crossorigin\"/>\\n<meta name=\"referrer\" content=\"origin-when-cross-origin\"/>\\n<meta property=\"og:image\" content=\"https://upload.wikimedia.org/wikipedia/commons/thumb/c/cd/GlobalCoffeeProduction.png/1200px-GlobalCoffeeProduction.png\"/>\\n<link rel=\"preconnect\" href=\"//upload.wikimedia.org\"/>\\n<link rel=\"alternate\" media=\"only screen and (max-width: 720px)\" href=\"//en.m.wikipedia.org/wiki/List_of_countries_by_coffee_production\"/>\\n<link rel=\"alternate\" type=\"application/x-wiki\" title=\"Edit this page\" href=\"/w/index.php?title=List_of_countries_by_coffee_production&amp;action=edit\"/>\\n<link rel=\"edit\" title=\"Edit this page\" href=\"/w/index.php?title=List_of_countries_by_coffee_production&amp;action=edit\"/>\\n<link rel=\"apple-touch-icon\" href=\"/static/apple-touch/wikipedia.png\"/>\\n<link rel=\"shortcut icon\" href=\"/static/favicon/wikipedia.ico\"/>\\n<link rel=\"search\" type=\"application/opensearchdescription+xml\" href=\"/w/opensearch_desc.php\" title=\"Wikipedia (en)\"/>\\n<link rel=\"EditURI\" type=\"application/rsd+xml\" href=\"//en.wikipedia.org/w/api.php?action=rsd\"/>\\n<link rel=\"license\" href=\"//creativecommons.org/licenses/by-sa/3.0/\"/>\\n<link rel=\"canonical\" href=\"https://en.wikipedia.org/wiki/List_of_countries_by_coffee_production\"/>\\n<link rel=\"dns-prefetch\" href=\"//login.wikimedia.org\"/>\\n<link rel=\"dns-prefetch\" href=\"//meta.wikimedia.org\" />\\n</head>\\n<body class=\"mediawiki ltr sitedir-ltr mw-hide-empty-elt ns-0 ns-subject mw-editable page-List_of_countries_by_coffee_production rootpage-List_of_countries_by_coffee_production skin-vector action-view skin-vector-legacy\"><div id=\"mw-page-base\" class=\"noprint\"></div>\\n<div id=\"mw-head-base\" class=\"noprint\"></div>\\n<div id=\"content\" class=\"mw-body\" role=\"main\">\\n\\t<a id=\"top\"></a>\\n\\t<div id=\"siteNotice\" class=\"mw-body-content\"><!-- CentralNotice --></div>\\n\\t<div class=\"mw-indicators mw-body-content\">\\n\\t</div>\\n\\t<h1 id=\"firstHeading\" class=\"firstHeading\" lang=\"en\">List of countries by coffee production</h1>\\n\\t<div id=\"bodyContent\" class=\"mw-body-content\">\\n\\t\\t<div id=\"siteSub\" class=\"noprint\">From Wikipedia, the free encyclopedia</div>\\n\\t\\t<div id=\"contentSub\"></div>\\n\\t\\t<div id=\"contentSub2\"></div>\\n\\t\\t\\n\\t\\t<div id=\"jump-to-nav\"></div>\\n\\t\\t<a class=\"mw-jump-link\" href=\"#mw-head\">Jump to navigation</a>\\n\\t\\t<a class=\"mw-jump-link\" href=\"#searchInput\">Jump to search</a>\\n\\t\\t<div id=\"mw-content-text\" lang=\"en\" dir=\"ltr\" class=\"mw-content-ltr\"><div class=\"mw-parser-output\"><div class=\"shortdescription nomobile noexcerpt noprint searchaux\" style=\"display:none\">Wikipedia list article</div>\\n<div class=\"thumb tright\"><div class=\"thumbinner\" style=\"width:552px;\"><a href=\"/wiki/File:GlobalCoffeeProduction.png\" class=\"image\"><img alt=\"\" src=\"//upload.wikimedia.org/wikipedia/commons/thumb/c/cd/GlobalCoffeeProduction.png/550px-GlobalCoffeeProduction.png\" decoding=\"async\" width=\"550\" height=\"270\" class=\"thumbimage\" srcset=\"//upload.wikimedia.org/wikipedia/commons/thumb/c/cd/GlobalCoffeeProduction.png/825px-GlobalCoffeeProduction.png 1.5x, //upload.wikimedia.org/wikipedia/commons/thumb/c/cd/GlobalCoffeeProduction.png/1100px-GlobalCoffeeProduction.png 2x\" data-file-width=\"6300\" data-file-height=\"3095\" /></a>  <div class=\"thumbcaption\"><div class=\"magnify\"><a href=\"/wiki/File:GlobalCoffeeProduction.png\" class=\"internal\" title=\"Enlarge\"></a></div>This map shows areas of coffee cultivation by type of coffee:<br /> r: <i><a href=\"/wiki/Coffea_canephora\" title=\"Coffea canephora\">Coffea canephora</a></i> (also known as <i>robusta</i>)<br /> m: Both <i>Coffea canephora (robusta)</i> and <i><a href=\"/wiki/Coffea_arabica\" title=\"Coffea arabica\">Coffea arabica</a> (arabica)</i><br /> a: <i>Coffea arabica</i></div></div></div>\\n<p>The following <b>list of countries by coffee production</b> catalogues <a href=\"/wiki/Sovereign_state\" title=\"Sovereign state\">sovereign states</a> that have <a href=\"/wiki/Coffea\" title=\"Coffea\">conducive climate</a> and infrastructure to foster the production of <a href=\"/wiki/Coffee_bean\" title=\"Coffee bean\">coffee beans</a>.<sup id=\"cite_ref-:0_1-0\" class=\"reference\"><a href=\"#cite_note-:0-1\">&#91;1&#93;</a></sup> Many of these countries maintain substantial <a href=\"/wiki/Supply_chain_management\" title=\"Supply chain management\">supply-chain relations</a> with the <a href=\"/wiki/List_of_coffeehouse_chains\" title=\"List of coffeehouse chains\">world\\'s largest coffeehouse chains</a> and enterprises.<sup id=\"cite_ref-2\" class=\"reference\"><a href=\"#cite_note-2\">&#91;2&#93;</a></sup> These coffeehouses play a prominent role in supporting <a href=\"/wiki/Developing_country\" title=\"Developing country\">developing economies</a> by waging a variety of <a href=\"/wiki/Coffee_wars\" title=\"Coffee wars\">coffee wars</a> to gain market share.<sup id=\"cite_ref-3\" class=\"reference\"><a href=\"#cite_note-3\">&#91;3&#93;</a></sup><sup id=\"cite_ref-4\" class=\"reference\"><a href=\"#cite_note-4\">&#91;4&#93;</a></sup> Often these coffeehouse chains pay a <a href=\"/wiki/Premium_pricing\" title=\"Premium pricing\">premium</a> above market price in order to alleviate <a href=\"/wiki/Fair_trade\" title=\"Fair trade\">fair trade</a> and <a href=\"/wiki/Sustainable_agriculture\" title=\"Sustainable agriculture\">sustainable farming</a> concerns. Developing countries that participate in the coffee market wield considerate influence on <a href=\"/wiki/Economics_of_coffee\" title=\"Economics of coffee\">global coffee economics</a>.<sup id=\"cite_ref-5\" class=\"reference\"><a href=\"#cite_note-5\">&#91;5&#93;</a></sup><sup id=\"cite_ref-6\" class=\"reference\"><a href=\"#cite_note-6\">&#91;6&#93;</a></sup>\\n</p>\\n<h2><span class=\"mw-headline\" id=\"Main_exporters_by_country_in_2020\">Main exporters by country in 2020</span><span class=\"mw-editsection\"><span class=\"mw-editsection-bracket\">[</span><a href=\"/w/index.php?title=List_of_countries_by_coffee_production&amp;action=edit&amp;section=1\" title=\"Edit section: Main exporters by country in 2020\">edit</a><span class=\"mw-editsection-bracket\">]</span></span></h2>\\n<p>According to the World Atlas, the main <a href=\"/wiki/Export\" title=\"Export\">exporters</a> of coffee beans as of 2019 are:<sup id=\"cite_ref-:0_1-1\" class=\"reference\"><a href=\"#cite_note-:0-1\">&#91;1&#93;</a></sup>\\n</p>\\n<table class=\"wikitable sortable\" border=\"1\">\\n\\n<tbody><tr>\\n<th>Rank\\n</th>\\n<th>Country\\n</th>\\n<th>60 kilogram bags\\n</th>\\n<th>Metric Tons\\n</th>\\n<th>Pounds\\n</th></tr>\\n<tr>\\n<td>1\\n</td>\\n<td><span class=\"flagicon\"><a href=\"/wiki/Brazil\" title=\"Brazil\"><img alt=\"Brazil\" src=\"//upload.wikimedia.org/wikipedia/en/thumb/0/05/Flag_of_Brazil.svg/22px-Flag_of_Brazil.svg.png\" decoding=\"async\" width=\"22\" height=\"15\" class=\"thumbborder\" srcset=\"//upload.wikimedia.org/wikipedia/en/thumb/0/05/Flag_of_Brazil.svg/33px-Flag_of_Brazil.svg.png 1.5x, //upload.wikimedia.org/wikipedia/en/thumb/0/05/Flag_of_Brazil.svg/43px-Flag_of_Brazil.svg.png 2x\" data-file-width=\"720\" data-file-height=\"504\" /></a></span> <a href=\"/wiki/Coffee_production_in_Brazil\" title=\"Coffee production in Brazil\">Brazil</a>\\n</td>\\n<td>44,200,000\\n</td>\\n<td>2,652,000\\n</td>\\n<td>5,714,381,000\\n</td></tr>\\n<tr>\\n<td>2\\n</td>\\n<td><span class=\"flagicon\"><a href=\"/wiki/Vietnam\" title=\"Vietnam\"><img alt=\"Vietnam\" src=\"//upload.wikimedia.org/wikipedia/commons/thumb/2/21/Flag_of_Vietnam.svg/23px-Flag_of_Vietnam.svg.png\" decoding=\"async\" width=\"23\" height=\"15\" class=\"thumbborder\" srcset=\"//upload.wikimedia.org/wikipedia/commons/thumb/2/21/Flag_of_Vietnam.svg/35px-Flag_of_Vietnam.svg.png 1.5x, //upload.wikimedia.org/wikipedia/commons/thumb/2/21/Flag_of_Vietnam.svg/45px-Flag_of_Vietnam.svg.png 2x\" data-file-width=\"900\" data-file-height=\"600\" /></a></span> <a href=\"/wiki/Coffee_production_in_Vietnam\" title=\"Coffee production in Vietnam\">Vietnam</a>\\n</td>\\n<td>27,500,000\\n</td>\\n<td>1,650,000\\n</td>\\n<td>3,637,627,000\\n</td></tr>\\n<tr>\\n<td>3\\n</td>\\n<td><span class=\"flagicon\"><a href=\"/wiki/Colombia\" title=\"Colombia\"><img alt=\"Colombia\" src=\"//upload.wikimedia.org/wikipedia/commons/thumb/2/21/Flag_of_Colombia.svg/23px-Flag_of_Colombia.svg.png\" decoding=\"async\" width=\"23\" height=\"15\" class=\"thumbborder\" srcset=\"//upload.wikimedia.org/wikipedia/commons/thumb/2/21/Flag_of_Colombia.svg/35px-Flag_of_Colombia.svg.png 1.5x, //upload.wikimedia.org/wikipedia/commons/thumb/2/21/Flag_of_Colombia.svg/45px-Flag_of_Colombia.svg.png 2x\" data-file-width=\"900\" data-file-height=\"600\" /></a></span> <a href=\"/wiki/Coffee_production_in_Colombia\" title=\"Coffee production in Colombia\">Colombia</a>\\n</td>\\n<td>13,500,000\\n</td>\\n<td>810,000\\n</td>\\n<td>1,785,744,000\\n</td></tr>\\n<tr>\\n<td>4\\n</td>\\n<td><span class=\"flagicon\"><a href=\"/wiki/Indonesia\" title=\"Indonesia\"><img alt=\"Indonesia\" src=\"//upload.wikimedia.org/wikipedia/commons/thumb/9/9f/Flag_of_Indonesia.svg/23px-Flag_of_Indonesia.svg.png\" decoding=\"async\" width=\"23\" height=\"15\" class=\"thumbborder\" srcset=\"//upload.wikimedia.org/wikipedia/commons/thumb/9/9f/Flag_of_Indonesia.svg/35px-Flag_of_Indonesia.svg.png 1.5x, //upload.wikimedia.org/wikipedia/commons/thumb/9/9f/Flag_of_Indonesia.svg/45px-Flag_of_Indonesia.svg.png 2x\" data-file-width=\"900\" data-file-height=\"600\" /></a></span> <a href=\"/wiki/Coffee_production_in_Indonesia\" title=\"Coffee production in Indonesia\">Indonesia</a>\\n</td>\\n<td>11,000,000\\n</td>\\n<td>660,000\\n</td>\\n<td>1,455,050,000\\n</td></tr>\\n<tr>\\n<td>5\\n</td>\\n<td><span class=\"flagicon\"><a href=\"/wiki/Ethiopia\" title=\"Ethiopia\"><img alt=\"Ethiopia\" src=\"//upload.wikimedia.org/wikipedia/commons/thumb/7/71/Flag_of_Ethiopia.svg/23px-Flag_of_Ethiopia.svg.png\" decoding=\"async\" width=\"23\" height=\"12\" class=\"thumbborder\" srcset=\"//upload.wikimedia.org/wikipedia/commons/thumb/7/71/Flag_of_Ethiopia.svg/35px-Flag_of_Ethiopia.svg.png 1.5x, //upload.wikimedia.org/wikipedia/commons/thumb/7/71/Flag_of_Ethiopia.svg/46px-Flag_of_Ethiopia.svg.png 2x\" data-file-width=\"1200\" data-file-height=\"600\" /></a></span> <a href=\"/wiki/Coffee_production_in_Ethiopia\" title=\"Coffee production in Ethiopia\">Ethiopia</a>\\n</td>\\n<td>6,400,000\\n</td>\\n<td>384,000\\n</td>\\n<td>846,575,000\\n</td></tr>\\n<tr>\\n<td>6\\n</td>\\n<td><span class=\"flagicon\"><a href=\"/wiki/Honduras\" title=\"Honduras\"><img alt=\"Honduras\" src=\"//upload.wikimedia.org/wikipedia/commons/thumb/8/82/Flag_of_Honduras.svg/23px-Flag_of_Honduras.svg.png\" decoding=\"async\" width=\"23\" height=\"12\" class=\"thumbborder\" srcset=\"//upload.wikimedia.org/wikipedia/commons/thumb/8/82/Flag_of_Honduras.svg/35px-Flag_of_Honduras.svg.png 1.5x, //upload.wikimedia.org/wikipedia/commons/thumb/8/82/Flag_of_Honduras.svg/46px-Flag_of_Honduras.svg.png 2x\" data-file-width=\"1000\" data-file-height=\"500\" /></a></span> <a href=\"/wiki/Coffee_production_in_Honduras\" title=\"Coffee production in Honduras\">Honduras</a>\\n</td>\\n<td>5,800,000\\n</td>\\n<td>348,000\\n</td>\\n<td>767,208,000\\n</td></tr>\\n<tr>\\n<td>7\\n</td>\\n<td><span class=\"flagicon\"><a href=\"/wiki/India\" title=\"India\"><img alt=\"India\" src=\"//upload.wikimedia.org/wikipedia/en/thumb/4/41/Flag_of_India.svg/23px-Flag_of_India.svg.png\" decoding=\"async\" width=\"23\" height=\"15\" class=\"thumbborder\" srcset=\"//upload.wikimedia.org/wikipedia/en/thumb/4/41/Flag_of_India.svg/35px-Flag_of_India.svg.png 1.5x, //upload.wikimedia.org/wikipedia/en/thumb/4/41/Flag_of_India.svg/45px-Flag_of_India.svg.png 2x\" data-file-width=\"1350\" data-file-height=\"900\" /></a></span> <a href=\"/wiki/Coffee_production_in_India\" title=\"Coffee production in India\">India</a>\\n</td>\\n<td>5,800,000\\n</td>\\n<td>348,000\\n</td>\\n<td>767,208,000\\n</td></tr>\\n<tr>\\n<td>8\\n</td>\\n<td><span class=\"flagicon\"><a href=\"/wiki/Uganda\" title=\"Uganda\"><img alt=\"Uganda\" src=\"//upload.wikimedia.org/wikipedia/commons/thumb/4/4e/Flag_of_Uganda.svg/23px-Flag_of_Uganda.svg.png\" decoding=\"async\" width=\"23\" height=\"15\" class=\"thumbborder\" srcset=\"//upload.wikimedia.org/wikipedia/commons/thumb/4/4e/Flag_of_Uganda.svg/35px-Flag_of_Uganda.svg.png 1.5x, //upload.wikimedia.org/wikipedia/commons/thumb/4/4e/Flag_of_Uganda.svg/45px-Flag_of_Uganda.svg.png 2x\" data-file-width=\"900\" data-file-height=\"600\" /></a></span> <a href=\"/wiki/Coffee_production_in_Uganda\" title=\"Coffee production in Uganda\">Uganda</a>\\n</td>\\n<td>4,800,000\\n</td>\\n<td>288,000\\n</td>\\n<td>634,931,000\\n</td></tr>\\n<tr>\\n<td>9\\n</td>\\n<td><span class=\"flagicon\"><a href=\"/wiki/Mexico\" title=\"Mexico\"><img alt=\"Mexico\" src=\"//upload.wikimedia.org/wikipedia/commons/thumb/f/fc/Flag_of_Mexico.svg/23px-Flag_of_Mexico.svg.png\" decoding=\"async\" width=\"23\" height=\"13\" class=\"thumbborder\" srcset=\"//upload.wikimedia.org/wikipedia/commons/thumb/f/fc/Flag_of_Mexico.svg/35px-Flag_of_Mexico.svg.png 1.5x, //upload.wikimedia.org/wikipedia/commons/thumb/f/fc/Flag_of_Mexico.svg/46px-Flag_of_Mexico.svg.png 2x\" data-file-width=\"980\" data-file-height=\"560\" /></a></span> <a href=\"/wiki/Coffee_production_in_Mexico\" title=\"Coffee production in Mexico\">Mexico</a>\\n</td>\\n<td>3,900,000\\n</td>\\n<td>234,000\\n</td>\\n<td>515,881,000\\n</td></tr>\\n<tr>\\n<td>10\\n</td>\\n<td><span class=\"flagicon\"><a href=\"/wiki/Guatemala\" title=\"Guatemala\"><img alt=\"Guatemala\" src=\"//upload.wikimedia.org/wikipedia/commons/thumb/e/ec/Flag_of_Guatemala.svg/23px-Flag_of_Guatemala.svg.png\" decoding=\"async\" width=\"23\" height=\"14\" class=\"thumbborder\" srcset=\"//upload.wikimedia.org/wikipedia/commons/thumb/e/ec/Flag_of_Guatemala.svg/35px-Flag_of_Guatemala.svg.png 1.5x, //upload.wikimedia.org/wikipedia/commons/thumb/e/ec/Flag_of_Guatemala.svg/46px-Flag_of_Guatemala.svg.png 2x\" data-file-width=\"960\" data-file-height=\"600\" /></a></span> <a href=\"/wiki/Coffee_production_in_Guatemala\" title=\"Coffee production in Guatemala\">Guatemala</a>\\n</td>\\n<td>3,400,000\\n</td>\\n<td>204,000\\n</td>\\n<td>449,743,000\\n</td></tr>\\n<tr>\\n<td>11\\n</td>\\n<td><span class=\"flagicon\"><a href=\"/wiki/Peru\" title=\"Peru\"><img alt=\"Peru\" src=\"//upload.wikimedia.org/wikipedia/commons/thumb/c/cf/Flag_of_Peru.svg/23px-Flag_of_Peru.svg.png\" decoding=\"async\" width=\"23\" height=\"15\" class=\"thumbborder\" srcset=\"//upload.wikimedia.org/wikipedia/commons/thumb/c/cf/Flag_of_Peru.svg/35px-Flag_of_Peru.svg.png 1.5x, //upload.wikimedia.org/wikipedia/commons/thumb/c/cf/Flag_of_Peru.svg/45px-Flag_of_Peru.svg.png 2x\" data-file-width=\"900\" data-file-height=\"600\" /></a></span> <a href=\"/wiki/Coffee_production_in_Peru\" title=\"Coffee production in Peru\">Peru</a>\\n</td>\\n<td>3,200,000\\n</td>\\n<td>192,000\\n</td>\\n<td>423,287,000\\n</td></tr>\\n<tr>\\n<td>12\\n</td>\\n<td><span class=\"flagicon\"><a href=\"/wiki/Nicaragua\" title=\"Nicaragua\"><img alt=\"Nicaragua\" src=\"//upload.wikimedia.org/wikipedia/commons/thumb/1/19/Flag_of_Nicaragua.svg/23px-Flag_of_Nicaragua.svg.png\" decoding=\"async\" width=\"23\" height=\"14\" class=\"thumbborder\" srcset=\"//upload.wikimedia.org/wikipedia/commons/thumb/1/19/Flag_of_Nicaragua.svg/35px-Flag_of_Nicaragua.svg.png 1.5x, //upload.wikimedia.org/wikipedia/commons/thumb/1/19/Flag_of_Nicaragua.svg/46px-Flag_of_Nicaragua.svg.png 2x\" data-file-width=\"1000\" data-file-height=\"600\" /></a></span> <a href=\"/wiki/Coffee_production_in_Nicaragua\" title=\"Coffee production in Nicaragua\">Nicaragua</a>\\n</td>\\n<td>2,200,000\\n</td>\\n<td>132,000\\n</td>\\n<td>291,010,000\\n</td></tr>\\n<tr>\\n<td>13\\n</td>\\n<td><span class=\"flagicon\"><a href=\"/wiki/China\" title=\"China\"><img alt=\"China\" src=\"//upload.wikimedia.org/wikipedia/commons/thumb/f/fa/Flag_of_the_People%27s_Republic_of_China.svg/23px-Flag_of_the_People%27s_Republic_of_China.svg.png\" decoding=\"async\" width=\"23\" height=\"15\" class=\"thumbborder\" srcset=\"//upload.wikimedia.org/wikipedia/commons/thumb/f/fa/Flag_of_the_People%27s_Republic_of_China.svg/35px-Flag_of_the_People%27s_Republic_of_China.svg.png 1.5x, //upload.wikimedia.org/wikipedia/commons/thumb/f/fa/Flag_of_the_People%27s_Republic_of_China.svg/45px-Flag_of_the_People%27s_Republic_of_China.svg.png 2x\" data-file-width=\"900\" data-file-height=\"600\" /></a></span> <a href=\"/wiki/Coffee_production_in_China\" title=\"Coffee production in China\">China</a><sup>(2013/14 est.)</sup><sup id=\"cite_ref-7\" class=\"reference\"><a href=\"#cite_note-7\">&#91;7&#93;</a></sup>\\n</td>\\n<td>1,947,000\\n</td>\\n<td>116,820\\n</td>\\n<td>257,544,000\\n</td></tr>\\n<tr>\\n<td>14\\n</td>\\n<td><span class=\"flagicon\"><a href=\"/wiki/Ivory_Coast\" title=\"Ivory Coast\"><img alt=\"Ivory Coast\" src=\"//upload.wikimedia.org/wikipedia/commons/thumb/f/fe/Flag_of_C%C3%B4te_d%27Ivoire.svg/23px-Flag_of_C%C3%B4te_d%27Ivoire.svg.png\" decoding=\"async\" width=\"23\" height=\"15\" class=\"thumbborder\" srcset=\"//upload.wikimedia.org/wikipedia/commons/thumb/f/fe/Flag_of_C%C3%B4te_d%27Ivoire.svg/35px-Flag_of_C%C3%B4te_d%27Ivoire.svg.png 1.5x, //upload.wikimedia.org/wikipedia/commons/thumb/f/fe/Flag_of_C%C3%B4te_d%27Ivoire.svg/45px-Flag_of_C%C3%B4te_d%27Ivoire.svg.png 2x\" data-file-width=\"900\" data-file-height=\"600\" /></a></span> <a href=\"/wiki/Coffee_production_in_Ivory_Coast\" title=\"Coffee production in Ivory Coast\">Ivory Coast</a>\\n</td>\\n<td>1,800,000\\n</td>\\n<td>108,000\\n</td>\\n<td>238,099,000\\n</td></tr>\\n<tr>\\n<td>15\\n</td>\\n<td><span class=\"flagicon\"><a href=\"/wiki/Costa_Rica\" title=\"Costa Rica\"><img alt=\"Costa Rica\" src=\"//upload.wikimedia.org/wikipedia/commons/thumb/f/f2/Flag_of_Costa_Rica.svg/23px-Flag_of_Costa_Rica.svg.png\" decoding=\"async\" width=\"23\" height=\"14\" class=\"thumbborder\" srcset=\"//upload.wikimedia.org/wikipedia/commons/thumb/f/f2/Flag_of_Costa_Rica.svg/35px-Flag_of_Costa_Rica.svg.png 1.5x, //upload.wikimedia.org/wikipedia/commons/thumb/f/f2/Flag_of_Costa_Rica.svg/46px-Flag_of_Costa_Rica.svg.png 2x\" data-file-width=\"1000\" data-file-height=\"600\" /></a></span> <a href=\"/wiki/Coffee_production_in_Costa_Rica\" title=\"Coffee production in Costa Rica\">Costa Rica</a>\\n</td>\\n<td>1,492,000\\n</td>\\n<td>89,520\\n</td>\\n<td>197,357,000\\n</td></tr>\\n<tr>\\n<td>16\\n</td>\\n<td><span class=\"flagicon\"><a href=\"/wiki/Kenya\" title=\"Kenya\"><img alt=\"Kenya\" src=\"//upload.wikimedia.org/wikipedia/commons/thumb/4/49/Flag_of_Kenya.svg/23px-Flag_of_Kenya.svg.png\" decoding=\"async\" width=\"23\" height=\"15\" class=\"thumbborder\" srcset=\"//upload.wikimedia.org/wikipedia/commons/thumb/4/49/Flag_of_Kenya.svg/35px-Flag_of_Kenya.svg.png 1.5x, //upload.wikimedia.org/wikipedia/commons/thumb/4/49/Flag_of_Kenya.svg/45px-Flag_of_Kenya.svg.png 2x\" data-file-width=\"900\" data-file-height=\"600\" /></a></span> <a href=\"/wiki/Coffee_production_in_Kenya\" title=\"Coffee production in Kenya\">Kenya</a>\\n</td>\\n<td>833,000\\n</td>\\n<td>49,980\\n</td>\\n<td>110,187,000\\n</td></tr>\\n<tr>\\n<td>17\\n</td>\\n<td><span class=\"flagicon\"><a href=\"/wiki/Papua_New_Guinea\" title=\"Papua New Guinea\"><img alt=\"Papua New Guinea\" src=\"//upload.wikimedia.org/wikipedia/commons/thumb/e/e3/Flag_of_Papua_New_Guinea.svg/20px-Flag_of_Papua_New_Guinea.svg.png\" decoding=\"async\" width=\"20\" height=\"15\" class=\"thumbborder\" srcset=\"//upload.wikimedia.org/wikipedia/commons/thumb/e/e3/Flag_of_Papua_New_Guinea.svg/31px-Flag_of_Papua_New_Guinea.svg.png 1.5x, //upload.wikimedia.org/wikipedia/commons/thumb/e/e3/Flag_of_Papua_New_Guinea.svg/40px-Flag_of_Papua_New_Guinea.svg.png 2x\" data-file-width=\"600\" data-file-height=\"450\" /></a></span> <a href=\"/wiki/Coffee_production_in_Papua_New_Guinea\" title=\"Coffee production in Papua New Guinea\">Papua New Guinea</a>\\n</td>\\n<td>800,000\\n</td>\\n<td>48,000\\n</td>\\n<td>105,821,000\\n</td></tr>\\n<tr>\\n<td>18\\n</td>\\n<td><span class=\"flagicon\"><a href=\"/wiki/Tanzania\" title=\"Tanzania\"><img alt=\"Tanzania\" src=\"//upload.wikimedia.org/wikipedia/commons/thumb/3/38/Flag_of_Tanzania.svg/23px-Flag_of_Tanzania.svg.png\" decoding=\"async\" width=\"23\" height=\"15\" class=\"thumbborder\" srcset=\"//upload.wikimedia.org/wikipedia/commons/thumb/3/38/Flag_of_Tanzania.svg/35px-Flag_of_Tanzania.svg.png 1.5x, //upload.wikimedia.org/wikipedia/commons/thumb/3/38/Flag_of_Tanzania.svg/45px-Flag_of_Tanzania.svg.png 2x\" data-file-width=\"900\" data-file-height=\"600\" /></a></span> <a href=\"/wiki/Coffee_production_in_Tanzania\" title=\"Coffee production in Tanzania\">Tanzania</a>\\n</td>\\n<td>800,000\\n</td>\\n<td>48,000\\n</td>\\n<td>105,821,000\\n</td></tr>\\n<tr>\\n<td>19\\n</td>\\n<td><span class=\"flagicon\"><a href=\"/wiki/El_Salvador\" title=\"El Salvador\"><img alt=\"El Salvador\" src=\"//upload.wikimedia.org/wikipedia/commons/thumb/3/34/Flag_of_El_Salvador.svg/23px-Flag_of_El_Salvador.svg.png\" decoding=\"async\" width=\"23\" height=\"13\" class=\"thumbborder\" srcset=\"//upload.wikimedia.org/wikipedia/commons/thumb/3/34/Flag_of_El_Salvador.svg/35px-Flag_of_El_Salvador.svg.png 1.5x, //upload.wikimedia.org/wikipedia/commons/thumb/3/34/Flag_of_El_Salvador.svg/46px-Flag_of_El_Salvador.svg.png 2x\" data-file-width=\"1005\" data-file-height=\"567\" /></a></span> <a href=\"/wiki/Coffee_production_in_El_Salvador\" title=\"Coffee production in El Salvador\">El Salvador</a>\\n</td>\\n<td>762,000\\n</td>\\n<td>45,720\\n</td>\\n<td>100,795,000\\n</td></tr>\\n<tr>\\n<td>20\\n</td>\\n<td><span class=\"flagicon\"><a href=\"/wiki/Ecuador\" title=\"Ecuador\"><img alt=\"Ecuador\" src=\"//upload.wikimedia.org/wikipedia/commons/thumb/e/e8/Flag_of_Ecuador.svg/23px-Flag_of_Ecuador.svg.png\" decoding=\"async\" width=\"23\" height=\"15\" class=\"thumbborder\" srcset=\"//upload.wikimedia.org/wikipedia/commons/thumb/e/e8/Flag_of_Ecuador.svg/35px-Flag_of_Ecuador.svg.png 1.5x, //upload.wikimedia.org/wikipedia/commons/thumb/e/e8/Flag_of_Ecuador.svg/45px-Flag_of_Ecuador.svg.png 2x\" data-file-width=\"1440\" data-file-height=\"960\" /></a></span> <a href=\"/wiki/Coffee_production_in_Ecuador\" title=\"Coffee production in Ecuador\">Ecuador</a>\\n</td>\\n<td>700,000\\n</td>\\n<td>42,000\\n</td>\\n<td>92,594,000\\n</td></tr>\\n<tr>\\n<td>21\\n</td>\\n<td><span class=\"flagicon\"><a href=\"/wiki/Cameroon\" title=\"Cameroon\"><img alt=\"Cameroon\" src=\"//upload.wikimedia.org/wikipedia/commons/thumb/4/4f/Flag_of_Cameroon.svg/23px-Flag_of_Cameroon.svg.png\" decoding=\"async\" width=\"23\" height=\"15\" class=\"thumbborder\" srcset=\"//upload.wikimedia.org/wikipedia/commons/thumb/4/4f/Flag_of_Cameroon.svg/35px-Flag_of_Cameroon.svg.png 1.5x, //upload.wikimedia.org/wikipedia/commons/thumb/4/4f/Flag_of_Cameroon.svg/45px-Flag_of_Cameroon.svg.png 2x\" data-file-width=\"900\" data-file-height=\"600\" /></a></span> <a href=\"/wiki/Coffee_production_in_Cameroon\" title=\"Coffee production in Cameroon\">Cameroon</a>\\n</td>\\n<td>570,000\\n</td>\\n<td>34,200\\n</td>\\n<td>75,398,000\\n</td></tr>\\n<tr>\\n<td>22\\n</td>\\n<td><span class=\"flagicon\"><a href=\"/wiki/Laos\" title=\"Laos\"><img alt=\"Laos\" src=\"//upload.wikimedia.org/wikipedia/commons/thumb/5/56/Flag_of_Laos.svg/23px-Flag_of_Laos.svg.png\" decoding=\"async\" width=\"23\" height=\"15\" class=\"thumbborder\" srcset=\"//upload.wikimedia.org/wikipedia/commons/thumb/5/56/Flag_of_Laos.svg/35px-Flag_of_Laos.svg.png 1.5x, //upload.wikimedia.org/wikipedia/commons/thumb/5/56/Flag_of_Laos.svg/45px-Flag_of_Laos.svg.png 2x\" data-file-width=\"900\" data-file-height=\"600\" /></a></span> <a href=\"/wiki/Coffee_production_in_Laos\" title=\"Coffee production in Laos\">Laos</a>\\n</td>\\n<td>520,000\\n</td>\\n<td>31,200\\n</td>\\n<td>68,784,000\\n</td></tr>\\n<tr>\\n<td>23\\n</td>\\n<td><span class=\"flagicon\"><a href=\"/wiki/Madagascar\" title=\"Madagascar\"><img alt=\"Madagascar\" src=\"//upload.wikimedia.org/wikipedia/commons/thumb/b/bc/Flag_of_Madagascar.svg/23px-Flag_of_Madagascar.svg.png\" decoding=\"async\" width=\"23\" height=\"15\" class=\"thumbborder\" srcset=\"//upload.wikimedia.org/wikipedia/commons/thumb/b/bc/Flag_of_Madagascar.svg/35px-Flag_of_Madagascar.svg.png 1.5x, //upload.wikimedia.org/wikipedia/commons/thumb/b/bc/Flag_of_Madagascar.svg/45px-Flag_of_Madagascar.svg.png 2x\" data-file-width=\"900\" data-file-height=\"600\" /></a></span> <a href=\"/wiki/Madagascar\" title=\"Madagascar\">Madagascar</a>\\n</td>\\n<td>520,000\\n</td>\\n<td>31,200\\n</td>\\n<td>68,784,000\\n</td></tr>\\n<tr>\\n<td>24\\n</td>\\n<td><span class=\"flagicon\"><a href=\"/wiki/Gabon\" title=\"Gabon\"><img alt=\"Gabon\" src=\"//upload.wikimedia.org/wikipedia/commons/thumb/0/04/Flag_of_Gabon.svg/20px-Flag_of_Gabon.svg.png\" decoding=\"async\" width=\"20\" height=\"15\" class=\"thumbborder\" srcset=\"//upload.wikimedia.org/wikipedia/commons/thumb/0/04/Flag_of_Gabon.svg/31px-Flag_of_Gabon.svg.png 1.5x, //upload.wikimedia.org/wikipedia/commons/thumb/0/04/Flag_of_Gabon.svg/40px-Flag_of_Gabon.svg.png 2x\" data-file-width=\"1000\" data-file-height=\"750\" /></a></span> <a href=\"/wiki/Gabon\" title=\"Gabon\">Gabon</a>\\n</td>\\n<td>500,000\\n</td>\\n<td>30,000\\n</td>\\n<td>66,138,000\\n</td></tr>\\n<tr>\\n<td>25\\n</td>\\n<td><span class=\"flagicon\"><a href=\"/wiki/Thailand\" title=\"Thailand\"><img alt=\"Thailand\" src=\"//upload.wikimedia.org/wikipedia/commons/thumb/a/a9/Flag_of_Thailand.svg/23px-Flag_of_Thailand.svg.png\" decoding=\"async\" width=\"23\" height=\"15\" class=\"thumbborder\" srcset=\"//upload.wikimedia.org/wikipedia/commons/thumb/a/a9/Flag_of_Thailand.svg/35px-Flag_of_Thailand.svg.png 1.5x, //upload.wikimedia.org/wikipedia/commons/thumb/a/a9/Flag_of_Thailand.svg/45px-Flag_of_Thailand.svg.png 2x\" data-file-width=\"900\" data-file-height=\"600\" /></a></span> <a href=\"/wiki/Coffee_production_in_Thailand\" title=\"Coffee production in Thailand\">Thailand</a>\\n</td>\\n<td>500,000\\n</td>\\n<td>30,000\\n</td>\\n<td>66,138,000\\n</td></tr>\\n<tr>\\n<td>26\\n</td>\\n<td><span class=\"flagicon\"><a href=\"/wiki/Venezuela\" title=\"Venezuela\"><img alt=\"Venezuela\" src=\"//upload.wikimedia.org/wikipedia/commons/thumb/0/06/Flag_of_Venezuela.svg/23px-Flag_of_Venezuela.svg.png\" decoding=\"async\" width=\"23\" height=\"15\" class=\"thumbborder\" srcset=\"//upload.wikimedia.org/wikipedia/commons/thumb/0/06/Flag_of_Venezuela.svg/35px-Flag_of_Venezuela.svg.png 1.5x, //upload.wikimedia.org/wikipedia/commons/thumb/0/06/Flag_of_Venezuela.svg/45px-Flag_of_Venezuela.svg.png 2x\" data-file-width=\"900\" data-file-height=\"600\" /></a></span> <a href=\"/wiki/Coffee_production_in_Venezuela\" title=\"Coffee production in Venezuela\">Venezuela</a>\\n</td>\\n<td>500,000\\n</td>\\n<td>30,000\\n</td>\\n<td>66,138,000\\n</td></tr>\\n<tr>\\n<td>27\\n</td>\\n<td><span class=\"flagicon\"><a href=\"/wiki/Dominican_Republic\" title=\"Dominican Republic\"><img alt=\"Dominican Republic\" src=\"//upload.wikimedia.org/wikipedia/commons/thumb/9/9f/Flag_of_the_Dominican_Republic.svg/23px-Flag_of_the_Dominican_Republic.svg.png\" decoding=\"async\" width=\"23\" height=\"15\" class=\"thumbborder\" srcset=\"//upload.wikimedia.org/wikipedia/commons/thumb/9/9f/Flag_of_the_Dominican_Republic.svg/35px-Flag_of_the_Dominican_Republic.svg.png 1.5x, //upload.wikimedia.org/wikipedia/commons/thumb/9/9f/Flag_of_the_Dominican_Republic.svg/45px-Flag_of_the_Dominican_Republic.svg.png 2x\" data-file-width=\"900\" data-file-height=\"600\" /></a></span> <a href=\"/wiki/Coffee_production_in_Dominican_Republic\" class=\"mw-redirect\" title=\"Coffee production in Dominican Republic\">Dominican Republic</a>\\n</td>\\n<td>400,000\\n</td>\\n<td>24,000\\n</td>\\n<td>52,910,000\\n</td></tr>\\n<tr>\\n<td>28\\n</td>\\n<td><span class=\"flagicon\"><a href=\"/wiki/Haiti\" title=\"Haiti\"><img alt=\"Haiti\" src=\"//upload.wikimedia.org/wikipedia/commons/thumb/5/56/Flag_of_Haiti.svg/23px-Flag_of_Haiti.svg.png\" decoding=\"async\" width=\"23\" height=\"14\" class=\"thumbborder\" srcset=\"//upload.wikimedia.org/wikipedia/commons/thumb/5/56/Flag_of_Haiti.svg/35px-Flag_of_Haiti.svg.png 1.5x, //upload.wikimedia.org/wikipedia/commons/thumb/5/56/Flag_of_Haiti.svg/46px-Flag_of_Haiti.svg.png 2x\" data-file-width=\"1000\" data-file-height=\"600\" /></a></span> <a href=\"/wiki/Coffee_production_in_Haiti\" title=\"Coffee production in Haiti\">Haiti</a>\\n</td>\\n<td>350,000\\n</td>\\n<td>21,000\\n</td>\\n<td>46,297,000\\n</td></tr>\\n<tr>\\n<td>29\\n</td>\\n<td><span class=\"flagicon\"><a href=\"/wiki/Democratic_Republic_of_the_Congo\" title=\"Democratic Republic of the Congo\"><img alt=\"Democratic Republic of the Congo\" src=\"//upload.wikimedia.org/wikipedia/commons/thumb/6/6f/Flag_of_the_Democratic_Republic_of_the_Congo.svg/20px-Flag_of_the_Democratic_Republic_of_the_Congo.svg.png\" decoding=\"async\" width=\"20\" height=\"15\" class=\"thumbborder\" srcset=\"//upload.wikimedia.org/wikipedia/commons/thumb/6/6f/Flag_of_the_Democratic_Republic_of_the_Congo.svg/31px-Flag_of_the_Democratic_Republic_of_the_Congo.svg.png 1.5x, //upload.wikimedia.org/wikipedia/commons/thumb/6/6f/Flag_of_the_Democratic_Republic_of_the_Congo.svg/40px-Flag_of_the_Democratic_Republic_of_the_Congo.svg.png 2x\" data-file-width=\"800\" data-file-height=\"600\" /></a></span> <a href=\"/wiki/Coffee_production_in_Democratic_Republic_of_the_Congo\" title=\"Coffee production in Democratic Republic of the Congo\">Democratic Republic of the Congo</a>\\n</td>\\n<td>335,000\\n</td>\\n<td>20,100\\n</td>\\n<td>44,312,000\\n</td></tr>\\n<tr>\\n<td>30\\n</td>\\n<td><span class=\"flagicon\"><a href=\"/wiki/Rwanda\" title=\"Rwanda\"><img alt=\"Rwanda\" src=\"//upload.wikimedia.org/wikipedia/commons/thumb/1/17/Flag_of_Rwanda.svg/23px-Flag_of_Rwanda.svg.png\" decoding=\"async\" width=\"23\" height=\"15\" class=\"thumbborder\" srcset=\"//upload.wikimedia.org/wikipedia/commons/thumb/1/17/Flag_of_Rwanda.svg/35px-Flag_of_Rwanda.svg.png 1.5x, //upload.wikimedia.org/wikipedia/commons/thumb/1/17/Flag_of_Rwanda.svg/45px-Flag_of_Rwanda.svg.png 2x\" data-file-width=\"1080\" data-file-height=\"720\" /></a></span> <a href=\"/wiki/Rwanda\" title=\"Rwanda\">Rwanda</a>\\n</td>\\n<td>250,000\\n</td>\\n<td>15,000\\n</td>\\n<td>33,069,000\\n</td></tr>\\n<tr>\\n<td>31\\n</td>\\n<td><span class=\"flagicon\"><a href=\"/wiki/Burundi\" title=\"Burundi\"><img alt=\"Burundi\" src=\"//upload.wikimedia.org/wikipedia/commons/thumb/5/50/Flag_of_Burundi.svg/23px-Flag_of_Burundi.svg.png\" decoding=\"async\" width=\"23\" height=\"14\" class=\"thumbborder\" srcset=\"//upload.wikimedia.org/wikipedia/commons/thumb/5/50/Flag_of_Burundi.svg/35px-Flag_of_Burundi.svg.png 1.5x, //upload.wikimedia.org/wikipedia/commons/thumb/5/50/Flag_of_Burundi.svg/46px-Flag_of_Burundi.svg.png 2x\" data-file-width=\"1000\" data-file-height=\"600\" /></a></span> <a href=\"/wiki/Burundi\" title=\"Burundi\">Burundi</a>\\n</td>\\n<td>200,000\\n</td>\\n<td>12,000\\n</td>\\n<td>26,455,000\\n</td></tr>\\n<tr>\\n<td>32\\n</td>\\n<td><span class=\"flagicon\"><a href=\"/wiki/Philippines\" title=\"Philippines\"><img alt=\"Philippines\" src=\"//upload.wikimedia.org/wikipedia/commons/thumb/9/99/Flag_of_the_Philippines.svg/23px-Flag_of_the_Philippines.svg.png\" decoding=\"async\" width=\"23\" height=\"12\" class=\"thumbborder\" srcset=\"//upload.wikimedia.org/wikipedia/commons/thumb/9/99/Flag_of_the_Philippines.svg/35px-Flag_of_the_Philippines.svg.png 1.5x, //upload.wikimedia.org/wikipedia/commons/thumb/9/99/Flag_of_the_Philippines.svg/46px-Flag_of_the_Philippines.svg.png 2x\" data-file-width=\"1200\" data-file-height=\"600\" /></a></span> <a href=\"/wiki/Coffee_production_in_the_Philippines\" title=\"Coffee production in the Philippines\">Philippines</a>\\n</td>\\n<td>200,000\\n</td>\\n<td>12,000\\n</td>\\n<td>26,455,000\\n</td></tr>\\n<tr>\\n<td>33\\n</td>\\n<td><span class=\"flagicon\"><a href=\"/wiki/Togo\" title=\"Togo\"><img alt=\"Togo\" src=\"//upload.wikimedia.org/wikipedia/commons/thumb/6/68/Flag_of_Togo.svg/23px-Flag_of_Togo.svg.png\" decoding=\"async\" width=\"23\" height=\"14\" class=\"thumbborder\" srcset=\"//upload.wikimedia.org/wikipedia/commons/thumb/6/68/Flag_of_Togo.svg/35px-Flag_of_Togo.svg.png 1.5x, //upload.wikimedia.org/wikipedia/commons/thumb/6/68/Flag_of_Togo.svg/46px-Flag_of_Togo.svg.png 2x\" data-file-width=\"809\" data-file-height=\"500\" /></a></span> <a href=\"/wiki/Togo\" title=\"Togo\">Togo</a>\\n</td>\\n<td>200,000\\n</td>\\n<td>12,000\\n</td>\\n<td>26,455,000\\n</td></tr>\\n<tr>\\n<td>34\\n</td>\\n<td><span class=\"flagicon\"><a href=\"/wiki/Guinea\" title=\"Guinea\"><img alt=\"Guinea\" src=\"//upload.wikimedia.org/wikipedia/commons/thumb/e/ed/Flag_of_Guinea.svg/23px-Flag_of_Guinea.svg.png\" decoding=\"async\" width=\"23\" height=\"15\" class=\"thumbborder\" srcset=\"//upload.wikimedia.org/wikipedia/commons/thumb/e/ed/Flag_of_Guinea.svg/35px-Flag_of_Guinea.svg.png 1.5x, //upload.wikimedia.org/wikipedia/commons/thumb/e/ed/Flag_of_Guinea.svg/45px-Flag_of_Guinea.svg.png 2x\" data-file-width=\"900\" data-file-height=\"600\" /></a></span> <a href=\"/wiki/Guinea\" title=\"Guinea\">Guinea</a>\\n</td>\\n<td>160,000\\n</td>\\n<td>9,600\\n</td>\\n<td>21,164,000\\n</td></tr>\\n<tr>\\n<td>35\\n</td>\\n<td><span class=\"flagicon\"><a href=\"/wiki/Yemen\" title=\"Yemen\"><img alt=\"Yemen\" src=\"//upload.wikimedia.org/wikipedia/commons/thumb/8/89/Flag_of_Yemen.svg/23px-Flag_of_Yemen.svg.png\" decoding=\"async\" width=\"23\" height=\"15\" class=\"thumbborder\" srcset=\"//upload.wikimedia.org/wikipedia/commons/thumb/8/89/Flag_of_Yemen.svg/35px-Flag_of_Yemen.svg.png 1.5x, //upload.wikimedia.org/wikipedia/commons/thumb/8/89/Flag_of_Yemen.svg/45px-Flag_of_Yemen.svg.png 2x\" data-file-width=\"900\" data-file-height=\"600\" /></a></span> <a href=\"/wiki/Yemen\" title=\"Yemen\">Yemen</a>\\n</td>\\n<td>120,000\\n</td>\\n<td>7,200\\n</td>\\n<td>15,873,000\\n</td></tr>\\n<tr>\\n<td>36\\n</td>\\n<td><span class=\"flagicon\"><a href=\"/wiki/Cuba\" title=\"Cuba\"><img alt=\"Cuba\" src=\"//upload.wikimedia.org/wikipedia/commons/thumb/b/bd/Flag_of_Cuba.svg/23px-Flag_of_Cuba.svg.png\" decoding=\"async\" width=\"23\" height=\"12\" class=\"thumbborder\" srcset=\"//upload.wikimedia.org/wikipedia/commons/thumb/b/bd/Flag_of_Cuba.svg/35px-Flag_of_Cuba.svg.png 1.5x, //upload.wikimedia.org/wikipedia/commons/thumb/b/bd/Flag_of_Cuba.svg/46px-Flag_of_Cuba.svg.png 2x\" data-file-width=\"1200\" data-file-height=\"600\" /></a></span> <a href=\"/wiki/Coffee_production_in_Cuba\" title=\"Coffee production in Cuba\">Cuba</a>\\n</td>\\n<td>100,000\\n</td>\\n<td>6,000\\n</td>\\n<td>13,227,000\\n</td></tr>\\n<tr>\\n<td>37\\n</td>\\n<td><span class=\"flagicon\"><a href=\"/wiki/Panama\" title=\"Panama\"><img alt=\"Panama\" src=\"//upload.wikimedia.org/wikipedia/commons/thumb/a/ab/Flag_of_Panama.svg/23px-Flag_of_Panama.svg.png\" decoding=\"async\" width=\"23\" height=\"15\" class=\"thumbborder\" srcset=\"//upload.wikimedia.org/wikipedia/commons/thumb/a/ab/Flag_of_Panama.svg/35px-Flag_of_Panama.svg.png 1.5x, //upload.wikimedia.org/wikipedia/commons/thumb/a/ab/Flag_of_Panama.svg/45px-Flag_of_Panama.svg.png 2x\" data-file-width=\"900\" data-file-height=\"600\" /></a></span> <a href=\"/wiki/Coffee_production_in_Panama\" title=\"Coffee production in Panama\">Panama</a>\\n</td>\\n<td>100,000\\n</td>\\n<td>6,000\\n</td>\\n<td>13,227,000\\n</td></tr>\\n<tr>\\n<td>38\\n</td>\\n<td><span class=\"flagicon\"><a href=\"/wiki/Bolivia\" title=\"Bolivia\"><img alt=\"Bolivia\" src=\"//upload.wikimedia.org/wikipedia/commons/thumb/4/48/Flag_of_Bolivia.svg/22px-Flag_of_Bolivia.svg.png\" decoding=\"async\" width=\"22\" height=\"15\" class=\"thumbborder\" srcset=\"//upload.wikimedia.org/wikipedia/commons/thumb/4/48/Flag_of_Bolivia.svg/34px-Flag_of_Bolivia.svg.png 1.5x, //upload.wikimedia.org/wikipedia/commons/thumb/4/48/Flag_of_Bolivia.svg/44px-Flag_of_Bolivia.svg.png 2x\" data-file-width=\"1100\" data-file-height=\"750\" /></a></span> <a href=\"/wiki/Coffee_production_in_Bolivia\" title=\"Coffee production in Bolivia\">Bolivia</a>\\n</td>\\n<td>90,000\\n</td>\\n<td>5,400\\n</td>\\n<td>11,904,000\\n</td></tr>\\n<tr>\\n<td>39\\n</td>\\n<td><span class=\"flagicon\"><a href=\"/wiki/East_Timor\" title=\"East Timor\"><img alt=\"East Timor\" src=\"//upload.wikimedia.org/wikipedia/commons/thumb/2/26/Flag_of_East_Timor.svg/23px-Flag_of_East_Timor.svg.png\" decoding=\"async\" width=\"23\" height=\"12\" class=\"thumbborder\" srcset=\"//upload.wikimedia.org/wikipedia/commons/thumb/2/26/Flag_of_East_Timor.svg/35px-Flag_of_East_Timor.svg.png 1.5x, //upload.wikimedia.org/wikipedia/commons/thumb/2/26/Flag_of_East_Timor.svg/46px-Flag_of_East_Timor.svg.png 2x\" data-file-width=\"900\" data-file-height=\"450\" /></a></span> <a href=\"/wiki/East_Timor\" title=\"East Timor\">Timor Leste</a>\\n</td>\\n<td>80,000\\n</td>\\n<td>4,800\\n</td>\\n<td>10,582,000\\n</td></tr>\\n<tr>\\n<td>40\\n</td>\\n<td><span class=\"flagicon\"><a href=\"/wiki/Central_African_Republic\" title=\"Central African Republic\"><img alt=\"Central African Republic\" src=\"//upload.wikimedia.org/wikipedia/commons/thumb/6/6f/Flag_of_the_Central_African_Republic.svg/23px-Flag_of_the_Central_African_Republic.svg.png\" decoding=\"async\" width=\"23\" height=\"15\" class=\"thumbborder\" srcset=\"//upload.wikimedia.org/wikipedia/commons/thumb/6/6f/Flag_of_the_Central_African_Republic.svg/35px-Flag_of_the_Central_African_Republic.svg.png 1.5x, //upload.wikimedia.org/wikipedia/commons/thumb/6/6f/Flag_of_the_Central_African_Republic.svg/45px-Flag_of_the_Central_African_Republic.svg.png 2x\" data-file-width=\"900\" data-file-height=\"600\" /></a></span> <a href=\"/wiki/Central_African_Republic\" title=\"Central African Republic\">Central African Republic</a>\\n</td>\\n<td>65,000\\n</td>\\n<td>3,900\\n</td>\\n<td>8,598,000\\n</td></tr>\\n<tr>\\n<td>41\\n</td>\\n<td><span class=\"flagicon\"><a href=\"/wiki/Nigeria\" title=\"Nigeria\"><img alt=\"Nigeria\" src=\"//upload.wikimedia.org/wikipedia/commons/thumb/7/79/Flag_of_Nigeria.svg/23px-Flag_of_Nigeria.svg.png\" decoding=\"async\" width=\"23\" height=\"12\" class=\"thumbborder\" srcset=\"//upload.wikimedia.org/wikipedia/commons/thumb/7/79/Flag_of_Nigeria.svg/35px-Flag_of_Nigeria.svg.png 1.5x, //upload.wikimedia.org/wikipedia/commons/thumb/7/79/Flag_of_Nigeria.svg/46px-Flag_of_Nigeria.svg.png 2x\" data-file-width=\"1200\" data-file-height=\"600\" /></a></span> <a href=\"/wiki/Nigeria\" title=\"Nigeria\">Nigeria</a>\\n</td>\\n<td>40,000\\n</td>\\n<td>2,400\\n</td>\\n<td>5,291,000\\n</td></tr>\\n<tr>\\n<td>42\\n</td>\\n<td><span class=\"flagicon\"><a href=\"/wiki/Ghana\" title=\"Ghana\"><img alt=\"Ghana\" src=\"//upload.wikimedia.org/wikipedia/commons/thumb/1/19/Flag_of_Ghana.svg/23px-Flag_of_Ghana.svg.png\" decoding=\"async\" width=\"23\" height=\"15\" class=\"thumbborder\" srcset=\"//upload.wikimedia.org/wikipedia/commons/thumb/1/19/Flag_of_Ghana.svg/35px-Flag_of_Ghana.svg.png 1.5x, //upload.wikimedia.org/wikipedia/commons/thumb/1/19/Flag_of_Ghana.svg/45px-Flag_of_Ghana.svg.png 2x\" data-file-width=\"900\" data-file-height=\"600\" /></a></span> <a href=\"/wiki/Ghana\" title=\"Ghana\">Ghana</a>\\n</td>\\n<td>37,000\\n</td>\\n<td>2,220\\n</td>\\n<td>4,894,000\\n</td></tr>\\n<tr>\\n<td>43\\n</td>\\n<td><span class=\"flagicon\"><a href=\"/wiki/Sierra_Leone\" title=\"Sierra Leone\"><img alt=\"Sierra Leone\" src=\"//upload.wikimedia.org/wikipedia/commons/thumb/1/17/Flag_of_Sierra_Leone.svg/23px-Flag_of_Sierra_Leone.svg.png\" decoding=\"async\" width=\"23\" height=\"15\" class=\"thumbborder\" srcset=\"//upload.wikimedia.org/wikipedia/commons/thumb/1/17/Flag_of_Sierra_Leone.svg/35px-Flag_of_Sierra_Leone.svg.png 1.5x, //upload.wikimedia.org/wikipedia/commons/thumb/1/17/Flag_of_Sierra_Leone.svg/45px-Flag_of_Sierra_Leone.svg.png 2x\" data-file-width=\"900\" data-file-height=\"600\" /></a></span> <a href=\"/wiki/Sierra_Leone\" title=\"Sierra Leone\">Sierra Leone</a>\\n</td>\\n<td>36,000\\n</td>\\n<td>2,160\\n</td>\\n<td>4,761,000\\n</td></tr>\\n<tr>\\n<td>44\\n</td>\\n<td><span class=\"flagicon\"><a href=\"/wiki/Angola\" title=\"Angola\"><img alt=\"Angola\" src=\"//upload.wikimedia.org/wikipedia/commons/thumb/9/9d/Flag_of_Angola.svg/23px-Flag_of_Angola.svg.png\" decoding=\"async\" width=\"23\" height=\"15\" class=\"thumbborder\" srcset=\"//upload.wikimedia.org/wikipedia/commons/thumb/9/9d/Flag_of_Angola.svg/35px-Flag_of_Angola.svg.png 1.5x, //upload.wikimedia.org/wikipedia/commons/thumb/9/9d/Flag_of_Angola.svg/45px-Flag_of_Angola.svg.png 2x\" data-file-width=\"900\" data-file-height=\"600\" /></a></span> <a href=\"/wiki/Coffee_production_in_Angola\" title=\"Coffee production in Angola\">Angola</a>\\n</td>\\n<td>35,000\\n</td>\\n<td>2,100\\n</td>\\n<td>4,629,000\\n</td></tr>\\n<tr>\\n<td>45\\n</td>\\n<td><span class=\"flagicon\"><a href=\"/wiki/Jamaica\" title=\"Jamaica\"><img alt=\"Jamaica\" src=\"//upload.wikimedia.org/wikipedia/commons/thumb/0/0a/Flag_of_Jamaica.svg/23px-Flag_of_Jamaica.svg.png\" decoding=\"async\" width=\"23\" height=\"12\" class=\"thumbborder\" srcset=\"//upload.wikimedia.org/wikipedia/commons/thumb/0/0a/Flag_of_Jamaica.svg/35px-Flag_of_Jamaica.svg.png 1.5x, //upload.wikimedia.org/wikipedia/commons/thumb/0/0a/Flag_of_Jamaica.svg/46px-Flag_of_Jamaica.svg.png 2x\" data-file-width=\"1200\" data-file-height=\"600\" /></a></span> <a href=\"/wiki/Coffee_production_in_Jamaica\" title=\"Coffee production in Jamaica\">Jamaica</a>\\n</td>\\n<td>21,000\\n</td>\\n<td>1,260\\n</td>\\n<td>2,777,000\\n</td></tr>\\n<tr>\\n<td>46\\n</td>\\n<td><span class=\"flagicon\"><a href=\"/wiki/Paraguay\" title=\"Paraguay\"><img alt=\"Paraguay\" src=\"//upload.wikimedia.org/wikipedia/commons/thumb/2/27/Flag_of_Paraguay.svg/23px-Flag_of_Paraguay.svg.png\" decoding=\"async\" width=\"23\" height=\"13\" class=\"thumbborder\" srcset=\"//upload.wikimedia.org/wikipedia/commons/thumb/2/27/Flag_of_Paraguay.svg/35px-Flag_of_Paraguay.svg.png 1.5x, //upload.wikimedia.org/wikipedia/commons/thumb/2/27/Flag_of_Paraguay.svg/46px-Flag_of_Paraguay.svg.png 2x\" data-file-width=\"1200\" data-file-height=\"660\" /></a></span> <a href=\"/wiki/Coffee_production_in_Paraguay\" title=\"Coffee production in Paraguay\">Paraguay</a>\\n</td>\\n<td>20,000\\n</td>\\n<td>1,200\\n</td>\\n<td>2,645,000\\n</td></tr>\\n<tr>\\n<td>47\\n</td>\\n<td><span class=\"flagicon\"><a href=\"/wiki/Malawi\" title=\"Malawi\"><img alt=\"Malawi\" src=\"//upload.wikimedia.org/wikipedia/commons/thumb/d/d1/Flag_of_Malawi.svg/23px-Flag_of_Malawi.svg.png\" decoding=\"async\" width=\"23\" height=\"15\" class=\"thumbborder\" srcset=\"//upload.wikimedia.org/wikipedia/commons/thumb/d/d1/Flag_of_Malawi.svg/35px-Flag_of_Malawi.svg.png 1.5x, //upload.wikimedia.org/wikipedia/commons/thumb/d/d1/Flag_of_Malawi.svg/45px-Flag_of_Malawi.svg.png 2x\" data-file-width=\"900\" data-file-height=\"600\" /></a></span> <a href=\"/wiki/Malawi\" title=\"Malawi\">Malawi</a>\\n</td>\\n<td>16,000\\n</td>\\n<td>960\\n</td>\\n<td>2,116,000\\n</td></tr>\\n<tr>\\n<td>48\\n</td>\\n<td><span class=\"flagicon\"><a href=\"/wiki/Trinidad_and_Tobago\" title=\"Trinidad and Tobago\"><img alt=\"Trinidad and Tobago\" src=\"//upload.wikimedia.org/wikipedia/commons/thumb/6/64/Flag_of_Trinidad_and_Tobago.svg/23px-Flag_of_Trinidad_and_Tobago.svg.png\" decoding=\"async\" width=\"23\" height=\"14\" class=\"thumbborder\" srcset=\"//upload.wikimedia.org/wikipedia/commons/thumb/6/64/Flag_of_Trinidad_and_Tobago.svg/35px-Flag_of_Trinidad_and_Tobago.svg.png 1.5x, //upload.wikimedia.org/wikipedia/commons/thumb/6/64/Flag_of_Trinidad_and_Tobago.svg/46px-Flag_of_Trinidad_and_Tobago.svg.png 2x\" data-file-width=\"800\" data-file-height=\"480\" /></a></span> <a href=\"/wiki/Trinidad_and_Tobago\" title=\"Trinidad and Tobago\">Trinidad and Tobago</a>\\n</td>\\n<td>12,000\\n</td>\\n<td>720\\n</td>\\n<td>1,587,000\\n</td></tr>\\n<tr>\\n<td>49\\n</td>\\n<td><span class=\"flagicon\"><a href=\"/wiki/Zimbabwe\" title=\"Zimbabwe\"><img alt=\"Zimbabwe\" src=\"//upload.wikimedia.org/wikipedia/commons/thumb/6/6a/Flag_of_Zimbabwe.svg/23px-Flag_of_Zimbabwe.svg.png\" decoding=\"async\" width=\"23\" height=\"12\" class=\"thumbborder\" srcset=\"//upload.wikimedia.org/wikipedia/commons/thumb/6/6a/Flag_of_Zimbabwe.svg/35px-Flag_of_Zimbabwe.svg.png 1.5x, //upload.wikimedia.org/wikipedia/commons/thumb/6/6a/Flag_of_Zimbabwe.svg/46px-Flag_of_Zimbabwe.svg.png 2x\" data-file-width=\"1260\" data-file-height=\"630\" /></a></span> <a href=\"/wiki/Zimbabwe\" title=\"Zimbabwe\">Zimbabwe</a>\\n</td>\\n<td>10,000\\n</td>\\n<td>600\\n</td>\\n<td>1,322,000\\n</td></tr>\\n<tr>\\n<td>50\\n</td>\\n<td><span class=\"flagicon\"><a href=\"/wiki/Liberia\" title=\"Liberia\"><img alt=\"Liberia\" src=\"//upload.wikimedia.org/wikipedia/commons/thumb/b/b8/Flag_of_Liberia.svg/23px-Flag_of_Liberia.svg.png\" decoding=\"async\" width=\"23\" height=\"12\" class=\"thumbborder\" srcset=\"//upload.wikimedia.org/wikipedia/commons/thumb/b/b8/Flag_of_Liberia.svg/35px-Flag_of_Liberia.svg.png 1.5x, //upload.wikimedia.org/wikipedia/commons/thumb/b/b8/Flag_of_Liberia.svg/46px-Flag_of_Liberia.svg.png 2x\" data-file-width=\"1140\" data-file-height=\"600\" /></a></span> <a href=\"/wiki/Liberia\" title=\"Liberia\">Liberia</a>\\n</td>\\n<td>6,000\\n</td>\\n<td>360\\n</td>\\n<td>793,000\\n</td></tr>\\n<tr>\\n<td>51\\n</td>\\n<td><span class=\"flagicon\"><a href=\"/wiki/Zambia\" title=\"Zambia\"><img alt=\"Zambia\" src=\"//upload.wikimedia.org/wikipedia/commons/thumb/0/06/Flag_of_Zambia.svg/23px-Flag_of_Zambia.svg.png\" decoding=\"async\" width=\"23\" height=\"15\" class=\"thumbborder\" srcset=\"//upload.wikimedia.org/wikipedia/commons/thumb/0/06/Flag_of_Zambia.svg/35px-Flag_of_Zambia.svg.png 1.5x, //upload.wikimedia.org/wikipedia/commons/thumb/0/06/Flag_of_Zambia.svg/45px-Flag_of_Zambia.svg.png 2x\" data-file-width=\"2100\" data-file-height=\"1400\" /></a></span> <a href=\"/wiki/Zambia\" title=\"Zambia\">Zambia</a>\\n</td>\\n<td>2,000\\n</td>\\n<td>120\\n</td>\\n<td>264,000\\n</td></tr></tbody></table>\\n<h2><span class=\"mw-headline\" id=\"See_also\">See also</span><span class=\"mw-editsection\"><span class=\"mw-editsection-bracket\">[</span><a href=\"/w/index.php?title=List_of_countries_by_coffee_production&amp;action=edit&amp;section=2\" title=\"Edit section: See also\">edit</a><span class=\"mw-editsection-bracket\">]</span></span></h2>\\n<ul><li><a href=\"/wiki/Coffee_wars\" title=\"Coffee wars\">Coffee wars</a></li>\\n<li><a href=\"/wiki/List_of_coffeehouse_chains\" title=\"List of coffeehouse chains\">List of coffeehouse chains</a></li>\\n<li><a href=\"/wiki/Coffee_production_in_Colombia\" title=\"Coffee production in Colombia\">Coffee production in Colombia</a></li>\\n<li><a href=\"/wiki/Coffee_production_in_Brazil\" title=\"Coffee production in Brazil\">Coffee production in Brazil</a></li>\\n<li><a href=\"/wiki/Coffee_production_in_Ethiopia\" title=\"Coffee production in Ethiopia\">Coffee production in Ethiopia</a></li>\\n<li><a href=\"/wiki/Coffee_production_in_Guatemala\" title=\"Coffee production in Guatemala\">Coffee production in Guatemala</a></li>\\n<li><a href=\"/wiki/Coffee_production_in_Kenya\" title=\"Coffee production in Kenya\">Coffee production in Kenya</a></li>\\n<li><a href=\"/wiki/Coffee_production_in_Hawaii\" title=\"Coffee production in Hawaii\">Coffee production in Hawaii</a></li>\\n<li><a href=\"/wiki/Coffee_production_in_Mexico\" title=\"Coffee production in Mexico\">Coffee production in Mexico</a></li>\\n<li><a href=\"/wiki/Coffee_production_in_the_Philippines\" title=\"Coffee production in the Philippines\">Coffee production in the Philippines</a></li></ul>\\n<h2><span class=\"mw-headline\" id=\"References\">References</span><span class=\"mw-editsection\"><span class=\"mw-editsection-bracket\">[</span><a href=\"/w/index.php?title=List_of_countries_by_coffee_production&amp;action=edit&amp;section=3\" title=\"Edit section: References\">edit</a><span class=\"mw-editsection-bracket\">]</span></span></h2>\\n<div class=\"reflist\" style=\"list-style-type: decimal;\">\\n<div class=\"mw-references-wrap\"><ol class=\"references\">\\n<li id=\"cite_note-:0-1\"><span class=\"mw-cite-backlink\">^ <a href=\"#cite_ref-:0_1-0\"><sup><i><b>a</b></i></sup></a> <a href=\"#cite_ref-:0_1-1\"><sup><i><b>b</b></i></sup></a></span> <span class=\"reference-text\"><cite id=\"CITEREFSzenthe2019\" class=\"citation web cs1\">Szenthe, Adriana (May 29, 2019). <a rel=\"nofollow\" class=\"external text\" href=\"https://www.worldatlas.com/articles/top-coffee-producing-countries.html\">\"Top Coffee Producing Countries\"</a>. <i>WorldAtlas</i><span class=\"reference-accessdate\">. Retrieved <span class=\"nowrap\">2019-08-06</span></span>.</cite><span title=\"ctx_ver=Z39.88-2004&amp;rft_val_fmt=info%3Aofi%2Ffmt%3Akev%3Amtx%3Ajournal&amp;rft.genre=unknown&amp;rft.jtitle=WorldAtlas&amp;rft.atitle=Top+Coffee+Producing+Countries&amp;rft.date=2019-05-29&amp;rft.aulast=Szenthe&amp;rft.aufirst=Adriana&amp;rft_id=https%3A%2F%2Fwww.worldatlas.com%2Farticles%2Ftop-coffee-producing-countries.html&amp;rfr_id=info%3Asid%2Fen.wikipedia.org%3AList+of+countries+by+coffee+production\" class=\"Z3988\"></span><style data-mw-deduplicate=\"TemplateStyles:r982806391\">.mw-parser-output cite.citation{font-style:inherit}.mw-parser-output .citation q{quotes:\"\\\\\"\"\"\\\\\"\"\"\\'\"\"\\'\"}.mw-parser-output .id-lock-free a,.mw-parser-output .citation .cs1-lock-free a{background:linear-gradient(transparent,transparent),url(\"//upload.wikimedia.org/wikipedia/commons/6/65/Lock-green.svg\")right 0.1em center/9px no-repeat}.mw-parser-output .id-lock-limited a,.mw-parser-output .id-lock-registration a,.mw-parser-output .citation .cs1-lock-limited a,.mw-parser-output .citation .cs1-lock-registration a{background:linear-gradient(transparent,transparent),url(\"//upload.wikimedia.org/wikipedia/commons/d/d6/Lock-gray-alt-2.svg\")right 0.1em center/9px no-repeat}.mw-parser-output .id-lock-subscription a,.mw-parser-output .citation .cs1-lock-subscription a{background:linear-gradient(transparent,transparent),url(\"//upload.wikimedia.org/wikipedia/commons/a/aa/Lock-red-alt-2.svg\")right 0.1em center/9px no-repeat}.mw-parser-output .cs1-subscription,.mw-parser-output .cs1-registration{color:#555}.mw-parser-output .cs1-subscription span,.mw-parser-output .cs1-registration span{border-bottom:1px dotted;cursor:help}.mw-parser-output .cs1-ws-icon a{background:linear-gradient(transparent,transparent),url(\"//upload.wikimedia.org/wikipedia/commons/4/4c/Wikisource-logo.svg\")right 0.1em center/12px no-repeat}.mw-parser-output code.cs1-code{color:inherit;background:inherit;border:none;padding:inherit}.mw-parser-output .cs1-hidden-error{display:none;font-size:100%}.mw-parser-output .cs1-visible-error{font-size:100%}.mw-parser-output .cs1-maint{display:none;color:#33aa33;margin-left:0.3em}.mw-parser-output .cs1-subscription,.mw-parser-output .cs1-registration,.mw-parser-output .cs1-format{font-size:95%}.mw-parser-output .cs1-kern-left,.mw-parser-output .cs1-kern-wl-left{padding-left:0.2em}.mw-parser-output .cs1-kern-right,.mw-parser-output .cs1-kern-wl-right{padding-right:0.2em}.mw-parser-output .citation .mw-selflink{font-weight:inherit}</style></span>\\n</li>\\n<li id=\"cite_note-2\"><span class=\"mw-cite-backlink\"><b><a href=\"#cite_ref-2\">^</a></b></span> <span class=\"reference-text\"><cite id=\"CITEREFTan2020\" class=\"citation web cs1\">Tan, Weizhen (April 19, 2020). <a rel=\"nofollow\" class=\"external text\" href=\"https://www.cnbc.com/2020/04/20/coronavirus-coffee-prices-rise-as-countries-hoard-food-supplies-lifting-farmers.html\">\"Farmers could be winners as coffee prices spike and countries hoard during the pandemic\"</a>. <i>CNBC</i><span class=\"reference-accessdate\">. Retrieved <span class=\"nowrap\">April 20,</span> 2020</span>.</cite><span title=\"ctx_ver=Z39.88-2004&amp;rft_val_fmt=info%3Aofi%2Ffmt%3Akev%3Amtx%3Ajournal&amp;rft.genre=unknown&amp;rft.jtitle=CNBC&amp;rft.atitle=Farmers+could+be+winners+as+coffee+prices+spike+and+countries+hoard+during+the+pandemic&amp;rft.date=2020-04-19&amp;rft.aulast=Tan&amp;rft.aufirst=Weizhen&amp;rft_id=https%3A%2F%2Fwww.cnbc.com%2F2020%2F04%2F20%2Fcoronavirus-coffee-prices-rise-as-countries-hoard-food-supplies-lifting-farmers.html&amp;rfr_id=info%3Asid%2Fen.wikipedia.org%3AList+of+countries+by+coffee+production\" class=\"Z3988\"></span><link rel=\"mw-deduplicated-inline-style\" href=\"mw-data:TemplateStyles:r982806391\"/></span>\\n</li>\\n<li id=\"cite_note-3\"><span class=\"mw-cite-backlink\"><b><a href=\"#cite_ref-3\">^</a></b></span> <span class=\"reference-text\"><cite id=\"CITEREFBurns2014\" class=\"citation web cs1\">Burns, Sergio (December 14, 2014). <a rel=\"nofollow\" class=\"external text\" href=\"https://europe.businesschief.com/leadership/340/Top-10:-Global-Coffee-Shop-Chains\">\"Top 10: Global Coffee Shop Chains\"</a>. <i>europe.businesschief.com</i><span class=\"reference-accessdate\">. Retrieved <span class=\"nowrap\">April 20,</span> 2020</span>.</cite><span title=\"ctx_ver=Z39.88-2004&amp;rft_val_fmt=info%3Aofi%2Ffmt%3Akev%3Amtx%3Ajournal&amp;rft.genre=unknown&amp;rft.jtitle=europe.businesschief.com&amp;rft.atitle=Top+10%3A+Global+Coffee+Shop+Chains&amp;rft.date=2014-12-14&amp;rft.aulast=Burns&amp;rft.aufirst=Sergio&amp;rft_id=https%3A%2F%2Feurope.businesschief.com%2Fleadership%2F340%2FTop-10%3A-Global-Coffee-Shop-Chains&amp;rfr_id=info%3Asid%2Fen.wikipedia.org%3AList+of+countries+by+coffee+production\" class=\"Z3988\"></span><link rel=\"mw-deduplicated-inline-style\" href=\"mw-data:TemplateStyles:r982806391\"/></span>\\n</li>\\n<li id=\"cite_note-4\"><span class=\"mw-cite-backlink\"><b><a href=\"#cite_ref-4\">^</a></b></span> <span class=\"reference-text\"><cite class=\"citation web cs1\"><a rel=\"nofollow\" class=\"external text\" href=\"https://www.statista.com/statistics/270091/coffee-house-chains-ranked-by-revenue/\">\"Coffeehouse chains: leader revenues 2015\"</a>. <i>Statista</i><span class=\"reference-accessdate\">. Retrieved <span class=\"nowrap\">April 20,</span> 2020</span>.</cite><span title=\"ctx_ver=Z39.88-2004&amp;rft_val_fmt=info%3Aofi%2Ffmt%3Akev%3Amtx%3Ajournal&amp;rft.genre=unknown&amp;rft.jtitle=Statista&amp;rft.atitle=Coffeehouse+chains%3A+leader+revenues+2015&amp;rft_id=https%3A%2F%2Fwww.statista.com%2Fstatistics%2F270091%2Fcoffee-house-chains-ranked-by-revenue%2F&amp;rfr_id=info%3Asid%2Fen.wikipedia.org%3AList+of+countries+by+coffee+production\" class=\"Z3988\"></span><link rel=\"mw-deduplicated-inline-style\" href=\"mw-data:TemplateStyles:r982806391\"/></span>\\n</li>\\n<li id=\"cite_note-5\"><span class=\"mw-cite-backlink\"><b><a href=\"#cite_ref-5\">^</a></b></span> <span class=\"reference-text\"><cite id=\"CITEREFGraaff1986\" class=\"citation book cs1\">Graaff, J. de (1986). <a rel=\"nofollow\" class=\"external text\" href=\"https://books.google.com/books/about/The_Economics_of_Coffee.html?id=F_ITAQAAIAAJ\"><i>The Economics of Coffee</i></a>. Pudoc. <a href=\"/wiki/ISBN_(identifier)\" class=\"mw-redirect\" title=\"ISBN (identifier)\">ISBN</a>&#160;<a href=\"/wiki/Special:BookSources/978-90-220-0900-0\" title=\"Special:BookSources/978-90-220-0900-0\"><bdi>978-90-220-0900-0</bdi></a>.</cite><span title=\"ctx_ver=Z39.88-2004&amp;rft_val_fmt=info%3Aofi%2Ffmt%3Akev%3Amtx%3Abook&amp;rft.genre=book&amp;rft.btitle=The+Economics+of+Coffee&amp;rft.pub=Pudoc&amp;rft.date=1986&amp;rft.isbn=978-90-220-0900-0&amp;rft.aulast=Graaff&amp;rft.aufirst=J.+de&amp;rft_id=https%3A%2F%2Fbooks.google.com%2Fbooks%2Fabout%2FThe_Economics_of_Coffee.html%3Fid%3DF_ITAQAAIAAJ&amp;rfr_id=info%3Asid%2Fen.wikipedia.org%3AList+of+countries+by+coffee+production\" class=\"Z3988\"></span><link rel=\"mw-deduplicated-inline-style\" href=\"mw-data:TemplateStyles:r982806391\"/></span>\\n</li>\\n<li id=\"cite_note-6\"><span class=\"mw-cite-backlink\"><b><a href=\"#cite_ref-6\">^</a></b></span> <span class=\"reference-text\"><cite id=\"CITEREFSiddique1990\" class=\"citation book cs1\">Siddique, M. A. B. (1990). <a rel=\"nofollow\" class=\"external text\" href=\"https://books.google.com/books/about/The_Economics_of_Tea_and_Coffee_Consumpt.html?id=3I7TAAAACAAJ\"><i>The Economics of Tea and Coffee Consumption in Australia</i></a>. Department of Economics, University of Western Australia. <a href=\"/wiki/ISBN_(identifier)\" class=\"mw-redirect\" title=\"ISBN (identifier)\">ISBN</a>&#160;<a href=\"/wiki/Special:BookSources/978-0-86422-622-8\" title=\"Special:BookSources/978-0-86422-622-8\"><bdi>978-0-86422-622-8</bdi></a>.</cite><span title=\"ctx_ver=Z39.88-2004&amp;rft_val_fmt=info%3Aofi%2Ffmt%3Akev%3Amtx%3Abook&amp;rft.genre=book&amp;rft.btitle=The+Economics+of+Tea+and+Coffee+Consumption+in+Australia&amp;rft.pub=Department+of+Economics%2C+University+of+Western+Australia&amp;rft.date=1990&amp;rft.isbn=978-0-86422-622-8&amp;rft.aulast=Siddique&amp;rft.aufirst=M.+A.+B.&amp;rft_id=https%3A%2F%2Fbooks.google.com%2Fbooks%2Fabout%2FThe_Economics_of_Tea_and_Coffee_Consumpt.html%3Fid%3D3I7TAAAACAAJ&amp;rfr_id=info%3Asid%2Fen.wikipedia.org%3AList+of+countries+by+coffee+production\" class=\"Z3988\"></span><link rel=\"mw-deduplicated-inline-style\" href=\"mw-data:TemplateStyles:r982806391\"/></span>\\n</li>\\n<li id=\"cite_note-7\"><span class=\"mw-cite-backlink\"><b><a href=\"#cite_ref-7\">^</a></b></span> <span class=\"reference-text\"><a rel=\"nofollow\" class=\"external text\" href=\"http://www.ico.org/documents/cy2014-15/icc-115-7e-study-china.pdf\">ICO - Coffee in China</a></span>\\n</li>\\n</ol></div></div>\\n<div role=\"navigation\" class=\"navbox\" aria-labelledby=\"Coffee\" style=\"padding:3px\"><table class=\"nowraplinks hlist mw-collapsible mw-collapsed navbox-inner\" style=\"border-spacing:0;background:transparent;color:inherit\"><tbody><tr><th scope=\"col\" class=\"navbox-title\" colspan=\"3\"><div class=\"plainlinks hlist navbar mini\"><ul><li class=\"nv-view\"><a href=\"/wiki/Template:Coffee\" title=\"Template:Coffee\"><abbr title=\"View this template\" style=\";;background:none transparent;border:none;-moz-box-shadow:none;-webkit-box-shadow:none;box-shadow:none; padding:0;\">v</abbr></a></li><li class=\"nv-talk\"><a href=\"/wiki/Template_talk:Coffee\" title=\"Template talk:Coffee\"><abbr title=\"Discuss this template\" style=\";;background:none transparent;border:none;-moz-box-shadow:none;-webkit-box-shadow:none;box-shadow:none; padding:0;\">t</abbr></a></li><li class=\"nv-edit\"><a class=\"external text\" href=\"https://en.wikipedia.org/w/index.php?title=Template:Coffee&amp;action=edit\"><abbr title=\"Edit this template\" style=\";;background:none transparent;border:none;-moz-box-shadow:none;-webkit-box-shadow:none;box-shadow:none; padding:0;\">e</abbr></a></li></ul></div><div id=\"Coffee\" class=\"hrecipe fn ingredient\" style=\"font-size:114%;margin:0 4em\"><a href=\"/wiki/Coffee\" title=\"Coffee\">Coffee</a></div></th></tr><tr><th scope=\"row\" class=\"navbox-group\" style=\"width:1%\">Topics</th><td class=\"navbox-list navbox-odd\" style=\"text-align:left;border-left-width:2px;border-left-style:solid;width:100%;padding:0px\"><div style=\"padding:0em 0.25em\">\\n<ul><li><a href=\"/wiki/Economics_of_coffee\" title=\"Economics of coffee\">Economics</a></li>\\n<li><a href=\"/wiki/Fair_trade_coffee\" title=\"Fair trade coffee\">Fair trade</a></li>\\n<li><a href=\"/wiki/History_of_coffee\" title=\"History of coffee\">History</a></li>\\n<li><a href=\"/wiki/International_Coffee_Day\" title=\"International Coffee Day\">International Coffee Day</a></li>\\n<li><a href=\"/wiki/Single-origin_coffee\" title=\"Single-origin coffee\">Single-origin coffee</a></li>\\n<li><a href=\"/wiki/Third_wave_of_coffee\" title=\"Third wave of coffee\">Third wave of coffee</a></li></ul>\\n</div></td><td class=\"noviewer navbox-image\" rowspan=\"11\" style=\"width:1px;padding:0px 0px 0px 2px\"><div><a href=\"/wiki/File:A_small_cup_of_coffee.JPG\" class=\"image\" title=\"A cup of coffee\"><img alt=\"A cup of coffee\" src=\"//upload.wikimedia.org/wikipedia/commons/thumb/4/45/A_small_cup_of_coffee.JPG/120px-A_small_cup_of_coffee.JPG\" decoding=\"async\" width=\"120\" height=\"90\" srcset=\"//upload.wikimedia.org/wikipedia/commons/thumb/4/45/A_small_cup_of_coffee.JPG/180px-A_small_cup_of_coffee.JPG 1.5x, //upload.wikimedia.org/wikipedia/commons/thumb/4/45/A_small_cup_of_coffee.JPG/240px-A_small_cup_of_coffee.JPG 2x\" data-file-width=\"1600\" data-file-height=\"1200\" /></a><div style=\"height:5px\"></div><a href=\"/wiki/File:Coffee_beans_-_ziarna_kawy.jpg\" class=\"image\" title=\"coffee beans\"><img alt=\"coffee beans\" src=\"//upload.wikimedia.org/wikipedia/commons/thumb/c/cf/Coffee_beans_-_ziarna_kawy.jpg/120px-Coffee_beans_-_ziarna_kawy.jpg\" decoding=\"async\" width=\"120\" height=\"140\" srcset=\"//upload.wikimedia.org/wikipedia/commons/thumb/c/cf/Coffee_beans_-_ziarna_kawy.jpg/180px-Coffee_beans_-_ziarna_kawy.jpg 1.5x, //upload.wikimedia.org/wikipedia/commons/thumb/c/cf/Coffee_beans_-_ziarna_kawy.jpg/240px-Coffee_beans_-_ziarna_kawy.jpg 2x\" data-file-width=\"1539\" data-file-height=\"1800\" /></a><br /><style data-mw-deduplicate=\"TemplateStyles:r936637989\">.mw-parser-output .portal{border:solid #aaa 1px;padding:0}.mw-parser-output .portal.tleft{margin:0.5em 1em 0.5em 0}.mw-parser-output .portal.tright{margin:0.5em 0 0.5em 1em}.mw-parser-output .portal>ul{display:table;box-sizing:border-box;padding:0.1em;max-width:175px;background:#f9f9f9;font-size:85%;line-height:110%;font-style:italic;font-weight:bold}.mw-parser-output .portal>ul>li{display:table-row}.mw-parser-output .portal>ul>li>span:first-child{display:table-cell;padding:0.2em;vertical-align:middle;text-align:center}.mw-parser-output .portal>ul>li>span:last-child{display:table-cell;padding:0.2em 0.2em 0.2em 0.3em;vertical-align:middle}</style><div role=\"navigation\" aria-label=\"Portals\" class=\"noprint portal plainlist tright\">\\n<ul>\\n<li><span><a href=\"/wiki/File:Emblem-relax.svg\" class=\"image\"><img alt=\"icon\" src=\"//upload.wikimedia.org/wikipedia/commons/thumb/0/05/Emblem-relax.svg/28px-Emblem-relax.svg.png\" decoding=\"async\" width=\"28\" height=\"28\" class=\"noviewer\" srcset=\"//upload.wikimedia.org/wikipedia/commons/thumb/0/05/Emblem-relax.svg/42px-Emblem-relax.svg.png 1.5x, //upload.wikimedia.org/wikipedia/commons/thumb/0/05/Emblem-relax.svg/56px-Emblem-relax.svg.png 2x\" data-file-width=\"60\" data-file-height=\"60\" /></a></span><span><a href=\"/wiki/Portal:Coffee\" title=\"Portal:Coffee\">Coffee portal</a></span></li></ul></div></div></td></tr><tr><th scope=\"row\" class=\"navbox-group\" style=\"width:1%\">Production</th><td class=\"navbox-list navbox-even\" style=\"text-align:left;border-left-width:2px;border-left-style:solid;width:100%;padding:0px\"><div style=\"padding:0em 0.25em\">\\n<ul><li><a href=\"/wiki/Coffee_production\" title=\"Coffee production\">Coffee production</a></li>\\n<li><a class=\"mw-selflink selflink\">List of countries by coffee production</a></li>\\n<li><a href=\"/wiki/Coffee_roasting\" title=\"Coffee roasting\">Coffee roasting</a></li>\\n<li><a href=\"/wiki/Coffee_wastewater\" title=\"Coffee wastewater\">Coffee wastewater</a></li>\\n<li><a href=\"/wiki/Decaffeination\" title=\"Decaffeination\">Decaffeination</a></li>\\n<li><a href=\"/wiki/Home_roasting_coffee\" title=\"Home roasting coffee\">Home roasting</a></li></ul>\\n</div></td></tr><tr><th scope=\"row\" class=\"navbox-group\" style=\"width:1%\"><a href=\"/wiki/Coffea\" title=\"Coffea\">Species</a> and <br /><a href=\"/wiki/List_of_coffee_varieties\" title=\"List of coffee varieties\">varieties</a></th><td class=\"navbox-list navbox-odd\" style=\"text-align:left;border-left-width:2px;border-left-style:solid;width:100%;padding:0px\"><div style=\"padding:0em 0.25em\">\\n<ul><li><i><a href=\"/wiki/Coffea_arabica\" title=\"Coffea arabica\">Arabica</a></i>\\n<ul><li><a href=\"/wiki/Benguet_coffee\" title=\"Benguet coffee\">Benguet</a></li>\\n<li><a href=\"/wiki/Jamaican_Blue_Mountain_Coffee\" title=\"Jamaican Blue Mountain Coffee\">Blue Mountain</a></li>\\n<li><a href=\"/wiki/Guadeloupe_Bonifieur\" title=\"Guadeloupe Bonifieur\">Bonifieur</a></li>\\n<li><a href=\"/wiki/Bourbon_coffee\" title=\"Bourbon coffee\">Bourbon</a></li>\\n<li><a href=\"/wiki/Geisha_(coffee)\" title=\"Geisha (coffee)\">Geisha</a></li>\\n<li><a href=\"/wiki/Kona_coffee\" title=\"Kona coffee\">Kona</a></li>\\n<li><a href=\"/wiki/Maracaturra_coffee\" title=\"Maracaturra coffee\">Maracaturra</a></li>\\n<li><a href=\"/wiki/Maragogipe_Coffee\" title=\"Maragogipe Coffee\">Maragogipe</a></li>\\n<li><a href=\"/wiki/Molokai_coffee\" title=\"Molokai coffee\">Molokai</a></li>\\n<li><a href=\"/wiki/S795_coffee\" title=\"S795 coffee\">S795</a></li>\\n<li><a href=\"/wiki/Sagada_coffee\" title=\"Sagada coffee\">Sagada</a></li></ul></li>\\n<li><i><a href=\"/wiki/Coffea_charrieriana\" title=\"Coffea charrieriana\">Charrieriana</a></i></li>\\n<li><i><a href=\"/wiki/Coffea_liberica\" title=\"Coffea liberica\">Liberica</a></i>\\n<ul><li><a href=\"/wiki/Kapeng_barako\" title=\"Kapeng barako\">Barako</a></li></ul></li>\\n<li><i><a href=\"/wiki/Coffea_racemosa\" title=\"Coffea racemosa\">Racemosa</a></i></li>\\n<li><i><a href=\"/wiki/Robusta_coffee\" class=\"mw-redirect\" title=\"Robusta coffee\">Robusta</a></i>\\n<ul><li><a href=\"/wiki/Kahawa_Sug\" title=\"Kahawa Sug\">Sulu</a></li></ul></li></ul>\\n</div></td></tr><tr><th scope=\"row\" class=\"navbox-group\" style=\"width:1%\">Components</th><td class=\"navbox-list navbox-even\" style=\"text-align:left;border-left-width:2px;border-left-style:solid;width:100%;padding:0px\"><div style=\"padding:0em 0.25em\">\\n<ul><li><a href=\"/wiki/Cafestol\" title=\"Cafestol\">Cafestol</a></li>\\n<li><a href=\"/wiki/Caffeic_acid\" title=\"Caffeic acid\">Caffeic acid</a></li>\\n<li><a href=\"/wiki/Caffeine\" title=\"Caffeine\">Caffeine</a></li>\\n<li><a href=\"/wiki/Coffee_bean\" title=\"Coffee bean\">Coffee bean</a></li>\\n<li><a href=\"/wiki/Furan-2-ylmethanethiol\" title=\"Furan-2-ylmethanethiol\">Furan-2-ylmethanethiol</a></li>\\n<li><a href=\"/wiki/Kahweol\" title=\"Kahweol\">Kahweol</a></li></ul>\\n</div></td></tr><tr><th scope=\"row\" class=\"navbox-group\" style=\"width:1%\"><a href=\"/wiki/Coffee_preparation\" title=\"Coffee preparation\">Preparation</a></th><td class=\"navbox-list navbox-odd\" style=\"text-align:left;border-left-width:2px;border-left-style:solid;width:100%;padding:0px\"><div style=\"padding:0em 0.25em\">\\n<ul><li><a href=\"/wiki/Arabic_coffee\" title=\"Arabic coffee\">Arabic coffee</a></li>\\n<li><a href=\"/wiki/Jebena\" title=\"Jebena\">Jebena</a></li>\\n<li><a href=\"/wiki/Brewed_coffee\" title=\"Brewed coffee\">Brewed coffee</a></li>\\n<li><a href=\"/wiki/Cezve\" title=\"Cezve\">Cezve</a></li>\\n<li><a href=\"/wiki/Chorreador\" title=\"Chorreador\">Chorreador</a></li>\\n<li><a href=\"/wiki/Coffeemaker\" title=\"Coffeemaker\">Coffeemaker</a></li>\\n<li><a href=\"/wiki/Cold_brew_coffee\" class=\"mw-redirect\" title=\"Cold brew coffee\">Cold brew</a></li>\\n<li><a href=\"/wiki/Espresso\" title=\"Espresso\">Espresso</a>\\n<ul><li><a href=\"/wiki/Doppio\" title=\"Doppio\">doppio</a></li>\\n<li><a href=\"/wiki/Lungo\" title=\"Lungo\">lungo</a></li>\\n<li><a href=\"/wiki/Ristretto\" title=\"Ristretto\">ristretto</a></li></ul></li>\\n<li><a href=\"/wiki/Espresso_machine\" title=\"Espresso machine\">Espresso machine</a></li>\\n<li><a href=\"/wiki/French_press\" title=\"French press\">French press</a></li>\\n<li><a href=\"/wiki/Instant_coffee\" title=\"Instant coffee\">Instant coffee</a>\\n<ul><li><a href=\"/wiki/Coffee_syrup\" class=\"mw-redirect\" title=\"Coffee syrup\">Coffee syrup</a></li></ul></li>\\n<li><a href=\"/wiki/Knockbox\" title=\"Knockbox\">Knockbox</a></li>\\n<li><a href=\"/wiki/Moka_pot\" title=\"Moka pot\">Moka pot</a></li>\\n<li><a href=\"/wiki/Coffee_percolator\" title=\"Coffee percolator\">Percolator</a></li>\\n<li><a href=\"/wiki/Turkish_coffee\" title=\"Turkish coffee\">Turkish coffee</a></li>\\n<li><a href=\"/wiki/Vacuum_coffee_maker\" title=\"Vacuum coffee maker\">Vacuum maker</a></li>\\n<li><a href=\"/wiki/Single-serve_coffee_container\" title=\"Single-serve coffee container\">Single-serve coffee container</a></li></ul>\\n</div></td></tr><tr><th scope=\"row\" class=\"navbox-group\" style=\"width:1%\"><a href=\"/wiki/List_of_coffee_drinks\" title=\"List of coffee drinks\">Coffee drinks</a></th><td class=\"navbox-list navbox-even\" style=\"text-align:left;border-left-width:2px;border-left-style:solid;width:100%;padding:0px\"><div style=\"padding:0em 0.25em\">\\n<ul><li><a href=\"/wiki/Affogato\" title=\"Affogato\">Affogato</a></li>\\n<li><a href=\"/wiki/Caff%C3%A8_Americano\" title=\"Caffè Americano\">Americano</a></li>\\n<li><a href=\"/wiki/Beaten_coffee\" title=\"Beaten coffee\">Beaten coffee</a></li>\\n<li><a href=\"/wiki/Bica_(coffee)\" title=\"Bica (coffee)\">Bica</a></li>\\n<li><a href=\"/wiki/Bicerin\" title=\"Bicerin\">Bicerin</a></li>\\n<li><a href=\"/wiki/Black_Russian\" title=\"Black Russian\">Black Russian</a></li>\\n<li><a href=\"/wiki/Vietnamese_iced_coffee\" title=\"Vietnamese iced coffee\">Cà phê sữa đá</a></li>\\n<li><a href=\"/wiki/Caf%C3%A9_au_lait\" title=\"Café au lait\">Café au lait</a></li>\\n<li><a href=\"/wiki/Caf%C3%A9_de_olla\" title=\"Café de olla\">Café de olla</a></li>\\n<li><a href=\"/wiki/Caf%C3%A9_con_leche\" title=\"Café con leche\">Café con leche</a></li>\\n<li><a href=\"/wiki/Caff%C3%A8_crema\" title=\"Caffè crema\">Caffè crema</a></li>\\n<li><a href=\"/wiki/Cuban_espresso\" title=\"Cuban espresso\">Café Cubano</a></li>\\n<li><a href=\"/wiki/Caff%C3%A8_mocha\" title=\"Caffè mocha\">Caffè mocha</a></li>\\n<li><a href=\"/wiki/Caf%C3%A9_Touba\" title=\"Café Touba\">Café Touba</a></li>\\n<li><a href=\"/wiki/Caff%C3%A8_corretto\" title=\"Caffè corretto\">Caffè corretto</a></li>\\n<li><a href=\"/wiki/Caf%C3%A9_com_cheirinho\" title=\"Café com cheirinho\">Café com cheirinho</a></li>\\n<li><a href=\"/wiki/Caff%C3%A8_macchiato\" title=\"Caffè macchiato\">Caffè macchiato</a></li>\\n<li><a href=\"/wiki/Cappuccino\" title=\"Cappuccino\">Cappuccino</a></li>\\n<li><a href=\"/wiki/Carajillo\" title=\"Carajillo\">Carajillo</a></li>\\n<li><a href=\"/wiki/Coffee_cabinet\" title=\"Coffee cabinet\">Coffee cabinet</a></li>\\n<li><a href=\"/wiki/Coffee_milk\" title=\"Coffee milk\">Coffee milk</a></li>\\n<li><a href=\"/wiki/Cortado\" title=\"Cortado\">Cortado</a></li>\\n<li><a href=\"/wiki/Dalgona_coffee\" title=\"Dalgona coffee\">Dalgona coffee</a></li>\\n<li><a href=\"/wiki/Espresso\" title=\"Espresso\">Espresso</a></li>\\n<li><a href=\"/wiki/Flat_white\" title=\"Flat white\">Flat white</a></li>\\n<li><a href=\"/wiki/Frappuccino\" title=\"Frappuccino\">Frappuccino</a></li>\\n<li><a href=\"/wiki/Gal%C3%A3o\" title=\"Galão\">Galão</a></li>\\n<li><a href=\"/wiki/List_of_coffee_drinks#Garoto\" title=\"List of coffee drinks\">Garoto</a></li>\\n<li><a href=\"/wiki/Frapp%C3%A9_coffee\" title=\"Frappé coffee\">Greek frappé coffee</a></li>\\n<li><a href=\"/wiki/Iced_coffee\" title=\"Iced coffee\">Iced coffee</a></li>\\n<li><a href=\"/wiki/Indian_filter_coffee\" title=\"Indian filter coffee\">Indian filter coffee</a></li>\\n<li><a href=\"/wiki/Ipoh_white_coffee\" title=\"Ipoh white coffee\">Ipoh white coffee</a></li>\\n<li><a href=\"/wiki/Irish_coffee\" title=\"Irish coffee\">Irish coffee</a></li>\\n<li><a href=\"/wiki/Karsk\" title=\"Karsk\">Karsk</a></li>\\n<li><a href=\"/wiki/Kopi_(drink)\" title=\"Kopi (drink)\">Kopi</a></li>\\n<li><a href=\"/wiki/Kopi_luwak\" title=\"Kopi luwak\">Kopi luwak</a></li>\\n<li><a href=\"/wiki/Kopi_tubruk\" title=\"Kopi tubruk\">Kopi tubruk</a></li>\\n<li><a href=\"/wiki/Kurdish_coffee\" title=\"Kurdish coffee\">Kurdish coffee</a></li>\\n<li><a href=\"/wiki/Latte\" title=\"Latte\">Latte</a></li>\\n<li><a href=\"/wiki/Latte_macchiato\" title=\"Latte macchiato\">Latte macchiato</a></li>\\n<li><a href=\"/wiki/Liqueur_coffee\" title=\"Liqueur coffee\">Liqueur coffee</a></li>\\n<li><a href=\"/wiki/Long_black\" title=\"Long black\">Long black</a></li>\\n<li><a href=\"/wiki/Lungo\" title=\"Lungo\">Lungo</a></li>\\n<li><a href=\"/wiki/Marocchino\" title=\"Marocchino\">Marocchino</a></li>\\n<li><a href=\"/wiki/Mazagran_(drink)\" title=\"Mazagran (drink)\">Mazagran</a></li>\\n<li><a href=\"/wiki/Oliang\" title=\"Oliang\">Oliang</a></li>\\n<li><a href=\"/wiki/List_of_coffee_drinks#Red_eye\" title=\"List of coffee drinks\">Red eye</a></li>\\n<li><a href=\"/wiki/Ristretto\" title=\"Ristretto\">Ristretto</a></li>\\n<li><a href=\"/wiki/R%C3%BCdesheimer_Kaffee\" title=\"Rüdesheimer Kaffee\">Rüdesheimer Kaffee</a></li>\\n<li><a href=\"/wiki/Tenom_coffee\" class=\"mw-redirect\" title=\"Tenom coffee\">Tenom coffee</a></li>\\n<li><a href=\"/wiki/Turkish_coffee\" title=\"Turkish coffee\">Turkish coffee</a></li>\\n<li><a href=\"/wiki/White_coffee\" title=\"White coffee\">White coffee</a></li>\\n<li><a href=\"/wiki/White_Russian_(cocktail)\" title=\"White Russian (cocktail)\">White Russian</a></li>\\n<li><a href=\"/wiki/Wiener_Melange\" title=\"Wiener Melange\">Wiener Melange</a></li>\\n<li><a href=\"/wiki/Yuenyeung\" title=\"Yuenyeung\">Yuenyeung</a></li></ul>\\n</div></td></tr><tr><th scope=\"row\" class=\"navbox-group\" style=\"width:1%\">Organization lists</th><td class=\"navbox-list navbox-odd\" style=\"text-align:left;border-left-width:2px;border-left-style:solid;width:100%;padding:0px\"><div style=\"padding:0em 0.25em\">\\n<ul><li><a href=\"/wiki/List_of_bakery_caf%C3%A9s\" title=\"List of bakery cafés\">Bakery cafés</a></li>\\n<li><a href=\"/wiki/List_of_coffee_companies\" title=\"List of coffee companies\">Coffee companies</a></li>\\n<li><a href=\"/wiki/List_of_coffeehouse_chains\" title=\"List of coffeehouse chains\">Coffeehouses</a></li></ul>\\n</div></td></tr><tr><th scope=\"row\" class=\"navbox-group\" style=\"width:1%\">Lifestyle</th><td class=\"navbox-list navbox-even\" style=\"text-align:left;border-left-width:2px;border-left-style:solid;width:100%;padding:0px\"><div style=\"padding:0em 0.25em\">\\n<ul><li><a href=\"/wiki/Barista\" title=\"Barista\">Barista</a></li>\\n<li><a href=\"/wiki/Bikini_barista\" title=\"Bikini barista\">Bikini barista</a></li>\\n<li><a href=\"/wiki/Caff%C3%A8_sospeso\" title=\"Caffè sospeso\">Caffè sospeso</a></li>\\n<li><a href=\"/wiki/Break_(work)#Coffee_break\" title=\"Break (work)\">Coffee break</a></li>\\n<li><a href=\"/wiki/Coffee_ceremony\" title=\"Coffee ceremony\">Coffee ceremony</a></li>\\n<li><a href=\"/wiki/CoffeeCon\" title=\"CoffeeCon\">CoffeeCon</a></li>\\n<li><a href=\"/wiki/Coffee_culture\" title=\"Coffee culture\">Coffee culture</a></li>\\n<li><a href=\"/wiki/Coffee_cupping\" title=\"Coffee cupping\">Coffee cupping</a></li>\\n<li><a href=\"/wiki/Coffee_palace\" title=\"Coffee palace\">Coffee palace</a></li>\\n<li><a href=\"/wiki/Coffeehouse\" title=\"Coffeehouse\">Coffeehouse</a></li>\\n<li><a href=\"/wiki/Fika_(Sweden)\" class=\"mw-redirect\" title=\"Fika (Sweden)\">Fika</a></li>\\n<li><a href=\"/wiki/Kopi_tiam\" title=\"Kopi tiam\">Kopi tiam</a></li>\\n<li><a href=\"/wiki/Latte_art\" title=\"Latte art\">Latte art</a></li>\\n<li><a href=\"/wiki/Viennese_coffee_house\" title=\"Viennese coffee house\">Viennese coffee house</a></li></ul>\\n</div></td></tr><tr><th scope=\"row\" class=\"navbox-group\" style=\"width:1%\"><a href=\"/wiki/Coffee_substitute\" title=\"Coffee substitute\">Substitutes</a></th><td class=\"navbox-list navbox-odd\" style=\"text-align:left;border-left-width:2px;border-left-style:solid;width:100%;padding:0px\"><div style=\"padding:0em 0.25em\">\\n<ul><li><a href=\"/wiki/Barley_coffee\" class=\"mw-redirect\" title=\"Barley coffee\">Barley coffee</a></li>\\n<li><a href=\"/wiki/Barley_tea\" title=\"Barley tea\">Barley tea</a></li>\\n<li><a href=\"/wiki/Barleycup\" title=\"Barleycup\">Barleycup</a></li>\\n<li><a href=\"/wiki/Caro_(drink)\" title=\"Caro (drink)\">Caro</a></li>\\n<li><a href=\"/wiki/Chicory\" title=\"Chicory\">Chicory</a></li>\\n<li><a href=\"/wiki/Dandelion_coffee\" title=\"Dandelion coffee\">Dandelion coffee</a></li>\\n<li><a href=\"/wiki/Inka_(drink)\" title=\"Inka (drink)\">Inka</a></li>\\n<li><a href=\"/wiki/Maya_nut\" class=\"mw-redirect\" title=\"Maya nut\">Maya nut</a></li>\\n<li><a href=\"/wiki/Postum\" title=\"Postum\">Postum</a></li>\\n<li><a href=\"/wiki/Qishr\" title=\"Qishr\">Qishr</a></li>\\n<li><a href=\"/wiki/Roasted_grain_drink\" title=\"Roasted grain drink\">Roasted grain drink</a></li></ul>\\n</div></td></tr><tr><th scope=\"row\" class=\"navbox-group\" style=\"width:1%\">Serving vessels</th><td class=\"navbox-list navbox-even\" style=\"text-align:left;border-left-width:2px;border-left-style:solid;width:100%;padding:0px\"><div style=\"padding:0em 0.25em\">\\n<ul><li><a href=\"/wiki/Coffee_cup\" title=\"Coffee cup\">Coffee cup</a>\\n<ul><li><a href=\"/wiki/Coffee_cup_sleeve\" title=\"Coffee cup sleeve\">sleeve</a></li></ul></li>\\n<li><a href=\"/wiki/Demitasse\" title=\"Demitasse\">Demitasse</a>\\n<ul><li><a href=\"/wiki/Demitasse_spoon\" title=\"Demitasse spoon\">spoon</a></li></ul></li>\\n<li><a href=\"/wiki/Tasse_%C3%A0_caf%C3%A9\" title=\"Tasse à café\">Tasse à café</a></li>\\n<li><a href=\"/wiki/Zarf\" title=\"Zarf\">Zarf</a></li></ul>\\n</div></td></tr><tr><th scope=\"row\" class=\"navbox-group\" style=\"width:1%\">Misc.</th><td class=\"navbox-list navbox-odd\" style=\"text-align:left;border-left-width:2px;border-left-style:solid;width:100%;padding:0px\"><div style=\"padding:0em 0.25em\">\\n<ul><li><a href=\"/wiki/Coffee_and_doughnuts\" title=\"Coffee and doughnuts\">Coffee and doughnuts</a></li>\\n<li><a href=\"/wiki/Coffee_bag\" title=\"Coffee bag\">Coffee bag</a></li>\\n<li><a href=\"/wiki/Coffee_leaf_rust\" class=\"mw-redirect\" title=\"Coffee leaf rust\">Coffee leaf rust</a></li>\\n<li><a href=\"/wiki/Gustav_III_of_Sweden%27s_coffee_experiment\" title=\"Gustav III of Sweden&#39;s coffee experiment\">King Gustav\\'s twin experiment</a></li>\\n<li><a href=\"/wiki/Canned_coffee\" title=\"Canned coffee\">Canned coffee</a></li>\\n<li><a href=\"/wiki/Coffee_vending_machine\" title=\"Coffee vending machine\">Coffee vending machine</a></li>\\n<li><a href=\"/wiki/Used_coffee_grounds\" title=\"Used coffee grounds\">Used coffee grounds</a></li></ul>\\n</div></td></tr><tr><td class=\"navbox-abovebelow\" colspan=\"3\"><div>\\n<ul><li><img alt=\"Category\" src=\"//upload.wikimedia.org/wikipedia/en/thumb/4/48/Folder_Hexagonal_Icon.svg/16px-Folder_Hexagonal_Icon.svg.png\" decoding=\"async\" title=\"Category\" width=\"16\" height=\"14\" srcset=\"//upload.wikimedia.org/wikipedia/en/thumb/4/48/Folder_Hexagonal_Icon.svg/24px-Folder_Hexagonal_Icon.svg.png 1.5x, //upload.wikimedia.org/wikipedia/en/thumb/4/48/Folder_Hexagonal_Icon.svg/32px-Folder_Hexagonal_Icon.svg.png 2x\" data-file-width=\"36\" data-file-height=\"31\" />&#160;<a href=\"/wiki/Category:Coffee\" title=\"Category:Coffee\">Category: Coffee</a></li></ul>\\n</div></td></tr></tbody></table></div>\\n<div role=\"navigation\" class=\"navbox\" aria-labelledby=\"Coffee_production_by_region\" style=\"padding:3px\"><table class=\"nowraplinks mw-collapsible autocollapse navbox-inner\" style=\"border-spacing:0;background:transparent;color:inherit\"><tbody><tr><th scope=\"col\" class=\"navbox-title\" colspan=\"3\"><div class=\"plainlinks hlist navbar mini\"><ul><li class=\"nv-view\"><a href=\"/wiki/Template:Coffee_production\" title=\"Template:Coffee production\"><abbr title=\"View this template\" style=\";;background:none transparent;border:none;-moz-box-shadow:none;-webkit-box-shadow:none;box-shadow:none; padding:0;\">v</abbr></a></li><li class=\"nv-talk\"><a href=\"/wiki/Template_talk:Coffee_production\" title=\"Template talk:Coffee production\"><abbr title=\"Discuss this template\" style=\";;background:none transparent;border:none;-moz-box-shadow:none;-webkit-box-shadow:none;box-shadow:none; padding:0;\">t</abbr></a></li><li class=\"nv-edit\"><a class=\"external text\" href=\"https://en.wikipedia.org/w/index.php?title=Template:Coffee_production&amp;action=edit\"><abbr title=\"Edit this template\" style=\";;background:none transparent;border:none;-moz-box-shadow:none;-webkit-box-shadow:none;box-shadow:none; padding:0;\">e</abbr></a></li></ul></div><div id=\"Coffee_production_by_region\" style=\"font-size:114%;margin:0 4em\"><a href=\"/wiki/Coffee_production\" title=\"Coffee production\">Coffee production</a> by region</div></th></tr><tr><th scope=\"row\" class=\"navbox-group\" style=\"width:1%\">Top 20 <br /> producers (2014)</th><td class=\"navbox-list navbox-odd hlist\" style=\"text-align:left;border-left-width:2px;border-left-style:solid;width:100%;padding:0px\"><div style=\"padding:0em 0.25em\">\\n<ul><li><a href=\"/wiki/Coffee_production_in_Brazil\" title=\"Coffee production in Brazil\">Brazil</a></li>\\n<li><a href=\"/wiki/Coffee_production_in_Colombia\" title=\"Coffee production in Colombia\">Colombia</a></li>\\n<li><a href=\"/wiki/Coffee_production_in_Costa_Rica\" title=\"Coffee production in Costa Rica\">Costa Rica</a></li>\\n<li><a href=\"/wiki/Coffee_production_in_the_Dominican_Republic\" title=\"Coffee production in the Dominican Republic\">Dominican Republic</a></li>\\n<li><a href=\"/wiki/Coffee_production_in_Ecuador\" title=\"Coffee production in Ecuador\">Ecuador</a></li>\\n<li><a href=\"/wiki/Coffee_production_in_El_Salvador\" title=\"Coffee production in El Salvador\">El Salvador</a></li>\\n<li><a href=\"/wiki/Coffee_production_in_Ethiopia\" title=\"Coffee production in Ethiopia\">Ethiopia</a></li>\\n<li><a href=\"/wiki/Coffee_production_in_Guatemala\" title=\"Coffee production in Guatemala\">Guatemala</a></li>\\n<li><a href=\"/wiki/Coffee_production_in_Honduras\" title=\"Coffee production in Honduras\">Honduras</a></li>\\n<li><a href=\"/wiki/Coffee_production_in_India\" title=\"Coffee production in India\">India</a></li>\\n<li><a href=\"/wiki/Coffee_production_in_Indonesia\" title=\"Coffee production in Indonesia\">Indonesia</a>\\n<ul><li><a href=\"/wiki/Java_coffee\" class=\"mw-redirect\" title=\"Java coffee\">Java</a></li></ul></li>\\n<li><a href=\"/wiki/Coffee_production_in_Ivory_Coast\" title=\"Coffee production in Ivory Coast\">Ivory Coast</a></li>\\n<li><a href=\"/wiki/Coffee_production_in_Mexico\" title=\"Coffee production in Mexico\">Mexico</a></li>\\n<li><a href=\"/wiki/Coffee_production_in_Nicaragua\" title=\"Coffee production in Nicaragua\">Nicaragua</a></li>\\n<li><a href=\"/wiki/Coffee_production_in_Papua_New_Guinea\" title=\"Coffee production in Papua New Guinea\">Papua New Guinea</a></li>\\n<li><a href=\"/wiki/Coffee_production_in_Peru\" title=\"Coffee production in Peru\">Peru</a></li>\\n<li><a href=\"/wiki/Coffee_production_in_Tanzania\" title=\"Coffee production in Tanzania\">Tanzania</a></li>\\n<li><a href=\"/wiki/Coffee_production_in_Thailand\" title=\"Coffee production in Thailand\">Thailand</a></li>\\n<li><a href=\"/wiki/Coffee_production_in_Uganda\" title=\"Coffee production in Uganda\">Uganda</a></li>\\n<li><a href=\"/wiki/Coffee_production_in_Vietnam\" title=\"Coffee production in Vietnam\">Vietnam</a></li></ul>\\n</div></td><td class=\"noviewer navbox-image\" rowspan=\"3\" style=\"width:1px;padding:0px 0px 0px 2px\"><div><link rel=\"mw-deduplicated-inline-style\" href=\"mw-data:TemplateStyles:r936637989\"/><div role=\"navigation\" aria-label=\"Portals\" class=\"noprint portal plainlist tright\">\\n<ul>\\n<li><span><a href=\"/wiki/File:Emblem-relax.svg\" class=\"image\"><img alt=\"icon\" src=\"//upload.wikimedia.org/wikipedia/commons/thumb/0/05/Emblem-relax.svg/28px-Emblem-relax.svg.png\" decoding=\"async\" width=\"28\" height=\"28\" class=\"noviewer\" srcset=\"//upload.wikimedia.org/wikipedia/commons/thumb/0/05/Emblem-relax.svg/42px-Emblem-relax.svg.png 1.5x, //upload.wikimedia.org/wikipedia/commons/thumb/0/05/Emblem-relax.svg/56px-Emblem-relax.svg.png 2x\" data-file-width=\"60\" data-file-height=\"60\" /></a></span><span><a href=\"/wiki/Portal:Coffee\" title=\"Portal:Coffee\">Coffee portal</a></span></li></ul></div></div></td></tr><tr><th scope=\"row\" class=\"navbox-group\" style=\"width:1%\">Other cultivators</th><td class=\"navbox-list navbox-even hlist\" style=\"text-align:left;border-left-width:2px;border-left-style:solid;width:100%;padding:0px\"><div style=\"padding:0em 0.25em\">\\n<ul><li><a href=\"/wiki/Coffee_production_in_Angola\" title=\"Coffee production in Angola\">Angola</a></li>\\n<li><a href=\"/wiki/Coffee_production_in_Bolivia\" title=\"Coffee production in Bolivia\">Bolivia</a></li>\\n<li><a href=\"/wiki/Coffee_production_in_China\" title=\"Coffee production in China\">China</a></li>\\n<li><a href=\"/wiki/Coffee_production_in_Cameroon\" title=\"Coffee production in Cameroon\">Cameroon</a></li>\\n<li><a href=\"/wiki/Coffee_production_in_Cuba\" title=\"Coffee production in Cuba\">Cuba</a></li>\\n<li><a href=\"/wiki/Coffee_production_in_Democratic_Republic_of_the_Congo\" title=\"Coffee production in Democratic Republic of the Congo\">Democratic Republic of the Congo</a></li>\\n<li><a href=\"/wiki/Coffee_industry_of_Timor_Leste\" title=\"Coffee industry of Timor Leste\">East Timor</a></li>\\n<li><a href=\"/wiki/Coffee_production_in_Guadeloupe\" title=\"Coffee production in Guadeloupe\">Guadeloupe</a></li>\\n<li><a href=\"/wiki/Coffee_production_in_Guam\" title=\"Coffee production in Guam\">Guam</a></li>\\n<li><a href=\"/wiki/Coffee_production_in_Haiti\" title=\"Coffee production in Haiti\">Haiti</a></li>\\n<li><a href=\"/wiki/Coffee_production_in_Jamaica\" title=\"Coffee production in Jamaica\">Jamaica</a></li>\\n<li><a href=\"/wiki/Coffee_production_in_Kenya\" title=\"Coffee production in Kenya\">Kenya</a></li>\\n<li><a href=\"/wiki/Coffee_production_in_Laos\" title=\"Coffee production in Laos\">Laos</a></li>\\n<li><a href=\"/wiki/Coffee_production_in_Martinique\" title=\"Coffee production in Martinique\">Martinique</a></li>\\n<li><a href=\"/wiki/Coffee_production_in_Panama\" title=\"Coffee production in Panama\">Panama</a></li>\\n<li><a href=\"/wiki/Coffee_production_in_Paraguay\" title=\"Coffee production in Paraguay\">Paraguay</a></li>\\n<li><a href=\"/wiki/Coffee_production_in_the_Philippines\" title=\"Coffee production in the Philippines\">Philippines</a></li>\\n<li><a href=\"/wiki/Coffee_production_in_Puerto_Rico\" title=\"Coffee production in Puerto Rico\">Puerto Rico</a></li>\\n<li><a href=\"/wiki/Coffee_production_in_Sri_Lanka\" title=\"Coffee production in Sri Lanka\">Sri Lanka</a></li>\\n<li><a href=\"/wiki/Coffee_production_in_Hawaii\" title=\"Coffee production in Hawaii\">United States (Hawaii)</a></li>\\n<li><a href=\"/wiki/Coffee_production_in_Venezuela\" title=\"Coffee production in Venezuela\">Venezuela</a></li></ul>\\n</div></td></tr><tr><th scope=\"row\" class=\"navbox-group\" style=\"width:1%\">Lists</th><td class=\"navbox-list navbox-odd hlist\" style=\"text-align:left;border-left-width:2px;border-left-style:solid;width:100%;padding:0px\"><div style=\"padding:0em 0.25em\">\\n<ul><li><a class=\"mw-selflink selflink\">List of countries by coffee production</a></li>\\n<li><a href=\"/wiki/List_of_countries_by_coffee_exports\" title=\"List of countries by coffee exports\">List of countries by coffee exports</a></li></ul>\\n</div></td></tr></tbody></table></div>\\n<div role=\"navigation\" class=\"navbox\" aria-labelledby=\"Lists_of_countries_by_agricultural_output_rankings\" style=\"padding:3px\"><table class=\"nowraplinks mw-collapsible autocollapse navbox-inner\" style=\"border-spacing:0;background:transparent;color:inherit\"><tbody><tr><th scope=\"col\" class=\"navbox-title\" colspan=\"2\"><div class=\"plainlinks hlist navbar mini\"><ul><li class=\"nv-view\"><a href=\"/wiki/Template:Agriculture_country_lists\" title=\"Template:Agriculture country lists\"><abbr title=\"View this template\" style=\";;background:none transparent;border:none;-moz-box-shadow:none;-webkit-box-shadow:none;box-shadow:none; padding:0;\">v</abbr></a></li><li class=\"nv-talk\"><a href=\"/wiki/Template_talk:Agriculture_country_lists\" title=\"Template talk:Agriculture country lists\"><abbr title=\"Discuss this template\" style=\";;background:none transparent;border:none;-moz-box-shadow:none;-webkit-box-shadow:none;box-shadow:none; padding:0;\">t</abbr></a></li><li class=\"nv-edit\"><a class=\"external text\" href=\"https://en.wikipedia.org/w/index.php?title=Template:Agriculture_country_lists&amp;action=edit\"><abbr title=\"Edit this template\" style=\";;background:none transparent;border:none;-moz-box-shadow:none;-webkit-box-shadow:none;box-shadow:none; padding:0;\">e</abbr></a></li></ul></div><div id=\"Lists_of_countries_by_agricultural_output_rankings\" style=\"font-size:114%;margin:0 4em\"><a href=\"/wiki/Lists_of_countries_and_territories\" title=\"Lists of countries and territories\">Lists of countries</a> by <a href=\"/wiki/List_of_largest_producing_countries_of_agricultural_commodities\" title=\"List of largest producing countries of agricultural commodities\">agricultural output</a> <a href=\"/wiki/List_of_international_rankings\" title=\"List of international rankings\">rankings</a></div></th></tr><tr><th scope=\"row\" class=\"navbox-group\" style=\"width:1%\"><a href=\"/wiki/Cereal\" title=\"Cereal\">Cereals</a></th><td class=\"navbox-list navbox-odd hlist\" style=\"text-align:left;border-left-width:2px;border-left-style:solid;width:100%;padding:0px\"><div style=\"padding:0em 0.25em\">\\n<ul><li><a href=\"/wiki/List_of_countries_by_barley_production\" title=\"List of countries by barley production\">Barley</a></li>\\n<li><a href=\"/wiki/Buckwheat#Production\" title=\"Buckwheat\">Buckwheat</a></li>\\n<li><a href=\"/wiki/Maize#Production\" title=\"Maize\">Maize</a></li>\\n<li><a href=\"/wiki/Millet#Production\" title=\"Millet\">Millet</a></li>\\n<li><a href=\"/wiki/Oat#Cultivation\" title=\"Oat\">Oat</a></li>\\n<li><a href=\"/wiki/Rice#Production_and_commerce\" title=\"Rice\">Rice</a></li>\\n<li><a href=\"/wiki/Rye#Production_and_consumption_statistics\" title=\"Rye\">Rye</a></li>\\n<li><a href=\"/wiki/Commercial_sorghum#Cultivation_and_uses\" title=\"Commercial sorghum\">Sorghum</a></li>\\n<li><a href=\"/wiki/Triticale#Conventional_breeding_approaches\" title=\"Triticale\">Triticale</a></li>\\n<li><a href=\"/wiki/International_wheat_production_statistics\" title=\"International wheat production statistics\">Wheat</a>\\n<ul><li><a href=\"/wiki/List_of_countries_by_wheat_exports\" title=\"List of countries by wheat exports\">exports</a></li></ul></li></ul>\\n</div></td></tr><tr><th scope=\"row\" class=\"navbox-group\" style=\"width:1%\"><a href=\"/wiki/Fruit\" title=\"Fruit\">Fruit</a></th><td class=\"navbox-list navbox-even hlist\" style=\"text-align:left;border-left-width:2px;border-left-style:solid;width:100%;padding:0px\"><div style=\"padding:0em 0.25em\">\\n<ul><li><a href=\"/wiki/List_of_countries_by_apple_production\" title=\"List of countries by apple production\">Apple</a></li>\\n<li><a href=\"/wiki/List_of_countries_by_apricot_production\" title=\"List of countries by apricot production\">Apricot</a></li>\\n<li><a href=\"/wiki/List_of_countries_by_avocado_production\" title=\"List of countries by avocado production\">Avocado</a></li>\\n<li><a href=\"/wiki/Banana#Production_and_export\" title=\"Banana\">Banana</a></li>\\n<li><a href=\"/wiki/List_of_countries_by_cherry_production\" title=\"List of countries by cherry production\">Cherry</a></li>\\n<li><a href=\"/wiki/Citrus_production\" title=\"Citrus production\">Citrus</a>\\n<ul><li><a href=\"/wiki/Orange_(fruit)#Production\" title=\"Orange (fruit)\">Orange</a></li></ul></li>\\n<li><a href=\"/wiki/List_of_countries_by_coconut_production\" title=\"List of countries by coconut production\">Coconut</a></li>\\n<li><a href=\"/wiki/List_of_countries_by_cucumber_production\" title=\"List of countries by cucumber production\">Cucumber</a></li>\\n<li><a href=\"/wiki/List_of_countries_by_eggplant_production\" title=\"List of countries by eggplant production\">Eggplant</a></li>\\n<li><a href=\"/wiki/List_of_countries_by_grape_production\" title=\"List of countries by grape production\">Grape</a></li>\\n<li><a href=\"/wiki/Lemon#Production\" title=\"Lemon\">Lemon</a></li>\\n<li><a href=\"/wiki/Lime_(fruit)#Production\" title=\"Lime (fruit)\">Lime</a></li>\\n<li><a href=\"/wiki/Mango#Cultivation\" title=\"Mango\">Mango</a></li>\\n<li><a href=\"/wiki/List_of_countries_by_papaya_production\" title=\"List of countries by papaya production\">Papaya</a></li>\\n<li><a href=\"/wiki/List_of_countries_by_pear_production\" title=\"List of countries by pear production\">Pear</a></li>\\n<li><a href=\"/wiki/List_of_countries_by_plum_production\" title=\"List of countries by plum production\">Plum</a></li>\\n<li><a href=\"/wiki/List_of_countries_by_pineapple_production\" title=\"List of countries by pineapple production\">Pineapple</a></li>\\n<li><a href=\"/wiki/Raspberry#Production\" title=\"Raspberry\">Raspberry</a></li>\\n<li><a href=\"/wiki/List_of_countries_by_tomato_production\" title=\"List of countries by tomato production\">Tomato</a></li></ul>\\n</div></td></tr><tr><th scope=\"row\" class=\"navbox-group\" style=\"width:1%\"><a href=\"/wiki/Vegetable\" title=\"Vegetable\">Vegetables</a></th><td class=\"navbox-list navbox-odd hlist\" style=\"text-align:left;border-left-width:2px;border-left-style:solid;width:100%;padding:0px\"><div style=\"padding:0em 0.25em\">\\n<ul><li><a href=\"/wiki/List_of_countries_by_artichoke_production\" title=\"List of countries by artichoke production\">Artichoke</a></li>\\n<li><a href=\"/wiki/Carrot#Production\" title=\"Carrot\">Carrot</a></li>\\n<li><a href=\"/wiki/List_of_countries_by_garlic_production\" title=\"List of countries by garlic production\">Garlic</a></li>\\n<li><a href=\"/wiki/List_of_countries_by_onion_production\" class=\"mw-redirect\" title=\"List of countries by onion production\">Onion</a></li>\\n<li><a href=\"/wiki/List_of_countries_by_potato_production\" title=\"List of countries by potato production\">Potato</a></li>\\n<li><a href=\"/wiki/Rapeseed#Production\" title=\"Rapeseed\">Rapeseed</a></li>\\n<li><a href=\"/wiki/List_of_countries_by_soybean_production\" title=\"List of countries by soybean production\">Soybean</a></li>\\n<li><a href=\"/wiki/Carrot#Production\" title=\"Carrot\">Turnip</a></li></ul>\\n</div></td></tr><tr><th scope=\"row\" class=\"navbox-group\" style=\"width:1%\">Other</th><td class=\"navbox-list navbox-even hlist\" style=\"text-align:left;border-left-width:2px;border-left-style:solid;width:100%;padding:0px\"><div style=\"padding:0em 0.25em\">\\n<ul><li><a href=\"/wiki/Theobroma_cacao#Cultivation\" title=\"Theobroma cacao\">Cacao</a></li>\\n<li><a href=\"/wiki/Cassava\" title=\"Cassava\">Cassava</a></li>\\n<li><a class=\"mw-selflink selflink\">Coffee</a></li>\\n<li><a href=\"/wiki/Cotton#Leading_producer_countries\" title=\"Cotton\">Cotton</a></li>\\n<li><a href=\"/wiki/Fishing_industry_by_country\" title=\"Fishing industry by country\">Fish</a></li>\\n<li><a href=\"/wiki/Milk#Production_worldwide\" title=\"Milk\">Milk</a></li>\\n<li><a href=\"/wiki/Sugar_beet#Production_statistics\" title=\"Sugar beet\">Sugar beet</a></li>\\n<li><a href=\"/wiki/Sugarcane#Production\" title=\"Sugarcane\">Sugar cane</a></li>\\n<li><a href=\"/wiki/Sunflower_seed#Cultivation\" title=\"Sunflower seed\">Sunflower seed</a></li>\\n<li><a href=\"/wiki/Tea#Production\" title=\"Tea\">Tea</a></li>\\n<li><a href=\"/wiki/Tobacco_industry#Production_by_country_or_region\" title=\"Tobacco industry\">Tobacco</a></li>\\n<li><a href=\"/wiki/List_of_wine-producing_countries\" class=\"mw-redirect\" title=\"List of wine-producing countries\">Wine</a></li></ul>\\n</div></td></tr><tr><th scope=\"row\" class=\"navbox-group\" style=\"width:1%\">Related</th><td class=\"navbox-list navbox-odd hlist\" style=\"text-align:left;border-left-width:2px;border-left-style:solid;width:100%;padding:0px\"><div style=\"padding:0em 0.25em\">\\n<ul><li><a href=\"/wiki/List_of_countries_by_irrigated_land_area\" title=\"List of countries by irrigated land area\">Irrigation</a></li>\\n<li><a href=\"/wiki/Land_use_statistics_by_country\" title=\"Land use statistics by country\">Land use</a></li></ul>\\n</div></td></tr><tr><td class=\"navbox-abovebelow\" colspan=\"2\"><div><div class=\"hlist\" style=\"text-align:center\">\\n<ul><li><a href=\"/wiki/List_of_international_rankings\" title=\"List of international rankings\">List of international rankings</a></li>\\n<li><a href=\"/wiki/List_of_top_international_rankings_by_country\" title=\"List of top international rankings by country\">List of top international rankings by country</a></li>\\n<li><a href=\"/wiki/Lists_by_country\" title=\"Lists by country\">Lists by country</a></li></ul>\\n</div></div></td></tr></tbody></table></div>\\n<!-- \\nNewPP limit report\\nParsed by mw1288\\nCached time: 20201111175403\\nCache expiry: 2592000\\nDynamic content: false\\nComplications: [vary‐revision‐sha1]\\nCPU time usage: 0.644 seconds\\nReal time usage: 0.943 seconds\\nPreprocessor visited node count: 6927/1000000\\nPost‐expand include size: 104326/2097152 bytes\\nTemplate argument size: 10847/2097152 bytes\\nHighest expansion depth: 10/40\\nExpensive parser function count: 1/500\\nUnstrip recursion depth: 1/20\\nUnstrip post‐expand size: 21429/5000000 bytes\\nLua time usage: 0.195/10.000 seconds\\nLua memory usage: 4.25 MB/50 MB\\nNumber of Wikibase entities loaded: 0/400\\n-->\\n<!--\\nTransclusion expansion time report (%,ms,calls,template)\\n100.00%  668.632      1 -total\\n 50.55%  337.969     51 Template:Flagicon\\n 23.35%  156.152      1 Template:Reflist\\n 19.11%  127.793      4 Template:Cite_web\\n 11.52%   77.022      1 Template:Short_description\\n 10.63%   71.062      3 Template:Navbox\\n  9.11%   60.925      1 Template:Coffee\\n  6.21%   41.544     54 Template:Main_other\\n  5.58%   37.302      1 Template:Pagetype\\n  4.44%   29.672     51 Template:Flagicon/core\\n-->\\n\\n<!-- Saved in parser cache with key enwiki:pcache:idhash:36196672-0!canonical and timestamp 20201111175407 and revision id 988193478. Serialized with PHP.\\n -->\\n</div><noscript><img src=\"//en.wikipedia.org/wiki/Special:CentralAutoLogin/start?type=1x1\" alt=\"\" title=\"\" width=\"1\" height=\"1\" style=\"border: none; position: absolute;\" /></noscript>\\n<div class=\"printfooter\">Retrieved from \"<a dir=\"ltr\" href=\"https://en.wikipedia.org/w/index.php?title=List_of_countries_by_coffee_production&amp;oldid=988193478\">https://en.wikipedia.org/w/index.php?title=List_of_countries_by_coffee_production&amp;oldid=988193478</a>\"</div></div>\\n\\t\\t<div id=\"catlinks\" class=\"catlinks\" data-mw=\"interface\"><div id=\"mw-normal-catlinks\" class=\"mw-normal-catlinks\"><a href=\"/wiki/Help:Category\" title=\"Help:Category\">Categories</a>: <ul><li><a href=\"/wiki/Category:Coffee_production_by_country\" title=\"Category:Coffee production by country\">Coffee production by country</a></li><li><a href=\"/wiki/Category:Lists_of_countries_by_production\" title=\"Category:Lists of countries by production\">Lists of countries by production</a></li></ul></div><div id=\"mw-hidden-catlinks\" class=\"mw-hidden-catlinks mw-hidden-cats-hidden\">Hidden categories: <ul><li><a href=\"/wiki/Category:Articles_with_short_description\" title=\"Category:Articles with short description\">Articles with short description</a></li><li><a href=\"/wiki/Category:Short_description_is_different_from_Wikidata\" title=\"Category:Short description is different from Wikidata\">Short description is different from Wikidata</a></li></ul></div></div>\\n\\t</div>\\n</div>\\n<div id=\\'mw-data-after-content\\'>\\n\\t<div class=\"read-more-container\"></div>\\n</div>\\n\\n<div id=\"mw-navigation\">\\n\\t<h2>Navigation menu</h2>\\n\\t<div id=\"mw-head\">\\n\\t\\t<!-- Please do not use role attribute as CSS selector, it is deprecated. -->\\n<nav id=\"p-personal\" class=\"mw-portlet mw-portlet-personal vector-menu\" aria-labelledby=\"p-personal-label\" role=\"navigation\" \\n\\t >\\n\\t<h3 id=\"p-personal-label\">\\n\\t\\t<span>Personal tools</span>\\n\\t</h3>\\n\\t<div class=\"vector-menu-content\">\\n\\t\\t<ul class=\"vector-menu-content-list\"><li id=\"pt-anonuserpage\">Not logged in</li><li id=\"pt-anontalk\"><a href=\"/wiki/Special:MyTalk\" title=\"Discussion about edits from this IP address [n]\" accesskey=\"n\">Talk</a></li><li id=\"pt-anoncontribs\"><a href=\"/wiki/Special:MyContributions\" title=\"A list of edits made from this IP address [y]\" accesskey=\"y\">Contributions</a></li><li id=\"pt-createaccount\"><a href=\"/w/index.php?title=Special:CreateAccount&amp;returnto=List+of+countries+by+coffee+production\" title=\"You are encouraged to create an account and log in; however, it is not mandatory\">Create account</a></li><li id=\"pt-login\"><a href=\"/w/index.php?title=Special:UserLogin&amp;returnto=List+of+countries+by+coffee+production\" title=\"You&#039;re encouraged to log in; however, it&#039;s not mandatory. [o]\" accesskey=\"o\">Log in</a></li></ul>\\n\\t\\t\\n\\t</div>\\n</nav>\\n\\n\\t\\t<div id=\"left-navigation\">\\n\\t\\t\\t<!-- Please do not use role attribute as CSS selector, it is deprecated. -->\\n<nav id=\"p-namespaces\" class=\"mw-portlet mw-portlet-namespaces vector-menu vector-menu-tabs\" aria-labelledby=\"p-namespaces-label\" role=\"navigation\" \\n\\t >\\n\\t<h3 id=\"p-namespaces-label\">\\n\\t\\t<span>Namespaces</span>\\n\\t</h3>\\n\\t<div class=\"vector-menu-content\">\\n\\t\\t<ul class=\"vector-menu-content-list\"><li id=\"ca-nstab-main\" class=\"selected\"><a href=\"/wiki/List_of_countries_by_coffee_production\" title=\"View the content page [c]\" accesskey=\"c\">Article</a></li><li id=\"ca-talk\"><a href=\"/wiki/Talk:List_of_countries_by_coffee_production\" rel=\"discussion\" title=\"Discuss improvements to the content page [t]\" accesskey=\"t\">Talk</a></li></ul>\\n\\t\\t\\n\\t</div>\\n</nav>\\n\\n\\t\\t\\t<!-- Please do not use role attribute as CSS selector, it is deprecated. -->\\n<nav id=\"p-variants\" class=\"mw-portlet mw-portlet-variants emptyPortlet vector-menu vector-menu-dropdown\" aria-labelledby=\"p-variants-label\" role=\"navigation\" \\n\\t >\\n\\t<input type=\"checkbox\" class=\"vector-menu-checkbox\" aria-labelledby=\"p-variants-label\" />\\n\\t<h3 id=\"p-variants-label\">\\n\\t\\t<span>Variants</span>\\n\\t</h3>\\n\\t<div class=\"vector-menu-content\">\\n\\t\\t<ul class=\"vector-menu-content-list\"></ul>\\n\\t\\t\\n\\t</div>\\n</nav>\\n\\n\\t\\t</div>\\n\\t\\t<div id=\"right-navigation\">\\n\\t\\t\\t<!-- Please do not use role attribute as CSS selector, it is deprecated. -->\\n<nav id=\"p-views\" class=\"mw-portlet mw-portlet-views vector-menu vector-menu-tabs\" aria-labelledby=\"p-views-label\" role=\"navigation\" \\n\\t >\\n\\t<h3 id=\"p-views-label\">\\n\\t\\t<span>Views</span>\\n\\t</h3>\\n\\t<div class=\"vector-menu-content\">\\n\\t\\t<ul class=\"vector-menu-content-list\"><li id=\"ca-view\" class=\"selected\"><a href=\"/wiki/List_of_countries_by_coffee_production\">Read</a></li><li id=\"ca-edit\"><a href=\"/w/index.php?title=List_of_countries_by_coffee_production&amp;action=edit\" title=\"Edit this page [e]\" accesskey=\"e\">Edit</a></li><li id=\"ca-history\"><a href=\"/w/index.php?title=List_of_countries_by_coffee_production&amp;action=history\" title=\"Past revisions of this page [h]\" accesskey=\"h\">View history</a></li></ul>\\n\\t\\t\\n\\t</div>\\n</nav>\\n\\n\\t\\t\\t<!-- Please do not use role attribute as CSS selector, it is deprecated. -->\\n<nav id=\"p-cactions\" class=\"mw-portlet mw-portlet-cactions emptyPortlet vector-menu vector-menu-dropdown\" aria-labelledby=\"p-cactions-label\" role=\"navigation\" \\n\\t >\\n\\t<input type=\"checkbox\" class=\"vector-menu-checkbox\" aria-labelledby=\"p-cactions-label\" />\\n\\t<h3 id=\"p-cactions-label\">\\n\\t\\t<span>More</span>\\n\\t</h3>\\n\\t<div class=\"vector-menu-content\">\\n\\t\\t<ul class=\"vector-menu-content-list\"></ul>\\n\\t\\t\\n\\t</div>\\n</nav>\\n\\n\\t\\t\\t<div id=\"p-search\" role=\"search\">\\n\\t<h3 >\\n\\t\\t<label for=\"searchInput\">Search</label>\\n\\t</h3>\\n\\t<form action=\"/w/index.php\" id=\"searchform\">\\n\\t\\t<div id=\"simpleSearch\" data-search-loc=\"header-navigation\">\\n\\t\\t\\t<input type=\"search\" name=\"search\" placeholder=\"Search Wikipedia\" autocapitalize=\"sentences\" title=\"Search Wikipedia [f]\" accesskey=\"f\" id=\"searchInput\"/>\\n\\t\\t\\t<input type=\"hidden\" name=\"title\" value=\"Special:Search\">\\n\\t\\t\\t<input type=\"submit\" name=\"fulltext\" value=\"Search\" title=\"Search Wikipedia for this text\" id=\"mw-searchButton\" class=\"searchButton mw-fallbackSearchButton\"/>\\n\\t\\t\\t<input type=\"submit\" name=\"go\" value=\"Go\" title=\"Go to a page with this exact name if it exists\" id=\"searchButton\" class=\"searchButton\"/>\\n\\t\\t</div>\\n\\t</form>\\n</div>\\n\\n\\t\\t</div>\\n\\t</div>\\n\\t\\n<div id=\"mw-panel\">\\n\\t<div id=\"p-logo\" role=\"banner\">\\n\\t\\t<a  title=\"Visit the main page\" class=\"mw-wiki-logo\" href=\"/wiki/Main_Page\"></a>\\n\\t</div>\\n\\t<!-- Please do not use role attribute as CSS selector, it is deprecated. -->\\n<nav id=\"p-navigation\" class=\"mw-portlet mw-portlet-navigation vector-menu vector-menu-portal portal portal-first\" aria-labelledby=\"p-navigation-label\" role=\"navigation\" \\n\\t >\\n\\t<h3 id=\"p-navigation-label\">\\n\\t\\t<span>Navigation</span>\\n\\t</h3>\\n\\t<div class=\"vector-menu-content\">\\n\\t\\t<ul class=\"vector-menu-content-list\"><li id=\"n-mainpage-description\"><a href=\"/wiki/Main_Page\" title=\"Visit the main page [z]\" accesskey=\"z\">Main page</a></li><li id=\"n-contents\"><a href=\"/wiki/Wikipedia:Contents\" title=\"Guides to browsing Wikipedia\">Contents</a></li><li id=\"n-currentevents\"><a href=\"/wiki/Portal:Current_events\" title=\"Articles related to current events\">Current events</a></li><li id=\"n-randompage\"><a href=\"/wiki/Special:Random\" title=\"Visit a randomly selected article [x]\" accesskey=\"x\">Random article</a></li><li id=\"n-aboutsite\"><a href=\"/wiki/Wikipedia:About\" title=\"Learn about Wikipedia and how it works\">About Wikipedia</a></li><li id=\"n-contactpage\"><a href=\"//en.wikipedia.org/wiki/Wikipedia:Contact_us\" title=\"How to contact Wikipedia\">Contact us</a></li><li id=\"n-sitesupport\"><a href=\"https://donate.wikimedia.org/wiki/Special:FundraiserRedirector?utm_source=donate&amp;utm_medium=sidebar&amp;utm_campaign=C13_en.wikipedia.org&amp;uselang=en\" title=\"Support us by donating to the Wikimedia Foundation\">Donate</a></li></ul>\\n\\t\\t\\n\\t</div>\\n</nav>\\n\\n\\t<!-- Please do not use role attribute as CSS selector, it is deprecated. -->\\n<nav id=\"p-interaction\" class=\"mw-portlet mw-portlet-interaction vector-menu vector-menu-portal portal\" aria-labelledby=\"p-interaction-label\" role=\"navigation\" \\n\\t >\\n\\t<h3 id=\"p-interaction-label\">\\n\\t\\t<span>Contribute</span>\\n\\t</h3>\\n\\t<div class=\"vector-menu-content\">\\n\\t\\t<ul class=\"vector-menu-content-list\"><li id=\"n-help\"><a href=\"/wiki/Help:Contents\" title=\"Guidance on how to use and edit Wikipedia\">Help</a></li><li id=\"n-introduction\"><a href=\"/wiki/Help:Introduction\" title=\"Learn how to edit Wikipedia\">Learn to edit</a></li><li id=\"n-portal\"><a href=\"/wiki/Wikipedia:Community_portal\" title=\"The hub for editors\">Community portal</a></li><li id=\"n-recentchanges\"><a href=\"/wiki/Special:RecentChanges\" title=\"A list of recent changes to Wikipedia [r]\" accesskey=\"r\">Recent changes</a></li><li id=\"n-upload\"><a href=\"/wiki/Wikipedia:File_Upload_Wizard\" title=\"Add images or other media for use on Wikipedia\">Upload file</a></li></ul>\\n\\t\\t\\n\\t</div>\\n</nav>\\n<!-- Please do not use role attribute as CSS selector, it is deprecated. -->\\n<nav id=\"p-tb\" class=\"mw-portlet mw-portlet-tb vector-menu vector-menu-portal portal\" aria-labelledby=\"p-tb-label\" role=\"navigation\" \\n\\t >\\n\\t<h3 id=\"p-tb-label\">\\n\\t\\t<span>Tools</span>\\n\\t</h3>\\n\\t<div class=\"vector-menu-content\">\\n\\t\\t<ul class=\"vector-menu-content-list\"><li id=\"t-whatlinkshere\"><a href=\"/wiki/Special:WhatLinksHere/List_of_countries_by_coffee_production\" title=\"List of all English Wikipedia pages containing links to this page [j]\" accesskey=\"j\">What links here</a></li><li id=\"t-recentchangeslinked\"><a href=\"/wiki/Special:RecentChangesLinked/List_of_countries_by_coffee_production\" rel=\"nofollow\" title=\"Recent changes in pages linked from this page [k]\" accesskey=\"k\">Related changes</a></li><li id=\"t-upload\"><a href=\"/wiki/Wikipedia:File_Upload_Wizard\" title=\"Upload files [u]\" accesskey=\"u\">Upload file</a></li><li id=\"t-specialpages\"><a href=\"/wiki/Special:SpecialPages\" title=\"A list of all special pages [q]\" accesskey=\"q\">Special pages</a></li><li id=\"t-permalink\"><a href=\"/w/index.php?title=List_of_countries_by_coffee_production&amp;oldid=988193478\" title=\"Permanent link to this revision of this page\">Permanent link</a></li><li id=\"t-info\"><a href=\"/w/index.php?title=List_of_countries_by_coffee_production&amp;action=info\" title=\"More information about this page\">Page information</a></li><li id=\"t-cite\"><a href=\"/w/index.php?title=Special:CiteThisPage&amp;page=List_of_countries_by_coffee_production&amp;id=988193478&amp;wpFormIdentifier=titleform\" title=\"Information on how to cite this page\">Cite this page</a></li><li id=\"t-wikibase\"><a href=\"https://www.wikidata.org/wiki/Special:EntityPage/Q6169807\" title=\"Structured data on this page hosted by Wikidata [g]\" accesskey=\"g\">Wikidata item</a></li></ul>\\n\\t\\t\\n\\t</div>\\n</nav>\\n<!-- Please do not use role attribute as CSS selector, it is deprecated. -->\\n<nav id=\"p-coll-print_export\" class=\"mw-portlet mw-portlet-coll-print_export vector-menu vector-menu-portal portal\" aria-labelledby=\"p-coll-print_export-label\" role=\"navigation\" \\n\\t >\\n\\t<h3 id=\"p-coll-print_export-label\">\\n\\t\\t<span>Print/export</span>\\n\\t</h3>\\n\\t<div class=\"vector-menu-content\">\\n\\t\\t<ul class=\"vector-menu-content-list\"><li id=\"coll-download-as-rl\"><a href=\"/w/index.php?title=Special:DownloadAsPdf&amp;page=List_of_countries_by_coffee_production&amp;action=show-download-screen\" title=\"Download this page as a PDF file\">Download as PDF</a></li><li id=\"t-print\"><a href=\"/w/index.php?title=List_of_countries_by_coffee_production&amp;printable=yes\" title=\"Printable version of this page [p]\" accesskey=\"p\">Printable version</a></li></ul>\\n\\t\\t\\n\\t</div>\\n</nav>\\n\\n\\t<!-- Please do not use role attribute as CSS selector, it is deprecated. -->\\n<nav id=\"p-lang\" class=\"mw-portlet mw-portlet-lang vector-menu vector-menu-portal portal\" aria-labelledby=\"p-lang-label\" role=\"navigation\" \\n\\t >\\n\\t<h3 id=\"p-lang-label\">\\n\\t\\t<span>Languages</span>\\n\\t</h3>\\n\\t<div class=\"vector-menu-content\">\\n\\t\\t<ul class=\"vector-menu-content-list\"><li class=\"interlanguage-link interwiki-ar\"><a href=\"https://ar.wikipedia.org/wiki/%D9%82%D8%A7%D8%A6%D9%85%D8%A9_%D8%A7%D9%84%D8%AF%D9%88%D9%84_%D8%A7%D9%84%D9%85%D9%86%D8%AA%D8%AC%D8%A9_%D9%84%D9%84%D9%82%D9%87%D9%88%D8%A9\" title=\"قائمة الدول المنتجة للقهوة – Arabic\" lang=\"ar\" hreflang=\"ar\" class=\"interlanguage-link-target\">العربية</a></li><li class=\"interlanguage-link interwiki-es\"><a href=\"https://es.wikipedia.org/wiki/Anexo:Pa%C3%ADses_por_producci%C3%B3n_de_caf%C3%A9\" title=\"Anexo:Países por producción de café – Spanish\" lang=\"es\" hreflang=\"es\" class=\"interlanguage-link-target\">Español</a></li><li class=\"interlanguage-link interwiki-fa\"><a href=\"https://fa.wikipedia.org/wiki/%D9%81%D9%87%D8%B1%D8%B3%D8%AA_%DA%A9%D8%B4%D9%88%D8%B1%D9%87%D8%A7_%D8%A8%D8%B1_%D9%BE%D8%A7%DB%8C%D9%87_%D8%AA%D9%88%D9%84%DB%8C%D8%AF_%D9%82%D9%87%D9%88%D9%87\" title=\"فهرست کشورها بر پایه تولید قهوه – Persian\" lang=\"fa\" hreflang=\"fa\" class=\"interlanguage-link-target\">فارسی</a></li><li class=\"interlanguage-link interwiki-lt\"><a href=\"https://lt.wikipedia.org/wiki/S%C4%85ra%C5%A1as:%C5%A0alys_pagal_kavos_gamyb%C4%85\" title=\"Sąrašas:Šalys pagal kavos gamybą – Lithuanian\" lang=\"lt\" hreflang=\"lt\" class=\"interlanguage-link-target\">Lietuvių</a></li><li class=\"interlanguage-link interwiki-nl\"><a href=\"https://nl.wikipedia.org/wiki/Lijst_van_landen_naar_koffieproductie\" title=\"Lijst van landen naar koffieproductie – Dutch\" lang=\"nl\" hreflang=\"nl\" class=\"interlanguage-link-target\">Nederlands</a></li><li class=\"interlanguage-link interwiki-ja\"><a href=\"https://ja.wikipedia.org/wiki/%E3%82%B3%E3%83%BC%E3%83%92%E3%83%BC%E8%BC%B8%E5%87%BA%E5%9B%BD%E3%81%AE%E4%B8%80%E8%A6%A7\" title=\"コーヒー輸出国の一覧 – Japanese\" lang=\"ja\" hreflang=\"ja\" class=\"interlanguage-link-target\">日本語</a></li><li class=\"interlanguage-link interwiki-ru\"><a href=\"https://ru.wikipedia.org/wiki/%D0%A1%D0%BF%D0%B8%D1%81%D0%BE%D0%BA_%D1%81%D1%82%D1%80%D0%B0%D0%BD_%D0%BF%D0%BE_%D0%BF%D1%80%D0%BE%D0%B8%D0%B7%D0%B2%D0%BE%D0%B4%D1%81%D1%82%D0%B2%D1%83_%D0%BA%D0%BE%D1%84%D0%B5\" title=\"Список стран по производству кофе – Russian\" lang=\"ru\" hreflang=\"ru\" class=\"interlanguage-link-target\">Русский</a></li><li class=\"interlanguage-link interwiki-ta\"><a href=\"https://ta.wikipedia.org/wiki/%E0%AE%95%E0%AE%BE%E0%AE%AA%E0%AF%8D%E0%AE%AA%E0%AE%BF_%E0%AE%89%E0%AE%B1%E0%AF%8D%E0%AE%AA%E0%AE%A4%E0%AF%8D%E0%AE%A4%E0%AE%BF%E0%AE%AF%E0%AE%BF%E0%AE%A9%E0%AF%8D_%E0%AE%85%E0%AE%9F%E0%AE%BF%E0%AE%AA%E0%AF%8D%E0%AE%AA%E0%AE%9F%E0%AF%88%E0%AE%AF%E0%AE%BF%E0%AE%B2%E0%AF%8D_%E0%AE%A8%E0%AE%BE%E0%AE%9F%E0%AF%81%E0%AE%95%E0%AE%B3%E0%AE%BF%E0%AE%A9%E0%AF%8D_%E0%AE%AA%E0%AE%9F%E0%AF%8D%E0%AE%9F%E0%AE%BF%E0%AE%AF%E0%AE%B2%E0%AF%8D\" title=\"காப்பி உற்பத்தியின் அடிப்படையில் நாடுகளின் பட்டியல் – Tamil\" lang=\"ta\" hreflang=\"ta\" class=\"interlanguage-link-target\">தமிழ்</a></li><li class=\"interlanguage-link interwiki-th\"><a href=\"https://th.wikipedia.org/wiki/%E0%B9%81%E0%B8%AB%E0%B8%A5%E0%B9%88%E0%B8%87%E0%B8%9B%E0%B8%A5%E0%B8%B9%E0%B8%81%E0%B8%81%E0%B8%B2%E0%B9%81%E0%B8%9F%E0%B8%97%E0%B8%B5%E0%B9%88%E0%B8%A1%E0%B8%B5%E0%B8%8A%E0%B8%B7%E0%B9%88%E0%B8%AD%E0%B9%80%E0%B8%AA%E0%B8%B5%E0%B8%A2%E0%B8%87\" title=\"แหล่งปลูกกาแฟที่มีชื่อเสียง – Thai\" lang=\"th\" hreflang=\"th\" class=\"interlanguage-link-target\">ไทย</a></li><li class=\"interlanguage-link interwiki-uk\"><a href=\"https://uk.wikipedia.org/wiki/%D0%A1%D0%B2%D1%96%D1%82%D0%BE%D0%B2%D0%B5_%D0%B2%D0%B8%D1%80%D0%BE%D0%B1%D0%BD%D0%B8%D1%86%D1%82%D0%B2%D0%BE_%D0%BA%D0%B0%D0%B2%D0%B8\" title=\"Світове виробництво кави – Ukrainian\" lang=\"uk\" hreflang=\"uk\" class=\"interlanguage-link-target\">Українська</a></li><li class=\"interlanguage-link interwiki-ur\"><a href=\"https://ur.wikipedia.org/wiki/%D9%81%DB%81%D8%B1%D8%B3%D8%AA_%D9%85%D9%85%D8%A7%D9%84%DA%A9_%D8%A8%D9%84%D8%AD%D8%A7%D8%B8_%DA%A9%D8%A7%D9%81%DB%8C_%D9%BE%DB%8C%D8%AF%D8%A7%D9%88%D8%A7%D8%B1\" title=\"فہرست ممالک بلحاظ کافی پیداوار – Urdu\" lang=\"ur\" hreflang=\"ur\" class=\"interlanguage-link-target\">اردو</a></li><li class=\"interlanguage-link interwiki-vi\"><a href=\"https://vi.wikipedia.org/wiki/Danh_s%C3%A1ch_qu%E1%BB%91c_gia_theo_l%C6%B0%E1%BB%A3ng_c%C3%A0_ph%C3%AA_xu%E1%BA%A5t_kh%E1%BA%A9u\" title=\"Danh sách quốc gia theo lượng cà phê xuất khẩu – Vietnamese\" lang=\"vi\" hreflang=\"vi\" class=\"interlanguage-link-target\">Tiếng Việt</a></li></ul>\\n\\t\\t<div class=\"after-portlet after-portlet-lang\"><span class=\"wb-langlinks-edit wb-langlinks-link\"><a href=\"https://www.wikidata.org/wiki/Special:EntityPage/Q6169807#sitelinks-wikipedia\" title=\"Edit interlanguage links\" class=\"wbc-editpage\">Edit links</a></span></div>\\n\\t</div>\\n</nav>\\n\\n</div>\\n\\n</div>\\n<footer id=\"footer\" class=\"mw-footer\" role=\"contentinfo\" >\\n\\t<ul id=\"footer-info\" >\\n\\t<li id=\"footer-info-lastmod\"> This page was last edited on 11 November 2020, at 17:54<span class=\"anonymous-show\">&#160;(UTC)</span>.</li>\\n\\t<li id=\"footer-info-copyright\">Text is available under the <a rel=\"license\" href=\"//en.wikipedia.org/wiki/Wikipedia:Text_of_Creative_Commons_Attribution-ShareAlike_3.0_Unported_License\">Creative Commons Attribution-ShareAlike License</a><a rel=\"license\" href=\"//creativecommons.org/licenses/by-sa/3.0/\" style=\"display:none;\"></a>;\\nadditional terms may apply.  By using this site, you agree to the <a href=\"//foundation.wikimedia.org/wiki/Terms_of_Use\">Terms of Use</a> and <a href=\"//foundation.wikimedia.org/wiki/Privacy_policy\">Privacy Policy</a>. Wikipedia® is a registered trademark of the <a href=\"//www.wikimediafoundation.org/\">Wikimedia Foundation, Inc.</a>, a non-profit organization.</li>\\n</ul>\\n\\n\\t<ul id=\"footer-places\" >\\n\\t<li id=\"footer-places-privacy\"><a href=\"https://foundation.wikimedia.org/wiki/Privacy_policy\" class=\"extiw\" title=\"wmf:Privacy policy\">Privacy policy</a></li>\\n\\t<li id=\"footer-places-about\"><a href=\"/wiki/Wikipedia:About\" title=\"Wikipedia:About\">About Wikipedia</a></li>\\n\\t<li id=\"footer-places-disclaimer\"><a href=\"/wiki/Wikipedia:General_disclaimer\" title=\"Wikipedia:General disclaimer\">Disclaimers</a></li>\\n\\t<li id=\"footer-places-contact\"><a href=\"//en.wikipedia.org/wiki/Wikipedia:Contact_us\">Contact Wikipedia</a></li>\\n\\t<li id=\"footer-places-mobileview\"><a href=\"//en.m.wikipedia.org/w/index.php?title=List_of_countries_by_coffee_production&amp;mobileaction=toggle_view_mobile\" class=\"noprint stopMobileRedirectToggle\">Mobile view</a></li>\\n\\t<li id=\"footer-places-developers\"><a href=\"https://www.mediawiki.org/wiki/Special:MyLanguage/How_to_contribute\">Developers</a></li>\\n\\t<li id=\"footer-places-statslink\"><a href=\"https://stats.wikimedia.org/#/en.wikipedia.org\">Statistics</a></li>\\n\\t<li id=\"footer-places-cookiestatement\"><a href=\"https://foundation.wikimedia.org/wiki/Cookie_statement\">Cookie statement</a></li>\\n</ul>\\n\\n\\t<ul id=\"footer-icons\" class=\"noprint\">\\n\\t<li id=\"footer-copyrightico\"><a href=\"https://wikimediafoundation.org/\"><img src=\"/static/images/footer/wikimedia-button.png\" srcset=\"/static/images/footer/wikimedia-button-1.5x.png 1.5x, /static/images/footer/wikimedia-button-2x.png 2x\" width=\"88\" height=\"31\" alt=\"Wikimedia Foundation\" loading=\"lazy\" /></a></li>\\n\\t<li id=\"footer-poweredbyico\"><a href=\"https://www.mediawiki.org/\"><img src=\"/static/images/footer/poweredby_mediawiki_88x31.png\" alt=\"Powered by MediaWiki\" srcset=\"/static/images/footer/poweredby_mediawiki_132x47.png 1.5x, /static/images/footer/poweredby_mediawiki_176x62.png 2x\" width=\"88\" height=\"31\" loading=\"lazy\"/></a></li>\\n</ul>\\n\\n\\t<div style=\"clear: both;\"></div>\\n</footer>\\n\\n\\n<script>(RLQ=window.RLQ||[]).push(function(){mw.config.set({\"wgPageParseReport\":{\"limitreport\":{\"cputime\":\"0.644\",\"walltime\":\"0.943\",\"ppvisitednodes\":{\"value\":6927,\"limit\":1000000},\"postexpandincludesize\":{\"value\":104326,\"limit\":2097152},\"templateargumentsize\":{\"value\":10847,\"limit\":2097152},\"expansiondepth\":{\"value\":10,\"limit\":40},\"expensivefunctioncount\":{\"value\":1,\"limit\":500},\"unstrip-depth\":{\"value\":1,\"limit\":20},\"unstrip-size\":{\"value\":21429,\"limit\":5000000},\"entityaccesscount\":{\"value\":0,\"limit\":400},\"timingprofile\":[\"100.00%  668.632      1 -total\",\" 50.55%  337.969     51 Template:Flagicon\",\" 23.35%  156.152      1 Template:Reflist\",\" 19.11%  127.793      4 Template:Cite_web\",\" 11.52%   77.022      1 Template:Short_description\",\" 10.63%   71.062      3 Template:Navbox\",\"  9.11%   60.925      1 Template:Coffee\",\"  6.21%   41.544     54 Template:Main_other\",\"  5.58%   37.302      1 Template:Pagetype\",\"  4.44%   29.672     51 Template:Flagicon/core\"]},\"scribunto\":{\"limitreport-timeusage\":{\"value\":\"0.195\",\"limit\":\"10.000\"},\"limitreport-memusage\":{\"value\":4457271,\"limit\":52428800}},\"cachereport\":{\"origin\":\"mw1288\",\"timestamp\":\"20201111175403\",\"ttl\":2592000,\"transientcontent\":false}}});});</script>\\n<script type=\"application/ld+json\">{\"@context\":\"https:\\\\/\\\\/schema.org\",\"@type\":\"Article\",\"name\":\"List of countries by coffee production\",\"url\":\"https:\\\\/\\\\/en.wikipedia.org\\\\/wiki\\\\/List_of_countries_by_coffee_production\",\"sameAs\":\"http:\\\\/\\\\/www.wikidata.org\\\\/entity\\\\/Q6169807\",\"mainEntity\":\"http:\\\\/\\\\/www.wikidata.org\\\\/entity\\\\/Q6169807\",\"author\":{\"@type\":\"Organization\",\"name\":\"Contributors to Wikimedia projects\"},\"publisher\":{\"@type\":\"Organization\",\"name\":\"Wikimedia Foundation, Inc.\",\"logo\":{\"@type\":\"ImageObject\",\"url\":\"https:\\\\/\\\\/www.wikimedia.org\\\\/static\\\\/images\\\\/wmf-hor-googpub.png\"}},\"datePublished\":\"2012-06-20T13:57:02Z\",\"dateModified\":\"2020-11-11T17:54:07Z\",\"image\":\"https:\\\\/\\\\/upload.wikimedia.org\\\\/wikipedia\\\\/commons\\\\/c\\\\/cd\\\\/GlobalCoffeeProduction.png\",\"headline\":\"Wikimedia list article\"}</script>\\n<script>(RLQ=window.RLQ||[]).push(function(){mw.config.set({\"wgBackendResponseTime\":161,\"wgHostname\":\"mw1328\"});});</script>\\n</body></html>'"
      ]
     },
     "execution_count": 29,
     "metadata": {},
     "output_type": "execute_result"
    }
   ],
   "source": [
    "page"
   ]
  },
  {
   "cell_type": "code",
   "execution_count": 30,
   "metadata": {},
   "outputs": [
    {
     "data": {
      "text/plain": [
       "<table border=\"1\" class=\"wikitable sortable\">\n",
       "<tbody><tr>\n",
       "<th>Rank\n",
       "</th>\n",
       "<th>Country\n",
       "</th>\n",
       "<th>60 kilogram bags\n",
       "</th>\n",
       "<th>Metric Tons\n",
       "</th>\n",
       "<th>Pounds\n",
       "</th></tr>\n",
       "<tr>\n",
       "<td>1\n",
       "</td>\n",
       "<td><span class=\"flagicon\"><a href=\"/wiki/Brazil\" title=\"Brazil\"><img alt=\"Brazil\" class=\"thumbborder\" data-file-height=\"504\" data-file-width=\"720\" decoding=\"async\" height=\"15\" src=\"//upload.wikimedia.org/wikipedia/en/thumb/0/05/Flag_of_Brazil.svg/22px-Flag_of_Brazil.svg.png\" srcset=\"//upload.wikimedia.org/wikipedia/en/thumb/0/05/Flag_of_Brazil.svg/33px-Flag_of_Brazil.svg.png 1.5x, //upload.wikimedia.org/wikipedia/en/thumb/0/05/Flag_of_Brazil.svg/43px-Flag_of_Brazil.svg.png 2x\" width=\"22\"/></a></span> <a href=\"/wiki/Coffee_production_in_Brazil\" title=\"Coffee production in Brazil\">Brazil</a>\n",
       "</td>\n",
       "<td>44,200,000\n",
       "</td>\n",
       "<td>2,652,000\n",
       "</td>\n",
       "<td>5,714,381,000\n",
       "</td></tr>\n",
       "<tr>\n",
       "<td>2\n",
       "</td>\n",
       "<td><span class=\"flagicon\"><a href=\"/wiki/Vietnam\" title=\"Vietnam\"><img alt=\"Vietnam\" class=\"thumbborder\" data-file-height=\"600\" data-file-width=\"900\" decoding=\"async\" height=\"15\" src=\"//upload.wikimedia.org/wikipedia/commons/thumb/2/21/Flag_of_Vietnam.svg/23px-Flag_of_Vietnam.svg.png\" srcset=\"//upload.wikimedia.org/wikipedia/commons/thumb/2/21/Flag_of_Vietnam.svg/35px-Flag_of_Vietnam.svg.png 1.5x, //upload.wikimedia.org/wikipedia/commons/thumb/2/21/Flag_of_Vietnam.svg/45px-Flag_of_Vietnam.svg.png 2x\" width=\"23\"/></a></span> <a href=\"/wiki/Coffee_production_in_Vietnam\" title=\"Coffee production in Vietnam\">Vietnam</a>\n",
       "</td>\n",
       "<td>27,500,000\n",
       "</td>\n",
       "<td>1,650,000\n",
       "</td>\n",
       "<td>3,637,627,000\n",
       "</td></tr>\n",
       "<tr>\n",
       "<td>3\n",
       "</td>\n",
       "<td><span class=\"flagicon\"><a href=\"/wiki/Colombia\" title=\"Colombia\"><img alt=\"Colombia\" class=\"thumbborder\" data-file-height=\"600\" data-file-width=\"900\" decoding=\"async\" height=\"15\" src=\"//upload.wikimedia.org/wikipedia/commons/thumb/2/21/Flag_of_Colombia.svg/23px-Flag_of_Colombia.svg.png\" srcset=\"//upload.wikimedia.org/wikipedia/commons/thumb/2/21/Flag_of_Colombia.svg/35px-Flag_of_Colombia.svg.png 1.5x, //upload.wikimedia.org/wikipedia/commons/thumb/2/21/Flag_of_Colombia.svg/45px-Flag_of_Colombia.svg.png 2x\" width=\"23\"/></a></span> <a href=\"/wiki/Coffee_production_in_Colombia\" title=\"Coffee production in Colombia\">Colombia</a>\n",
       "</td>\n",
       "<td>13,500,000\n",
       "</td>\n",
       "<td>810,000\n",
       "</td>\n",
       "<td>1,785,744,000\n",
       "</td></tr>\n",
       "<tr>\n",
       "<td>4\n",
       "</td>\n",
       "<td><span class=\"flagicon\"><a href=\"/wiki/Indonesia\" title=\"Indonesia\"><img alt=\"Indonesia\" class=\"thumbborder\" data-file-height=\"600\" data-file-width=\"900\" decoding=\"async\" height=\"15\" src=\"//upload.wikimedia.org/wikipedia/commons/thumb/9/9f/Flag_of_Indonesia.svg/23px-Flag_of_Indonesia.svg.png\" srcset=\"//upload.wikimedia.org/wikipedia/commons/thumb/9/9f/Flag_of_Indonesia.svg/35px-Flag_of_Indonesia.svg.png 1.5x, //upload.wikimedia.org/wikipedia/commons/thumb/9/9f/Flag_of_Indonesia.svg/45px-Flag_of_Indonesia.svg.png 2x\" width=\"23\"/></a></span> <a href=\"/wiki/Coffee_production_in_Indonesia\" title=\"Coffee production in Indonesia\">Indonesia</a>\n",
       "</td>\n",
       "<td>11,000,000\n",
       "</td>\n",
       "<td>660,000\n",
       "</td>\n",
       "<td>1,455,050,000\n",
       "</td></tr>\n",
       "<tr>\n",
       "<td>5\n",
       "</td>\n",
       "<td><span class=\"flagicon\"><a href=\"/wiki/Ethiopia\" title=\"Ethiopia\"><img alt=\"Ethiopia\" class=\"thumbborder\" data-file-height=\"600\" data-file-width=\"1200\" decoding=\"async\" height=\"12\" src=\"//upload.wikimedia.org/wikipedia/commons/thumb/7/71/Flag_of_Ethiopia.svg/23px-Flag_of_Ethiopia.svg.png\" srcset=\"//upload.wikimedia.org/wikipedia/commons/thumb/7/71/Flag_of_Ethiopia.svg/35px-Flag_of_Ethiopia.svg.png 1.5x, //upload.wikimedia.org/wikipedia/commons/thumb/7/71/Flag_of_Ethiopia.svg/46px-Flag_of_Ethiopia.svg.png 2x\" width=\"23\"/></a></span> <a href=\"/wiki/Coffee_production_in_Ethiopia\" title=\"Coffee production in Ethiopia\">Ethiopia</a>\n",
       "</td>\n",
       "<td>6,400,000\n",
       "</td>\n",
       "<td>384,000\n",
       "</td>\n",
       "<td>846,575,000\n",
       "</td></tr>\n",
       "<tr>\n",
       "<td>6\n",
       "</td>\n",
       "<td><span class=\"flagicon\"><a href=\"/wiki/Honduras\" title=\"Honduras\"><img alt=\"Honduras\" class=\"thumbborder\" data-file-height=\"500\" data-file-width=\"1000\" decoding=\"async\" height=\"12\" src=\"//upload.wikimedia.org/wikipedia/commons/thumb/8/82/Flag_of_Honduras.svg/23px-Flag_of_Honduras.svg.png\" srcset=\"//upload.wikimedia.org/wikipedia/commons/thumb/8/82/Flag_of_Honduras.svg/35px-Flag_of_Honduras.svg.png 1.5x, //upload.wikimedia.org/wikipedia/commons/thumb/8/82/Flag_of_Honduras.svg/46px-Flag_of_Honduras.svg.png 2x\" width=\"23\"/></a></span> <a href=\"/wiki/Coffee_production_in_Honduras\" title=\"Coffee production in Honduras\">Honduras</a>\n",
       "</td>\n",
       "<td>5,800,000\n",
       "</td>\n",
       "<td>348,000\n",
       "</td>\n",
       "<td>767,208,000\n",
       "</td></tr>\n",
       "<tr>\n",
       "<td>7\n",
       "</td>\n",
       "<td><span class=\"flagicon\"><a href=\"/wiki/India\" title=\"India\"><img alt=\"India\" class=\"thumbborder\" data-file-height=\"900\" data-file-width=\"1350\" decoding=\"async\" height=\"15\" src=\"//upload.wikimedia.org/wikipedia/en/thumb/4/41/Flag_of_India.svg/23px-Flag_of_India.svg.png\" srcset=\"//upload.wikimedia.org/wikipedia/en/thumb/4/41/Flag_of_India.svg/35px-Flag_of_India.svg.png 1.5x, //upload.wikimedia.org/wikipedia/en/thumb/4/41/Flag_of_India.svg/45px-Flag_of_India.svg.png 2x\" width=\"23\"/></a></span> <a href=\"/wiki/Coffee_production_in_India\" title=\"Coffee production in India\">India</a>\n",
       "</td>\n",
       "<td>5,800,000\n",
       "</td>\n",
       "<td>348,000\n",
       "</td>\n",
       "<td>767,208,000\n",
       "</td></tr>\n",
       "<tr>\n",
       "<td>8\n",
       "</td>\n",
       "<td><span class=\"flagicon\"><a href=\"/wiki/Uganda\" title=\"Uganda\"><img alt=\"Uganda\" class=\"thumbborder\" data-file-height=\"600\" data-file-width=\"900\" decoding=\"async\" height=\"15\" src=\"//upload.wikimedia.org/wikipedia/commons/thumb/4/4e/Flag_of_Uganda.svg/23px-Flag_of_Uganda.svg.png\" srcset=\"//upload.wikimedia.org/wikipedia/commons/thumb/4/4e/Flag_of_Uganda.svg/35px-Flag_of_Uganda.svg.png 1.5x, //upload.wikimedia.org/wikipedia/commons/thumb/4/4e/Flag_of_Uganda.svg/45px-Flag_of_Uganda.svg.png 2x\" width=\"23\"/></a></span> <a href=\"/wiki/Coffee_production_in_Uganda\" title=\"Coffee production in Uganda\">Uganda</a>\n",
       "</td>\n",
       "<td>4,800,000\n",
       "</td>\n",
       "<td>288,000\n",
       "</td>\n",
       "<td>634,931,000\n",
       "</td></tr>\n",
       "<tr>\n",
       "<td>9\n",
       "</td>\n",
       "<td><span class=\"flagicon\"><a href=\"/wiki/Mexico\" title=\"Mexico\"><img alt=\"Mexico\" class=\"thumbborder\" data-file-height=\"560\" data-file-width=\"980\" decoding=\"async\" height=\"13\" src=\"//upload.wikimedia.org/wikipedia/commons/thumb/f/fc/Flag_of_Mexico.svg/23px-Flag_of_Mexico.svg.png\" srcset=\"//upload.wikimedia.org/wikipedia/commons/thumb/f/fc/Flag_of_Mexico.svg/35px-Flag_of_Mexico.svg.png 1.5x, //upload.wikimedia.org/wikipedia/commons/thumb/f/fc/Flag_of_Mexico.svg/46px-Flag_of_Mexico.svg.png 2x\" width=\"23\"/></a></span> <a href=\"/wiki/Coffee_production_in_Mexico\" title=\"Coffee production in Mexico\">Mexico</a>\n",
       "</td>\n",
       "<td>3,900,000\n",
       "</td>\n",
       "<td>234,000\n",
       "</td>\n",
       "<td>515,881,000\n",
       "</td></tr>\n",
       "<tr>\n",
       "<td>10\n",
       "</td>\n",
       "<td><span class=\"flagicon\"><a href=\"/wiki/Guatemala\" title=\"Guatemala\"><img alt=\"Guatemala\" class=\"thumbborder\" data-file-height=\"600\" data-file-width=\"960\" decoding=\"async\" height=\"14\" src=\"//upload.wikimedia.org/wikipedia/commons/thumb/e/ec/Flag_of_Guatemala.svg/23px-Flag_of_Guatemala.svg.png\" srcset=\"//upload.wikimedia.org/wikipedia/commons/thumb/e/ec/Flag_of_Guatemala.svg/35px-Flag_of_Guatemala.svg.png 1.5x, //upload.wikimedia.org/wikipedia/commons/thumb/e/ec/Flag_of_Guatemala.svg/46px-Flag_of_Guatemala.svg.png 2x\" width=\"23\"/></a></span> <a href=\"/wiki/Coffee_production_in_Guatemala\" title=\"Coffee production in Guatemala\">Guatemala</a>\n",
       "</td>\n",
       "<td>3,400,000\n",
       "</td>\n",
       "<td>204,000\n",
       "</td>\n",
       "<td>449,743,000\n",
       "</td></tr>\n",
       "<tr>\n",
       "<td>11\n",
       "</td>\n",
       "<td><span class=\"flagicon\"><a href=\"/wiki/Peru\" title=\"Peru\"><img alt=\"Peru\" class=\"thumbborder\" data-file-height=\"600\" data-file-width=\"900\" decoding=\"async\" height=\"15\" src=\"//upload.wikimedia.org/wikipedia/commons/thumb/c/cf/Flag_of_Peru.svg/23px-Flag_of_Peru.svg.png\" srcset=\"//upload.wikimedia.org/wikipedia/commons/thumb/c/cf/Flag_of_Peru.svg/35px-Flag_of_Peru.svg.png 1.5x, //upload.wikimedia.org/wikipedia/commons/thumb/c/cf/Flag_of_Peru.svg/45px-Flag_of_Peru.svg.png 2x\" width=\"23\"/></a></span> <a href=\"/wiki/Coffee_production_in_Peru\" title=\"Coffee production in Peru\">Peru</a>\n",
       "</td>\n",
       "<td>3,200,000\n",
       "</td>\n",
       "<td>192,000\n",
       "</td>\n",
       "<td>423,287,000\n",
       "</td></tr>\n",
       "<tr>\n",
       "<td>12\n",
       "</td>\n",
       "<td><span class=\"flagicon\"><a href=\"/wiki/Nicaragua\" title=\"Nicaragua\"><img alt=\"Nicaragua\" class=\"thumbborder\" data-file-height=\"600\" data-file-width=\"1000\" decoding=\"async\" height=\"14\" src=\"//upload.wikimedia.org/wikipedia/commons/thumb/1/19/Flag_of_Nicaragua.svg/23px-Flag_of_Nicaragua.svg.png\" srcset=\"//upload.wikimedia.org/wikipedia/commons/thumb/1/19/Flag_of_Nicaragua.svg/35px-Flag_of_Nicaragua.svg.png 1.5x, //upload.wikimedia.org/wikipedia/commons/thumb/1/19/Flag_of_Nicaragua.svg/46px-Flag_of_Nicaragua.svg.png 2x\" width=\"23\"/></a></span> <a href=\"/wiki/Coffee_production_in_Nicaragua\" title=\"Coffee production in Nicaragua\">Nicaragua</a>\n",
       "</td>\n",
       "<td>2,200,000\n",
       "</td>\n",
       "<td>132,000\n",
       "</td>\n",
       "<td>291,010,000\n",
       "</td></tr>\n",
       "<tr>\n",
       "<td>13\n",
       "</td>\n",
       "<td><span class=\"flagicon\"><a href=\"/wiki/China\" title=\"China\"><img alt=\"China\" class=\"thumbborder\" data-file-height=\"600\" data-file-width=\"900\" decoding=\"async\" height=\"15\" src=\"//upload.wikimedia.org/wikipedia/commons/thumb/f/fa/Flag_of_the_People%27s_Republic_of_China.svg/23px-Flag_of_the_People%27s_Republic_of_China.svg.png\" srcset=\"//upload.wikimedia.org/wikipedia/commons/thumb/f/fa/Flag_of_the_People%27s_Republic_of_China.svg/35px-Flag_of_the_People%27s_Republic_of_China.svg.png 1.5x, //upload.wikimedia.org/wikipedia/commons/thumb/f/fa/Flag_of_the_People%27s_Republic_of_China.svg/45px-Flag_of_the_People%27s_Republic_of_China.svg.png 2x\" width=\"23\"/></a></span> <a href=\"/wiki/Coffee_production_in_China\" title=\"Coffee production in China\">China</a><sup>(2013/14 est.)</sup><sup class=\"reference\" id=\"cite_ref-7\"><a href=\"#cite_note-7\">[7]</a></sup>\n",
       "</td>\n",
       "<td>1,947,000\n",
       "</td>\n",
       "<td>116,820\n",
       "</td>\n",
       "<td>257,544,000\n",
       "</td></tr>\n",
       "<tr>\n",
       "<td>14\n",
       "</td>\n",
       "<td><span class=\"flagicon\"><a href=\"/wiki/Ivory_Coast\" title=\"Ivory Coast\"><img alt=\"Ivory Coast\" class=\"thumbborder\" data-file-height=\"600\" data-file-width=\"900\" decoding=\"async\" height=\"15\" src=\"//upload.wikimedia.org/wikipedia/commons/thumb/f/fe/Flag_of_C%C3%B4te_d%27Ivoire.svg/23px-Flag_of_C%C3%B4te_d%27Ivoire.svg.png\" srcset=\"//upload.wikimedia.org/wikipedia/commons/thumb/f/fe/Flag_of_C%C3%B4te_d%27Ivoire.svg/35px-Flag_of_C%C3%B4te_d%27Ivoire.svg.png 1.5x, //upload.wikimedia.org/wikipedia/commons/thumb/f/fe/Flag_of_C%C3%B4te_d%27Ivoire.svg/45px-Flag_of_C%C3%B4te_d%27Ivoire.svg.png 2x\" width=\"23\"/></a></span> <a href=\"/wiki/Coffee_production_in_Ivory_Coast\" title=\"Coffee production in Ivory Coast\">Ivory Coast</a>\n",
       "</td>\n",
       "<td>1,800,000\n",
       "</td>\n",
       "<td>108,000\n",
       "</td>\n",
       "<td>238,099,000\n",
       "</td></tr>\n",
       "<tr>\n",
       "<td>15\n",
       "</td>\n",
       "<td><span class=\"flagicon\"><a href=\"/wiki/Costa_Rica\" title=\"Costa Rica\"><img alt=\"Costa Rica\" class=\"thumbborder\" data-file-height=\"600\" data-file-width=\"1000\" decoding=\"async\" height=\"14\" src=\"//upload.wikimedia.org/wikipedia/commons/thumb/f/f2/Flag_of_Costa_Rica.svg/23px-Flag_of_Costa_Rica.svg.png\" srcset=\"//upload.wikimedia.org/wikipedia/commons/thumb/f/f2/Flag_of_Costa_Rica.svg/35px-Flag_of_Costa_Rica.svg.png 1.5x, //upload.wikimedia.org/wikipedia/commons/thumb/f/f2/Flag_of_Costa_Rica.svg/46px-Flag_of_Costa_Rica.svg.png 2x\" width=\"23\"/></a></span> <a href=\"/wiki/Coffee_production_in_Costa_Rica\" title=\"Coffee production in Costa Rica\">Costa Rica</a>\n",
       "</td>\n",
       "<td>1,492,000\n",
       "</td>\n",
       "<td>89,520\n",
       "</td>\n",
       "<td>197,357,000\n",
       "</td></tr>\n",
       "<tr>\n",
       "<td>16\n",
       "</td>\n",
       "<td><span class=\"flagicon\"><a href=\"/wiki/Kenya\" title=\"Kenya\"><img alt=\"Kenya\" class=\"thumbborder\" data-file-height=\"600\" data-file-width=\"900\" decoding=\"async\" height=\"15\" src=\"//upload.wikimedia.org/wikipedia/commons/thumb/4/49/Flag_of_Kenya.svg/23px-Flag_of_Kenya.svg.png\" srcset=\"//upload.wikimedia.org/wikipedia/commons/thumb/4/49/Flag_of_Kenya.svg/35px-Flag_of_Kenya.svg.png 1.5x, //upload.wikimedia.org/wikipedia/commons/thumb/4/49/Flag_of_Kenya.svg/45px-Flag_of_Kenya.svg.png 2x\" width=\"23\"/></a></span> <a href=\"/wiki/Coffee_production_in_Kenya\" title=\"Coffee production in Kenya\">Kenya</a>\n",
       "</td>\n",
       "<td>833,000\n",
       "</td>\n",
       "<td>49,980\n",
       "</td>\n",
       "<td>110,187,000\n",
       "</td></tr>\n",
       "<tr>\n",
       "<td>17\n",
       "</td>\n",
       "<td><span class=\"flagicon\"><a href=\"/wiki/Papua_New_Guinea\" title=\"Papua New Guinea\"><img alt=\"Papua New Guinea\" class=\"thumbborder\" data-file-height=\"450\" data-file-width=\"600\" decoding=\"async\" height=\"15\" src=\"//upload.wikimedia.org/wikipedia/commons/thumb/e/e3/Flag_of_Papua_New_Guinea.svg/20px-Flag_of_Papua_New_Guinea.svg.png\" srcset=\"//upload.wikimedia.org/wikipedia/commons/thumb/e/e3/Flag_of_Papua_New_Guinea.svg/31px-Flag_of_Papua_New_Guinea.svg.png 1.5x, //upload.wikimedia.org/wikipedia/commons/thumb/e/e3/Flag_of_Papua_New_Guinea.svg/40px-Flag_of_Papua_New_Guinea.svg.png 2x\" width=\"20\"/></a></span> <a href=\"/wiki/Coffee_production_in_Papua_New_Guinea\" title=\"Coffee production in Papua New Guinea\">Papua New Guinea</a>\n",
       "</td>\n",
       "<td>800,000\n",
       "</td>\n",
       "<td>48,000\n",
       "</td>\n",
       "<td>105,821,000\n",
       "</td></tr>\n",
       "<tr>\n",
       "<td>18\n",
       "</td>\n",
       "<td><span class=\"flagicon\"><a href=\"/wiki/Tanzania\" title=\"Tanzania\"><img alt=\"Tanzania\" class=\"thumbborder\" data-file-height=\"600\" data-file-width=\"900\" decoding=\"async\" height=\"15\" src=\"//upload.wikimedia.org/wikipedia/commons/thumb/3/38/Flag_of_Tanzania.svg/23px-Flag_of_Tanzania.svg.png\" srcset=\"//upload.wikimedia.org/wikipedia/commons/thumb/3/38/Flag_of_Tanzania.svg/35px-Flag_of_Tanzania.svg.png 1.5x, //upload.wikimedia.org/wikipedia/commons/thumb/3/38/Flag_of_Tanzania.svg/45px-Flag_of_Tanzania.svg.png 2x\" width=\"23\"/></a></span> <a href=\"/wiki/Coffee_production_in_Tanzania\" title=\"Coffee production in Tanzania\">Tanzania</a>\n",
       "</td>\n",
       "<td>800,000\n",
       "</td>\n",
       "<td>48,000\n",
       "</td>\n",
       "<td>105,821,000\n",
       "</td></tr>\n",
       "<tr>\n",
       "<td>19\n",
       "</td>\n",
       "<td><span class=\"flagicon\"><a href=\"/wiki/El_Salvador\" title=\"El Salvador\"><img alt=\"El Salvador\" class=\"thumbborder\" data-file-height=\"567\" data-file-width=\"1005\" decoding=\"async\" height=\"13\" src=\"//upload.wikimedia.org/wikipedia/commons/thumb/3/34/Flag_of_El_Salvador.svg/23px-Flag_of_El_Salvador.svg.png\" srcset=\"//upload.wikimedia.org/wikipedia/commons/thumb/3/34/Flag_of_El_Salvador.svg/35px-Flag_of_El_Salvador.svg.png 1.5x, //upload.wikimedia.org/wikipedia/commons/thumb/3/34/Flag_of_El_Salvador.svg/46px-Flag_of_El_Salvador.svg.png 2x\" width=\"23\"/></a></span> <a href=\"/wiki/Coffee_production_in_El_Salvador\" title=\"Coffee production in El Salvador\">El Salvador</a>\n",
       "</td>\n",
       "<td>762,000\n",
       "</td>\n",
       "<td>45,720\n",
       "</td>\n",
       "<td>100,795,000\n",
       "</td></tr>\n",
       "<tr>\n",
       "<td>20\n",
       "</td>\n",
       "<td><span class=\"flagicon\"><a href=\"/wiki/Ecuador\" title=\"Ecuador\"><img alt=\"Ecuador\" class=\"thumbborder\" data-file-height=\"960\" data-file-width=\"1440\" decoding=\"async\" height=\"15\" src=\"//upload.wikimedia.org/wikipedia/commons/thumb/e/e8/Flag_of_Ecuador.svg/23px-Flag_of_Ecuador.svg.png\" srcset=\"//upload.wikimedia.org/wikipedia/commons/thumb/e/e8/Flag_of_Ecuador.svg/35px-Flag_of_Ecuador.svg.png 1.5x, //upload.wikimedia.org/wikipedia/commons/thumb/e/e8/Flag_of_Ecuador.svg/45px-Flag_of_Ecuador.svg.png 2x\" width=\"23\"/></a></span> <a href=\"/wiki/Coffee_production_in_Ecuador\" title=\"Coffee production in Ecuador\">Ecuador</a>\n",
       "</td>\n",
       "<td>700,000\n",
       "</td>\n",
       "<td>42,000\n",
       "</td>\n",
       "<td>92,594,000\n",
       "</td></tr>\n",
       "<tr>\n",
       "<td>21\n",
       "</td>\n",
       "<td><span class=\"flagicon\"><a href=\"/wiki/Cameroon\" title=\"Cameroon\"><img alt=\"Cameroon\" class=\"thumbborder\" data-file-height=\"600\" data-file-width=\"900\" decoding=\"async\" height=\"15\" src=\"//upload.wikimedia.org/wikipedia/commons/thumb/4/4f/Flag_of_Cameroon.svg/23px-Flag_of_Cameroon.svg.png\" srcset=\"//upload.wikimedia.org/wikipedia/commons/thumb/4/4f/Flag_of_Cameroon.svg/35px-Flag_of_Cameroon.svg.png 1.5x, //upload.wikimedia.org/wikipedia/commons/thumb/4/4f/Flag_of_Cameroon.svg/45px-Flag_of_Cameroon.svg.png 2x\" width=\"23\"/></a></span> <a href=\"/wiki/Coffee_production_in_Cameroon\" title=\"Coffee production in Cameroon\">Cameroon</a>\n",
       "</td>\n",
       "<td>570,000\n",
       "</td>\n",
       "<td>34,200\n",
       "</td>\n",
       "<td>75,398,000\n",
       "</td></tr>\n",
       "<tr>\n",
       "<td>22\n",
       "</td>\n",
       "<td><span class=\"flagicon\"><a href=\"/wiki/Laos\" title=\"Laos\"><img alt=\"Laos\" class=\"thumbborder\" data-file-height=\"600\" data-file-width=\"900\" decoding=\"async\" height=\"15\" src=\"//upload.wikimedia.org/wikipedia/commons/thumb/5/56/Flag_of_Laos.svg/23px-Flag_of_Laos.svg.png\" srcset=\"//upload.wikimedia.org/wikipedia/commons/thumb/5/56/Flag_of_Laos.svg/35px-Flag_of_Laos.svg.png 1.5x, //upload.wikimedia.org/wikipedia/commons/thumb/5/56/Flag_of_Laos.svg/45px-Flag_of_Laos.svg.png 2x\" width=\"23\"/></a></span> <a href=\"/wiki/Coffee_production_in_Laos\" title=\"Coffee production in Laos\">Laos</a>\n",
       "</td>\n",
       "<td>520,000\n",
       "</td>\n",
       "<td>31,200\n",
       "</td>\n",
       "<td>68,784,000\n",
       "</td></tr>\n",
       "<tr>\n",
       "<td>23\n",
       "</td>\n",
       "<td><span class=\"flagicon\"><a href=\"/wiki/Madagascar\" title=\"Madagascar\"><img alt=\"Madagascar\" class=\"thumbborder\" data-file-height=\"600\" data-file-width=\"900\" decoding=\"async\" height=\"15\" src=\"//upload.wikimedia.org/wikipedia/commons/thumb/b/bc/Flag_of_Madagascar.svg/23px-Flag_of_Madagascar.svg.png\" srcset=\"//upload.wikimedia.org/wikipedia/commons/thumb/b/bc/Flag_of_Madagascar.svg/35px-Flag_of_Madagascar.svg.png 1.5x, //upload.wikimedia.org/wikipedia/commons/thumb/b/bc/Flag_of_Madagascar.svg/45px-Flag_of_Madagascar.svg.png 2x\" width=\"23\"/></a></span> <a href=\"/wiki/Madagascar\" title=\"Madagascar\">Madagascar</a>\n",
       "</td>\n",
       "<td>520,000\n",
       "</td>\n",
       "<td>31,200\n",
       "</td>\n",
       "<td>68,784,000\n",
       "</td></tr>\n",
       "<tr>\n",
       "<td>24\n",
       "</td>\n",
       "<td><span class=\"flagicon\"><a href=\"/wiki/Gabon\" title=\"Gabon\"><img alt=\"Gabon\" class=\"thumbborder\" data-file-height=\"750\" data-file-width=\"1000\" decoding=\"async\" height=\"15\" src=\"//upload.wikimedia.org/wikipedia/commons/thumb/0/04/Flag_of_Gabon.svg/20px-Flag_of_Gabon.svg.png\" srcset=\"//upload.wikimedia.org/wikipedia/commons/thumb/0/04/Flag_of_Gabon.svg/31px-Flag_of_Gabon.svg.png 1.5x, //upload.wikimedia.org/wikipedia/commons/thumb/0/04/Flag_of_Gabon.svg/40px-Flag_of_Gabon.svg.png 2x\" width=\"20\"/></a></span> <a href=\"/wiki/Gabon\" title=\"Gabon\">Gabon</a>\n",
       "</td>\n",
       "<td>500,000\n",
       "</td>\n",
       "<td>30,000\n",
       "</td>\n",
       "<td>66,138,000\n",
       "</td></tr>\n",
       "<tr>\n",
       "<td>25\n",
       "</td>\n",
       "<td><span class=\"flagicon\"><a href=\"/wiki/Thailand\" title=\"Thailand\"><img alt=\"Thailand\" class=\"thumbborder\" data-file-height=\"600\" data-file-width=\"900\" decoding=\"async\" height=\"15\" src=\"//upload.wikimedia.org/wikipedia/commons/thumb/a/a9/Flag_of_Thailand.svg/23px-Flag_of_Thailand.svg.png\" srcset=\"//upload.wikimedia.org/wikipedia/commons/thumb/a/a9/Flag_of_Thailand.svg/35px-Flag_of_Thailand.svg.png 1.5x, //upload.wikimedia.org/wikipedia/commons/thumb/a/a9/Flag_of_Thailand.svg/45px-Flag_of_Thailand.svg.png 2x\" width=\"23\"/></a></span> <a href=\"/wiki/Coffee_production_in_Thailand\" title=\"Coffee production in Thailand\">Thailand</a>\n",
       "</td>\n",
       "<td>500,000\n",
       "</td>\n",
       "<td>30,000\n",
       "</td>\n",
       "<td>66,138,000\n",
       "</td></tr>\n",
       "<tr>\n",
       "<td>26\n",
       "</td>\n",
       "<td><span class=\"flagicon\"><a href=\"/wiki/Venezuela\" title=\"Venezuela\"><img alt=\"Venezuela\" class=\"thumbborder\" data-file-height=\"600\" data-file-width=\"900\" decoding=\"async\" height=\"15\" src=\"//upload.wikimedia.org/wikipedia/commons/thumb/0/06/Flag_of_Venezuela.svg/23px-Flag_of_Venezuela.svg.png\" srcset=\"//upload.wikimedia.org/wikipedia/commons/thumb/0/06/Flag_of_Venezuela.svg/35px-Flag_of_Venezuela.svg.png 1.5x, //upload.wikimedia.org/wikipedia/commons/thumb/0/06/Flag_of_Venezuela.svg/45px-Flag_of_Venezuela.svg.png 2x\" width=\"23\"/></a></span> <a href=\"/wiki/Coffee_production_in_Venezuela\" title=\"Coffee production in Venezuela\">Venezuela</a>\n",
       "</td>\n",
       "<td>500,000\n",
       "</td>\n",
       "<td>30,000\n",
       "</td>\n",
       "<td>66,138,000\n",
       "</td></tr>\n",
       "<tr>\n",
       "<td>27\n",
       "</td>\n",
       "<td><span class=\"flagicon\"><a href=\"/wiki/Dominican_Republic\" title=\"Dominican Republic\"><img alt=\"Dominican Republic\" class=\"thumbborder\" data-file-height=\"600\" data-file-width=\"900\" decoding=\"async\" height=\"15\" src=\"//upload.wikimedia.org/wikipedia/commons/thumb/9/9f/Flag_of_the_Dominican_Republic.svg/23px-Flag_of_the_Dominican_Republic.svg.png\" srcset=\"//upload.wikimedia.org/wikipedia/commons/thumb/9/9f/Flag_of_the_Dominican_Republic.svg/35px-Flag_of_the_Dominican_Republic.svg.png 1.5x, //upload.wikimedia.org/wikipedia/commons/thumb/9/9f/Flag_of_the_Dominican_Republic.svg/45px-Flag_of_the_Dominican_Republic.svg.png 2x\" width=\"23\"/></a></span> <a class=\"mw-redirect\" href=\"/wiki/Coffee_production_in_Dominican_Republic\" title=\"Coffee production in Dominican Republic\">Dominican Republic</a>\n",
       "</td>\n",
       "<td>400,000\n",
       "</td>\n",
       "<td>24,000\n",
       "</td>\n",
       "<td>52,910,000\n",
       "</td></tr>\n",
       "<tr>\n",
       "<td>28\n",
       "</td>\n",
       "<td><span class=\"flagicon\"><a href=\"/wiki/Haiti\" title=\"Haiti\"><img alt=\"Haiti\" class=\"thumbborder\" data-file-height=\"600\" data-file-width=\"1000\" decoding=\"async\" height=\"14\" src=\"//upload.wikimedia.org/wikipedia/commons/thumb/5/56/Flag_of_Haiti.svg/23px-Flag_of_Haiti.svg.png\" srcset=\"//upload.wikimedia.org/wikipedia/commons/thumb/5/56/Flag_of_Haiti.svg/35px-Flag_of_Haiti.svg.png 1.5x, //upload.wikimedia.org/wikipedia/commons/thumb/5/56/Flag_of_Haiti.svg/46px-Flag_of_Haiti.svg.png 2x\" width=\"23\"/></a></span> <a href=\"/wiki/Coffee_production_in_Haiti\" title=\"Coffee production in Haiti\">Haiti</a>\n",
       "</td>\n",
       "<td>350,000\n",
       "</td>\n",
       "<td>21,000\n",
       "</td>\n",
       "<td>46,297,000\n",
       "</td></tr>\n",
       "<tr>\n",
       "<td>29\n",
       "</td>\n",
       "<td><span class=\"flagicon\"><a href=\"/wiki/Democratic_Republic_of_the_Congo\" title=\"Democratic Republic of the Congo\"><img alt=\"Democratic Republic of the Congo\" class=\"thumbborder\" data-file-height=\"600\" data-file-width=\"800\" decoding=\"async\" height=\"15\" src=\"//upload.wikimedia.org/wikipedia/commons/thumb/6/6f/Flag_of_the_Democratic_Republic_of_the_Congo.svg/20px-Flag_of_the_Democratic_Republic_of_the_Congo.svg.png\" srcset=\"//upload.wikimedia.org/wikipedia/commons/thumb/6/6f/Flag_of_the_Democratic_Republic_of_the_Congo.svg/31px-Flag_of_the_Democratic_Republic_of_the_Congo.svg.png 1.5x, //upload.wikimedia.org/wikipedia/commons/thumb/6/6f/Flag_of_the_Democratic_Republic_of_the_Congo.svg/40px-Flag_of_the_Democratic_Republic_of_the_Congo.svg.png 2x\" width=\"20\"/></a></span> <a href=\"/wiki/Coffee_production_in_Democratic_Republic_of_the_Congo\" title=\"Coffee production in Democratic Republic of the Congo\">Democratic Republic of the Congo</a>\n",
       "</td>\n",
       "<td>335,000\n",
       "</td>\n",
       "<td>20,100\n",
       "</td>\n",
       "<td>44,312,000\n",
       "</td></tr>\n",
       "<tr>\n",
       "<td>30\n",
       "</td>\n",
       "<td><span class=\"flagicon\"><a href=\"/wiki/Rwanda\" title=\"Rwanda\"><img alt=\"Rwanda\" class=\"thumbborder\" data-file-height=\"720\" data-file-width=\"1080\" decoding=\"async\" height=\"15\" src=\"//upload.wikimedia.org/wikipedia/commons/thumb/1/17/Flag_of_Rwanda.svg/23px-Flag_of_Rwanda.svg.png\" srcset=\"//upload.wikimedia.org/wikipedia/commons/thumb/1/17/Flag_of_Rwanda.svg/35px-Flag_of_Rwanda.svg.png 1.5x, //upload.wikimedia.org/wikipedia/commons/thumb/1/17/Flag_of_Rwanda.svg/45px-Flag_of_Rwanda.svg.png 2x\" width=\"23\"/></a></span> <a href=\"/wiki/Rwanda\" title=\"Rwanda\">Rwanda</a>\n",
       "</td>\n",
       "<td>250,000\n",
       "</td>\n",
       "<td>15,000\n",
       "</td>\n",
       "<td>33,069,000\n",
       "</td></tr>\n",
       "<tr>\n",
       "<td>31\n",
       "</td>\n",
       "<td><span class=\"flagicon\"><a href=\"/wiki/Burundi\" title=\"Burundi\"><img alt=\"Burundi\" class=\"thumbborder\" data-file-height=\"600\" data-file-width=\"1000\" decoding=\"async\" height=\"14\" src=\"//upload.wikimedia.org/wikipedia/commons/thumb/5/50/Flag_of_Burundi.svg/23px-Flag_of_Burundi.svg.png\" srcset=\"//upload.wikimedia.org/wikipedia/commons/thumb/5/50/Flag_of_Burundi.svg/35px-Flag_of_Burundi.svg.png 1.5x, //upload.wikimedia.org/wikipedia/commons/thumb/5/50/Flag_of_Burundi.svg/46px-Flag_of_Burundi.svg.png 2x\" width=\"23\"/></a></span> <a href=\"/wiki/Burundi\" title=\"Burundi\">Burundi</a>\n",
       "</td>\n",
       "<td>200,000\n",
       "</td>\n",
       "<td>12,000\n",
       "</td>\n",
       "<td>26,455,000\n",
       "</td></tr>\n",
       "<tr>\n",
       "<td>32\n",
       "</td>\n",
       "<td><span class=\"flagicon\"><a href=\"/wiki/Philippines\" title=\"Philippines\"><img alt=\"Philippines\" class=\"thumbborder\" data-file-height=\"600\" data-file-width=\"1200\" decoding=\"async\" height=\"12\" src=\"//upload.wikimedia.org/wikipedia/commons/thumb/9/99/Flag_of_the_Philippines.svg/23px-Flag_of_the_Philippines.svg.png\" srcset=\"//upload.wikimedia.org/wikipedia/commons/thumb/9/99/Flag_of_the_Philippines.svg/35px-Flag_of_the_Philippines.svg.png 1.5x, //upload.wikimedia.org/wikipedia/commons/thumb/9/99/Flag_of_the_Philippines.svg/46px-Flag_of_the_Philippines.svg.png 2x\" width=\"23\"/></a></span> <a href=\"/wiki/Coffee_production_in_the_Philippines\" title=\"Coffee production in the Philippines\">Philippines</a>\n",
       "</td>\n",
       "<td>200,000\n",
       "</td>\n",
       "<td>12,000\n",
       "</td>\n",
       "<td>26,455,000\n",
       "</td></tr>\n",
       "<tr>\n",
       "<td>33\n",
       "</td>\n",
       "<td><span class=\"flagicon\"><a href=\"/wiki/Togo\" title=\"Togo\"><img alt=\"Togo\" class=\"thumbborder\" data-file-height=\"500\" data-file-width=\"809\" decoding=\"async\" height=\"14\" src=\"//upload.wikimedia.org/wikipedia/commons/thumb/6/68/Flag_of_Togo.svg/23px-Flag_of_Togo.svg.png\" srcset=\"//upload.wikimedia.org/wikipedia/commons/thumb/6/68/Flag_of_Togo.svg/35px-Flag_of_Togo.svg.png 1.5x, //upload.wikimedia.org/wikipedia/commons/thumb/6/68/Flag_of_Togo.svg/46px-Flag_of_Togo.svg.png 2x\" width=\"23\"/></a></span> <a href=\"/wiki/Togo\" title=\"Togo\">Togo</a>\n",
       "</td>\n",
       "<td>200,000\n",
       "</td>\n",
       "<td>12,000\n",
       "</td>\n",
       "<td>26,455,000\n",
       "</td></tr>\n",
       "<tr>\n",
       "<td>34\n",
       "</td>\n",
       "<td><span class=\"flagicon\"><a href=\"/wiki/Guinea\" title=\"Guinea\"><img alt=\"Guinea\" class=\"thumbborder\" data-file-height=\"600\" data-file-width=\"900\" decoding=\"async\" height=\"15\" src=\"//upload.wikimedia.org/wikipedia/commons/thumb/e/ed/Flag_of_Guinea.svg/23px-Flag_of_Guinea.svg.png\" srcset=\"//upload.wikimedia.org/wikipedia/commons/thumb/e/ed/Flag_of_Guinea.svg/35px-Flag_of_Guinea.svg.png 1.5x, //upload.wikimedia.org/wikipedia/commons/thumb/e/ed/Flag_of_Guinea.svg/45px-Flag_of_Guinea.svg.png 2x\" width=\"23\"/></a></span> <a href=\"/wiki/Guinea\" title=\"Guinea\">Guinea</a>\n",
       "</td>\n",
       "<td>160,000\n",
       "</td>\n",
       "<td>9,600\n",
       "</td>\n",
       "<td>21,164,000\n",
       "</td></tr>\n",
       "<tr>\n",
       "<td>35\n",
       "</td>\n",
       "<td><span class=\"flagicon\"><a href=\"/wiki/Yemen\" title=\"Yemen\"><img alt=\"Yemen\" class=\"thumbborder\" data-file-height=\"600\" data-file-width=\"900\" decoding=\"async\" height=\"15\" src=\"//upload.wikimedia.org/wikipedia/commons/thumb/8/89/Flag_of_Yemen.svg/23px-Flag_of_Yemen.svg.png\" srcset=\"//upload.wikimedia.org/wikipedia/commons/thumb/8/89/Flag_of_Yemen.svg/35px-Flag_of_Yemen.svg.png 1.5x, //upload.wikimedia.org/wikipedia/commons/thumb/8/89/Flag_of_Yemen.svg/45px-Flag_of_Yemen.svg.png 2x\" width=\"23\"/></a></span> <a href=\"/wiki/Yemen\" title=\"Yemen\">Yemen</a>\n",
       "</td>\n",
       "<td>120,000\n",
       "</td>\n",
       "<td>7,200\n",
       "</td>\n",
       "<td>15,873,000\n",
       "</td></tr>\n",
       "<tr>\n",
       "<td>36\n",
       "</td>\n",
       "<td><span class=\"flagicon\"><a href=\"/wiki/Cuba\" title=\"Cuba\"><img alt=\"Cuba\" class=\"thumbborder\" data-file-height=\"600\" data-file-width=\"1200\" decoding=\"async\" height=\"12\" src=\"//upload.wikimedia.org/wikipedia/commons/thumb/b/bd/Flag_of_Cuba.svg/23px-Flag_of_Cuba.svg.png\" srcset=\"//upload.wikimedia.org/wikipedia/commons/thumb/b/bd/Flag_of_Cuba.svg/35px-Flag_of_Cuba.svg.png 1.5x, //upload.wikimedia.org/wikipedia/commons/thumb/b/bd/Flag_of_Cuba.svg/46px-Flag_of_Cuba.svg.png 2x\" width=\"23\"/></a></span> <a href=\"/wiki/Coffee_production_in_Cuba\" title=\"Coffee production in Cuba\">Cuba</a>\n",
       "</td>\n",
       "<td>100,000\n",
       "</td>\n",
       "<td>6,000\n",
       "</td>\n",
       "<td>13,227,000\n",
       "</td></tr>\n",
       "<tr>\n",
       "<td>37\n",
       "</td>\n",
       "<td><span class=\"flagicon\"><a href=\"/wiki/Panama\" title=\"Panama\"><img alt=\"Panama\" class=\"thumbborder\" data-file-height=\"600\" data-file-width=\"900\" decoding=\"async\" height=\"15\" src=\"//upload.wikimedia.org/wikipedia/commons/thumb/a/ab/Flag_of_Panama.svg/23px-Flag_of_Panama.svg.png\" srcset=\"//upload.wikimedia.org/wikipedia/commons/thumb/a/ab/Flag_of_Panama.svg/35px-Flag_of_Panama.svg.png 1.5x, //upload.wikimedia.org/wikipedia/commons/thumb/a/ab/Flag_of_Panama.svg/45px-Flag_of_Panama.svg.png 2x\" width=\"23\"/></a></span> <a href=\"/wiki/Coffee_production_in_Panama\" title=\"Coffee production in Panama\">Panama</a>\n",
       "</td>\n",
       "<td>100,000\n",
       "</td>\n",
       "<td>6,000\n",
       "</td>\n",
       "<td>13,227,000\n",
       "</td></tr>\n",
       "<tr>\n",
       "<td>38\n",
       "</td>\n",
       "<td><span class=\"flagicon\"><a href=\"/wiki/Bolivia\" title=\"Bolivia\"><img alt=\"Bolivia\" class=\"thumbborder\" data-file-height=\"750\" data-file-width=\"1100\" decoding=\"async\" height=\"15\" src=\"//upload.wikimedia.org/wikipedia/commons/thumb/4/48/Flag_of_Bolivia.svg/22px-Flag_of_Bolivia.svg.png\" srcset=\"//upload.wikimedia.org/wikipedia/commons/thumb/4/48/Flag_of_Bolivia.svg/34px-Flag_of_Bolivia.svg.png 1.5x, //upload.wikimedia.org/wikipedia/commons/thumb/4/48/Flag_of_Bolivia.svg/44px-Flag_of_Bolivia.svg.png 2x\" width=\"22\"/></a></span> <a href=\"/wiki/Coffee_production_in_Bolivia\" title=\"Coffee production in Bolivia\">Bolivia</a>\n",
       "</td>\n",
       "<td>90,000\n",
       "</td>\n",
       "<td>5,400\n",
       "</td>\n",
       "<td>11,904,000\n",
       "</td></tr>\n",
       "<tr>\n",
       "<td>39\n",
       "</td>\n",
       "<td><span class=\"flagicon\"><a href=\"/wiki/East_Timor\" title=\"East Timor\"><img alt=\"East Timor\" class=\"thumbborder\" data-file-height=\"450\" data-file-width=\"900\" decoding=\"async\" height=\"12\" src=\"//upload.wikimedia.org/wikipedia/commons/thumb/2/26/Flag_of_East_Timor.svg/23px-Flag_of_East_Timor.svg.png\" srcset=\"//upload.wikimedia.org/wikipedia/commons/thumb/2/26/Flag_of_East_Timor.svg/35px-Flag_of_East_Timor.svg.png 1.5x, //upload.wikimedia.org/wikipedia/commons/thumb/2/26/Flag_of_East_Timor.svg/46px-Flag_of_East_Timor.svg.png 2x\" width=\"23\"/></a></span> <a href=\"/wiki/East_Timor\" title=\"East Timor\">Timor Leste</a>\n",
       "</td>\n",
       "<td>80,000\n",
       "</td>\n",
       "<td>4,800\n",
       "</td>\n",
       "<td>10,582,000\n",
       "</td></tr>\n",
       "<tr>\n",
       "<td>40\n",
       "</td>\n",
       "<td><span class=\"flagicon\"><a href=\"/wiki/Central_African_Republic\" title=\"Central African Republic\"><img alt=\"Central African Republic\" class=\"thumbborder\" data-file-height=\"600\" data-file-width=\"900\" decoding=\"async\" height=\"15\" src=\"//upload.wikimedia.org/wikipedia/commons/thumb/6/6f/Flag_of_the_Central_African_Republic.svg/23px-Flag_of_the_Central_African_Republic.svg.png\" srcset=\"//upload.wikimedia.org/wikipedia/commons/thumb/6/6f/Flag_of_the_Central_African_Republic.svg/35px-Flag_of_the_Central_African_Republic.svg.png 1.5x, //upload.wikimedia.org/wikipedia/commons/thumb/6/6f/Flag_of_the_Central_African_Republic.svg/45px-Flag_of_the_Central_African_Republic.svg.png 2x\" width=\"23\"/></a></span> <a href=\"/wiki/Central_African_Republic\" title=\"Central African Republic\">Central African Republic</a>\n",
       "</td>\n",
       "<td>65,000\n",
       "</td>\n",
       "<td>3,900\n",
       "</td>\n",
       "<td>8,598,000\n",
       "</td></tr>\n",
       "<tr>\n",
       "<td>41\n",
       "</td>\n",
       "<td><span class=\"flagicon\"><a href=\"/wiki/Nigeria\" title=\"Nigeria\"><img alt=\"Nigeria\" class=\"thumbborder\" data-file-height=\"600\" data-file-width=\"1200\" decoding=\"async\" height=\"12\" src=\"//upload.wikimedia.org/wikipedia/commons/thumb/7/79/Flag_of_Nigeria.svg/23px-Flag_of_Nigeria.svg.png\" srcset=\"//upload.wikimedia.org/wikipedia/commons/thumb/7/79/Flag_of_Nigeria.svg/35px-Flag_of_Nigeria.svg.png 1.5x, //upload.wikimedia.org/wikipedia/commons/thumb/7/79/Flag_of_Nigeria.svg/46px-Flag_of_Nigeria.svg.png 2x\" width=\"23\"/></a></span> <a href=\"/wiki/Nigeria\" title=\"Nigeria\">Nigeria</a>\n",
       "</td>\n",
       "<td>40,000\n",
       "</td>\n",
       "<td>2,400\n",
       "</td>\n",
       "<td>5,291,000\n",
       "</td></tr>\n",
       "<tr>\n",
       "<td>42\n",
       "</td>\n",
       "<td><span class=\"flagicon\"><a href=\"/wiki/Ghana\" title=\"Ghana\"><img alt=\"Ghana\" class=\"thumbborder\" data-file-height=\"600\" data-file-width=\"900\" decoding=\"async\" height=\"15\" src=\"//upload.wikimedia.org/wikipedia/commons/thumb/1/19/Flag_of_Ghana.svg/23px-Flag_of_Ghana.svg.png\" srcset=\"//upload.wikimedia.org/wikipedia/commons/thumb/1/19/Flag_of_Ghana.svg/35px-Flag_of_Ghana.svg.png 1.5x, //upload.wikimedia.org/wikipedia/commons/thumb/1/19/Flag_of_Ghana.svg/45px-Flag_of_Ghana.svg.png 2x\" width=\"23\"/></a></span> <a href=\"/wiki/Ghana\" title=\"Ghana\">Ghana</a>\n",
       "</td>\n",
       "<td>37,000\n",
       "</td>\n",
       "<td>2,220\n",
       "</td>\n",
       "<td>4,894,000\n",
       "</td></tr>\n",
       "<tr>\n",
       "<td>43\n",
       "</td>\n",
       "<td><span class=\"flagicon\"><a href=\"/wiki/Sierra_Leone\" title=\"Sierra Leone\"><img alt=\"Sierra Leone\" class=\"thumbborder\" data-file-height=\"600\" data-file-width=\"900\" decoding=\"async\" height=\"15\" src=\"//upload.wikimedia.org/wikipedia/commons/thumb/1/17/Flag_of_Sierra_Leone.svg/23px-Flag_of_Sierra_Leone.svg.png\" srcset=\"//upload.wikimedia.org/wikipedia/commons/thumb/1/17/Flag_of_Sierra_Leone.svg/35px-Flag_of_Sierra_Leone.svg.png 1.5x, //upload.wikimedia.org/wikipedia/commons/thumb/1/17/Flag_of_Sierra_Leone.svg/45px-Flag_of_Sierra_Leone.svg.png 2x\" width=\"23\"/></a></span> <a href=\"/wiki/Sierra_Leone\" title=\"Sierra Leone\">Sierra Leone</a>\n",
       "</td>\n",
       "<td>36,000\n",
       "</td>\n",
       "<td>2,160\n",
       "</td>\n",
       "<td>4,761,000\n",
       "</td></tr>\n",
       "<tr>\n",
       "<td>44\n",
       "</td>\n",
       "<td><span class=\"flagicon\"><a href=\"/wiki/Angola\" title=\"Angola\"><img alt=\"Angola\" class=\"thumbborder\" data-file-height=\"600\" data-file-width=\"900\" decoding=\"async\" height=\"15\" src=\"//upload.wikimedia.org/wikipedia/commons/thumb/9/9d/Flag_of_Angola.svg/23px-Flag_of_Angola.svg.png\" srcset=\"//upload.wikimedia.org/wikipedia/commons/thumb/9/9d/Flag_of_Angola.svg/35px-Flag_of_Angola.svg.png 1.5x, //upload.wikimedia.org/wikipedia/commons/thumb/9/9d/Flag_of_Angola.svg/45px-Flag_of_Angola.svg.png 2x\" width=\"23\"/></a></span> <a href=\"/wiki/Coffee_production_in_Angola\" title=\"Coffee production in Angola\">Angola</a>\n",
       "</td>\n",
       "<td>35,000\n",
       "</td>\n",
       "<td>2,100\n",
       "</td>\n",
       "<td>4,629,000\n",
       "</td></tr>\n",
       "<tr>\n",
       "<td>45\n",
       "</td>\n",
       "<td><span class=\"flagicon\"><a href=\"/wiki/Jamaica\" title=\"Jamaica\"><img alt=\"Jamaica\" class=\"thumbborder\" data-file-height=\"600\" data-file-width=\"1200\" decoding=\"async\" height=\"12\" src=\"//upload.wikimedia.org/wikipedia/commons/thumb/0/0a/Flag_of_Jamaica.svg/23px-Flag_of_Jamaica.svg.png\" srcset=\"//upload.wikimedia.org/wikipedia/commons/thumb/0/0a/Flag_of_Jamaica.svg/35px-Flag_of_Jamaica.svg.png 1.5x, //upload.wikimedia.org/wikipedia/commons/thumb/0/0a/Flag_of_Jamaica.svg/46px-Flag_of_Jamaica.svg.png 2x\" width=\"23\"/></a></span> <a href=\"/wiki/Coffee_production_in_Jamaica\" title=\"Coffee production in Jamaica\">Jamaica</a>\n",
       "</td>\n",
       "<td>21,000\n",
       "</td>\n",
       "<td>1,260\n",
       "</td>\n",
       "<td>2,777,000\n",
       "</td></tr>\n",
       "<tr>\n",
       "<td>46\n",
       "</td>\n",
       "<td><span class=\"flagicon\"><a href=\"/wiki/Paraguay\" title=\"Paraguay\"><img alt=\"Paraguay\" class=\"thumbborder\" data-file-height=\"660\" data-file-width=\"1200\" decoding=\"async\" height=\"13\" src=\"//upload.wikimedia.org/wikipedia/commons/thumb/2/27/Flag_of_Paraguay.svg/23px-Flag_of_Paraguay.svg.png\" srcset=\"//upload.wikimedia.org/wikipedia/commons/thumb/2/27/Flag_of_Paraguay.svg/35px-Flag_of_Paraguay.svg.png 1.5x, //upload.wikimedia.org/wikipedia/commons/thumb/2/27/Flag_of_Paraguay.svg/46px-Flag_of_Paraguay.svg.png 2x\" width=\"23\"/></a></span> <a href=\"/wiki/Coffee_production_in_Paraguay\" title=\"Coffee production in Paraguay\">Paraguay</a>\n",
       "</td>\n",
       "<td>20,000\n",
       "</td>\n",
       "<td>1,200\n",
       "</td>\n",
       "<td>2,645,000\n",
       "</td></tr>\n",
       "<tr>\n",
       "<td>47\n",
       "</td>\n",
       "<td><span class=\"flagicon\"><a href=\"/wiki/Malawi\" title=\"Malawi\"><img alt=\"Malawi\" class=\"thumbborder\" data-file-height=\"600\" data-file-width=\"900\" decoding=\"async\" height=\"15\" src=\"//upload.wikimedia.org/wikipedia/commons/thumb/d/d1/Flag_of_Malawi.svg/23px-Flag_of_Malawi.svg.png\" srcset=\"//upload.wikimedia.org/wikipedia/commons/thumb/d/d1/Flag_of_Malawi.svg/35px-Flag_of_Malawi.svg.png 1.5x, //upload.wikimedia.org/wikipedia/commons/thumb/d/d1/Flag_of_Malawi.svg/45px-Flag_of_Malawi.svg.png 2x\" width=\"23\"/></a></span> <a href=\"/wiki/Malawi\" title=\"Malawi\">Malawi</a>\n",
       "</td>\n",
       "<td>16,000\n",
       "</td>\n",
       "<td>960\n",
       "</td>\n",
       "<td>2,116,000\n",
       "</td></tr>\n",
       "<tr>\n",
       "<td>48\n",
       "</td>\n",
       "<td><span class=\"flagicon\"><a href=\"/wiki/Trinidad_and_Tobago\" title=\"Trinidad and Tobago\"><img alt=\"Trinidad and Tobago\" class=\"thumbborder\" data-file-height=\"480\" data-file-width=\"800\" decoding=\"async\" height=\"14\" src=\"//upload.wikimedia.org/wikipedia/commons/thumb/6/64/Flag_of_Trinidad_and_Tobago.svg/23px-Flag_of_Trinidad_and_Tobago.svg.png\" srcset=\"//upload.wikimedia.org/wikipedia/commons/thumb/6/64/Flag_of_Trinidad_and_Tobago.svg/35px-Flag_of_Trinidad_and_Tobago.svg.png 1.5x, //upload.wikimedia.org/wikipedia/commons/thumb/6/64/Flag_of_Trinidad_and_Tobago.svg/46px-Flag_of_Trinidad_and_Tobago.svg.png 2x\" width=\"23\"/></a></span> <a href=\"/wiki/Trinidad_and_Tobago\" title=\"Trinidad and Tobago\">Trinidad and Tobago</a>\n",
       "</td>\n",
       "<td>12,000\n",
       "</td>\n",
       "<td>720\n",
       "</td>\n",
       "<td>1,587,000\n",
       "</td></tr>\n",
       "<tr>\n",
       "<td>49\n",
       "</td>\n",
       "<td><span class=\"flagicon\"><a href=\"/wiki/Zimbabwe\" title=\"Zimbabwe\"><img alt=\"Zimbabwe\" class=\"thumbborder\" data-file-height=\"630\" data-file-width=\"1260\" decoding=\"async\" height=\"12\" src=\"//upload.wikimedia.org/wikipedia/commons/thumb/6/6a/Flag_of_Zimbabwe.svg/23px-Flag_of_Zimbabwe.svg.png\" srcset=\"//upload.wikimedia.org/wikipedia/commons/thumb/6/6a/Flag_of_Zimbabwe.svg/35px-Flag_of_Zimbabwe.svg.png 1.5x, //upload.wikimedia.org/wikipedia/commons/thumb/6/6a/Flag_of_Zimbabwe.svg/46px-Flag_of_Zimbabwe.svg.png 2x\" width=\"23\"/></a></span> <a href=\"/wiki/Zimbabwe\" title=\"Zimbabwe\">Zimbabwe</a>\n",
       "</td>\n",
       "<td>10,000\n",
       "</td>\n",
       "<td>600\n",
       "</td>\n",
       "<td>1,322,000\n",
       "</td></tr>\n",
       "<tr>\n",
       "<td>50\n",
       "</td>\n",
       "<td><span class=\"flagicon\"><a href=\"/wiki/Liberia\" title=\"Liberia\"><img alt=\"Liberia\" class=\"thumbborder\" data-file-height=\"600\" data-file-width=\"1140\" decoding=\"async\" height=\"12\" src=\"//upload.wikimedia.org/wikipedia/commons/thumb/b/b8/Flag_of_Liberia.svg/23px-Flag_of_Liberia.svg.png\" srcset=\"//upload.wikimedia.org/wikipedia/commons/thumb/b/b8/Flag_of_Liberia.svg/35px-Flag_of_Liberia.svg.png 1.5x, //upload.wikimedia.org/wikipedia/commons/thumb/b/b8/Flag_of_Liberia.svg/46px-Flag_of_Liberia.svg.png 2x\" width=\"23\"/></a></span> <a href=\"/wiki/Liberia\" title=\"Liberia\">Liberia</a>\n",
       "</td>\n",
       "<td>6,000\n",
       "</td>\n",
       "<td>360\n",
       "</td>\n",
       "<td>793,000\n",
       "</td></tr>\n",
       "<tr>\n",
       "<td>51\n",
       "</td>\n",
       "<td><span class=\"flagicon\"><a href=\"/wiki/Zambia\" title=\"Zambia\"><img alt=\"Zambia\" class=\"thumbborder\" data-file-height=\"1400\" data-file-width=\"2100\" decoding=\"async\" height=\"15\" src=\"//upload.wikimedia.org/wikipedia/commons/thumb/0/06/Flag_of_Zambia.svg/23px-Flag_of_Zambia.svg.png\" srcset=\"//upload.wikimedia.org/wikipedia/commons/thumb/0/06/Flag_of_Zambia.svg/35px-Flag_of_Zambia.svg.png 1.5x, //upload.wikimedia.org/wikipedia/commons/thumb/0/06/Flag_of_Zambia.svg/45px-Flag_of_Zambia.svg.png 2x\" width=\"23\"/></a></span> <a href=\"/wiki/Zambia\" title=\"Zambia\">Zambia</a>\n",
       "</td>\n",
       "<td>2,000\n",
       "</td>\n",
       "<td>120\n",
       "</td>\n",
       "<td>264,000\n",
       "</td></tr></tbody></table>"
      ]
     },
     "execution_count": 30,
     "metadata": {},
     "output_type": "execute_result"
    }
   ],
   "source": [
    "table = soup.find('table')\n",
    "table"
   ]
  },
  {
   "cell_type": "code",
   "execution_count": 41,
   "metadata": {},
   "outputs": [],
   "source": [
    "top_10_countries = []\n",
    "for row in table.find_all('tr')[2:11]:\n",
    "    temp = row.text.replace('\\n\\n', ' ').strip()\n",
    "    temp_list = temp.split()\n",
    "    top_10_countries.append((temp_list[0], temp_list[2]))"
   ]
  },
  {
   "cell_type": "code",
   "execution_count": 42,
   "metadata": {},
   "outputs": [
    {
     "name": "stdout",
     "output_type": "stream",
     "text": [
      "[('Rank', '60'), ('1', '44,200,000'), ('2', '27,500,000'), ('3', '13,500,000'), ('4', '11,000,000'), ('5', '6,400,000'), ('6', '5,800,000'), ('7', '5,800,000'), ('8', '4,800,000'), ('9', '3,900,000'), ('10', '3,400,000'), ('11', '3,200,000'), ('12', '2,200,000'), ('13', 'est.)[7]'), ('14', 'Coast'), ('15', 'Rica'), ('16', '833,000'), ('17', 'New'), ('18', '800,000'), ('19', 'Salvador'), ('20', '700,000'), ('21', '570,000'), ('22', '520,000'), ('23', '520,000'), ('24', '500,000'), ('25', '500,000'), ('26', '500,000'), ('27', 'Republic'), ('28', '350,000'), ('29', 'Republic'), ('30', '250,000'), ('31', '200,000'), ('32', '200,000'), ('33', '200,000'), ('34', '160,000'), ('35', '120,000'), ('36', '100,000'), ('37', '100,000'), ('38', '90,000'), ('39', 'Leste'), ('40', 'African'), ('41', '40,000'), ('42', '37,000'), ('43', 'Leone'), ('44', '35,000'), ('45', '21,000'), ('46', '20,000'), ('47', '16,000'), ('48', 'and'), ('49', '10,000'), ('50', '6,000'), ('51', '2,000')]\n"
     ]
    }
   ],
   "source": [
    "print(top_10_countries)"
   ]
  },
  {
   "cell_type": "code",
   "execution_count": 48,
   "metadata": {},
   "outputs": [],
   "source": [
    "headings = table.find_all('th')"
   ]
  },
  {
   "cell_type": "code",
   "execution_count": 49,
   "metadata": {},
   "outputs": [
    {
     "data": {
      "text/plain": [
       "[<th>Rank\n",
       " </th>,\n",
       " <th>Country\n",
       " </th>,\n",
       " <th>60 kilogram bags\n",
       " </th>,\n",
       " <th>Metric Tons\n",
       " </th>,\n",
       " <th>Pounds\n",
       " </th>]"
      ]
     },
     "execution_count": 49,
     "metadata": {},
     "output_type": "execute_result"
    }
   ],
   "source": [
    "headings"
   ]
  },
  {
   "cell_type": "code",
   "execution_count": 54,
   "metadata": {},
   "outputs": [
    {
     "data": {
      "text/plain": [
       "<tr>\n",
       "<td>1\n",
       "</td>\n",
       "<td><span class=\"flagicon\"><a href=\"/wiki/Brazil\" title=\"Brazil\"><img alt=\"Brazil\" class=\"thumbborder\" data-file-height=\"504\" data-file-width=\"720\" decoding=\"async\" height=\"15\" src=\"//upload.wikimedia.org/wikipedia/en/thumb/0/05/Flag_of_Brazil.svg/22px-Flag_of_Brazil.svg.png\" srcset=\"//upload.wikimedia.org/wikipedia/en/thumb/0/05/Flag_of_Brazil.svg/33px-Flag_of_Brazil.svg.png 1.5x, //upload.wikimedia.org/wikipedia/en/thumb/0/05/Flag_of_Brazil.svg/43px-Flag_of_Brazil.svg.png 2x\" width=\"22\"/></a></span> <a href=\"/wiki/Coffee_production_in_Brazil\" title=\"Coffee production in Brazil\">Brazil</a>\n",
       "</td>\n",
       "<td>44,200,000\n",
       "</td>\n",
       "<td>2,652,000\n",
       "</td>\n",
       "<td>5,714,381,000\n",
       "</td></tr>"
      ]
     },
     "execution_count": 54,
     "metadata": {},
     "output_type": "execute_result"
    }
   ],
   "source": [
    "row = table.find_all('tr')[1]\n",
    "row"
   ]
  },
  {
   "cell_type": "code",
   "execution_count": 60,
   "metadata": {},
   "outputs": [
    {
     "data": {
      "text/plain": [
       "[<td>1\n",
       " </td>,\n",
       " <td><span class=\"flagicon\"><a href=\"/wiki/Brazil\" title=\"Brazil\"><img alt=\"Brazil\" class=\"thumbborder\" data-file-height=\"504\" data-file-width=\"720\" decoding=\"async\" height=\"15\" src=\"//upload.wikimedia.org/wikipedia/en/thumb/0/05/Flag_of_Brazil.svg/22px-Flag_of_Brazil.svg.png\" srcset=\"//upload.wikimedia.org/wikipedia/en/thumb/0/05/Flag_of_Brazil.svg/33px-Flag_of_Brazil.svg.png 1.5x, //upload.wikimedia.org/wikipedia/en/thumb/0/05/Flag_of_Brazil.svg/43px-Flag_of_Brazil.svg.png 2x\" width=\"22\"/></a></span> <a href=\"/wiki/Coffee_production_in_Brazil\" title=\"Coffee production in Brazil\">Brazil</a>\n",
       " </td>,\n",
       " <td>44,200,000\n",
       " </td>,\n",
       " <td>2,652,000\n",
       " </td>,\n",
       " <td>5,714,381,000\n",
       " </td>]"
      ]
     },
     "execution_count": 60,
     "metadata": {},
     "output_type": "execute_result"
    }
   ],
   "source": [
    "cells = row.find_all('td')\n",
    "cells"
   ]
  },
  {
   "cell_type": "code",
   "execution_count": 58,
   "metadata": {},
   "outputs": [
    {
     "data": {
      "text/plain": [
       "[<th>Rank\n",
       " </th>,\n",
       " <th>Country\n",
       " </th>,\n",
       " <th>60 kilogram bags\n",
       " </th>,\n",
       " <th>Metric Tons\n",
       " </th>,\n",
       " <th>Pounds\n",
       " </th>]"
      ]
     },
     "execution_count": 58,
     "metadata": {},
     "output_type": "execute_result"
    }
   ],
   "source": [
    "headings"
   ]
  },
  {
   "cell_type": "code",
   "execution_count": 71,
   "metadata": {},
   "outputs": [
    {
     "data": {
      "text/plain": [
       "'Brazil'"
      ]
     },
     "execution_count": 71,
     "metadata": {},
     "output_type": "execute_result"
    }
   ],
   "source": [
    "country = cells[1].find('a')['title']\n",
    "country"
   ]
  },
  {
   "cell_type": "code",
   "execution_count": 76,
   "metadata": {},
   "outputs": [],
   "source": [
    "pounds_per_yr = cells[4].text"
   ]
  },
  {
   "cell_type": "code",
   "execution_count": 87,
   "metadata": {},
   "outputs": [
    {
     "name": "stdout",
     "output_type": "stream",
     "text": [
      "Brazil 5,714,381,000\n",
      "\n",
      "Vietnam 3,637,627,000\n",
      "\n",
      "Colombia 1,785,744,000\n",
      "\n",
      "Indonesia 1,455,050,000\n",
      "\n",
      "Ethiopia 846,575,000\n",
      "\n",
      "Honduras 767,208,000\n",
      "\n",
      "India 767,208,000\n",
      "\n",
      "Uganda 634,931,000\n",
      "\n",
      "Mexico 515,881,000\n",
      "\n",
      "Guatemala 449,743,000\n",
      "\n"
     ]
    }
   ],
   "source": [
    "# Loop to find top ten countries that produce coffee and their corresponding pounds\n",
    "top_10_countries = []\n",
    "for row in table.find_all('tr')[1:11]:\n",
    "    cells = row.find_all('td')\n",
    "    country = cells[1].find('a')['title']\n",
    "    pounds_per_yr = cells[4].text    \n",
    "    print(country, pounds_per_yr)"
   ]
  },
  {
   "cell_type": "code",
   "execution_count": null,
   "metadata": {},
   "outputs": [],
   "source": []
  }
 ],
 "metadata": {
  "kernelspec": {
   "display_name": "Python 3",
   "language": "python",
   "name": "python3"
  },
  "language_info": {
   "codemirror_mode": {
    "name": "ipython",
    "version": 3
   },
   "file_extension": ".py",
   "mimetype": "text/x-python",
   "name": "python",
   "nbconvert_exporter": "python",
   "pygments_lexer": "ipython3",
   "version": "3.7.9"
  }
 },
 "nbformat": 4,
 "nbformat_minor": 4
}
